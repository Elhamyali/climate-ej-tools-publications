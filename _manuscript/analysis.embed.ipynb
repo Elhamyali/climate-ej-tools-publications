{
 "cells": [
  {
   "cell_type": "markdown",
   "metadata": {},
   "source": [
    "# How climate and envrionmental justice tools are used in research\n",
    "\n",
    "studies\n",
    "\n",
    "Elham Ali (Public Environmental Data Project (PEDP))  \n",
    "October 5, 2025\n",
    "\n",
    "## Background\n",
    "\n",
    "When public climate and environmental justice (EJ) evidence is removed, restricted, or altered, a decade of downstream knowledge becomes harder to verify, reproduce, teach, or apply—especially for the communities and decisions that most need it.\n",
    "\n",
    "This analysis explores how research studies have used five U.S. federal climate and EJ tools, including their topics and use cases.\n",
    "\n",
    "## Research Questions\n",
    "\n",
    "This analysis focuses on three main questions:\n",
    "\n",
    "-   How many research papers or studies have cited or relied on the five U.S. federal climate and environmental justice tools that are threatened, not being maintained, or no longer publicly available?\n",
    "-   What types of research topics occur most frequently overall and within each tool, and how do these topics vary by citation frequency?\n",
    "-   In what ways are these tools used in research studies overall and within each tool, and how does their use vary by citation frequency?\n",
    "\n",
    "## Data Sources\n",
    "\n",
    "The climate and EJ tools assessed are:\n",
    "\n",
    "-   CEQ’s **Climate and Economic Justice Screening Tool (CEJST)**\n",
    "-   EPA’s **EJScreen**\n",
    "-   USDA Forest Service’s **Climate Risk Viewer (CRV)**\n",
    "-   FEMA’s **Future Risk Index (FRI)**\n",
    "-   CDC’s **Environmental Justice Index (EJI)**\n",
    "\n",
    "All data were collected from **Google Scholar** and last refreshed on **September 15, 2025**.\n",
    "\n",
    "Raw datasets are stored in the `01_raw_data/` folder. This script cleans and merges them into analysis-ready datasets.\n",
    "\n",
    "## Cleaning\n",
    "\n",
    "I first load all required packages for data handling, cleaning, and visualization."
   ],
   "id": "a94ec356-f1dc-41ff-8f78-30c423106dd3"
  },
  {
   "cell_type": "code",
   "execution_count": null,
   "metadata": {},
   "outputs": [
    {
     "output_type": "stream",
     "name": "stderr",
     "text": [
      "here() starts at /Users/elhamali/Documents/Data Projects/climate-ej-tools-publications"
     ]
    },
    {
     "output_type": "stream",
     "name": "stderr",
     "text": [
      "── Attaching core tidyverse packages ──────────────────────── tidyverse 2.0.0 ──\n",
      "✔ dplyr     1.1.4     ✔ purrr     1.1.0\n",
      "✔ forcats   1.0.0     ✔ stringr   1.5.1\n",
      "✔ ggplot2   3.5.2     ✔ tibble    3.3.0\n",
      "✔ lubridate 1.9.4     ✔ tidyr     1.3.1"
     ]
    },
    {
     "output_type": "stream",
     "name": "stderr",
     "text": [
      "── Conflicts ────────────────────────────────────────── tidyverse_conflicts() ──\n",
      "✖ dplyr::filter() masks stats::filter()\n",
      "✖ dplyr::lag()    masks stats::lag()\n",
      "ℹ Use the conflicted package (<http://conflicted.r-lib.org/>) to force all conflicts to become errors"
     ]
    },
    {
     "output_type": "stream",
     "name": "stderr",
     "text": [
      "\n",
      "Attaching package: 'janitor'\n",
      "\n",
      "The following objects are masked from 'package:stats':\n",
      "\n",
      "    chisq.test, fisher.test"
     ]
    },
    {
     "output_type": "stream",
     "name": "stderr",
     "text": [
      "Loading required package: grid"
     ]
    },
    {
     "output_type": "stream",
     "name": "stderr",
     "text": [
      "Registered S3 method overwritten by 'quantmod':\n",
      "  method            from\n",
      "  as.zoo.data.frame zoo \n",
      "Highcharts (www.highcharts.com) is a Highsoft software product which is\n",
      "not free for commercial and Governmental use"
     ]
    },
    {
     "output_type": "stream",
     "name": "stderr",
     "text": [
      "\n",
      "Attaching package: 'igraph'\n",
      "\n",
      "The following objects are masked from 'package:lubridate':\n",
      "\n",
      "    %--%, union\n",
      "\n",
      "The following objects are masked from 'package:dplyr':\n",
      "\n",
      "    as_data_frame, groups, union\n",
      "\n",
      "The following objects are masked from 'package:purrr':\n",
      "\n",
      "    compose, simplify\n",
      "\n",
      "The following object is masked from 'package:tidyr':\n",
      "\n",
      "    crossing\n",
      "\n",
      "The following object is masked from 'package:tibble':\n",
      "\n",
      "    as_data_frame\n",
      "\n",
      "The following objects are masked from 'package:stats':\n",
      "\n",
      "    decompose, spectrum\n",
      "\n",
      "The following object is masked from 'package:base':\n",
      "\n",
      "    union"
     ]
    }
   ],
   "source": [
    "## Folder structure helpers\n",
    "library(here)"
   ],
   "id": "be295f4e-e5da-4f4e-97ba-598efbd2515a"
  },
  {
   "cell_type": "markdown",
   "metadata": {},
   "source": [
    "### Import raw data\n",
    "\n",
    "All `.csv` files from the `01_raw_data/` folder are imported and saved as `.rds` files in `05_cleaned_datasets/`.\n",
    "\n",
    "Saving as `.rds` helps preserve structure and improves loading speed later."
   ],
   "id": "2e6cf078-df2b-4727-9117-2c69e4527712"
  },
  {
   "cell_type": "code",
   "execution_count": null,
   "metadata": {},
   "outputs": [],
   "source": [
    "# List all CSV files\n",
    "csv_files <- list.files(\n",
    "  path    = here(\"01_raw_data\"),\n",
    "  pattern = \"\\\\.csv$\",\n",
    "  full.names = TRUE\n",
    ")\n",
    "\n",
    "# Read into a list of dataframes\n",
    "datasets <- map(csv_files, read.csv)\n",
    "names(datasets) <- tools::file_path_sans_ext(basename(csv_files))\n",
    "\n",
    "# Save each dataset as .rds in 05_cleaned_datasets/\n",
    "walk2(\n",
    "  datasets,\n",
    "  names(datasets),\n",
    "  ~ saveRDS(.x, here(\"05_cleaned_datasets\", paste0(.y, \".rds\")))\n",
    ")"
   ],
   "id": "bcb385b9-3d1d-4208-9b08-c5dc497e4fed"
  },
  {
   "cell_type": "markdown",
   "metadata": {},
   "source": [
    "### Merge EJScreen datasets\n",
    "\n",
    "Google Scholar limits exports to 1,000 records per search \\[@harzing2025\\].  \n",
    "\n",
    "Because EJScreen returned more than this, I split it into four parts (`ejscreen_1`–`ejscreen_4`). Here, I merge them into a single dataframe."
   ],
   "id": "443837ff-3b7c-4ffb-b54d-88e5415c3f97"
  },
  {
   "cell_type": "code",
   "execution_count": null,
   "metadata": {},
   "outputs": [
    {
     "output_type": "stream",
     "name": "stdout",
     "text": [
      "[1] 1258   27"
     ]
    }
   ],
   "source": [
    "# List EJScreen RDS files\n",
    "ejscreen_files <- here(\"05_cleaned_datasets\") |>\n",
    "  list.files(pattern = \"^ejscreen_\\\\d+\\\\.rds$\", full.names = TRUE)\n",
    "\n",
    "# Read, tag, clean variable names\n",
    "ejscreen_list <- map(ejscreen_files, ~ {\n",
    "  readRDS(.x) |>\n",
    "    mutate(source_file = tools::file_path_sans_ext(basename(.x))) |>\n",
    "    janitor::clean_names()\n",
    "})\n",
    "\n",
    "# Merge into one dataframe\n",
    "ejscreen_all <- bind_rows(ejscreen_list)\n",
    "\n",
    "# Quick check on dimensions\n",
    "dim(ejscreen_all)"
   ],
   "id": "32b3d440-5e10-436a-aea7-c22ddf8b95a9"
  },
  {
   "cell_type": "markdown",
   "metadata": {},
   "source": [
    "### Clean and tag all other tools\n",
    "\n",
    "I apply the same process to the other tools—CEJST, CRV, EJI, and FRI—to ensure consistency. Each dataset is:\n",
    "\n",
    "-   Standardized to `snake_case` column names\n",
    "-   Tagged with its source file and tool name\n",
    "-   Type-converted for appropriate variable formats"
   ],
   "id": "8934fa56-3b3f-4dd1-a8d7-f3ddb57e787a"
  },
  {
   "cell_type": "code",
   "execution_count": null,
   "metadata": {},
   "outputs": [],
   "source": [
    "library(dplyr)\n",
    "\n",
    "# Helper function: read, clean names, add provenance, type-convert\n",
    "read_clean_tag <- function(path) {\n",
    "  df <- readRDS(path) |>\n",
    "    janitor::clean_names()\n",
    "\n",
    "  source_stem <- tools::file_path_sans_ext(basename(path)) # e.g., \"ejscreen_1\" or \"cejst\"\n",
    "\n",
    "  df |>\n",
    "    dplyr::mutate(\n",
    "      source_file = source_stem,\n",
    "      tool_name   = sub(\"_\\\\d+$\", \"\", source_stem) # \"ejscreen_1\" -> \"ejscreen\"; \"cejst\" -> \"cejst\"\n",
    "    ) |>\n",
    "    readr::type_convert(\n",
    "      col_types = readr::cols(.default = readr::col_guess())\n",
    "      ) |>\n",
    "    mutate(across(where(is.character), trimws))\n",
    "}\n",
    "\n",
    "# Process other tools\n",
    "other_tools <- c(\"cejst\", \"crv\", \"eji\", \"fri\")\n",
    "other_paths <- here(\"05_cleaned_datasets\", paste0(other_tools, \".rds\"))\n",
    "\n",
    "other_list <- other_paths |>\n",
    "  set_names(~ tools::file_path_sans_ext(basename(.x))) |>\n",
    "  map(read_clean_tag)"
   ],
   "id": "3dd3ba6a-6142-47c3-82b7-b03b7e19bcf2"
  },
  {
   "cell_type": "markdown",
   "metadata": {},
   "source": [
    "### Final merge and labeling\n",
    "\n",
    "Finally, I merge all tools into one dataset and standardize metadata. Steps include:\n",
    "\n",
    "-   Harmonizing date formats\n",
    "\n",
    "-   Mapping tool codes (e.g., `ejscreen`) to their full names\n",
    "\n",
    "-   Dropping empty or placeholder columns"
   ],
   "id": "7b7f4937-1683-446b-95cb-723987aa7409"
  },
  {
   "cell_type": "code",
   "execution_count": null,
   "metadata": {},
   "outputs": [],
   "source": [
    "# Helper: coerce anything date-like into Date\n",
    "to_Date <- function(x) {\n",
    "  if (inherits(x, \"Date\")) {\n",
    "    return(x)\n",
    "  }\n",
    "  if (inherits(x, \"POSIXt\")) {\n",
    "    return(as_date(x))\n",
    "  }\n",
    "  if (is.numeric(x)) {\n",
    "    return(as_date(as.POSIXct(x, origin = \"1970-01-01\", tz = \"UTC\")))\n",
    "  }\n",
    "  if (is.character(x)) {\n",
    "    suppressWarnings({\n",
    "      dt <- ymd_hms(x, quiet = TRUE, tz = \"UTC\")\n",
    "      idx <- is.na(dt)\n",
    "      if (any(idx)) dt[idx] <- ymd(x[idx], quiet = TRUE)\n",
    "      idx <- is.na(dt)\n",
    "      if (any(idx)) dt[idx] <- mdy(x[idx], quiet = TRUE)\n",
    "      idx <- is.na(dt)\n",
    "      if (any(idx)) dt[idx] <- dmy(x[idx], quiet = TRUE)\n",
    "    })\n",
    "    return(as_date(dt))\n",
    "  }\n",
    "  as_date(as.character(x))\n",
    "}\n",
    "\n",
    "# Apply date coercion\n",
    "if (exists(\"ejscreen_all\") && \"query_date\" %in% names(ejscreen_all)) {\n",
    "  ejscreen_all <- ejscreen_all %>% mutate(query_date = to_Date(query_date))\n",
    "}\n",
    "if (exists(\"other_list\")) {\n",
    "  other_list <- other_list %>%\n",
    "    map(~ if (\"query_date\" %in% names(.x)) mutate(.x, query_date = to_Date(query_date)) else .x)\n",
    "} else {\n",
    "  other_list <- list()\n",
    "}\n",
    "\n",
    "# Merge all datasets\n",
    "all_tools <- bind_rows(ejscreen_all, !!!other_list)\n",
    "\n",
    "# Map tool codes to full names\n",
    "all_tools <- all_tools %>%\n",
    "  mutate(\n",
    "    source_file = if_else(is.na(source_file) | source_file == \"\",\n",
    "      coalesce(source_file, tool_name), source_file\n",
    "    ),\n",
    "    base_tool = sub(\"_\\\\d+$\", \"\", source_file), # ejscreen_1 -> ejscreen\n",
    "    tool_name = dplyr::recode(\n",
    "      base_tool,\n",
    "      ejscreen = \"EJScreen\",\n",
    "      cejst    = \"Climate and Economic Justice Screening Tool (CEJST)\",\n",
    "      crv      = \"Climate Risk Viewer\",\n",
    "      fri      = \"Future Risk Index (FRI)\",\n",
    "      eji      = \"Environmental Justice Index (EJI)\",\n",
    "      .default = tool_name # keep whatever was there if not matched\n",
    "    )\n",
    "  ) %>%\n",
    "  select(-base_tool)\n",
    "\n",
    "# Drop empty placeholder columns\n",
    "all_tools <- all_tools %>%\n",
    "  dplyr::select(\n",
    "  -dplyr::any_of(c(\"issn\", \"citation_url\", \"volume\",\n",
    "                   \"issue\", \"start_page\", \"end_page\"))\n",
    ")\n",
    "\n",
    "# Save combined dataset\n",
    "saveRDS(all_tools, here(\"05_cleaned_datasets\", \"all_tools.rds\"))\n",
    "write_csv(all_tools, here(\"05_cleaned_datasets\", \"all_tools.csv\"))"
   ],
   "id": "db491b91-626e-4097-9b2c-71207a28ce82"
  },
  {
   "cell_type": "markdown",
   "metadata": {},
   "source": [
    "## Analysis\n",
    "\n",
    "### Stratified random sampling\n",
    "\n",
    "For sampling, I selected **10% of the full dataset** collected in **August 2025** (prior to the September 15 refresh, which was a slightly bigger sample). The total number of studies from our September refresh was 2,212.\n",
    "\n",
    "-   **Studies dataset:** 2,170 total → 217 sampled\n",
    "\n",
    "-   **Publishers dataset:** 387 total → 40 sampled\n",
    "\n",
    "Sampling was **stratified by `tool_name`** to ensure each tool was proportionally represented in the study sample. Both the **study** and **publisher** subsets were then **double-coded** to calculate inter-rater agreement (IRA).\n",
    "\n",
    "For the **publishers**, we used a simple random sample generated in Excel rather than R.\n",
    "\n",
    "A helpful reference for this approach is *“Stratified Sampling in R: A Practical Guide with Base R and dplyr”* \\[@sanderson2024\\].\n",
    "\n",
    "The code below shows the stratified sampling method used for the **studies dataset** only.\n",
    "\n",
    "I considered two allocation approaches:\n",
    "\n",
    "1.  **Proportional-only allocation** (222 total). Each tool receives a number of samples proportional to its share of the full dataset. This preserves representativeness, but smaller tools (e.g., CRV and FRI) end up with too few studies to analyze meaningfully\n",
    "\n",
    "2.  **Proportional with a minimum floor** (222 total, MIN = 10). Every tool receives at least **10 studies** (or all available if fewer exist). Larger tools such as **EJScreen** and **CEJST** contribute slightly fewer cases to make room for smaller tools.\n",
    "\n",
    "I chose the **minimum floor approach** because it ensures that smaller tools are sufficiently represented for meaningful analysis and coder agreement checks.\n",
    "\n",
    "**Tradeoff:**\n",
    "\n",
    "-   *Proportional-only*: best for a population-level snapshot but leaves small strata nearly invisible.\n",
    "\n",
    "-   *Floor allocation*: best for balanced comparisons across tools.\n",
    "\n",
    "The final distribution of the **double-coded sample** is shown below:"
   ],
   "id": "daa093fd-b29b-4eda-99aa-894893a2a1ef"
  },
  {
   "cell_type": "code",
   "execution_count": null,
   "metadata": {},
   "outputs": [
    {
     "output_type": "stream",
     "name": "stdout",
     "text": [
      "# A tibble: 5 × 2\n",
      "  tool_name                                               n\n",
      "  <chr>                                               <int>\n",
      "1 EJScreen                                              111\n",
      "2 Climate and Economic Justice Screening Tool (CEJST)    75\n",
      "3 Environmental Justice Index (EJI)                      19\n",
      "4 Climate Risk Viewer                                    11\n",
      "5 Future Risk Index (FRI)                                 6"
     ]
    }
   ],
   "source": [
    "set.seed(2025)\n",
    "\n",
    "# Load the dataset\n",
    "all_tools <- readRDS(here(\"05_cleaned_datasets\", \"all_tools.rds\")) %>%\n",
    "  janitor::clean_names() %>%\n",
    "  mutate(\n",
    "    year = as.integer(year),\n",
    "    study_id = dplyr::row_number()\n",
    "  )\n",
    "\n",
    "# Parameters\n",
    "TOTAL <- nrow(all_tools) # should be 2212\n",
    "SAMPLE_TOTAL <- ceiling(TOTAL * 0.10) # 10% => 221 (but we did 217 based on an older data pull)\n",
    "MIN_PER_TOOL <- 10 # floor per tool\n",
    "EXPAND_TOTAL <- TRUE # expand total if needed\n",
    "\n",
    "# --------------------------------------------------------------------\n",
    "# Allocation with per-tool minimums, then proportional distribution\n",
    "# --------------------------------------------------------------------\n",
    "tool_counts <- all_tools %>%\n",
    "  count(tool_name, name = \"n_tool\") %>%\n",
    "  arrange(desc(n_tool))\n",
    "\n",
    "# Floors (min 10, capped at availability)\n",
    "floor_alloc <- tool_counts %>%\n",
    "  mutate(floor = pmin(n_tool, MIN_PER_TOOL))\n",
    "\n",
    "reserved <- sum(floor_alloc$floor)\n",
    "\n",
    "if (reserved > SAMPLE_TOTAL) {\n",
    "  if (EXPAND_TOTAL) {\n",
    "    SAMPLE_TOTAL <- reserved\n",
    "  } else {\n",
    "    stop(\n",
    "  \"Minimum per-tool exceeds total sample. \",\n",
    "  \"Lower `min_per_tool` or allow expand.\"\n",
    ")\n",
    "  }\n",
    "}\n",
    "\n",
    "remaining <- SAMPLE_TOTAL - reserved\n",
    "\n",
    "# Proportional extras after floors\n",
    "alloc <- floor_alloc %>%\n",
    "  mutate(capacity = pmax(0, n_tool - floor))\n",
    "\n",
    "if (remaining > 0 && sum(alloc$capacity) > 0) {\n",
    "  alloc <- alloc %>%\n",
    "    mutate(\n",
    "      weight     = capacity / sum(capacity),\n",
    "      extra_raw  = remaining * weight,\n",
    "      extra_base = floor(extra_raw),\n",
    "      remainder  = extra_raw - extra_base\n",
    "    )\n",
    "  leftover <- remaining - sum(alloc$extra_base)\n",
    "  alloc <- alloc %>%\n",
    "    arrange(desc(remainder)) %>%\n",
    "    mutate(extra = extra_base + if_else(row_number() <= leftover, 1L, 0L)) %>%\n",
    "    arrange(desc(n_tool))\n",
    "} else {\n",
    "  alloc <- alloc %>% mutate(extra = 0L)\n",
    "}\n",
    "\n",
    "# Final allocation\n",
    "alloc <- alloc %>%\n",
    "  mutate(alloc = pmin(n_tool, floor + extra))\n",
    "\n",
    "tool_alloc <- alloc %>%\n",
    "  select(tool_name, n_tool, alloc)\n",
    "\n",
    "stopifnot(sum(tool_alloc$alloc) == SAMPLE_TOTAL)\n",
    "\n",
    "# --------------------------------------------------------------------\n",
    "# Stratified random sample\n",
    "# --------------------------------------------------------------------\n",
    "orig_cols <- names(all_tools)\n",
    "\n",
    "sample_primary <- all_tools %>%\n",
    "  inner_join(tool_alloc, by = \"tool_name\") %>%\n",
    "  group_by(tool_name) %>%\n",
    "  group_modify(~ dplyr::slice_sample(.x, n = unique(.x$alloc))) %>%\n",
    "  ungroup() %>%\n",
    "  mutate(\n",
    "    double_code   = TRUE,\n",
    "    topic_cat     = NA_character_,\n",
    "    tool_use_type = NA_character_\n",
    "  ) %>%\n",
    "  select(all_of(orig_cols), double_code, topic_cat, tool_use_type)\n",
    "\n",
    "stopifnot(nrow(sample_primary) == SAMPLE_TOTAL)\n",
    "\n",
    "# --------------------------------------------------------------------\n",
    "# Save 05_cleaned_datasetss (to 05_cleaned_datasets/ folder)\n",
    "# --------------------------------------------------------------------\n",
    "sample_primary %>%\n",
    "  count(tool_name) %>%\n",
    "  arrange(desc(n)) %>%\n",
    "  print()"
   ],
   "id": "f36fcb47-6a06-422d-a198-2bb5adea3a2e"
  },
  {
   "cell_type": "markdown",
   "metadata": {},
   "source": [
    "To support manual coding, I created an initial **codebook** with draft topic and tool-use categories. I’ll continue refining it by adding clear **definitions**, **inclusion and exclusion criteria**, and **examples** as the coding scheme develops."
   ],
   "id": "61f851b9-2bee-49e7-ac14-52d08d9c3256"
  },
  {
   "cell_type": "code",
   "execution_count": null,
   "metadata": {},
   "outputs": [],
   "source": [
    "# Starter codebook for manual coding\n",
    "topic_levels <- c(\n",
    "  \"Air quality / pollution\",\n",
    "  \"Health impacts\",\n",
    "  \"Extreme heat / climate risk\",\n",
    "  \"Transportation\",\n",
    "  \"Land use / housing\",\n",
    "  \"Energy / utilities\",\n",
    "  \"Water / flooding\",\n",
    "  \"Equity / policy & governance\"\n",
    ")\n",
    "\n",
    "tool_use_levels <- c(\n",
    "  \"Applied (used for analysis/targeting)\",\n",
    "  \"Evaluated (validated/benchmarked the tool)\",\n",
    "  \"Critiqued (limitations/methodological critique)\",\n",
    "  \"Mentioned/Context (used for background)\"\n",
    ")\n",
    "\n",
    "codebook <- tibble::tibble(\n",
    "  variable = c(\n",
    "    rep(\"topic_cat\", length(topic_levels)),\n",
    "    rep(\"tool_use_type\", length(tool_use_levels))\n",
    "  ),\n",
    "  code = c(topic_levels, tool_use_levels),\n",
    "  definition = NA_character_, # fill in\n",
    "  include_if = NA_character_, # fill in\n",
    "  exclude_if = NA_character_, # fill in\n",
    "  examples = NA_character_ # fill in small examples/keywords\n",
    ")\n",
    "\n",
    "readr::write_csv(codebook, here(\"05_cleaned_datasets\", \"codebook_topic_tool_use.csv\"))"
   ],
   "id": "9158474b-4c3a-4abe-a9c3-d370fe819ab8"
  },
  {
   "cell_type": "markdown",
   "metadata": {},
   "source": [
    "### Inter-rater agreement\n",
    "\n",
    "Before running the analysis, I’ll import two datasets that my colleagues and I collaborated on. These datasets include our manual categorizations of studies and their publishers.\n",
    "\n",
    "**1. Study-level data**\n",
    "\n",
    "-   `all_studies_ira.csv`: A collaborator and I manually categorized publishers for about **10% of the sample**. This dataset is used to calculate **inter-rater agreement (IRA)** and identify where our categorizations differed or aligned.\n",
    "-   `all_studies_finalized.csv`: This is the **final dataset** after we reviewed disagreements and reached consensus. We updated the **codebook** accordingly, and applied the final categories to the full dataset. I will use this version for analyzing relevant research questions.\n",
    "    -   The corresponding codebook, **`codebook_studies.csv`**, is located in the `codebooks/` folder.\n",
    "    -   It defines **four categories** of study classification like applied, mentioned/context, etc. for a total of **10 subcategories.**\n",
    "\n",
    "**2. Publisher-level data**\n",
    "\n",
    "-   `all_publishers_ira.csv`: Similar to the studies dataset, a collaborator and I manually categorized about **11% of publishers**. This subset is used to assess IRA.\n",
    "-   `all_publishers_finalized.csv`: The **finalized version** after resolving disagreements and updating the codebook. I will use this version for analyzing relevant research questions.\n",
    "    -   The corresponding codebook, `codebook_publishers.csv`, is in the `codebooks/` folder.\n",
    "    -   It defines **10 publisher types**, ranging from *commercial academic publishers* to *grey literature platforms*.\n",
    "\n",
    "The first step in this analysis is to calculate **inter-rater agreement (IRA)** at both the study and publisher levels using **Cohen’s kappa**, a statistical measure of rater agreement.\n",
    "\n",
    "I chose this approach because relying on a single person to categorize studies or publishers can introduce bias. With two collaborators independently code each dataset, I can identify where our classifications **converge** and **diverge**, and quantify that level of agreement.\n",
    "\n",
    "Cohen’s kappa adjusts for agreement that occurs **by chance** and produces a value between **–1 and +1**, where –1 indicates no agreement and +1 indicates almost perfect agreement. In practice, it functions like a **correlation coefficient** based on a cross-tabulation of each rater’s classifications.\n",
    "\n",
    "As McHugh (2012) explains, *“the squaring of kappa translates conceptually to the amount of accuracy (i.e., the reverse of error) in the data due to congruence among the data collectors.”*\n",
    "\n",
    "**Interpretation of Cohen’s kappa** \\[@mchugh2012\\]\n",
    "\n",
    "| Value of Kappa | Level of Agreement | % of Data that are Reliable |\n",
    "|:--------------:|:------------------:|:---------------------------:|\n",
    "|     0–.20      |        None        |            0–4%             |\n",
    "|    .21–.39     |      Minimal       |            4–15%            |\n",
    "|    .40–.59     |        Weak        |           15–35%            |\n",
    "|    .60–.79     |      Moderate      |           35–63%            |\n",
    "|    .80–.90     |       Strong       |           64–81%            |\n",
    "|    Above.90    |   Almost Perfect   |           82–100%           |\n",
    "\n",
    "A good resource that I’m following for IRA is *Cohen’s Kappa in R: For Two Categorical Variables* \\[@datanovia2025\\]. Another is the *agreement package:* <https://github.com/jmgirard/agreement>.\n",
    "\n",
    "#### 1. Publisher-level data\n",
    "\n",
    "Cohen’s κ = 0.89 (95 % CI \\[0.79, 0.99\\], p \\< 0.001) indicates **almost perfect agreement** between the two raters according to McHugh (2012). The raw percent agreement was 91 %.\n",
    "\n",
    "Here’s how to read the results table:\n",
    "\n",
    "| Metric | Value | Interpretation |\n",
    "|---------------------|-------------------|--------------------------------|\n",
    "| **Percent agreement** | `0.909` (≈ 91%) | Raw proportion of identical ratings — shows high agreement overall |\n",
    "| **Unweighted Cohen’s κ** | `0.8935` | Agreement beyond chance |\n",
    "| **Weighted Cohen’s κ** | `0.8602` | Takes into account partial agreement (useful for *ordinal* data — not critical here) |\n",
    "| **ASE** (Asymptotic Std. Error) | `0.0505` | Measures uncertainty of κ estimate |\n",
    "| **z** | `17.69` | Test statistic for H₀ : κ = 0 (no agreement beyond chance) |\n",
    "| **p-value** | `4.78 × 10⁻⁷⁰` | Extremely small → reject H₀; the raters’ agreement is highly significant |\n",
    "| **95% CI (Unweighted)** | 0.79 – 0.99 | Even the lower bound (0.79) indicates strong agreement |\n",
    "\n",
    "**Note on sample size for inter-rater agreement** Although the full dataset (`all_publishers_ira.csv`) contains 387 records, only the first 44 rows were double-coded by both raters (11% of the sample).\n",
    "\n",
    "The remaining rows include missing or unassigned categories for at least one rater. Because `table()` in R automatically excludes `NA` values when computing cross-tabulations, the Cohen’s Kappa and percent agreement calculations below are effectively based on those 44 complete cases.\n",
    "\n",
    "So, this code can be reused with any dataset of similar structure without needing to hardcode a row range. The computation will always use only non-missing, valid pairs of rater classifications."
   ],
   "id": "550dcdd7-f182-4146-afe1-2f931f19e1fd"
  },
  {
   "cell_type": "code",
   "execution_count": null,
   "metadata": {},
   "outputs": [
    {
     "output_type": "stream",
     "name": "stdout",
     "text": [
      "            value     ASE     z  Pr(>|z|)\n",
      "Unweighted 0.8935 0.05050 17.69 4.780e-70\n",
      "Weighted   0.8602 0.07517 11.44 2.536e-30"
     ]
    },
    {
     "output_type": "stream",
     "name": "stdout",
     "text": [
      "            \n",
      "Kappa              lwr      upr\n",
      "  Unweighted 0.7944860 0.992439\n",
      "  Weighted   0.7129097 1.000000"
     ]
    },
    {
     "output_type": "stream",
     "name": "stdout",
     "text": [
      "[1] 0.9090909"
     ]
    }
   ],
   "source": [
    "# Import publisher file\n",
    "all_publishers_ira <- readr::read_csv(\n",
    "  here::here(\"02_processed_data\", \"all_publishers_ira.csv\"),\n",
    "  show_col_types = FALSE,\n",
    "  na = c(\"\", \"NA\", \"N/A\", \"NULL\")\n",
    ")\n",
    "\n",
    "# Enforce types\n",
    "all_publishers_ira <- all_publishers_ira |>\n",
    "  mutate(\n",
    "    publisher        = as.character(publisher),\n",
    "    n                = as.integer(n),\n",
    "    pub_type_rater_1 = as.character(pub_type_rater_1),\n",
    "    pub_type_rater_2 = as.character(pub_type_rater_2),\n",
    "    description      = as.character(description)\n",
    "  )\n",
    "\n",
    "# Define category levels\n",
    "kappa_levels <- c(\n",
    "  \"Commercial academic publishers\",\n",
    "  \"University presses\",\n",
    "  \"Open access publishers\",\n",
    "  \"Preprint / working paper servers\",\n",
    "  \"Government repositories\",\n",
    "  \"Legal / policy databases\",\n",
    "  \"University / institutional repositories\",\n",
    "  \"Grey literature platforms\",\n",
    "  \"Scholarly society / association publishers\",\n",
    "  \"None/Unknown\"\n",
    ")\n",
    "\n",
    "# Apply factor levels\n",
    "all_publishers_ira <- all_publishers_ira |>\n",
    "  mutate(\n",
    "    pub_type_rater_1 = factor(pub_type_rater_1, levels = kappa_levels),\n",
    "    pub_type_rater_2 = factor(pub_type_rater_2, levels = kappa_levels)\n",
    "  )\n",
    "\n",
    "# Use to check for the recoding results\n",
    "# table(all_publishers_ira$pub_type_rater_1, useNA = \"ifany\")\n",
    "# table(all_publishers_ira$pub_type_rater_2, useNA = \"ifany\")\n",
    "\n",
    "# Build contingency table and compute Cohen's Kappa\n",
    "# (Unweighted Kappa corresponds to Cohen’s kappa for two raters)\n",
    "tab_10x10 <- table(\n",
    "  Rater1 = all_publishers_ira$pub_type_rater_1,\n",
    "  Rater2 = all_publishers_ira$pub_type_rater_2\n",
    ")\n",
    "\n",
    "kappa_res <- vcd::Kappa(tab_10x10)\n",
    "\n",
    "kappa_res"
   ],
   "id": "7cc8f004-5218-4634-ac90-f6062c1c09f8"
  },
  {
   "cell_type": "markdown",
   "metadata": {},
   "source": [
    "#### 2. Study-level data\n",
    "\n",
    "For the **topic category coding**, Cohen’s κ = 0.32 (95 % CI \\[0.24, 0.39\\], *p* \\< 0.001) indicates **minimal agreement** between the two raters according to McHugh (2012). The raw percent agreement was **39%**.\n",
    "\n",
    "For the **tool-use type coding**, Cohen’s κ = 0.16 (95 % CI \\[0.09, 0.22\\], *p* \\< 0.001) reflects **no agreement** between raters. The raw percent agreement was **32%**."
   ],
   "id": "16268984-12da-4109-b2c8-8fc0a8f4cd05"
  },
  {
   "cell_type": "code",
   "execution_count": null,
   "metadata": {},
   "outputs": [
    {
     "output_type": "stream",
     "name": "stdout",
     "text": [
      "[1] 0.3921569"
     ]
    },
    {
     "output_type": "stream",
     "name": "stdout",
     "text": [
      "[1] 0.3221154"
     ]
    },
    {
     "output_type": "stream",
     "name": "stdout",
     "text": [
      "            value     ASE     z  Pr(>|z|)\n",
      "Unweighted 0.3179 0.03726 8.534 1.415e-17\n",
      "Weighted   0.3338 0.05020 6.649 2.956e-11"
     ]
    },
    {
     "output_type": "stream",
     "name": "stdout",
     "text": [
      "            \n",
      "Kappa              lwr       upr\n",
      "  Unweighted 0.2449245 0.3909685\n",
      "  Weighted   0.2353783 0.4321608"
     ]
    },
    {
     "output_type": "stream",
     "name": "stdout",
     "text": [
      "[1] 0.3921569"
     ]
    },
    {
     "output_type": "stream",
     "name": "stdout",
     "text": [
      "            value     ASE     z  Pr(>|z|)\n",
      "Unweighted 0.1561 0.03340 4.673 2.966e-06\n",
      "Weighted   0.2037 0.04214 4.834 1.336e-06"
     ]
    },
    {
     "output_type": "stream",
     "name": "stdout",
     "text": [
      "            \n",
      "Kappa               lwr       upr\n",
      "  Unweighted 0.09063148 0.2215718\n",
      "  Weighted   0.12112305 0.2863082"
     ]
    },
    {
     "output_type": "stream",
     "name": "stdout",
     "text": [
      "[1] 0.3221154"
     ]
    },
    {
     "output_type": "stream",
     "name": "stdout",
     "text": [
      "# A tibble: 2 × 4\n",
      "  variable      kappa_unweighted kappa_weighted percent_agreement\n",
      "  <chr>                    <dbl>          <dbl>             <dbl>\n",
      "1 topic_cat                0.318          0.334             0.392\n",
      "2 tool_use_type            0.156          0.204             0.322"
     ]
    }
   ],
   "source": [
    "# Import publisher file\n",
    "sample_studies_ira <- readr::read_csv(\n",
    "  here::here(\"02_processed_data\", \"double_code_sample_ira.csv\"),\n",
    "  show_col_types = FALSE,\n",
    "  na = c(\"\", \"NA\", \"N/A\", \"NULL\")\n",
    ")\n",
    "\n",
    "# Enforce types ONLY for IRA-relavent variables\n",
    "sample_studies_ira <- sample_studies_ira %>%\n",
    "  mutate(\n",
    "    topic_cat_rater_1      = as.character(topic_cat_rater_1),\n",
    "    topic_cat_rater_2      = as.character(topic_cat_rater_2),\n",
    "    tool_use_type_rater_1  = as.character(tool_use_type_rater_1),\n",
    "    tool_use_type_rater_2  = as.character(tool_use_type_rater_2)\n",
    "  )\n",
    "\n",
    "# Define factor levels\n",
    "topic_levels <- c(\n",
    "  \"Air quality & pollution\",\n",
    "  \"Health & well-being\",\n",
    "  \"Climate hazards & risks\",\n",
    "  \"Transit, mobility & transportation\",\n",
    "  \"Land use, housing & built environment infrastructure\",\n",
    "  \"Energy & decarbonization\",\n",
    "  \"Water resources & flooding\",\n",
    "  \"Natural environment, resources & ecosystems\",\n",
    "  \"Governance, policy & institutional frameworks\",\n",
    "  \"Equity and justice\",\n",
    "  \"Economy, labor & development\",\n",
    "  \"Community engagement & knowledge\",\n",
    "  \"Other\"\n",
    ")\n",
    "\n",
    "tool_use_levels <- c(\n",
    "  \"Applied\",\n",
    "  \"Evaluated\",\n",
    "  \"Critiqued\",\n",
    "  \"Mentioned/Context\",\n",
    "  \"None\"\n",
    ")\n",
    "\n",
    "# Apply factor levels\n",
    "sample_studies_ira <- sample_studies_ira %>%\n",
    "  mutate(\n",
    "    topic_cat_rater_1     = factor(topic_cat_rater_1, levels = topic_levels),\n",
    "    topic_cat_rater_2     = factor(topic_cat_rater_2, levels = topic_levels),\n",
    "    tool_use_type_rater_1 = factor(tool_use_type_rater_1, levels = tool_use_levels),\n",
    "    tool_use_type_rater_2 = factor(tool_use_type_rater_2, levels = tool_use_levels)\n",
    "  )\n",
    "\n",
    "# Compute Cohen's kappa for TOPIC\n",
    "tab_topic <- table(\n",
    "  Rater1 = sample_studies_ira$topic_cat_rater_1,\n",
    "  Rater2 = sample_studies_ira$topic_cat_rater_2\n",
    ")\n",
    "kappa_topic <- vcd::Kappa(tab_topic)\n",
    "pa_topic <- mean(\n",
    "  sample_studies_ira$topic_cat_rater_1 == sample_studies_ira$topic_cat_rater_2,\n",
    "  na.rm = TRUE\n",
    ")\n",
    "\n",
    "# Compute Cohen's kappa for TOOL USE TYP\n",
    "tab_tool <- table(\n",
    "  Rater1 = sample_studies_ira$tool_use_type_rater_1,\n",
    "  Rater2 = sample_studies_ira$tool_use_type_rater_2\n",
    ")\n",
    "kappa_tool <- vcd::Kappa(tab_tool)\n",
    "pa_tool <- mean(\n",
    "  sample_studies_ira$tool_use_type_rater_1 == sample_studies_ira$tool_use_type_rater_2,\n",
    "  na.rm = TRUE\n",
    ")\n",
    "\n",
    "# Simple percent agreement for TOPIC\n",
    "percent_agreement_topic <- mean(\n",
    "  sample_studies_ira$topic_cat_rater_1 == sample_studies_ira$topic_cat_rater_2,\n",
    "  na.rm = TRUE\n",
    ")\n",
    "percent_agreement_topic"
   ],
   "id": "a93aa09e-066b-41e1-960c-94b8b99af78e"
  },
  {
   "cell_type": "markdown",
   "metadata": {},
   "source": [
    "### Research questions\n",
    "\n",
    "Before analyzing each research question, I will merge the publisher and study datasets."
   ],
   "id": "18a28875-235f-4fe9-9c21-081546b3a05d"
  },
  {
   "cell_type": "code",
   "execution_count": null,
   "metadata": {},
   "outputs": [],
   "source": [
    "# Import the all studies finalized file\n",
    "all_studies_finalized <- readr::read_csv(\n",
    "  here::here(\"02_processed_data\", \"all_studies_finalized.csv\"),\n",
    "  show_col_types = FALSE,\n",
    "  na = c(\"\", \"NA\", \"N/A\", \"NULL\")\n",
    ")\n",
    "\n",
    "out_clean <- here::here(\"05_cleaned_datasets\")\n",
    "out_viz <- here::here(\"06_viz_ready\")\n",
    "\n",
    "saveRDS(all_studies_finalized, file.path(out_clean, \"all_studies_finalized.rds\"))\n",
    "\n",
    "# Load finalized publishers\n",
    "pub_path <- here::here(\"05_cleaned_datasets\", \"all_publishers_finalized.rds\")\n",
    "all_publishers_finalized <- readRDS(pub_path)\n",
    "\n",
    "# Create publisher lookup\n",
    "pub_lookup <- all_publishers_finalized %>%\n",
    "  mutate(\n",
    "    publisher = as.character(publisher),\n",
    "    pub_type_rater_1 = as.character(pub_type_rater_1),\n",
    "    description = as.character(description)\n",
    "  ) %>%\n",
    "  filter(!is.na(publisher), publisher != \"\") %>%\n",
    "  distinct(publisher, pub_type_rater_1, description)\n",
    "\n",
    "# Enforce key types for studies\n",
    "all_studies_finalized <- all_studies_finalized %>%\n",
    "  mutate(\n",
    "    publisher        = as.character(publisher),\n",
    "    cites            = as.integer(cites),\n",
    "    year             = as.integer(year),\n",
    "    gs_rank          = as.integer(gs_rank),\n",
    "    ecc              = as.integer(ecc),\n",
    "    cites_per_year   = as.numeric(cites_per_year),\n",
    "    cites_per_author = as.integer(cites_per_author),\n",
    "    author_count     = as.integer(author_count),\n",
    "    age              = as.integer(age),\n",
    "    study_id         = as.integer(study_id),\n",
    "    query_date       = if (inherits(query_date, \"Date\")) query_date else as_date(ymd(query_date))\n",
    "  )\n",
    "\n",
    "# Merge publisher data into studies\n",
    "all_studies_merged <- all_studies_finalized %>%\n",
    "  left_join(pub_lookup, by = \"publisher\") %>%\n",
    "  rename(\n",
    "    publisher_type        = pub_type_rater_1,\n",
    "    publisher_description = description\n",
    "  ) %>%\n",
    "  mutate(\n",
    "    publisher_type        = as.character(publisher_type),\n",
    "    publisher_description = as.character(publisher_description)\n",
    "  )\n",
    "\n",
    "# Replace missing publisher_type with \"None/Unknown\"\n",
    "all_studies_merged <- all_studies_merged |>\n",
    "  mutate(\n",
    "    publisher_type = if_else(\n",
    "      is.na(publisher_type) | publisher_type == \"\",\n",
    "      \"None/Unknown\",\n",
    "      publisher_type\n",
    "    )\n",
    "  )\n",
    "\n",
    "# Remove studies with \"None\" tool_use_type (per codebook) because\n",
    "# we are not analyzing studies that have no relationships to the EJ tools\n",
    "# Exclude false positives / not-in-scope studies (See 03_codebooks/codebook_studies.* for definitions)\n",
    "all_studies_merged <- all_studies_merged |>\n",
    "  mutate(tool_use_type = as.character(tool_use_type)) |>\n",
    "  filter(\n",
    "    !is.na(tool_use_type),\n",
    "    stringr::str_trim(tool_use_type) != \"None\"\n",
    "  )\n",
    "\n",
    "# Save merged dataset\n",
    "readr::write_csv(all_studies_merged, file.path(\"05_cleaned_datasets\", \"all_studies_merged.csv\"))\n",
    "saveRDS(all_studies_merged, file.path(\"05_cleaned_datasets\", \"all_studies_merged.rds\"))\n",
    "readr::write_csv(all_studies_merged, file.path(out_viz, \"all_studies_merged.csv\"))"
   ],
   "id": "bed052ac-4572-4d1e-9bc5-eece1cd2a6a2"
  },
  {
   "cell_type": "markdown",
   "metadata": {},
   "source": [
    "#### Research question 1\n",
    "\n",
    "*How many research papers or studies have cited or relied on the five U.S. federal climate and environmental justice tools that are threatened, not being maintained, or no longer publicly available?*\n",
    "\n",
    "I will address each research question sequentially, cleaning and organizing the data throughout the analysis process. During this stage, I will prepare the data for exploration and export intermediate results as tidy CSV files for visualization and further analysis.\n",
    "\n",
    "##### Total number of studies"
   ],
   "id": "9fd0eef2-4fdf-47b5-8df7-25bc37ba35b8"
  },
  {
   "cell_type": "code",
   "execution_count": null,
   "metadata": {},
   "outputs": [
    {
     "output_type": "stream",
     "name": "stdout",
     "text": [
      "[1] 1826"
     ]
    }
   ],
   "source": [
    "nrow(all_studies_merged)"
   ],
   "id": "ad1be4f5-42b5-43ff-85f7-f288c58656a2"
  },
  {
   "cell_type": "markdown",
   "metadata": {},
   "source": [
    "##### Count of studies per tool"
   ],
   "id": "a2c95438-fa71-450e-9f4b-4234f0a119ac"
  },
  {
   "cell_type": "code",
   "execution_count": null,
   "metadata": {},
   "outputs": [
    {
     "output_type": "display_data",
     "metadata": {},
     "data": {
      "text/html": [
       "<div class=\"highchart html-widget html-fill-item\" id=\"htmlwidget-d2c77845a38e9adec13c\" style=\"width:100%;height:464px;\"></div>\n",
       "<script type=\"application/json\" data-for=\"htmlwidget-d2c77845a38e9adec13c\">{\"x\":{\"hc_opts\":{\"chart\":{\"reflow\":true},\"title\":{\"text\":\"Number of studies by tool\"},\"yAxis\":{\"title\":{\"text\":\"Number of studies\"},\"type\":\"linear\",\"allowDecimals\":false},\"credits\":{\"enabled\":false},\"exporting\":{\"enabled\":true},\"boost\":{\"enabled\":false},\"plotOptions\":{\"series\":{\"label\":{\"enabled\":false},\"turboThreshold\":0,\"showInLegend\":false},\"treemap\":{\"layoutAlgorithm\":\"squarified\"},\"scatter\":{\"marker\":{\"symbol\":\"circle\"}}},\"series\":[{\"group\":\"group\",\"data\":[{\"tool_name\":\"EJScreen\",\"n_studies\":985,\"y\":985,\"name\":\"EJScreen\"},{\"tool_name\":\"Climate and Economic Justice Screening Tool (CEJST)\",\"n_studies\":724,\"y\":724,\"name\":\"Climate and Economic Justice Screening Tool (CEJST)\"},{\"tool_name\":\"Environmental Justice Index (EJI)\",\"n_studies\":113,\"y\":113,\"name\":\"Environmental Justice Index (EJI)\"},{\"tool_name\":\"Climate Risk Viewer\",\"n_studies\":3,\"y\":3,\"name\":\"Climate Risk Viewer\"},{\"tool_name\":\"Future Risk Index (FRI)\",\"n_studies\":1,\"y\":1,\"name\":\"Future Risk Index (FRI)\"}],\"type\":\"column\"}],\"xAxis\":{\"type\":\"category\",\"title\":{\"text\":\"Tool\"}},\"subtitle\":{\"text\":\"Total count of research papers citing or relying on each tool\"},\"tooltip\":{\"pointFormat\":\"<b>{point.y}<\\/b> studies\"},\"legend\":{\"enabled\":false}},\"theme\":{\"chart\":{\"backgroundColor\":\"transparent\"},\"colors\":[\"#7cb5ec\",\"#434348\",\"#90ed7d\",\"#f7a35c\",\"#8085e9\",\"#f15c80\",\"#e4d354\",\"#2b908f\",\"#f45b5b\",\"#91e8e1\"]},\"conf_opts\":{\"global\":{\"Date\":null,\"VMLRadialGradientURL\":\"http =//code.highcharts.com/list(version)/gfx/vml-radial-gradient.png\",\"canvasToolsURL\":\"http =//code.highcharts.com/list(version)/modules/canvas-tools.js\",\"getTimezoneOffset\":null,\"timezoneOffset\":0,\"useUTC\":true},\"lang\":{\"contextButtonTitle\":\"Chart context menu\",\"decimalPoint\":\".\",\"downloadCSV\":\"Download CSV\",\"downloadJPEG\":\"Download JPEG image\",\"downloadPDF\":\"Download PDF document\",\"downloadPNG\":\"Download PNG image\",\"downloadSVG\":\"Download SVG vector image\",\"downloadXLS\":\"Download XLS\",\"drillUpText\":\"◁ Back to {series.name}\",\"exitFullscreen\":\"Exit from full screen\",\"exportData\":{\"annotationHeader\":\"Annotations\",\"categoryDatetimeHeader\":\"DateTime\",\"categoryHeader\":\"Category\"},\"hideData\":\"Hide data table\",\"invalidDate\":null,\"loading\":\"Loading...\",\"months\":[\"January\",\"February\",\"March\",\"April\",\"May\",\"June\",\"July\",\"August\",\"September\",\"October\",\"November\",\"December\"],\"noData\":\"No data to display\",\"numericSymbolMagnitude\":1000,\"numericSymbols\":[\"k\",\"M\",\"G\",\"T\",\"P\",\"E\"],\"printChart\":\"Print chart\",\"resetZoom\":\"Reset zoom\",\"resetZoomTitle\":\"Reset zoom level 1:1\",\"shortMonths\":[\"Jan\",\"Feb\",\"Mar\",\"Apr\",\"May\",\"Jun\",\"Jul\",\"Aug\",\"Sep\",\"Oct\",\"Nov\",\"Dec\"],\"shortWeekdays\":[\"Sat\",\"Sun\",\"Mon\",\"Tue\",\"Wed\",\"Thu\",\"Fri\"],\"thousandsSep\":\" \",\"viewData\":\"View data table\",\"viewFullscreen\":\"View in full screen\",\"weekdays\":[\"Sunday\",\"Monday\",\"Tuesday\",\"Wednesday\",\"Thursday\",\"Friday\",\"Saturday\"]}},\"type\":\"chart\",\"fonts\":[],\"debug\":false},\"evals\":[],\"jsHooks\":[]}</script>"
      ]
     }
    }
   ],
   "source": [
    "df_tool <- all_studies_merged |>\n",
    "  count(tool_name, name = \"n_studies\") |>\n",
    "  arrange(desc(n_studies))\n",
    "\n",
    "hchart(\n",
    "  df_tool,\n",
    "  \"column\",\n",
    "  hcaes(x = tool_name, y = n_studies)\n",
    ") |>\n",
    "  hc_title(text = \"Number of studies by tool\") |>\n",
    "  hc_subtitle(\n",
    "    text = \"Total count of research papers citing or relying on each tool\"\n",
    "  ) |>\n",
    "  hc_xAxis(title = list(text = \"Tool\")) |>\n",
    "  hc_yAxis(\n",
    "    title = list(text = \"Number of studies\"),\n",
    "    allowDecimals = FALSE\n",
    "  ) |>\n",
    "  hc_tooltip(pointFormat = \"<b>{point.y}</b> studies\") |>\n",
    "  hc_legend(enabled = FALSE) |>\n",
    "  hc_exporting(enabled = TRUE)"
   ],
   "id": "032c844d-8c16-4891-862e-14a88c1485a1"
  },
  {
   "cell_type": "markdown",
   "metadata": {},
   "source": [
    "##### Count of studies per year per tool"
   ],
   "id": "08aa530d-59f6-430c-9a13-47365ca5a377"
  },
  {
   "cell_type": "code",
   "execution_count": null,
   "metadata": {},
   "outputs": [
    {
     "output_type": "display_data",
     "metadata": {},
     "data": {
      "text/html": [
       "<div class=\"highchart html-widget html-fill-item\" id=\"htmlwidget-7304299373118d594d9b\" style=\"width:100%;height:464px;\"></div>\n",
       "<script type=\"application/json\" data-for=\"htmlwidget-7304299373118d594d9b\">{\"x\":{\"hc_opts\":{\"chart\":{\"reflow\":true},\"title\":{\"text\":\"Studies over time by tool\"},\"yAxis\":{\"title\":{\"text\":\"Number of studies\"},\"type\":\"linear\",\"allowDecimals\":false},\"credits\":{\"enabled\":false},\"exporting\":{\"enabled\":true},\"boost\":{\"enabled\":false},\"plotOptions\":{\"series\":{\"label\":{\"enabled\":false},\"turboThreshold\":0,\"showInLegend\":true},\"treemap\":{\"layoutAlgorithm\":\"squarified\"},\"scatter\":{\"marker\":{\"symbol\":\"circle\"}}},\"series\":[{\"name\":\"Climate Risk Viewer\",\"data\":[{\"tool_name\":\"Climate Risk Viewer\",\"year\":2025,\"n_studies\":1,\"x\":2025,\"y\":1}],\"type\":\"line\"},{\"name\":\"Climate and Economic Justice Screening Tool (CEJST)\",\"data\":[{\"tool_name\":\"Climate and Economic Justice Screening Tool (CEJST)\",\"year\":2022,\"n_studies\":89,\"x\":2022,\"y\":89},{\"tool_name\":\"Climate and Economic Justice Screening Tool (CEJST)\",\"year\":2023,\"n_studies\":179,\"x\":2023,\"y\":179},{\"tool_name\":\"Climate and Economic Justice Screening Tool (CEJST)\",\"year\":2024,\"n_studies\":271,\"x\":2024,\"y\":271},{\"tool_name\":\"Climate and Economic Justice Screening Tool (CEJST)\",\"year\":2025,\"n_studies\":143,\"x\":2025,\"y\":143}],\"type\":\"line\"},{\"name\":\"EJScreen\",\"data\":[{\"tool_name\":\"EJScreen\",\"year\":2016,\"n_studies\":6,\"x\":2016,\"y\":6},{\"tool_name\":\"EJScreen\",\"year\":2017,\"n_studies\":1,\"x\":2017,\"y\":1},{\"tool_name\":\"EJScreen\",\"year\":2018,\"n_studies\":6,\"x\":2018,\"y\":6},{\"tool_name\":\"EJScreen\",\"year\":2019,\"n_studies\":6,\"x\":2019,\"y\":6},{\"tool_name\":\"EJScreen\",\"year\":2020,\"n_studies\":9,\"x\":2020,\"y\":9},{\"tool_name\":\"EJScreen\",\"year\":2021,\"n_studies\":50,\"x\":2021,\"y\":50},{\"tool_name\":\"EJScreen\",\"year\":2022,\"n_studies\":244,\"x\":2022,\"y\":244},{\"tool_name\":\"EJScreen\",\"year\":2023,\"n_studies\":219,\"x\":2023,\"y\":219},{\"tool_name\":\"EJScreen\",\"year\":2024,\"n_studies\":242,\"x\":2024,\"y\":242},{\"tool_name\":\"EJScreen\",\"year\":2025,\"n_studies\":157,\"x\":2025,\"y\":157}],\"type\":\"line\"},{\"name\":\"Environmental Justice Index (EJI)\",\"data\":[{\"tool_name\":\"Environmental Justice Index (EJI)\",\"year\":2022,\"n_studies\":1,\"x\":2022,\"y\":1},{\"tool_name\":\"Environmental Justice Index (EJI)\",\"year\":2023,\"n_studies\":12,\"x\":2023,\"y\":12},{\"tool_name\":\"Environmental Justice Index (EJI)\",\"year\":2024,\"n_studies\":50,\"x\":2024,\"y\":50},{\"tool_name\":\"Environmental Justice Index (EJI)\",\"year\":2025,\"n_studies\":47,\"x\":2025,\"y\":47}],\"type\":\"line\"},{\"name\":\"Future Risk Index (FRI)\",\"data\":[{\"tool_name\":\"Future Risk Index (FRI)\",\"year\":2024,\"n_studies\":1,\"x\":2024,\"y\":1}],\"type\":\"line\"}],\"xAxis\":{\"type\":\"linear\",\"title\":{\"text\":\"Year\"},\"allowDecimals\":false},\"subtitle\":{\"text\":\"Annual counts of studies citing or relying on each tool\"},\"tooltip\":{\"shared\":true,\"crosshairs\":true,\"headerFormat\":\"<b>Year: {point.key}<\\/b><br/>\",\"pointFormat\":\"{series.name}: <b>{point.y}<\\/b><br/>\"},\"legend\":{\"title\":{\"text\":\"Tool\"}}},\"theme\":{\"chart\":{\"backgroundColor\":\"transparent\"},\"colors\":[\"#7cb5ec\",\"#434348\",\"#90ed7d\",\"#f7a35c\",\"#8085e9\",\"#f15c80\",\"#e4d354\",\"#2b908f\",\"#f45b5b\",\"#91e8e1\"]},\"conf_opts\":{\"global\":{\"Date\":null,\"VMLRadialGradientURL\":\"http =//code.highcharts.com/list(version)/gfx/vml-radial-gradient.png\",\"canvasToolsURL\":\"http =//code.highcharts.com/list(version)/modules/canvas-tools.js\",\"getTimezoneOffset\":null,\"timezoneOffset\":0,\"useUTC\":true},\"lang\":{\"contextButtonTitle\":\"Chart context menu\",\"decimalPoint\":\".\",\"downloadCSV\":\"Download CSV\",\"downloadJPEG\":\"Download JPEG image\",\"downloadPDF\":\"Download PDF document\",\"downloadPNG\":\"Download PNG image\",\"downloadSVG\":\"Download SVG vector image\",\"downloadXLS\":\"Download XLS\",\"drillUpText\":\"◁ Back to {series.name}\",\"exitFullscreen\":\"Exit from full screen\",\"exportData\":{\"annotationHeader\":\"Annotations\",\"categoryDatetimeHeader\":\"DateTime\",\"categoryHeader\":\"Category\"},\"hideData\":\"Hide data table\",\"invalidDate\":null,\"loading\":\"Loading...\",\"months\":[\"January\",\"February\",\"March\",\"April\",\"May\",\"June\",\"July\",\"August\",\"September\",\"October\",\"November\",\"December\"],\"noData\":\"No data to display\",\"numericSymbolMagnitude\":1000,\"numericSymbols\":[\"k\",\"M\",\"G\",\"T\",\"P\",\"E\"],\"printChart\":\"Print chart\",\"resetZoom\":\"Reset zoom\",\"resetZoomTitle\":\"Reset zoom level 1:1\",\"shortMonths\":[\"Jan\",\"Feb\",\"Mar\",\"Apr\",\"May\",\"Jun\",\"Jul\",\"Aug\",\"Sep\",\"Oct\",\"Nov\",\"Dec\"],\"shortWeekdays\":[\"Sat\",\"Sun\",\"Mon\",\"Tue\",\"Wed\",\"Thu\",\"Fri\"],\"thousandsSep\":\" \",\"viewData\":\"View data table\",\"viewFullscreen\":\"View in full screen\",\"weekdays\":[\"Sunday\",\"Monday\",\"Tuesday\",\"Wednesday\",\"Thursday\",\"Friday\",\"Saturday\"]}},\"type\":\"chart\",\"fonts\":[],\"debug\":false},\"evals\":[],\"jsHooks\":[]}</script>"
      ]
     }
    }
   ],
   "source": [
    "df_year_tool <- all_studies_merged |>\n",
    "  filter(!is.na(year)) |>\n",
    "  count(tool_name, year, name = \"n_studies\") |>\n",
    "  arrange(tool_name, year)\n",
    "\n",
    "hchart(\n",
    "  df_year_tool,\n",
    "  \"line\",\n",
    "  hcaes(x = year, y = n_studies, group = tool_name)\n",
    ") |>\n",
    "  hc_title(text = \"Studies over time by tool\") |>\n",
    "  hc_subtitle(\n",
    "    text = \"Annual counts of studies citing or relying on each tool\"\n",
    "  ) |>\n",
    "  hc_xAxis(title = list(text = \"Year\"), allowDecimals = FALSE) |>\n",
    "  hc_yAxis(\n",
    "    title = list(text = \"Number of studies\"),\n",
    "    allowDecimals = FALSE\n",
    "  ) |>\n",
    "  hc_tooltip(\n",
    "    shared = TRUE,\n",
    "    crosshairs = TRUE,\n",
    "    headerFormat = \"<b>Year: {point.key}</b><br/>\",\n",
    "    pointFormat  = \"{series.name}: <b>{point.y}</b><br/>\"\n",
    "  ) |>\n",
    "  hc_legend(title = list(text = \"Tool\")) |>\n",
    "  hc_exporting(enabled = TRUE)"
   ],
   "id": "1e58559b-285a-41c4-8a2b-fa8c36cbadae"
  },
  {
   "cell_type": "markdown",
   "metadata": {},
   "source": [
    "##### Top 10 most cited studies overall per tool"
   ],
   "id": "e7094c9d-dfba-43d4-8865-760fb14c95da"
  },
  {
   "cell_type": "code",
   "execution_count": null,
   "metadata": {},
   "outputs": [
    {
     "output_type": "stream",
     "name": "stdout",
     "text": [
      "# A tibble: 34 × 5\n",
      "   tool_name                                            year title cites authors\n",
      "   <chr>                                               <int> <chr> <int> <chr>  \n",
      " 1 Climate Risk Viewer                                    NA USDA…    27 I Fore…\n",
      " 2 Climate Risk Viewer                                    NA Fore…     0 A Duga…\n",
      " 3 Climate Risk Viewer                                  2025 Fore…     0 PW Cla…\n",
      " 4 Climate and Economic Justice Screening Tool (CEJST)  2023 Metr…    73 E Bake…\n",
      " 5 Climate and Economic Justice Screening Tool (CEJST)  2023 Char…    68 PGT Le…\n",
      " 6 Climate and Economic Justice Screening Tool (CEJST)  2022 Resi…    64 M Manw…\n",
      " 7 Climate and Economic Justice Screening Tool (CEJST)  2023 Air …    62 Y Wang…\n",
      " 8 Climate and Economic Justice Screening Tool (CEJST)  2022 Mapp…    59 D Raim…\n",
      " 9 Climate and Economic Justice Screening Tool (CEJST)  2023 Eval…    45 S Kime…\n",
      "10 Climate and Economic Justice Screening Tool (CEJST)  2024 Meas…    43 JA Cas…\n",
      "# ℹ 24 more rows"
     ]
    }
   ],
   "source": [
    "df_top_cites <- all_studies_merged |>\n",
    "  filter(!is.na(cites)) |>\n",
    "  group_by(tool_name) |>\n",
    "  slice_max(order_by = cites, n = 10, with_ties = FALSE) |>\n",
    "  ungroup() |>\n",
    "  select(tool_name, year, title, cites, authors) |>\n",
    "  arrange(tool_name, desc(cites))\n",
    "\n",
    "df_top_cites"
   ],
   "id": "294def5a-d0a4-428e-b430-a16f9d9f1415"
  },
  {
   "cell_type": "markdown",
   "metadata": {},
   "source": [
    "##### Top 10 highest `cites_per_year` per tool\n",
    "\n",
    "This shows which studies are “most cited relative to their age.”"
   ],
   "id": "66d1f2a3-a262-47da-997f-86a6f294f241"
  },
  {
   "cell_type": "code",
   "execution_count": null,
   "metadata": {},
   "outputs": [
    {
     "output_type": "stream",
     "name": "stdout",
     "text": [
      "# A tibble: 34 × 6\n",
      "   tool_name                             year title cites_per_year cites authors\n",
      "   <chr>                                <int> <chr>          <dbl> <int> <chr>  \n",
      " 1 Climate Risk Viewer                     NA Fore…            0       0 A Duga…\n",
      " 2 Climate Risk Viewer                     NA USDA…            0      27 I Fore…\n",
      " 3 Climate Risk Viewer                   2025 Fore…            0       0 PW Cla…\n",
      " 4 Climate and Economic Justice Screen…  2024 Meas…           43      43 JA Cas…\n",
      " 5 Climate and Economic Justice Screen…  2024 Rece…           41      41 L Cain…\n",
      " 6 Climate and Economic Justice Screen…  2023 Metr…           36.5    73 E Bake…\n",
      " 7 Climate and Economic Justice Screen…  2024 Elec…           36      36 GJ Car…\n",
      " 8 Climate and Economic Justice Screen…  2023 Char…           34      68 PGT Le…\n",
      " 9 Climate and Economic Justice Screen…  2024 Heal…           31      31 T Xue,…\n",
      "10 Climate and Economic Justice Screen…  2023 Air …           31      62 Y Wang…\n",
      "# ℹ 24 more rows"
     ]
    },
    {
     "output_type": "display_data",
     "metadata": {},
     "data": {
      "text/html": [
       "<div class=\"highchart html-widget html-fill-item\" id=\"htmlwidget-31e1d2e86d5a1886ba67\" style=\"width:100%;height:464px;\"></div>\n",
       "<script type=\"application/json\" data-for=\"htmlwidget-31e1d2e86d5a1886ba67\">{\"x\":{\"hc_opts\":{\"chart\":{\"reflow\":true},\"title\":{\"text\":\"Top 10 studies by cites per year, per tool\"},\"yAxis\":{\"title\":{\"text\":\"Cites per year\"},\"type\":\"linear\"},\"credits\":{\"enabled\":false},\"exporting\":{\"enabled\":true},\"boost\":{\"enabled\":false},\"plotOptions\":{\"series\":{\"label\":{\"enabled\":false},\"turboThreshold\":0,\"showInLegend\":true},\"treemap\":{\"layoutAlgorithm\":\"squarified\"},\"scatter\":{\"marker\":{\"symbol\":\"circle\"}}},\"series\":[{\"name\":\"Climate Risk Viewer\",\"data\":[{\"cites\":0,\"authors\":\"A Dugan, D McKinley, S Amiot, L Onofrio, J Maziasz, ...\",\"title\":\"Forest Carbon Assessment for the Chequamegon-Nicolet National Forest in the Forest Service's Eastern Region\",\"year\":null,\"source\":\"elpc.org\",\"publisher\":null,\"article_url\":\"https://elpc.org/wp-content/uploads/2024/08/5.303_CNNF_CarbonAssessment-Paper.pdf\",\"cites_url\":null,\"gs_rank\":17,\"query_date\":\"2025-08-29\",\"type\":\"PDF\",\"doi\":null,\"ecc\":0,\"cites_per_year\":0,\"cites_per_author\":0,\"author_count\":6,\"age\":null,\"abstract\":\"… A low amount of mature and old-growth stands indicated on the Chequamegon-Nicolet NF by data on the Climate Risk Viewer indicates the acreage of these forest conditions within the …\",\"full_text_url\":\"https://elpc.org/wp-content/uploads/2024/08/5.303_CNNF_CarbonAssessment-Paper.pdf\",\"related_url\":\"https://scholar.google.com/scholar?q=related:9f-IcJ3trOEJ:scholar.google.com/&scioq=%22climate+risk+viewer%22%7C%22usda+climate+risk+viewer%22%7C%22forest+service+climate+risk+viewer%22%7C%22usfs+climate+risk+viewer%22%7C%22climate+risk+mapping+tool+usda%22%7C%22usda+risk+viewer+climate%22%7C%22usda+climate+risk+tool%22%7C%22climate+risk+beta+viewer%22&hl=en&as_sdt=2007&as_ylo=2023&as_yhi=2025\",\"source_file\":\"crv\",\"tool_name\":\"Climate Risk Viewer\",\"study_id\":2028,\"double_code\":true,\"topic_cat\":\"Natural environment, resources & ecosystems\",\"tool_use_type\":\"Applied\",\"publisher_type\":\"None/Unknown\",\"publisher_description\":null,\"y\":0,\"name\":\"Forest Carbon Assessment for the Chequamegon-Nicolet National Forest in the Forest Service's Eastern Region\"},{\"cites\":27,\"authors\":\"I Forest, RE Station\",\"title\":\"USDA Forest Service\",\"year\":null,\"source\":\"Ogden, EUA\",\"publisher\":\"fs.usda.gov\",\"article_url\":\"https://www.fs.usda.gov/sites/default/files/fy24-agency-coordination-report.pdf\",\"cites_url\":\"https://scholar.google.com/scholar?cites=10727333522832232180&as_sdt=2005&sciodt=2007&hl=en\",\"gs_rank\":2,\"query_date\":\"2025-08-29\",\"type\":\"PDF\",\"doi\":null,\"ecc\":27,\"cites_per_year\":0,\"cites_per_author\":14,\"author_count\":2,\"age\":null,\"abstract\":null,\"full_text_url\":\"https://www.fs.usda.gov/sites/default/files/fy24-agency-coordination-report.pdf\",\"related_url\":\"https://scholar.google.com/scholar?q=related:9A6OzwAl35QJ:scholar.google.com/&scioq=%22climate+risk+viewer%22%7C%22usda+climate+risk+viewer%22%7C%22forest+service+climate+risk+viewer%22%7C%22usfs+climate+risk+viewer%22%7C%22climate+risk+mapping+tool+usda%22%7C%22usda+risk+viewer+climate%22%7C%22usda+climate+risk+tool%22%7C%22climate+risk+beta+viewer%22&hl=en&as_sdt=2007&as_ylo=2023&as_yhi=2025\",\"source_file\":\"crv\",\"tool_name\":\"Climate Risk Viewer\",\"study_id\":2039,\"double_code\":true,\"topic_cat\":\"Natural environment, resources & ecosystems\",\"tool_use_type\":\"Mentioned/Context\",\"publisher_type\":\"Government repositories\",\"publisher_description\":\"USDA Forest Service official site for publications and research.\",\"y\":0,\"name\":\"USDA Forest Service\"},{\"cites\":0,\"authors\":\"PW Clark, AW D'Amato¹, LA Fitts, ...\",\"title\":\"Forest assisted migration and adaptation plantings in the\",\"year\":2025,\"source\":\"Forest Assisted …\",\"publisher\":\"books.google.com\",\"article_url\":\"https://books.google.com/books?hl=en&lr=&id=qNRFEQAAQBAJ&oi=fnd&pg=PA114&dq=%22climate+risk+viewer%22%7C%22usda+climate+risk+viewer%22%7C%22forest+service+climate+risk+viewer%22%7C%22usfs+climate+risk+viewer%22%7C%22climate+risk+mapping+tool+usda%22%7C%22usda+risk+viewer+climate%22%7C%22usda+climate+risk+tool%22%7C%22climate+risk+beta+viewer%22&ots=xkEYiRezhF&sig=FdfrMHv7SG3hK9sXV4bCx5t9m4k\",\"cites_url\":null,\"gs_rank\":21,\"query_date\":\"2025-08-29\",\"type\":null,\"doi\":null,\"ecc\":0,\"cites_per_year\":0,\"cites_per_author\":0,\"author_count\":4,\"age\":1,\"abstract\":\"Global climate change is expected to affect forested ecosystems worldwide, with impacts to community structure, composition, and ecosystem function (Dale et al., 2001). Consequently, …\",\"full_text_url\":null,\"related_url\":\"https://scholar.google.com/scholar?q=related:o6QBeMB1WOEJ:scholar.google.com/&scioq=%22climate+risk+viewer%22%7C%22usda+climate+risk+viewer%22%7C%22forest+service+climate+risk+viewer%22%7C%22usfs+climate+risk+viewer%22%7C%22climate+risk+mapping+tool+usda%22%7C%22usda+risk+viewer+climate%22%7C%22usda+climate+risk+tool%22%7C%22climate+risk+beta+viewer%22&hl=en&as_sdt=2007&as_ylo=2023&as_yhi=2025\",\"source_file\":\"crv\",\"tool_name\":\"Climate Risk Viewer\",\"study_id\":2044,\"double_code\":true,\"topic_cat\":\"Natural environment, resources & ecosystems\",\"tool_use_type\":\"Applied\",\"publisher_type\":\"Grey literature platforms\",\"publisher_description\":\"Google Books aggregator/scans; identify original publisher if possible.\",\"y\":0,\"name\":\"Forest assisted migration and adaptation plantings in the\"}],\"type\":\"bar\"},{\"name\":\"Climate and Economic Justice Screening Tool (CEJST)\",\"data\":[{\"cites\":43,\"authors\":\"JA Casey, MA Kioumourtzoglou, A Padula…\",\"title\":\"Measuring long-term exposure to wildfire PM2.5 in California: Time-varying inequities in environmental burden\",\"year\":2024,\"source\":\"Proceedings of the …\",\"publisher\":\"pnas.org\",\"article_url\":\"https://www.pnas.org/doi/abs/10.1073/pnas.2306729121\",\"cites_url\":\"https://scholar.google.com/scholar?cites=17168599373999128838&as_sdt=2005&sciodt=2007&hl=en\",\"gs_rank\":654,\"query_date\":\"2025-08-29\",\"type\":null,\"doi\":\"10.1073/pnas.2306729121\",\"ecc\":43,\"cites_per_year\":43,\"cites_per_author\":11,\"author_count\":4,\"age\":1,\"abstract\":\"Wildfires have become more frequent and intense due to climate change and outdoor wildfire fine particulate matter (PM 2.5 ) concentrations differ from relatively smoothly varying total …\",\"full_text_url\":\"https://www.pnas.org/doi/full/10.1073/pnas.2306729121\",\"related_url\":\"https://scholar.google.com/scholar?q=related:BkE24ioeQ-4J:scholar.google.com/&scioq=%22climate+and+economic+justice+screening+tool%22%7C%22cejst%22%7C%22justice40+screening+tool%22%7C%22climate+economic+justice+tool%22%7C%22justice40+cejst%22%7C%22ceq+cejst%22%7C%22environmental+justice+screening+cejst%22&hl=en&as_sdt=2007&as_ylo=2022&as_yhi=2025\",\"source_file\":\"cejst\",\"tool_name\":\"Climate and Economic Justice Screening Tool (CEJST)\",\"study_id\":1896,\"double_code\":true,\"topic_cat\":\"Air quality & pollution\",\"tool_use_type\":\"Mentioned/Context\",\"publisher_type\":\"Scholarly society / association publishers\",\"publisher_description\":\"PNAS (Proceedings of the National Academy of Sciences) is published by the U.S. National Academy of Sciences (a learned society).\",\"y\":43,\"name\":\"Measuring long-term exposure to wildfire PM2.5 in California: Time-varying inequities in environmental burden\"},{\"cites\":41,\"authors\":\"L Cain, D Hernandez-Cortes…\",\"title\":\"Recent findings and methodologies in economics research in environmental justice\",\"year\":2024,\"source\":\"Review of …\",\"publisher\":\"journals.uchicago.edu\",\"article_url\":\"https://www.journals.uchicago.edu/doi/abs/10.1086/728100\",\"cites_url\":\"https://scholar.google.com/scholar?cites=9379717219591971090&as_sdt=2005&sciodt=2007&hl=en\",\"gs_rank\":539,\"query_date\":\"2025-08-29\",\"type\":null,\"doi\":\"10.1086/728100\",\"ecc\":41,\"cites_per_year\":41,\"cites_per_author\":14,\"author_count\":3,\"age\":1,\"abstract\":\"This review synthesizes economics-oriented research in environmental justice with a focus on the last decade. We first categorize this literature into broad areas of inquiry and review …\",\"full_text_url\":\"https://www.econstor.eu/bitstream/10419/271927/1/cesifo1_wp10283.pdf\",\"related_url\":\"https://scholar.google.com/scholar?q=related:EuFkhx1zK4IJ:scholar.google.com/&scioq=%22climate+and+economic+justice+screening+tool%22%7C%22cejst%22%7C%22justice40+screening+tool%22%7C%22climate+economic+justice+tool%22%7C%22justice40+cejst%22%7C%22ceq+cejst%22%7C%22environmental+justice+screening+cejst%22&hl=en&as_sdt=2007&as_ylo=2022&as_yhi=2025\",\"source_file\":\"cejst\",\"tool_name\":\"Climate and Economic Justice Screening Tool (CEJST)\",\"study_id\":1781,\"double_code\":true,\"topic_cat\":\"Equity and justice\",\"tool_use_type\":\"Mentioned/Context\",\"publisher_type\":\"University presses\",\"publisher_description\":\"University of Chicago Press is the academic press of the University of Chicago.\",\"y\":41,\"name\":\"Recent findings and methodologies in economics research in environmental justice\"},{\"cites\":73,\"authors\":\"E Baker, S Carley, S Castellanos, D Nock, ...\",\"title\":\"Metrics for decision-making in energy justice\",\"year\":2023,\"source\":\"Annual Review of …\",\"publisher\":\"annualreviews.org\",\"article_url\":\"https://www.annualreviews.org/content/journals/10.1146/annurev-environ-112621-063400\",\"cites_url\":\"https://scholar.google.com/scholar?cites=7130851940603066122&as_sdt=2005&sciodt=2007&hl=en\",\"gs_rank\":187,\"query_date\":\"2025-09-15\",\"type\":\"HTML\",\"doi\":\"10.1146/annurev-environ-112621-063400\",\"ecc\":73,\"cites_per_year\":36.5,\"cites_per_author\":15,\"author_count\":5,\"age\":2,\"abstract\":\"… mapping index, the Climate and Economic Justice Screening Tool (CEJST) (60), to support the implementation of the Biden Administration's Justice40 Initiative. The CEJST, still in beta …\",\"full_text_url\":\"https://www.annualreviews.org/content/journals/10.1146/annurev-environ-112621-063400\",\"related_url\":\"https://scholar.google.com/scholar?q=related:CveMIQ_g9WIJ:scholar.google.com/&scioq=%22climate+and+economic+justice+screening+tool%22%7C%22cejst%22%7C%22justice40+screening+tool%22%7C%22climate+economic+justice+tool%22%7C%22justice40+cejst%22%7C%22ceq+cejst%22%7C%22environmental+justice+screening+cejst%22&hl=en&as_sdt=2007&as_ylo=2022&as_yhi=2025\",\"source_file\":\"cejst\",\"tool_name\":\"Climate and Economic Justice Screening Tool (CEJST)\",\"study_id\":null,\"double_code\":null,\"topic_cat\":\"Energy & decarbonization\",\"tool_use_type\":\"Mentioned/Context\",\"publisher_type\":\"Commercial academic publishers\",\"publisher_description\":\"Annual Reviews is a nonprofit publisher of peer-reviewed review journals (some content open access).\",\"y\":36.5,\"name\":\"Metrics for decision-making in energy justice\"},{\"cites\":36,\"authors\":\"GJ Carlton, S Sultana\",\"title\":\"Electric vehicle charging equity and accessibility: A comprehensive United States policy analysis\",\"year\":2024,\"source\":\"Transportation Research Part D: Transport and …\",\"publisher\":\"Elsevier\",\"article_url\":\"https://www.sciencedirect.com/science/article/pii/S1361920924000804\",\"cites_url\":\"https://scholar.google.com/scholar?cites=880195045012995719&as_sdt=2005&sciodt=2007&hl=en\",\"gs_rank\":120,\"query_date\":\"2025-09-15\",\"type\":null,\"doi\":null,\"ecc\":36,\"cites_per_year\":36,\"cites_per_author\":18,\"author_count\":2,\"age\":1,\"abstract\":\"The ongoing placement of EV charging in the US is the result of a complicated interplay between market actors and the public sector. The federal government has recently established a …\",\"full_text_url\":null,\"related_url\":\"https://scholar.google.com/scholar?q=related:h_4O37oUNwwJ:scholar.google.com/&scioq=%22climate+and+economic+justice+screening+tool%22%7C%22cejst%22%7C%22justice40+screening+tool%22%7C%22climate+economic+justice+tool%22%7C%22justice40+cejst%22%7C%22ceq+cejst%22%7C%22environmental+justice+screening+cejst%22&hl=en&as_sdt=2007&as_ylo=2022&as_yhi=2025\",\"source_file\":\"cejst\",\"tool_name\":\"Climate and Economic Justice Screening Tool (CEJST)\",\"study_id\":null,\"double_code\":null,\"topic_cat\":\"Transit, mobility & transportation\",\"tool_use_type\":\"Mentioned/Context\",\"publisher_type\":\"Commercial academic publishers\",\"publisher_description\":\"For-profit multinational academic publisher.\",\"y\":36,\"name\":\"Electric vehicle charging equity and accessibility: A comprehensive United States policy analysis\"},{\"cites\":68,\"authors\":\"PGT Lewis, WA Chiu, E Nasser, J Proville, ...\",\"title\":\"Characterizing vulnerabilities to climate change across the United States\",\"year\":2023,\"source\":\"Environment …\",\"publisher\":\"Elsevier\",\"article_url\":\"https://www.sciencedirect.com/science/article/pii/S0160412023000454\",\"cites_url\":\"https://scholar.google.com/scholar?cites=9081202494777090036&as_sdt=2005&sciodt=2007&hl=en\",\"gs_rank\":76,\"query_date\":\"2025-09-15\",\"type\":\"HTML\",\"doi\":null,\"ecc\":68,\"cites_per_year\":34,\"cites_per_author\":14,\"author_count\":5,\"age\":2,\"abstract\":\"Climate change will cause a range of related risks, including increases in infectious and chronic disease, intensified social and economic stresses, and more frequent extreme weather …\",\"full_text_url\":\"https://www.sciencedirect.com/science/article/pii/S0160412023000454\",\"related_url\":\"https://scholar.google.com/scholar?q=related:9F-UAo7pBn4J:scholar.google.com/&scioq=%22climate+and+economic+justice+screening+tool%22%7C%22cejst%22%7C%22justice40+screening+tool%22%7C%22climate+economic+justice+tool%22%7C%22justice40+cejst%22%7C%22ceq+cejst%22%7C%22environmental+justice+screening+cejst%22&hl=en&as_sdt=2007&as_ylo=2022&as_yhi=2025\",\"source_file\":\"cejst\",\"tool_name\":\"Climate and Economic Justice Screening Tool (CEJST)\",\"study_id\":null,\"double_code\":null,\"topic_cat\":\"Climate hazards & risks\",\"tool_use_type\":\"Applied\",\"publisher_type\":\"Commercial academic publishers\",\"publisher_description\":\"For-profit multinational academic publisher.\",\"y\":34,\"name\":\"Characterizing vulnerabilities to climate change across the United States\"},{\"cites\":31,\"authors\":\"T Xue, R Wang, M Wang, Y Wang, D Tong, ...\",\"title\":\"Health benefits from the rapid reduction in ambient exposure to air pollutants after China's clean air actions: progress in efficacy and geographic equality\",\"year\":2024,\"source\":\"National Science …\",\"publisher\":\"academic.oup.com\",\"article_url\":\"https://academic.oup.com/nsr/article-abstract/11/2/nwad263/7303310\",\"cites_url\":\"https://scholar.google.com/scholar?cites=10123527139064500028&as_sdt=2005&sciodt=2007&hl=en\",\"gs_rank\":256,\"query_date\":\"2025-09-15\",\"type\":null,\"doi\":null,\"ecc\":31,\"cites_per_year\":31,\"cites_per_author\":5,\"author_count\":6,\"age\":1,\"abstract\":\"… The Justice40 Initiative developed the Climate and Economic Justice Screening Tool (CEJST… Although studies have found CEJST could not effectively reduce inequalities embedded in …\",\"full_text_url\":\"https://academic.oup.com/nsr/article/11/2/nwad263/7303310\",\"related_url\":\"https://scholar.google.com/scholar?q=related:PE_31Uv-fYwJ:scholar.google.com/&scioq=%22climate+and+economic+justice+screening+tool%22%7C%22cejst%22%7C%22justice40+screening+tool%22%7C%22climate+economic+justice+tool%22%7C%22justice40+cejst%22%7C%22ceq+cejst%22%7C%22environmental+justice+screening+cejst%22&hl=en&as_sdt=2007&as_ylo=2022&as_yhi=2025\",\"source_file\":\"cejst\",\"tool_name\":\"Climate and Economic Justice Screening Tool (CEJST)\",\"study_id\":null,\"double_code\":null,\"topic_cat\":\"Health & well-being\",\"tool_use_type\":\"Mentioned/Context\",\"publisher_type\":\"University presses\",\"publisher_description\":\"Oxford University Press is the publishing house of the University of Oxford (the world’s largest university press).\",\"y\":31,\"name\":\"Health benefits from the rapid reduction in ambient exposure to air pollutants after China's clean air actions: progress in efficacy and geographic equality\"},{\"cites\":62,\"authors\":\"Y Wang, JS Apte, JD Hill, CE Ivey, D Johnson, E Min, ...\",\"title\":\"Air quality policy should quantify effects on disparities\",\"year\":2023,\"source\":\"Science\",\"publisher\":\"science.org\",\"article_url\":\"https://www.science.org/doi/abs/10.1126/science.adg9931\",\"cites_url\":\"https://scholar.google.com/scholar?cites=13181465971392899802&as_sdt=2005&sciodt=2007&hl=en\",\"gs_rank\":27,\"query_date\":\"2025-09-15\",\"type\":null,\"doi\":\"10.1126/science.adg9931\",\"ecc\":62,\"cites_per_year\":31,\"cites_per_author\":9,\"author_count\":7,\"age\":2,\"abstract\":\"… We investigated how using CEJST to target … CEJST may not ameliorate (and in some cases may increase) exposure disparities by race-ethnicity. This outcome likely reflects that CEJST …\",\"full_text_url\":\"https://www.yuzhouwang.net/files/Wang%20et%20al%20Science%202023.pdf\",\"related_url\":\"https://scholar.google.com/scholar?q=related:2urFa3b57bYJ:scholar.google.com/&scioq=%22climate+and+economic+justice+screening+tool%22%7C%22cejst%22%7C%22justice40+screening+tool%22%7C%22climate+economic+justice+tool%22%7C%22justice40+cejst%22%7C%22ceq+cejst%22%7C%22environmental+justice+screening+cejst%22&hl=en&as_sdt=2007&as_ylo=2022&as_yhi=2025\",\"source_file\":\"cejst\",\"tool_name\":\"Climate and Economic Justice Screening Tool (CEJST)\",\"study_id\":null,\"double_code\":null,\"topic_cat\":\"Air quality & pollution\",\"tool_use_type\":\"Evaluated\",\"publisher_type\":\"Grey literature platforms\",\"publisher_description\":\"AAAS society publishes Science family of journals.\",\"y\":31,\"name\":\"Air quality policy should quantify effects on disparities\"},{\"cites\":27,\"authors\":\"A Ermagun, J Tian\",\"title\":\"Charging into inequality: A national study of social, economic, and environment correlates of electric vehicle charging stations\",\"year\":2024,\"source\":\"Energy Research &Social Science\",\"publisher\":\"Elsevier\",\"article_url\":\"https://www.sciencedirect.com/science/article/pii/S2214629624002135\",\"cites_url\":\"https://scholar.google.com/scholar?cites=18246447889398149248&as_sdt=2005&sciodt=2007&hl=en\",\"gs_rank\":127,\"query_date\":\"2025-09-15\",\"type\":null,\"doi\":null,\"ecc\":27,\"cites_per_year\":27,\"cites_per_author\":14,\"author_count\":2,\"age\":1,\"abstract\":\"This study assesses the spatial disparity of public electric vehicle (EV) charging infrastructure in the United States. The analysis identifies areas characterized by deficient EV charging …\",\"full_text_url\":null,\"related_url\":\"https://scholar.google.com/scholar?q=related:gLBAfK5nOP0J:scholar.google.com/&scioq=%22climate+and+economic+justice+screening+tool%22%7C%22cejst%22%7C%22justice40+screening+tool%22%7C%22climate+economic+justice+tool%22%7C%22justice40+cejst%22%7C%22ceq+cejst%22%7C%22environmental+justice+screening+cejst%22&hl=en&as_sdt=2007&as_ylo=2022&as_yhi=2025\",\"source_file\":\"cejst\",\"tool_name\":\"Climate and Economic Justice Screening Tool (CEJST)\",\"study_id\":null,\"double_code\":null,\"topic_cat\":\"Transit, mobility & transportation\",\"tool_use_type\":\"Mentioned/Context\",\"publisher_type\":\"Commercial academic publishers\",\"publisher_description\":\"For-profit multinational academic publisher.\",\"y\":27,\"name\":\"Charging into inequality: A national study of social, economic, and environment correlates of electric vehicle charging stations\"},{\"cites\":45,\"authors\":\"S Kime, V Jacome, D Pellow, ...\",\"title\":\"Evaluating equity and justice in low-carbon energy transitions\",\"year\":2023,\"source\":\"Environmental Research …\",\"publisher\":\"iopscience.iop.org\",\"article_url\":\"https://iopscience.iop.org/article/10.1088/1748-9326/ad08f8/meta\",\"cites_url\":\"https://scholar.google.com/scholar?cites=1147487503700979368&as_sdt=2005&sciodt=2007&hl=en\",\"gs_rank\":73,\"query_date\":\"2025-09-15\",\"type\":\"HTML\",\"doi\":\"10.1088/1748-9326/ad08f8\",\"ecc\":45,\"cites_per_year\":22.5,\"cites_per_author\":11,\"author_count\":4,\"age\":2,\"abstract\":\"A low-carbon energy transition is essential for mitigating climate change, but can also cause energy justice and equity impacts on Black, Indigenous, and People of Color (BIPOC), low-…\",\"full_text_url\":\"https://iopscience.iop.org/article/10.1088/1748-9326/ad08f8/meta\",\"related_url\":\"https://scholar.google.com/scholar?q=related:qO5LEs6x7A8J:scholar.google.com/&scioq=%22climate+and+economic+justice+screening+tool%22%7C%22cejst%22%7C%22justice40+screening+tool%22%7C%22climate+economic+justice+tool%22%7C%22justice40+cejst%22%7C%22ceq+cejst%22%7C%22environmental+justice+screening+cejst%22&hl=en&as_sdt=2007&as_ylo=2022&as_yhi=2025\",\"source_file\":\"cejst\",\"tool_name\":\"Climate and Economic Justice Screening Tool (CEJST)\",\"study_id\":null,\"double_code\":null,\"topic_cat\":\"Energy & decarbonization\",\"tool_use_type\":\"Mentioned/Context\",\"publisher_type\":\"Scholarly society / association publishers\",\"publisher_description\":\"IOPscience is operated by the Institute of Physics (a learned society) as its publishing arm.\",\"y\":22.5,\"name\":\"Evaluating equity and justice in low-carbon energy transitions\"},{\"cites\":64,\"authors\":\"M Manware, R Dubrow, D Carrión, Y Ma, K Chen\",\"title\":\"Residential and race/ethnicity disparities in heat vulnerability in the United States\",\"year\":2022,\"source\":\"GeoHealth\",\"publisher\":\"Wiley Online Library\",\"article_url\":\"https://agupubs.onlinelibrary.wiley.com/doi/abs/10.1029/2022GH000695\",\"cites_url\":\"https://scholar.google.com/scholar?cites=17613840823576508202&as_sdt=2005&sciodt=2007&hl=en\",\"gs_rank\":54,\"query_date\":\"2025-09-15\",\"type\":null,\"doi\":\"10.1029/2022GH000695\",\"ecc\":64,\"cites_per_year\":21.33,\"cites_per_author\":13,\"author_count\":5,\"age\":3,\"abstract\":\"… We compared mean HVI scores for CEJST “disadvantaged” and “non-disadvantaged” … among HOLC-grade specific census tract strata by CEJST disadvantaged community status. …\",\"full_text_url\":\"https://agupubs.onlinelibrary.wiley.com/doi/pdfdirect/10.1029/2022GH000695\",\"related_url\":\"https://scholar.google.com/scholar?q=related:KjeNK-jucPQJ:scholar.google.com/&scioq=%22climate+and+economic+justice+screening+tool%22%7C%22cejst%22%7C%22justice40+screening+tool%22%7C%22climate+economic+justice+tool%22%7C%22justice40+cejst%22%7C%22ceq+cejst%22%7C%22environmental+justice+screening+cejst%22&hl=en&as_sdt=2007&as_ylo=2022&as_yhi=2025\",\"source_file\":\"cejst\",\"tool_name\":\"Climate and Economic Justice Screening Tool (CEJST)\",\"study_id\":null,\"double_code\":null,\"topic_cat\":\"Climate hazards & risks\",\"tool_use_type\":\"Applied\",\"publisher_type\":\"Commercial academic publishers\",\"publisher_description\":\"Wiley is a for-profit global academic publisher.\",\"y\":21.33,\"name\":\"Residential and race/ethnicity disparities in heat vulnerability in the United States\"}],\"type\":\"bar\"},{\"name\":\"EJScreen\",\"data\":[{\"cites\":54,\"authors\":\"A Shkembi, LM Smith, RL Neitzel\",\"title\":\"Linking environmental injustices in Detroit, MI to institutional racial segregation through historical federal redlining\",\"year\":2024,\"source\":\"Journal of exposure science & …\",\"publisher\":\"nature.com\",\"article_url\":\"https://www.nature.com/articles/s41370-022-00512-y\",\"cites_url\":\"https://scholar.google.com/scholar?cites=9193022137532077454&as_sdt=2005&sciodt=2007&hl=en\",\"gs_rank\":96,\"query_date\":\"2025-09-15\",\"type\":\"HTML\",\"doi\":null,\"ecc\":54,\"cites_per_year\":54,\"cites_per_author\":18,\"author_count\":3,\"age\":1,\"abstract\":\"… in EJScreen tool within any boundary. In this case, our estimates inside the EJScreen tool … Albeit not included in the EPA EJScreen, noise pollution is included in this study due to the …\",\"full_text_url\":\"https://www.nature.com/articles/s41370-022-00512-y\",\"related_url\":\"https://scholar.google.com/scholar?q=related:jtXmZ-0slH8J:scholar.google.com/&scioq=%22ejscreen%22%7C%22epa+ejscreen%22%7C%22environmental+justice+screening+and+mapping+tool%22%7C%22epa+ej+screen%22%7C%22ej+screen%22%7C%22epa+environmental+justice+mapping+tool%22%7C%22environmental+justice+screening+tool+epa%22%7C%22ejscreen+v2.0%22%7C%22ejscreen+2020%22%7C%22ejscreen+2022%22&hl=en&as_sdt=2007&as_ylo=2023&as_yhi=2024\",\"source_file\":\"ejscreen_3\",\"tool_name\":\"EJScreen\",\"study_id\":null,\"double_code\":null,\"topic_cat\":\"Governance, policy & institutional frameworks\",\"tool_use_type\":\"Mentioned/Context\",\"publisher_type\":\"Commercial academic publishers\",\"publisher_description\":\"Nature Portfolio (Springer Nature); commercial scholarly publisher.\",\"y\":54,\"name\":\"Linking environmental injustices in Detroit, MI to institutional racial segregation through historical federal redlining\"},{\"cites\":116,\"authors\":\"SR Nicholson, JE Rorrer, A Singh, ...\",\"title\":\"The critical role of process analysis in chemical recycling and upcycling of waste plastics\",\"year\":2022,\"source\":\"Annual review of …\",\"publisher\":\"annualreviews.org\",\"article_url\":\"https://www.annualreviews.org/content/journals/10.1146/annurev-chembioeng-100521-085846\",\"cites_url\":\"https://scholar.google.com/scholar?cites=16561911266140556031&as_sdt=2005&sciodt=2007&hl=en\",\"gs_rank\":98,\"query_date\":\"2025-09-15\",\"type\":null,\"doi\":\"10.1146/annurev-chembioeng-100521-085846\",\"ecc\":116,\"cites_per_year\":38.67,\"cites_per_author\":29,\"author_count\":4,\"age\":3,\"abstract\":\"There is an urgent need for new technologies to enable circularity for synthetic polymers, spurred by the accumulation of waste plastics in landfills and the environment and the …\",\"full_text_url\":\"https://www.osti.gov/pages/servlets/purl/1861788\",\"related_url\":\"https://scholar.google.com/scholar?q=related:_wrZO4y61-UJ:scholar.google.com/&scioq=%22ejscreen%22%7C%22epa+ejscreen%22%7C%22environmental+justice+screening+and+mapping+tool%22%7C%22epa+ej+screen%22%7C%22ej+screen%22%7C%22epa+environmental+justice+mapping+tool%22%7C%22environmental+justice+screening+tool+epa%22%7C%22ejscreen+v2.0%22%7C%22ejscreen+2020%22%7C%22ejscreen+2022%22&hl=en&as_sdt=2007&as_ylo=2021&as_yhi=2022\",\"source_file\":\"ejscreen_2\",\"tool_name\":\"EJScreen\",\"study_id\":null,\"double_code\":null,\"topic_cat\":\"Governance, policy & institutional frameworks\",\"tool_use_type\":\"Mentioned/Context\",\"publisher_type\":\"Commercial academic publishers\",\"publisher_description\":\"Annual Reviews is a nonprofit publisher of peer-reviewed review journals (some content open access).\",\"y\":38.67,\"name\":\"The critical role of process analysis in chemical recycling and upcycling of waste plastics\"},{\"cites\":34,\"authors\":\"M Yu, S Zhang, H Ning, Z Li, K Zhang\",\"title\":\"Assessing the 2023 Canadian wildfire smoke impact in Northeastern US: Air quality, exposure and environmental justice\",\"year\":2024,\"source\":\"Science of the Total Environment\",\"publisher\":\"Elsevier\",\"article_url\":\"https://www.sciencedirect.com/science/article/pii/S004896972401996X\",\"cites_url\":\"https://scholar.google.com/scholar?cites=12562011232868067408&as_sdt=2005&sciodt=2007&hl=en\",\"gs_rank\":15,\"query_date\":\"2025-09-15\",\"type\":null,\"doi\":null,\"ecc\":34,\"cites_per_year\":34,\"cites_per_author\":7,\"author_count\":5,\"age\":1,\"abstract\":\"… Agency (EPA) Environmental Justice Screening and Mapping Tool (EJScreen). Results … correlations in rural areas with EJScreen factors highlight the unique vulnerabilities of these …\",\"full_text_url\":\"https://papers.ssrn.com/sol3/Delivery.cfm?abstractid=4717779\",\"related_url\":\"https://scholar.google.com/scholar?q=related:UGiR76g6Va4J:scholar.google.com/&scioq=%22ejscreen%22%7C%22epa+ejscreen%22%7C%22environmental+justice+screening+and+mapping+tool%22%7C%22epa+ej+screen%22%7C%22ej+screen%22%7C%22epa+environmental+justice+mapping+tool%22%7C%22environmental+justice+screening+tool+epa%22%7C%22ejscreen+v2.0%22%7C%22ejscreen+2020%22%7C%22ejscreen+2022%22&hl=en&as_sdt=2007&as_ylo=2023&as_yhi=2024\",\"source_file\":\"ejscreen_3\",\"tool_name\":\"EJScreen\",\"study_id\":null,\"double_code\":null,\"topic_cat\":\"Air quality & pollution\",\"tool_use_type\":\"Applied\",\"publisher_type\":\"Commercial academic publishers\",\"publisher_description\":\"For-profit multinational academic publisher.\",\"y\":34,\"name\":\"Assessing the 2023 Canadian wildfire smoke impact in Northeastern US: Air quality, exposure and environmental justice\"},{\"cites\":68,\"authors\":\"PGT Lewis, WA Chiu, E Nasser, J Proville, ...\",\"title\":\"Characterizing vulnerabilities to climate change across the United States\",\"year\":2023,\"source\":\"Environment …\",\"publisher\":\"Elsevier\",\"article_url\":\"https://www.sciencedirect.com/science/article/pii/S0160412023000454\",\"cites_url\":\"https://scholar.google.com/scholar?cites=9081202494777090036&as_sdt=2005&sciodt=2007&hl=en\",\"gs_rank\":445,\"query_date\":\"2025-09-15\",\"type\":\"HTML\",\"doi\":null,\"ecc\":68,\"cites_per_year\":34,\"cites_per_author\":14,\"author_count\":5,\"age\":2,\"abstract\":\"Climate change will cause a range of related risks, including increases in infectious and chronic disease, intensified social and economic stresses, and more frequent extreme weather …\",\"full_text_url\":\"https://www.sciencedirect.com/science/article/pii/S0160412023000454\",\"related_url\":\"https://scholar.google.com/scholar?q=related:9F-UAo7pBn4J:scholar.google.com/&scioq=%22ejscreen%22%7C%22epa+ejscreen%22%7C%22environmental+justice+screening+and+mapping+tool%22%7C%22epa+ej+screen%22%7C%22ej+screen%22%7C%22epa+environmental+justice+mapping+tool%22%7C%22environmental+justice+screening+tool+epa%22%7C%22ejscreen+v2.0%22%7C%22ejscreen+2020%22%7C%22ejscreen+2022%22&hl=en&as_sdt=2007&as_ylo=2023&as_yhi=2024\",\"source_file\":\"ejscreen_3\",\"tool_name\":\"EJScreen\",\"study_id\":null,\"double_code\":null,\"topic_cat\":\"Climate hazards & risks\",\"tool_use_type\":\"Applied\",\"publisher_type\":\"Commercial academic publishers\",\"publisher_description\":\"For-profit multinational academic publisher.\",\"y\":34,\"name\":\"Characterizing vulnerabilities to climate change across the United States\"},{\"cites\":72,\"authors\":\"I Motairek, EK Lee, S Janus, M Farkouh, ...\",\"title\":\"Historical neighborhood redlining and contemporary cardiometabolic risk\",\"year\":2022,\"source\":\"Journal of the American …\",\"publisher\":\"jacc.org\",\"article_url\":\"https://www.jacc.org/doi/abs/10.1016/j.jacc.2022.05.010\",\"cites_url\":\"https://scholar.google.com/scholar?cites=9607344488229134700&as_sdt=2005&sciodt=2007&hl=en\",\"gs_rank\":111,\"query_date\":\"2025-09-15\",\"type\":null,\"doi\":\"10.1016/j.jacc.2022.05.010\",\"ecc\":72,\"cites_per_year\":24,\"cites_per_author\":14,\"author_count\":5,\"age\":3,\"abstract\":\"Methods This is a cross-sectional study of the mean prevalence of the 2019 cardiometabolic outcomes and risk factors at the census tract level according to HOLC grading. …\",\"full_text_url\":\"https://www.jacc.org/doi/full/10.1016/j.jacc.2022.05.010\",\"related_url\":\"https://scholar.google.com/scholar?q=related:bGG0_-gkVIUJ:scholar.google.com/&scioq=%22ejscreen%22%7C%22epa+ejscreen%22%7C%22environmental+justice+screening+and+mapping+tool%22%7C%22epa+ej+screen%22%7C%22ej+screen%22%7C%22epa+environmental+justice+mapping+tool%22%7C%22environmental+justice+screening+tool+epa%22%7C%22ejscreen+v2.0%22%7C%22ejscreen+2020%22%7C%22ejscreen+2022%22&hl=en&as_sdt=2007&as_ylo=2021&as_yhi=2022\",\"source_file\":\"ejscreen_2\",\"tool_name\":\"EJScreen\",\"study_id\":null,\"double_code\":null,\"topic_cat\":\"Health & well-being\",\"tool_use_type\":\"Mentioned/Context\",\"publisher_type\":\"Commercial academic publishers\",\"publisher_description\":\"JACC (Journal of the American College of Cardiology) is the flagship journal of the American College of Cardiology; it is published by Elsevier \",\"y\":24,\"name\":\"Historical neighborhood redlining and contemporary cardiometabolic risk\"},{\"cites\":47,\"authors\":\"S Heo, ML Bell\",\"title\":\"Investigation on urban greenspace in relation to sociodemographic factors and health inequity based on different greenspace metrics in 3 US urban …\",\"year\":2023,\"source\":\"Journal of Exposure Science &Environmental …\",\"publisher\":\"nature.com\",\"article_url\":\"https://www.nature.com/articles/s41370-022-00468-z\",\"cites_url\":\"https://scholar.google.com/scholar?cites=8322462830287557944&as_sdt=2005&sciodt=2007&hl=en\",\"gs_rank\":101,\"query_date\":\"2025-09-15\",\"type\":\"HTML\",\"doi\":null,\"ecc\":47,\"cites_per_year\":23.5,\"cites_per_author\":24,\"author_count\":2,\"age\":2,\"abstract\":\"… , as we used the percent people of color obtained from the EJSCREEN of the EPA. This EJSCREEN index aggregated the percentage of persons whose racial status was other than …\",\"full_text_url\":\"https://www.nature.com/articles/s41370-022-00468-z\",\"related_url\":\"https://scholar.google.com/scholar?q=related:OJWuj9lTf3MJ:scholar.google.com/&scioq=%22ejscreen%22%7C%22epa+ejscreen%22%7C%22environmental+justice+screening+and+mapping+tool%22%7C%22epa+ej+screen%22%7C%22ej+screen%22%7C%22epa+environmental+justice+mapping+tool%22%7C%22environmental+justice+screening+tool+epa%22%7C%22ejscreen+v2.0%22%7C%22ejscreen+2020%22%7C%22ejscreen+2022%22&hl=en&as_sdt=2007&as_ylo=2023&as_yhi=2024\",\"source_file\":\"ejscreen_3\",\"tool_name\":\"EJScreen\",\"study_id\":null,\"double_code\":null,\"topic_cat\":\"Health & well-being\",\"tool_use_type\":\"Applied\",\"publisher_type\":\"Commercial academic publishers\",\"publisher_description\":\"Nature Portfolio (Springer Nature); commercial scholarly publisher.\",\"y\":23.5,\"name\":\"Investigation on urban greenspace in relation to sociodemographic factors and health inequity based on different greenspace metrics in 3 US urban …\"},{\"cites\":69,\"authors\":\"A Nejat, L Solitare, E Pettitt, ...\",\"title\":\"Equitable community resilience: the case of winter storm Uri in Texas\",\"year\":2022,\"source\":\"International Journal of …\",\"publisher\":\"Elsevier\",\"article_url\":\"https://www.sciencedirect.com/science/article/pii/S2212420922002898\",\"cites_url\":\"https://scholar.google.com/scholar?cites=2075301145906182163&as_sdt=2005&sciodt=2007&hl=en\",\"gs_rank\":54,\"query_date\":\"2025-09-15\",\"type\":null,\"doi\":null,\"ecc\":69,\"cites_per_year\":23,\"cites_per_author\":17,\"author_count\":4,\"age\":3,\"abstract\":\"Community resilience in the face of natural hazards involves both a community's sensitivity to disaster and its potential to bounce back. A failure to integrate equity into resilience …\",\"full_text_url\":\"https://www.sciencedirect.com/science/article/am/pii/S2212420922002898\",\"related_url\":\"https://scholar.google.com/scholar?q=related:E_iyk2XzzBwJ:scholar.google.com/&scioq=%22ejscreen%22%7C%22epa+ejscreen%22%7C%22environmental+justice+screening+and+mapping+tool%22%7C%22epa+ej+screen%22%7C%22ej+screen%22%7C%22epa+environmental+justice+mapping+tool%22%7C%22environmental+justice+screening+tool+epa%22%7C%22ejscreen+v2.0%22%7C%22ejscreen+2020%22%7C%22ejscreen+2022%22&hl=en&as_sdt=2007&as_ylo=2021&as_yhi=2022\",\"source_file\":\"ejscreen_2\",\"tool_name\":\"EJScreen\",\"study_id\":null,\"double_code\":null,\"topic_cat\":\"Climate hazards & risks\",\"tool_use_type\":\"Mentioned/Context\",\"publisher_type\":\"Commercial academic publishers\",\"publisher_description\":\"For-profit multinational academic publisher.\",\"y\":23,\"name\":\"Equitable community resilience: the case of winter storm Uri in Texas\"},{\"cites\":45,\"authors\":\"D Ellis-Soto, M Chapman, DH Locke\",\"title\":\"Historical redlining is associated with increasing geographical disparities in bird biodiversity sampling in the United States\",\"year\":2023,\"source\":\"Nature Human Behaviour\",\"publisher\":\"nature.com\",\"article_url\":\"https://www.nature.com/articles/s41562-023-01688-5\",\"cites_url\":\"https://scholar.google.com/scholar?cites=41139234570239928&as_sdt=2005&sciodt=2007&hl=en\",\"gs_rank\":465,\"query_date\":\"2025-09-15\",\"type\":null,\"doi\":null,\"ecc\":45,\"cites_per_year\":22.5,\"cites_per_author\":15,\"author_count\":3,\"age\":2,\"abstract\":\"… To investigate temporal trends in bird data collection and the type of records collected, we calculated the yearly number of bird records first from 1933–2022. Then, we filtered our …\",\"full_text_url\":\"https://www.researchgate.net/profile/Diego-Ellis-Soto/publication/373737549_nature_human_behaviour_Historical_redlining_is_associated_with_increasing_geographical_disparities_in_bird_biodiversity_sampling_in_the_United_States/links/64ffa48a849bbb203b913ea1/nature-human-behaviour-Historical-redlining-is-associated-with-increasing-geographical-disparities-in-bird-biodiversity-sampling-in-the-United-States.pdf\",\"related_url\":\"https://scholar.google.com/scholar?q=related:uP_jduonkgAJ:scholar.google.com/&scioq=%22ejscreen%22%7C%22epa+ejscreen%22%7C%22environmental+justice+screening+and+mapping+tool%22%7C%22epa+ej+screen%22%7C%22ej+screen%22%7C%22epa+environmental+justice+mapping+tool%22%7C%22environmental+justice+screening+tool+epa%22%7C%22ejscreen+v2.0%22%7C%22ejscreen+2020%22%7C%22ejscreen+2022%22&hl=en&as_sdt=2007&as_ylo=2023&as_yhi=2024\",\"source_file\":\"ejscreen_3\",\"tool_name\":\"EJScreen\",\"study_id\":null,\"double_code\":null,\"topic_cat\":\"Energy & decarbonization\",\"tool_use_type\":\"Mentioned/Context\",\"publisher_type\":\"Commercial academic publishers\",\"publisher_description\":\"Nature Portfolio (Springer Nature); commercial scholarly publisher.\",\"y\":22.5,\"name\":\"Historical redlining is associated with increasing geographical disparities in bird biodiversity sampling in the United States\"},{\"cites\":66,\"authors\":\"LP Clark, MH Harris, JS Apte, ...\",\"title\":\"National and intraurban air pollution exposure disparity estimates in the United States: impact of data-aggregation spatial scale\",\"year\":2022,\"source\":\"Environmental science & …\",\"publisher\":\"ACS Publications\",\"article_url\":\"https://pubs.acs.org/doi/abs/10.1021/acs.estlett.2c00403\",\"cites_url\":\"https://scholar.google.com/scholar?cites=5437750204326824105&as_sdt=2005&sciodt=2007&hl=en\",\"gs_rank\":61,\"query_date\":\"2025-09-15\",\"type\":null,\"doi\":\"10.1021/acs.estlett.2c00403\",\"ecc\":66,\"cites_per_year\":22,\"cites_per_author\":17,\"author_count\":4,\"age\":3,\"abstract\":\"Air pollution exposure disparities by race/ethnicity and socioeconomic status have been analyzed using data aggregated at various spatial scales. Our research question is this: To what …\",\"full_text_url\":\"https://pubs.acs.org/doi/full/10.1021/acs.estlett.2c00403\",\"related_url\":\"https://scholar.google.com/scholar?q=related:qUg1GgDFdksJ:scholar.google.com/&scioq=%22ejscreen%22%7C%22epa+ejscreen%22%7C%22environmental+justice+screening+and+mapping+tool%22%7C%22epa+ej+screen%22%7C%22ej+screen%22%7C%22epa+environmental+justice+mapping+tool%22%7C%22environmental+justice+screening+tool+epa%22%7C%22ejscreen+v2.0%22%7C%22ejscreen+2020%22%7C%22ejscreen+2022%22&hl=en&as_sdt=2007&as_ylo=2021&as_yhi=2022\",\"source_file\":\"ejscreen_2\",\"tool_name\":\"EJScreen\",\"study_id\":null,\"double_code\":null,\"topic_cat\":\"Climate hazards & risks\",\"tool_use_type\":\"Mentioned/Context\",\"publisher_type\":\"Scholarly society / association publishers\",\"publisher_description\":\"ASCE Library – journals of American Society of Civil Engineers.\",\"y\":22,\"name\":\"National and intraurban air pollution exposure disparity estimates in the United States: impact of data-aggregation spatial scale\"},{\"cites\":65,\"authors\":\"N Brazil\",\"title\":\"Environmental inequality in the neighborhood networks of urban mobility in US cities\",\"year\":2022,\"source\":\"Proceedings of the National Academy of Sciences\",\"publisher\":\"pnas.org\",\"article_url\":\"https://www.pnas.org/doi/abs/10.1073/pnas.2117776119\",\"cites_url\":\"https://scholar.google.com/scholar?cites=12915373848302613278&as_sdt=2005&sciodt=2007&hl=en\",\"gs_rank\":93,\"query_date\":\"2025-08-29\",\"type\":null,\"doi\":\"10.1073/pnas.2117776119\",\"ecc\":65,\"cites_per_year\":21.67,\"cites_per_author\":65,\"author_count\":1,\"age\":3,\"abstract\":\"… Air pollution data come from the Environmental Protection Agency’s (EPA’s) Environmental Justice Screening and Mapping Tool EJSCREEN. Following prior work employing an …\",\"full_text_url\":\"https://www.pnas.org/doi/full/10.1073/pnas.2117776119\",\"related_url\":\"https://scholar.google.com/scholar?q=related:HnNyIRagPLMJ:scholar.google.com/&scioq=%22ejscreen%22%7C%22epa+ejscreen%22%7C%22environmental+justice+screening+and+mapping+tool%22%7C%22epa+ej+screen%22%7C%22ej+screen%22%7C%22epa+environmental+justice+mapping+tool%22%7C%22environmental+justice+screening+tool+epa%22%7C%22ejscreen+v2.0%22%7C%22ejscreen+2020%22%7C%22ejscreen+2022%22&hl=en&as_sdt=2007&as_ylo=2021&as_yhi=2022\",\"source_file\":\"ejscreen_2\",\"tool_name\":\"EJScreen\",\"study_id\":285,\"double_code\":true,\"topic_cat\":\"Transit, mobility & transportation\",\"tool_use_type\":\"Applied\",\"publisher_type\":\"Scholarly society / association publishers\",\"publisher_description\":\"PNAS (Proceedings of the National Academy of Sciences) is published by the U.S. National Academy of Sciences (a learned society).\",\"y\":21.67,\"name\":\"Environmental inequality in the neighborhood networks of urban mobility in US cities\"}],\"type\":\"bar\"},{\"name\":\"Environmental Justice Index (EJI)\",\"data\":[{\"cites\":22,\"authors\":\"CA Pate, HS Zahran\",\"title\":\"The status of asthma in the United States\",\"year\":2024,\"source\":\"Preventing Chronic Disease\",\"publisher\":\"pmc.ncbi.nlm.nih.gov\",\"article_url\":\"https://pmc.ncbi.nlm.nih.gov/articles/PMC11262137/\",\"cites_url\":\"https://scholar.google.com/scholar?cites=6218190486465970346&as_sdt=2005&sciodt=2007&hl=en\",\"gs_rank\":95,\"query_date\":\"2025-09-15\",\"type\":\"HTML\",\"doi\":null,\"ecc\":22,\"cites_per_year\":22,\"cites_per_author\":11,\"author_count\":2,\"age\":1,\"abstract\":\"Introduction Asthma imposes a substantial health and economic burden on patients and their families and on the health care system. An assessment of the status of asthma in the US …\",\"full_text_url\":\"https://pmc.ncbi.nlm.nih.gov/articles/PMC11262137/\",\"related_url\":\"https://scholar.google.com/scholar?q=related:qoCEU01zS1YJ:scholar.google.com/&scioq=%22environmental+justice+index%22%7C%22cdc+environmental+justice+index%22%7C%22atsdr+environmental+justice+index%22%7C%22cdc+eji%22%7C%22environmental+justice+composite+index+cdc%22%7C%22eji+2022%22%7C%22eji+2024+update%22%7C%22environmental+justice+health+index%22&hl=en&as_sdt=2007&as_ylo=2022&as_yhi=2025\",\"source_file\":\"eji\",\"tool_name\":\"Environmental Justice Index (EJI)\",\"study_id\":null,\"double_code\":null,\"topic_cat\":\"Health & well-being\",\"tool_use_type\":\"Mentioned/Context\",\"publisher_type\":\"Government repositories\",\"publisher_description\":\"Government-hosted domain; repository or agency publisher.\",\"y\":22,\"name\":\"The status of asthma in the United States\"},{\"cites\":21,\"authors\":\"C Scott-Buechler, B Cain, K Osman, ...\",\"title\":\"Communities conditionally support deployment of direct air capture for carbon dioxide removal in the United States\",\"year\":2024,\"source\":\"… Earth &Environment\",\"publisher\":\"nature.com\",\"article_url\":\"https://www.nature.com/articles/s43247-024-01334-6\",\"cites_url\":\"https://scholar.google.com/scholar?cites=13672146983376215905&as_sdt=2005&sciodt=2007&hl=en\",\"gs_rank\":58,\"query_date\":\"2025-09-15\",\"type\":\"HTML\",\"doi\":null,\"ecc\":21,\"cites_per_year\":21,\"cites_per_author\":5,\"author_count\":4,\"age\":1,\"abstract\":\"… To test whether environmental injustice burden (CDC EJI) or … , suggesting that environmental justice and transitioning … percentile of the CDC’s environmental [in]justice index (EJI). …\",\"full_text_url\":\"https://www.nature.com/articles/s43247-024-01334-6\",\"related_url\":\"https://scholar.google.com/scholar?q=related:YV8RRT45vb0J:scholar.google.com/&scioq=%22environmental+justice+index%22%7C%22cdc+environmental+justice+index%22%7C%22atsdr+environmental+justice+index%22%7C%22cdc+eji%22%7C%22environmental+justice+composite+index+cdc%22%7C%22eji+2022%22%7C%22eji+2024+update%22%7C%22environmental+justice+health+index%22&hl=en&as_sdt=2007&as_ylo=2022&as_yhi=2025\",\"source_file\":\"eji\",\"tool_name\":\"Environmental Justice Index (EJI)\",\"study_id\":null,\"double_code\":null,\"topic_cat\":\"Energy & decarbonization\",\"tool_use_type\":\"Applied\",\"publisher_type\":\"Commercial academic publishers\",\"publisher_description\":\"Nature Portfolio (Springer Nature); commercial scholarly publisher.\",\"y\":21,\"name\":\"Communities conditionally support deployment of direct air capture for carbon dioxide removal in the United States\"},{\"cites\":15,\"authors\":\"S Khadke, A Kumar, S Al‐Kindi, ...\",\"title\":\"Association of environmental injustice and cardiovascular diseases and risk factors in the United States\",\"year\":2024,\"source\":\"Journal of the …\",\"publisher\":\"ahajournals.org\",\"article_url\":\"https://www.ahajournals.org/doi/abs/10.1161/JAHA.123.033428\",\"cites_url\":\"https://scholar.google.com/scholar?cites=845499601898734291&as_sdt=2005&sciodt=2007&hl=en\",\"gs_rank\":9,\"query_date\":\"2025-09-15\",\"type\":null,\"doi\":\"10.1161/JAHA.123.033428\",\"ecc\":15,\"cites_per_year\":15,\"cites_per_author\":4,\"author_count\":4,\"age\":1,\"abstract\":\"… The quartile 4 Environmental Justice Index was associated with a … index of environmental injustice, the CDC's EJI, to capture cumulative exposure across multiple domains. The EJI …\",\"full_text_url\":\"https://www.ahajournals.org/doi/pdf/10.1161/JAHA.123.033428\",\"related_url\":\"https://scholar.google.com/scholar?q=related:04LohGjRuwsJ:scholar.google.com/&scioq=%22environmental+justice+index%22%7C%22cdc+environmental+justice+index%22%7C%22atsdr+environmental+justice+index%22%7C%22cdc+eji%22%7C%22environmental+justice+composite+index+cdc%22%7C%22eji+2022%22%7C%22eji+2024+update%22%7C%22environmental+justice+health+index%22&hl=en&as_sdt=2007&as_ylo=2022&as_yhi=2025\",\"source_file\":\"eji\",\"tool_name\":\"Environmental Justice Index (EJI)\",\"study_id\":null,\"double_code\":null,\"topic_cat\":\"Health & well-being\",\"tool_use_type\":\"Applied\",\"publisher_type\":\"Scholarly society / association publishers\",\"publisher_description\":\"American Heart Association (nonprofit) publishes AHA journals (e.g. Circulation) – a professional medical society.\",\"y\":15,\"name\":\"Association of environmental injustice and cardiovascular diseases and risk factors in the United States\"},{\"cites\":9,\"authors\":\"N Popovich, AJ Figueroa, DA Sunter, M Shah\",\"title\":\"Identifying disadvantaged communities in the United States: An energy-oriented mapping tool that aggregates environmental and socioeconomic burdens\",\"year\":2024,\"source\":\"Energy Research &Social …\",\"publisher\":\"Elsevier\",\"article_url\":\"https://www.sciencedirect.com/science/article/pii/S2214629623004516\",\"cites_url\":\"https://scholar.google.com/scholar?cites=15019131389588296473&as_sdt=2005&sciodt=2007&hl=en\",\"gs_rank\":19,\"query_date\":\"2025-09-15\",\"type\":\"HTML\",\"doi\":null,\"ecc\":9,\"cites_per_year\":9,\"cites_per_author\":2,\"author_count\":4,\"age\":1,\"abstract\":\"… index to identify communities disproportionately impacted by environmental, energy, and climate … We review existing vulnerability indicators and indices to assess the tradeoffs of …\",\"full_text_url\":\"https://www.sciencedirect.com/science/article/pii/S2214629623004516\",\"related_url\":\"https://scholar.google.com/scholar?q=related:GVNUj2ysbtAJ:scholar.google.com/&scioq=%22environmental+justice+index%22%7C%22cdc+environmental+justice+index%22%7C%22atsdr+environmental+justice+index%22%7C%22cdc+eji%22%7C%22environmental+justice+composite+index+cdc%22%7C%22eji+2022%22%7C%22eji+2024+update%22%7C%22environmental+justice+health+index%22&hl=en&as_sdt=2007&as_ylo=2022&as_yhi=2025\",\"source_file\":\"eji\",\"tool_name\":\"Environmental Justice Index (EJI)\",\"study_id\":null,\"double_code\":null,\"topic_cat\":\"Energy & decarbonization\",\"tool_use_type\":\"Evaluated\",\"publisher_type\":\"Commercial academic publishers\",\"publisher_description\":\"For-profit multinational academic publisher.\",\"y\":9,\"name\":\"Identifying disadvantaged communities in the United States: An energy-oriented mapping tool that aggregates environmental and socioeconomic burdens\"},{\"cites\":16,\"authors\":\"CA Pate, X Qin, C Johnson, HS Zahran\",\"title\":\"Asthma disparities among US children and adults\",\"year\":2023,\"source\":\"Journal of Asthma\",\"publisher\":\"Taylor &Francis\",\"article_url\":\"https://www.tandfonline.com/doi/abs/10.1080/02770903.2023.2228915\",\"cites_url\":\"https://scholar.google.com/scholar?cites=15292848815749387795&as_sdt=2005&sciodt=2007&hl=en\",\"gs_rank\":108,\"query_date\":\"2025-09-15\",\"type\":null,\"doi\":\"10.1080/02770903.2023.2228915\",\"ecc\":16,\"cites_per_year\":8,\"cites_per_author\":4,\"author_count\":4,\"age\":2,\"abstract\":\"… Promoting adequate housing can help further environmental justice and reduce burden of … asthma hospitalization and emergency department visits by 2024 (Citation37). Identifying and …\",\"full_text_url\":\"https://pmc.ncbi.nlm.nih.gov/articles/PMC10760409/\",\"related_url\":\"https://scholar.google.com/scholar?q=related:E9Z-EvkcO9QJ:scholar.google.com/&scioq=%22environmental+justice+index%22%7C%22cdc+environmental+justice+index%22%7C%22atsdr+environmental+justice+index%22%7C%22cdc+eji%22%7C%22environmental+justice+composite+index+cdc%22%7C%22eji+2022%22%7C%22eji+2024+update%22%7C%22environmental+justice+health+index%22&hl=en&as_sdt=2007&as_ylo=2022&as_yhi=2025\",\"source_file\":\"eji\",\"tool_name\":\"Environmental Justice Index (EJI)\",\"study_id\":null,\"double_code\":null,\"topic_cat\":\"Health & well-being\",\"tool_use_type\":\"Mentioned/Context\",\"publisher_type\":\"Commercial academic publishers\",\"publisher_description\":\"For-profit academic publisher of journals and books.\",\"y\":8,\"name\":\"Asthma disparities among US children and adults\"},{\"cites\":7,\"authors\":\"S Doshi, S Vuppula, P Jaggi\",\"title\":\"Healthcare sustainability to address climate change: call for action to the infectious diseases community\",\"year\":2024,\"source\":\"Journal of the Pediatric Infectious …\",\"publisher\":\"academic.oup.com\",\"article_url\":\"https://academic.oup.com/jpids/article-abstract/13/6/306/7675997\",\"cites_url\":\"https://scholar.google.com/scholar?cites=1178007852079371498&as_sdt=2005&sciodt=2007&hl=en\",\"gs_rank\":89,\"query_date\":\"2025-09-15\",\"type\":null,\"doi\":null,\"ecc\":7,\"cites_per_year\":7,\"cites_per_author\":2,\"author_count\":3,\"age\":1,\"abstract\":\"… The risk of climate change is especially important to children, who are uniquely vulnerable to the health impacts of a changing climate and will live more years in a changed climate. …\",\"full_text_url\":null,\"related_url\":\"https://scholar.google.com/scholar?q=related:6tTPbeYfWRAJ:scholar.google.com/&scioq=%22environmental+justice+index%22%7C%22cdc+environmental+justice+index%22%7C%22atsdr+environmental+justice+index%22%7C%22cdc+eji%22%7C%22environmental+justice+composite+index+cdc%22%7C%22eji+2022%22%7C%22eji+2024+update%22%7C%22environmental+justice+health+index%22&hl=en&as_sdt=2007&as_ylo=2022&as_yhi=2025\",\"source_file\":\"eji\",\"tool_name\":\"Environmental Justice Index (EJI)\",\"study_id\":null,\"double_code\":null,\"topic_cat\":\"Health & well-being\",\"tool_use_type\":\"Mentioned/Context\",\"publisher_type\":\"University presses\",\"publisher_description\":\"Oxford University Press is the publishing house of the University of Oxford (the world’s largest university press).\",\"y\":7,\"name\":\"Healthcare sustainability to address climate change: call for action to the infectious diseases community\"},{\"cites\":6,\"authors\":\"P Matus, C Urquidi, M Cárcamo, V Vidal\",\"title\":\"Integrating the exposome and one health approach to national health surveillance: an opportunity for Latin American countries in health preventive …\",\"year\":2024,\"source\":\"Frontiers in Public Health\",\"publisher\":\"frontiersin.org\",\"article_url\":\"https://www.frontiersin.org/journals/public-health/articles/10.3389/fpubh.2024.1376609/full\",\"cites_url\":\"https://scholar.google.com/scholar?cites=9699733996703157615&as_sdt=2005&sciodt=2007&hl=en\",\"gs_rank\":84,\"query_date\":\"2025-08-29\",\"type\":\"HTML\",\"doi\":\"10.3389/fpubh.2024.1376609\",\"ecc\":6,\"cites_per_year\":6,\"cites_per_author\":2,\"author_count\":4,\"age\":1,\"abstract\":\"… Additionally, it facilitates the computation of indices, such as the Environmental Justice Index (EJ), enabling targeted health promotion and prevention interventions in the most …\",\"full_text_url\":\"https://www.frontiersin.org/journals/public-health/articles/10.3389/fpubh.2024.1376609/full\",\"related_url\":\"https://scholar.google.com/scholar?q=related:b41Fua1gnIYJ:scholar.google.com/&scioq=%22environmental+justice+index%22%7C%22cdc+environmental+justice+index%22%7C%22atsdr+environmental+justice+index%22%7C%22cdc+eji%22%7C%22environmental+justice+composite+index+cdc%22%7C%22eji+2022%22%7C%22eji+2024+update%22%7C%22environmental+justice+health+index%22&hl=en&as_sdt=2007&as_ylo=2022&as_yhi=2025\",\"source_file\":\"eji\",\"tool_name\":\"Environmental Justice Index (EJI)\",\"study_id\":2126,\"double_code\":true,\"topic_cat\":\"Health & well-being\",\"tool_use_type\":\"Applied\",\"publisher_type\":\"Open access publishers\",\"publisher_description\":\"Frontiers Media SA is a nonprofit open-access publisher of peer-reviewed scientific journals.\",\"y\":6,\"name\":\"Integrating the exposome and one health approach to national health surveillance: an opportunity for Latin American countries in health preventive …\"},{\"cites\":6,\"authors\":\"R Ibrahim, HN Pham, S Ganatra, Z Javed, ...\",\"title\":\"Social phenotyping for cardiovascular risk stratification in electronic health registries\",\"year\":2024,\"source\":\"Current atherosclerosis …\",\"publisher\":\"Springer\",\"article_url\":\"https://link.springer.com/article/10.1007/s11883-024-01222-6\",\"cites_url\":\"https://scholar.google.com/scholar?cites=15215021849109332408&as_sdt=2005&sciodt=2007&hl=en\",\"gs_rank\":81,\"query_date\":\"2025-08-29\",\"type\":null,\"doi\":\"10.1007/s11883-024-01222-6\",\"ecc\":6,\"cites_per_year\":6,\"cites_per_author\":1,\"author_count\":5,\"age\":1,\"abstract\":\"… - This cross-sectional analysis revealed that the Environmental Justice Index, a quantitative measure incorporating both environmental influences and social vulnerability, is highly …\",\"full_text_url\":null,\"related_url\":\"https://scholar.google.com/scholar?q=related:uAH4VcKdJtMJ:scholar.google.com/&scioq=%22environmental+justice+index%22%7C%22cdc+environmental+justice+index%22%7C%22atsdr+environmental+justice+index%22%7C%22cdc+eji%22%7C%22environmental+justice+composite+index+cdc%22%7C%22eji+2022%22%7C%22eji+2024+update%22%7C%22environmental+justice+health+index%22&hl=en&as_sdt=2007&as_ylo=2022&as_yhi=2025\",\"source_file\":\"eji\",\"tool_name\":\"Environmental Justice Index (EJI)\",\"study_id\":2134,\"double_code\":true,\"topic_cat\":\"Health & well-being\",\"tool_use_type\":\"Applied\",\"publisher_type\":\"Commercial academic publishers\",\"publisher_description\":\"Springer Nature is a global for-profit academic publisher. Part of Springer Nature; commercial scholarly publisher.\",\"y\":6,\"name\":\"Social phenotyping for cardiovascular risk stratification in electronic health registries\"},{\"cites\":6,\"authors\":\"R Winker, A Payton, E Brown, E McDermott, ...\",\"title\":\"Wildfires and climate justice: future wildfire events predicted to disproportionally impact socioeconomically vulnerable communities in North Carolina\",\"year\":2024,\"source\":\"… in public health\",\"publisher\":\"frontiersin.org\",\"article_url\":\"https://www.frontiersin.org/articles/10.3389/fpubh.2024.1339700/full\",\"cites_url\":\"https://scholar.google.com/scholar?cites=9543474696027875943&as_sdt=2005&sciodt=2007&hl=en\",\"gs_rank\":46,\"query_date\":\"2025-09-15\",\"type\":null,\"doi\":\"10.3389/fpubh.2024.1339700\",\"ecc\":6,\"cites_per_year\":6,\"cites_per_author\":1,\"author_count\":5,\"age\":1,\"abstract\":\"… ’s Forest Service’s WHP Index updated in 2020. The underlying methods surrounding … Environmental Justice Index (EJI) National Scale Air Toxics Assessment Respiratory Hazard Index…\",\"full_text_url\":\"https://www.frontiersin.org/journals/public-health/articles/10.3389/fpubh.2024.1339700/pdf\",\"related_url\":\"https://scholar.google.com/scholar?q=related:Z6qrK6w7cYQJ:scholar.google.com/&scioq=%22environmental+justice+index%22%7C%22cdc+environmental+justice+index%22%7C%22atsdr+environmental+justice+index%22%7C%22cdc+eji%22%7C%22environmental+justice+composite+index+cdc%22%7C%22eji+2022%22%7C%22eji+2024+update%22%7C%22environmental+justice+health+index%22&hl=en&as_sdt=2007&as_ylo=2022&as_yhi=2025\",\"source_file\":\"eji\",\"tool_name\":\"Environmental Justice Index (EJI)\",\"study_id\":null,\"double_code\":null,\"topic_cat\":\"Climate hazards & risks\",\"tool_use_type\":\"Applied\",\"publisher_type\":\"Open access publishers\",\"publisher_description\":\"Frontiers Media SA is a nonprofit open-access publisher of peer-reviewed scientific journals.\",\"y\":6,\"name\":\"Wildfires and climate justice: future wildfire events predicted to disproportionally impact socioeconomically vulnerable communities in North Carolina\"},{\"cites\":5,\"authors\":\"D Doiron, EM Setton, J Syer, A Redivo, A McKee, ...\",\"title\":\"Healthyplan. city: a web tool to support urban environmental equity and public health in Canadian communities\",\"year\":2024,\"source\":\"… of Urban Health\",\"publisher\":\"Springer\",\"article_url\":\"https://link.springer.com/article/10.1007/s11524-024-00855-x\",\"cites_url\":\"https://scholar.google.com/scholar?cites=3817642094872671898&as_sdt=2005&sciodt=2007&hl=en\",\"gs_rank\":51,\"query_date\":\"2025-09-15\",\"type\":\"HTML\",\"doi\":\"10.1007/s11524-024-00855-x\",\"ecc\":5,\"cites_per_year\":5,\"cites_per_author\":1,\"author_count\":6,\"age\":1,\"abstract\":\"… create a flexible data system for easy updating of datasets, and (ii) … Along with the overall index, the EJI Explorer provides … ) calculates an Environmental Justice Index as the intersection …\",\"full_text_url\":\"https://link.springer.com/article/10.1007/s11524-024-00855-x\",\"related_url\":\"https://scholar.google.com/scholar?q=related:mrZ2MEL9-jQJ:scholar.google.com/&scioq=%22environmental+justice+index%22%7C%22cdc+environmental+justice+index%22%7C%22atsdr+environmental+justice+index%22%7C%22cdc+eji%22%7C%22environmental+justice+composite+index+cdc%22%7C%22eji+2022%22%7C%22eji+2024+update%22%7C%22environmental+justice+health+index%22&hl=en&as_sdt=2007&as_ylo=2022&as_yhi=2025\",\"source_file\":\"eji\",\"tool_name\":\"Environmental Justice Index (EJI)\",\"study_id\":null,\"double_code\":null,\"topic_cat\":\"Health & well-being\",\"tool_use_type\":\"Mentioned/Context\",\"publisher_type\":\"Commercial academic publishers\",\"publisher_description\":\"Springer Nature is a global for-profit academic publisher. Part of Springer Nature; commercial scholarly publisher.\",\"y\":5,\"name\":\"Healthyplan. city: a web tool to support urban environmental equity and public health in Canadian communities\"}],\"type\":\"bar\"},{\"name\":\"Future Risk Index (FRI)\",\"data\":[{\"cites\":1,\"authors\":\"L Mahowald, A Shaw\",\"title\":\"Climate Change Risk for LGBT People in the United States\",\"year\":2024,\"source\":null,\"publisher\":\"escholarship.org\",\"article_url\":\"https://escholarship.org/content/qt7xw635f3/qt7xw635f3.pdf\",\"cites_url\":\"https://scholar.google.com/scholar?cites=1121889444523494756&as_sdt=2005&sciodt=2007&hl=en\",\"gs_rank\":2,\"query_date\":\"2025-08-29\",\"type\":\"PDF\",\"doi\":null,\"ecc\":1,\"cites_per_year\":1,\"cites_per_author\":1,\"author_count\":2,\"age\":1,\"abstract\":\"Climate change represents a global challenge, but it also exacerbates existing disparities among individuals and communities. LGBT people face discrimination and exclusion, creating …\",\"full_text_url\":\"https://escholarship.org/content/qt7xw635f3/qt7xw635f3.pdf\",\"related_url\":\"https://scholar.google.com/scholar?q=related:ZE0VeoHAkQ8J:scholar.google.com/&scioq=%22future+risk+index%22%7C%22fema+future+risk+index%22%7C%22fri+future+risk+index%22%7C%22fema+fri%22%7C%22fema+climate+risk+index%22%7C%22fema+disaster+risk+index%22%7C%22future+disaster+risk+tool+fema%22%7C%22future+risk+index+fema+prototype%22&hl=en&as_sdt=2007&as_ylo=2024&as_yhi=2025\",\"source_file\":\"fri\",\"tool_name\":\"Future Risk Index (FRI)\",\"study_id\":2170,\"double_code\":true,\"topic_cat\":\"Health & well-being\",\"tool_use_type\":\"Evaluated\",\"publisher_type\":\"University / institutional repositories\",\"publisher_description\":\"eScholarship is the University of California’s institutional repository (hosts theses, articles, reports).\",\"y\":1,\"name\":\"Climate Change Risk for LGBT People in the United States\"}],\"type\":\"bar\"}],\"xAxis\":{\"type\":\"category\",\"title\":{\"text\":\"Study title\"},\"labels\":{\"enabled\":false}},\"subtitle\":{\"text\":\"Highlights studies with the highest relative citation rates\"},\"tooltip\":{\"pointFormat\":\"<b>{point.y}<\\/b> cites/year<br>{point.tool_name}<br>\"}},\"theme\":{\"chart\":{\"backgroundColor\":\"transparent\"},\"colors\":[\"#7cb5ec\",\"#434348\",\"#90ed7d\",\"#f7a35c\",\"#8085e9\",\"#f15c80\",\"#e4d354\",\"#2b908f\",\"#f45b5b\",\"#91e8e1\"]},\"conf_opts\":{\"global\":{\"Date\":null,\"VMLRadialGradientURL\":\"http =//code.highcharts.com/list(version)/gfx/vml-radial-gradient.png\",\"canvasToolsURL\":\"http =//code.highcharts.com/list(version)/modules/canvas-tools.js\",\"getTimezoneOffset\":null,\"timezoneOffset\":0,\"useUTC\":true},\"lang\":{\"contextButtonTitle\":\"Chart context menu\",\"decimalPoint\":\".\",\"downloadCSV\":\"Download CSV\",\"downloadJPEG\":\"Download JPEG image\",\"downloadPDF\":\"Download PDF document\",\"downloadPNG\":\"Download PNG image\",\"downloadSVG\":\"Download SVG vector image\",\"downloadXLS\":\"Download XLS\",\"drillUpText\":\"◁ Back to {series.name}\",\"exitFullscreen\":\"Exit from full screen\",\"exportData\":{\"annotationHeader\":\"Annotations\",\"categoryDatetimeHeader\":\"DateTime\",\"categoryHeader\":\"Category\"},\"hideData\":\"Hide data table\",\"invalidDate\":null,\"loading\":\"Loading...\",\"months\":[\"January\",\"February\",\"March\",\"April\",\"May\",\"June\",\"July\",\"August\",\"September\",\"October\",\"November\",\"December\"],\"noData\":\"No data to display\",\"numericSymbolMagnitude\":1000,\"numericSymbols\":[\"k\",\"M\",\"G\",\"T\",\"P\",\"E\"],\"printChart\":\"Print chart\",\"resetZoom\":\"Reset zoom\",\"resetZoomTitle\":\"Reset zoom level 1:1\",\"shortMonths\":[\"Jan\",\"Feb\",\"Mar\",\"Apr\",\"May\",\"Jun\",\"Jul\",\"Aug\",\"Sep\",\"Oct\",\"Nov\",\"Dec\"],\"shortWeekdays\":[\"Sat\",\"Sun\",\"Mon\",\"Tue\",\"Wed\",\"Thu\",\"Fri\"],\"thousandsSep\":\" \",\"viewData\":\"View data table\",\"viewFullscreen\":\"View in full screen\",\"weekdays\":[\"Sunday\",\"Monday\",\"Tuesday\",\"Wednesday\",\"Thursday\",\"Friday\",\"Saturday\"]}},\"type\":\"chart\",\"fonts\":[],\"debug\":false},\"evals\":[],\"jsHooks\":[]}</script>"
      ]
     }
    }
   ],
   "source": [
    "df_top_cpy <- all_studies_merged |>\n",
    "  filter(!is.na(cites_per_year)) |>\n",
    "  group_by(tool_name) |>\n",
    "  slice_max(order_by = cites_per_year, n = 10, with_ties = FALSE) |>\n",
    "  ungroup()\n",
    "\n",
    "df_top_cpy |>\n",
    "  select(tool_name, year, title, cites_per_year, cites, authors) |>\n",
    "  arrange(tool_name, desc(cites_per_year))"
   ],
   "id": "2e66a019-b1a0-41bb-9f32-2f26a6759421"
  },
  {
   "cell_type": "markdown",
   "metadata": {},
   "source": [
    "##### Average `cites_per_year` over time per tool\n",
    "\n",
    "This shows whether more recent papers citing a tool are getting traction."
   ],
   "id": "3c3781fc-a0ed-4830-80f7-951f5371cd52"
  },
  {
   "cell_type": "code",
   "execution_count": null,
   "metadata": {},
   "outputs": [
    {
     "output_type": "display_data",
     "metadata": {},
     "data": {
      "text/html": [
       "<div class=\"highchart html-widget html-fill-item\" id=\"htmlwidget-c6ca67850be0b79d09b0\" style=\"width:100%;height:464px;\"></div>\n",
       "<script type=\"application/json\" data-for=\"htmlwidget-c6ca67850be0b79d09b0\">{\"x\":{\"hc_opts\":{\"chart\":{\"reflow\":true},\"title\":{\"text\":\"Average cites per year over time, by tool\"},\"yAxis\":{\"title\":{\"text\":\"Average cites per year\"},\"type\":\"linear\"},\"credits\":{\"enabled\":false},\"exporting\":{\"enabled\":true},\"boost\":{\"enabled\":false},\"plotOptions\":{\"series\":{\"label\":{\"enabled\":false},\"turboThreshold\":0,\"showInLegend\":true},\"treemap\":{\"layoutAlgorithm\":\"squarified\"},\"scatter\":{\"marker\":{\"symbol\":\"circle\"}}},\"series\":[{\"name\":\"Climate Risk Viewer\",\"data\":[{\"tool_name\":\"Climate Risk Viewer\",\"year\":2025,\"avg_cpy\":0,\"x\":2025,\"y\":0}],\"type\":\"line\"},{\"name\":\"Climate and Economic Justice Screening Tool (CEJST)\",\"data\":[{\"tool_name\":\"Climate and Economic Justice Screening Tool (CEJST)\",\"year\":2022,\"avg_cpy\":1.906067415730337,\"x\":2022,\"y\":1.906067415730337},{\"tool_name\":\"Climate and Economic Justice Screening Tool (CEJST)\",\"year\":2023,\"avg_cpy\":2.290502793296089,\"x\":2023,\"y\":2.290502793296089},{\"tool_name\":\"Climate and Economic Justice Screening Tool (CEJST)\",\"year\":2024,\"avg_cpy\":2.387453874538745,\"x\":2024,\"y\":2.387453874538745},{\"tool_name\":\"Climate and Economic Justice Screening Tool (CEJST)\",\"year\":2025,\"avg_cpy\":0.8391608391608385,\"x\":2025,\"y\":0.8391608391608385}],\"type\":\"line\"},{\"name\":\"EJScreen\",\"data\":[{\"tool_name\":\"EJScreen\",\"year\":2016,\"avg_cpy\":0.5383333333333333,\"x\":2016,\"y\":0.5383333333333333},{\"tool_name\":\"EJScreen\",\"year\":2017,\"avg_cpy\":0.38,\"x\":2017,\"y\":0.38},{\"tool_name\":\"EJScreen\",\"year\":2018,\"avg_cpy\":2.451666666666667,\"x\":2018,\"y\":2.451666666666667},{\"tool_name\":\"EJScreen\",\"year\":2019,\"avg_cpy\":5.806666666666667,\"x\":2019,\"y\":5.806666666666667},{\"tool_name\":\"EJScreen\",\"year\":2020,\"avg_cpy\":2.133333333333334,\"x\":2020,\"y\":2.133333333333334},{\"tool_name\":\"EJScreen\",\"year\":2021,\"avg_cpy\":1.26,\"x\":2021,\"y\":1.26},{\"tool_name\":\"EJScreen\",\"year\":2022,\"avg_cpy\":2.210245901639344,\"x\":2022,\"y\":2.210245901639344},{\"tool_name\":\"EJScreen\",\"year\":2023,\"avg_cpy\":2.474885844748858,\"x\":2023,\"y\":2.474885844748858},{\"tool_name\":\"EJScreen\",\"year\":2024,\"avg_cpy\":2.086776859504132,\"x\":2024,\"y\":2.086776859504132},{\"tool_name\":\"EJScreen\",\"year\":2025,\"avg_cpy\":0.5350318471337577,\"x\":2025,\"y\":0.5350318471337577}],\"type\":\"line\"},{\"name\":\"Environmental Justice Index (EJI)\",\"data\":[{\"tool_name\":\"Environmental Justice Index (EJI)\",\"year\":2022,\"avg_cpy\":1.67,\"x\":2022,\"y\":1.67},{\"tool_name\":\"Environmental Justice Index (EJI)\",\"year\":2023,\"avg_cpy\":1.666666666666667,\"x\":2023,\"y\":1.666666666666667},{\"tool_name\":\"Environmental Justice Index (EJI)\",\"year\":2024,\"avg_cpy\":2.78,\"x\":2024,\"y\":2.78},{\"tool_name\":\"Environmental Justice Index (EJI)\",\"year\":2025,\"avg_cpy\":0.2978723404255318,\"x\":2025,\"y\":0.2978723404255318}],\"type\":\"line\"},{\"name\":\"Future Risk Index (FRI)\",\"data\":[{\"tool_name\":\"Future Risk Index (FRI)\",\"year\":2024,\"avg_cpy\":1,\"x\":2024,\"y\":1}],\"type\":\"line\"}],\"xAxis\":{\"type\":\"linear\",\"title\":{\"text\":\"year\"},\"categories\":null}},\"theme\":{\"chart\":{\"backgroundColor\":\"transparent\"},\"colors\":[\"#7cb5ec\",\"#434348\",\"#90ed7d\",\"#f7a35c\",\"#8085e9\",\"#f15c80\",\"#e4d354\",\"#2b908f\",\"#f45b5b\",\"#91e8e1\"]},\"conf_opts\":{\"global\":{\"Date\":null,\"VMLRadialGradientURL\":\"http =//code.highcharts.com/list(version)/gfx/vml-radial-gradient.png\",\"canvasToolsURL\":\"http =//code.highcharts.com/list(version)/modules/canvas-tools.js\",\"getTimezoneOffset\":null,\"timezoneOffset\":0,\"useUTC\":true},\"lang\":{\"contextButtonTitle\":\"Chart context menu\",\"decimalPoint\":\".\",\"downloadCSV\":\"Download CSV\",\"downloadJPEG\":\"Download JPEG image\",\"downloadPDF\":\"Download PDF document\",\"downloadPNG\":\"Download PNG image\",\"downloadSVG\":\"Download SVG vector image\",\"downloadXLS\":\"Download XLS\",\"drillUpText\":\"◁ Back to {series.name}\",\"exitFullscreen\":\"Exit from full screen\",\"exportData\":{\"annotationHeader\":\"Annotations\",\"categoryDatetimeHeader\":\"DateTime\",\"categoryHeader\":\"Category\"},\"hideData\":\"Hide data table\",\"invalidDate\":null,\"loading\":\"Loading...\",\"months\":[\"January\",\"February\",\"March\",\"April\",\"May\",\"June\",\"July\",\"August\",\"September\",\"October\",\"November\",\"December\"],\"noData\":\"No data to display\",\"numericSymbolMagnitude\":1000,\"numericSymbols\":[\"k\",\"M\",\"G\",\"T\",\"P\",\"E\"],\"printChart\":\"Print chart\",\"resetZoom\":\"Reset zoom\",\"resetZoomTitle\":\"Reset zoom level 1:1\",\"shortMonths\":[\"Jan\",\"Feb\",\"Mar\",\"Apr\",\"May\",\"Jun\",\"Jul\",\"Aug\",\"Sep\",\"Oct\",\"Nov\",\"Dec\"],\"shortWeekdays\":[\"Sat\",\"Sun\",\"Mon\",\"Tue\",\"Wed\",\"Thu\",\"Fri\"],\"thousandsSep\":\" \",\"viewData\":\"View data table\",\"viewFullscreen\":\"View in full screen\",\"weekdays\":[\"Sunday\",\"Monday\",\"Tuesday\",\"Wednesday\",\"Thursday\",\"Friday\",\"Saturday\"]}},\"type\":\"chart\",\"fonts\":[],\"debug\":false},\"evals\":[],\"jsHooks\":[]}</script>"
      ]
     }
    }
   ],
   "source": [
    "df_avg_cpy <- all_studies_merged |>\n",
    "  filter(!is.na(year), !is.na(cites_per_year)) |>\n",
    "  group_by(tool_name, year) |>\n",
    "  summarise(\n",
    "    avg_cpy = mean(cites_per_year, na.rm = TRUE),\n",
    "    .groups = \"drop\"\n",
    "  )\n",
    "\n",
    "hchart(\n",
    "  df_avg_cpy,\n",
    "  \"line\",\n",
    "  hcaes(x = year, y = avg_cpy, group = tool_name)\n",
    ") |>\n",
    "  hc_title(text = \"Average cites per year over time, by tool\") |>\n",
    "  hc_yAxis(title = list(text = \"Average cites per year\")) |>\n",
    "  hc_exporting(enabled = TRUE)"
   ],
   "id": "f25479d1-0ab7-44d6-99fc-b8124e38dee1"
  },
  {
   "cell_type": "markdown",
   "metadata": {},
   "source": [
    "##### Publishers\n",
    "\n",
    "Which top 10 publishers/platforms appear most frequently?"
   ],
   "id": "a8e3034c-666d-407b-a6ff-9458f20eef7b"
  },
  {
   "cell_type": "code",
   "execution_count": null,
   "metadata": {},
   "outputs": [
    {
     "output_type": "stream",
     "name": "stdout",
     "text": [
      "# A tibble: 10 × 2\n",
      "   publisher                n\n",
      "   <chr>                <int>\n",
      " 1 search.proquest.com    159\n",
      " 2 osti.gov               116\n",
      " 3 HeinOnline             115\n",
      " 4 Elsevier                94\n",
      " 5 Springer                69\n",
      " 6 papers.ssrn.com         50\n",
      " 7 liebertpub.com          47\n",
      " 8 Taylor &Francis         46\n",
      " 9 Wiley Online Library    40\n",
      "10 rosap.ntl.bts.gov       34"
     ]
    }
   ],
   "source": [
    "df_10_publishers <- all_studies_merged |>\n",
    "  filter(publisher != \"\") |>\n",
    "  count(publisher, sort = TRUE) |>\n",
    "  slice_head(n = 10)\n",
    "\n",
    "df_10_publishers"
   ],
   "id": "9ea58aba-c17b-4c88-bb0b-c041e497dd6d"
  },
  {
   "cell_type": "markdown",
   "metadata": {},
   "source": [
    "List all publishers from the sample."
   ],
   "id": "c6914f27-fb74-45ac-a075-820388b3c27d"
  },
  {
   "cell_type": "code",
   "execution_count": null,
   "metadata": {},
   "outputs": [],
   "source": [
    "df_all_publishers <- all_studies_merged |>\n",
    "  filter(publisher != \"\") |>\n",
    "  count(publisher, sort = TRUE)\n",
    "\n",
    "write_csv(df_all_publishers, here(\"06_viz_ready\", \"all_publishers.csv\"))"
   ],
   "id": "527a864c-3296-4513-9ed2-7d69588b6d3e"
  },
  {
   "cell_type": "markdown",
   "metadata": {},
   "source": [
    "#### Research question 2\n",
    "\n",
    "*What types of research topics occur most frequently overall and within each tool, and how do these topics vary by citation frequency?*\n",
    "\n",
    "For this analysis, I’ll use the combined dataset **`all_studies_merged.csv`**. This file already contains all the information I need to explore how research topics align with specific tools and how often each study is cited.\n",
    "\n",
    "The plan is to create a **bubble chart** to visualize the relationship between:\n",
    "\n",
    "-   The *tool name* (x-axis),\n",
    "\n",
    "-   The *research topic category* (y-axis), and\n",
    "\n",
    "-   The *citation frequency* (bubble size).\n",
    "\n",
    "No additional CSVs are needed for this step.\n",
    "\n",
    "#### Research question 3\n",
    "\n",
    "*In what ways are these tools used in research studies overall and within each tool, and how does their use vary by citation frequency?*\n",
    "\n",
    "This analysis follows the **same logic as Question 2**, using the **`all_studies_merged.csv`** dataset. Here, I’ll focus on categorizing how tools are *applied, mentioned, evaluated, and critiqued*.\n",
    "\n",
    "## Next Step\n",
    "\n",
    "And voilà! That completes the analysis portion 🎉\n",
    "\n",
    "Next, I’ll take the cleaned CSVs exported in the **`06_viz_ready/`** folder and **`all_studies_merged.csv`** to move into the visualization stage. While I often use **{highcharter}** and **Apache ECharts**, I’ll likely use **Flourish** for this project so that my team at **PEDP** can easily update the visualizations if new data is added later.\n",
    "\n",
    "Flourish is a great **low-code/no-code tool**, which perfect for quick collaboration and accessible storytelling."
   ],
   "id": "f982444a-b0cf-479a-aac9-e6fb570e2778"
  }
 ],
 "nbformat": 4,
 "nbformat_minor": 5,
 "metadata": {}
}
