{
 "cells": [
  {
   "cell_type": "markdown",
   "metadata": {},
   "source": [
    "# How climate and envrionmental justice tools are used in research\n",
    "\n",
    "studies\n",
    "\n",
    "Elham Ali (Public Environmental Data Project)  \n",
    "October 4, 2025\n",
    "\n",
    "TBD\n",
    "\n",
    "## Background\n",
    "\n",
    "When public climate & EJ evidence disappears (removed, restricted, or altered), a decade of downstream knowledge becomes harder to verify, reproduce, teach, or apply—especially for communities and decisions that most need it.\n",
    "\n",
    "This analysis looks at how many studies have used these tools, their topics, and their use cases.\n",
    "\n",
    "## Questions\n",
    "\n",
    "Here are the key questions explored in this analysis:\n",
    "\n",
    "-   How many research papers or studies have cited or relied on five U.S. federal climate and environmental tools that are threatened, not being maintained, or no longer available?\n",
    "-   What research topics are associated with each tool, and how do these topics vary by citation frequency?\n",
    "-   In what ways are these tools applied in research?\n",
    "\n",
    "## Data Sources\n",
    "\n",
    "The climate tools assessed are:\n",
    "\n",
    "-   CEQ’s **Climate and Economic Justice Screening Tool (CEJST)**\n",
    "-   EPA’s **EJScreen**\n",
    "-   USDA Forest Service’s **Climate Risk Viewer (CRV)**\n",
    "-   FEMA’s **Future Risk Index (FRI)**\n",
    "-   CDC’s **Environmental Justice Index (EJI)**\n",
    "\n",
    "The data for this project comes from Google scholar and last refreshed on September 15, 2025.\n",
    "\n",
    "Original raw datasets are saved in the `data/` folder. This script reduces and cleans those datasets to prepare them for analysis.\n",
    "\n",
    "## Cleaning\n",
    "\n",
    "I start by loading the packages needed for file handling, data wrangling, and visualization."
   ],
   "id": "02821b19-49d6-4f92-a97c-7061d991d1f2"
  },
  {
   "cell_type": "code",
   "execution_count": null,
   "metadata": {},
   "outputs": [
    {
     "output_type": "stream",
     "name": "stderr",
     "text": [
      "here() starts at /Users/elhamali/Documents/Data Projects/climate-ej-tools-publications"
     ]
    },
    {
     "output_type": "stream",
     "name": "stderr",
     "text": [
      "── Attaching core tidyverse packages ──────────────────────── tidyverse 2.0.0 ──\n",
      "✔ dplyr     1.1.4     ✔ purrr     1.1.0\n",
      "✔ forcats   1.0.0     ✔ stringr   1.5.1\n",
      "✔ ggplot2   3.5.2     ✔ tibble    3.3.0\n",
      "✔ lubridate 1.9.4     ✔ tidyr     1.3.1"
     ]
    },
    {
     "output_type": "stream",
     "name": "stderr",
     "text": [
      "── Conflicts ────────────────────────────────────────── tidyverse_conflicts() ──\n",
      "✖ dplyr::filter() masks stats::filter()\n",
      "✖ dplyr::lag()    masks stats::lag()\n",
      "ℹ Use the conflicted package (<http://conflicted.r-lib.org/>) to force all conflicts to become errors"
     ]
    },
    {
     "output_type": "stream",
     "name": "stderr",
     "text": [
      "\n",
      "Attaching package: 'janitor'\n",
      "\n",
      "The following objects are masked from 'package:stats':\n",
      "\n",
      "    chisq.test, fisher.test"
     ]
    },
    {
     "output_type": "stream",
     "name": "stderr",
     "text": [
      "Loading required package: grid"
     ]
    },
    {
     "output_type": "stream",
     "name": "stderr",
     "text": [
      "Registered S3 method overwritten by 'quantmod':\n",
      "  method            from\n",
      "  as.zoo.data.frame zoo \n",
      "Highcharts (www.highcharts.com) is a Highsoft software product which is\n",
      "not free for commercial and Governmental use"
     ]
    },
    {
     "output_type": "stream",
     "name": "stderr",
     "text": [
      "\n",
      "Attaching package: 'igraph'\n",
      "\n",
      "The following objects are masked from 'package:lubridate':\n",
      "\n",
      "    %--%, union\n",
      "\n",
      "The following objects are masked from 'package:dplyr':\n",
      "\n",
      "    as_data_frame, groups, union\n",
      "\n",
      "The following objects are masked from 'package:purrr':\n",
      "\n",
      "    compose, simplify\n",
      "\n",
      "The following object is masked from 'package:tidyr':\n",
      "\n",
      "    crossing\n",
      "\n",
      "The following object is masked from 'package:tibble':\n",
      "\n",
      "    as_data_frame\n",
      "\n",
      "The following objects are masked from 'package:stats':\n",
      "\n",
      "    decompose, spectrum\n",
      "\n",
      "The following object is masked from 'package:base':\n",
      "\n",
      "    union"
     ]
    }
   ],
   "source": [
    "## Folder structure helpers\n",
    "library(here)"
   ],
   "id": "b77b8792-012b-4eda-ac6b-7577154dd61a"
  },
  {
   "cell_type": "markdown",
   "metadata": {},
   "source": [
    "### Import raw data\n",
    "\n",
    "I import all .csv files from the `01_raw_data/` folder, then save them as .rds files into `05_cleaned_datasets/`. This preserves their structure and speeds up future reads."
   ],
   "id": "73dde351-71c8-4c78-9b08-9756c03e5214"
  },
  {
   "cell_type": "code",
   "execution_count": null,
   "metadata": {},
   "outputs": [],
   "source": [
    "# List all CSV files\n",
    "csv_files <- list.files(here(\"01_raw_data\"), pattern = \"\\\\.csv$\", full.names = TRUE)\n",
    "\n",
    "# Read into a list of dataframes\n",
    "datasets <- map(csv_files, read.csv)\n",
    "names(datasets) <- tools::file_path_sans_ext(basename(csv_files))\n",
    "\n",
    "# Save each dataset as .rds in 05_cleaned_datasets/\n",
    "walk2(\n",
    "  datasets,\n",
    "  names(datasets),\n",
    "  ~ saveRDS(.x, here(\"05_cleaned_datasets\", paste0(.y, \".rds\")))\n",
    ")"
   ],
   "id": "b22dd0ce-77d6-49e2-910b-9a96c63ed949"
  },
  {
   "cell_type": "markdown",
   "metadata": {},
   "source": [
    "### Merge EJScreen datasets\n",
    "\n",
    "Google Scholar caps search results at 1,000 records \\[@harzing2025\\].\n",
    "\n",
    "Because EJScreen returned more than this, I split the results into four files (ejscreen_1–ejscreen_4). Here I combine them into one dataframe."
   ],
   "id": "902784ae-24a3-40cf-a20f-ad9b0c47ec93"
  },
  {
   "cell_type": "code",
   "execution_count": null,
   "metadata": {},
   "outputs": [
    {
     "output_type": "stream",
     "name": "stdout",
     "text": [
      "[1] 1258   27"
     ]
    }
   ],
   "source": [
    "# List EJScreen RDS files\n",
    "ejscreen_files <- here(\"05_cleaned_datasets\") |>\n",
    "  list.files(pattern = \"^ejscreen_\\\\d+\\\\.rds$\", full.names = TRUE)\n",
    "\n",
    "# Read, tag, clean variable names\n",
    "ejscreen_list <- map(ejscreen_files, ~ {\n",
    "  readRDS(.x) |>\n",
    "    mutate(source_file = tools::file_path_sans_ext(basename(.x))) |>\n",
    "    janitor::clean_names()\n",
    "})\n",
    "\n",
    "# Merge into one dataframe\n",
    "ejscreen_all <- bind_rows(ejscreen_list)\n",
    "\n",
    "# Quick check on dimensions\n",
    "dim(ejscreen_all)  "
   ],
   "id": "305a4a62-8b4c-4fb4-9dc3-7cff88fb6b3e"
  },
  {
   "cell_type": "markdown",
   "metadata": {},
   "source": [
    "### Clean and tag all other tools\n",
    "\n",
    "I apply the same cleaning process to the other tools (CEJST, CRV, EJI, FRI):\n",
    "\n",
    "-   Standardize variable names to snake_case\n",
    "-   Add a source_file column for provenance\n",
    "-   Guess variable types (integers, doubles, dates, etc.)"
   ],
   "id": "ffe842b3-60c3-4391-852b-9b786d692856"
  },
  {
   "cell_type": "code",
   "execution_count": null,
   "metadata": {},
   "outputs": [],
   "source": [
    "# Helper function: read, clean names, add provenance, type-convert\n",
    "read_clean_tag <- function(path) {\n",
    "  df <- readRDS(path) |>\n",
    "    janitor::clean_names()\n",
    "\n",
    "  source_stem <- tools::file_path_sans_ext(basename(path))  # e.g., \"ejscreen_1\" or \"cejst\"\n",
    "\n",
    "  df |>\n",
    "    mutate(\n",
    "      source_file = source_stem,\n",
    "      tool_name   = sub(\"_\\\\d+$\", \"\", source_stem)  # \"ejscreen_1\" -> \"ejscreen\"; \"cejst\" -> \"cejst\"\n",
    "    ) |>\n",
    "    readr::type_convert(col_types = readr::cols(.default = readr::col_guess())) |>\n",
    "    mutate(across(where(is.character), trimws))\n",
    "}\n",
    "# \n",
    "# # Rebuild ejscreen_all if needed\n",
    "# if (!exists(\"ejscreen_all\")) {\n",
    "#   ejs_files <- list.files(here(\"05_cleaned_datasets\"), pattern = \"^ejscreen_\\\\d+\\\\.rds$\", full.names = TRUE)\n",
    "#   ejscreen_all <- ejs_files |> map(read_clean_tag) |> list_rbind()\n",
    "# }\n",
    "\n",
    "# Process other tools\n",
    "other_tools <- c(\"cejst\", \"crv\", \"eji\", \"fri\")\n",
    "other_paths <- here(\"05_cleaned_datasets\", paste0(other_tools, \".rds\"))\n",
    "\n",
    "other_list <- other_paths |>\n",
    "  set_names(~ tools::file_path_sans_ext(basename(.x))) |>\n",
    "  map(read_clean_tag)"
   ],
   "id": "5b9ba48f-7ac2-45e7-b8d0-7727da92b025"
  },
  {
   "cell_type": "markdown",
   "metadata": {},
   "source": [
    "### Final merge and labeling\n",
    "\n",
    "I now merge all tools into a single dataset. Additional steps:\n",
    "\n",
    "-   Ensure consistent date formats\n",
    "-   Map tool codes (ejscreen, cejst, etc.) to their full names\n",
    "-   Drop empty placeholder columns"
   ],
   "id": "2105af7d-9ba0-425f-82dc-46199cabcc39"
  },
  {
   "cell_type": "code",
   "execution_count": null,
   "metadata": {},
   "outputs": [],
   "source": [
    "# Helper: coerce anything date-like into Date\n",
    "to_Date <- function(x) {\n",
    "  if (inherits(x, \"Date\"))    return(x)\n",
    "  if (inherits(x, \"POSIXt\"))  return(as_date(x))\n",
    "  if (is.numeric(x))          return(as_date(as.POSIXct(x, origin = \"1970-01-01\", tz = \"UTC\")))\n",
    "  if (is.character(x)) {\n",
    "    suppressWarnings({\n",
    "      dt <- ymd_hms(x, quiet = TRUE, tz = \"UTC\")\n",
    "      idx <- is.na(dt); if (any(idx)) dt[idx] <- ymd(x[idx], quiet = TRUE)\n",
    "      idx <- is.na(dt); if (any(idx)) dt[idx] <- mdy(x[idx], quiet = TRUE)\n",
    "      idx <- is.na(dt); if (any(idx)) dt[idx] <- dmy(x[idx], quiet = TRUE)\n",
    "    })\n",
    "    return(as_date(dt))\n",
    "  }\n",
    "  as_date(as.character(x))\n",
    "}\n",
    "\n",
    "# Apply date coercion\n",
    "if (exists(\"ejscreen_all\") && \"query_date\" %in% names(ejscreen_all)) {\n",
    "  ejscreen_all <- ejscreen_all %>% mutate(query_date = to_Date(query_date))\n",
    "}\n",
    "if (exists(\"other_list\")) {\n",
    "  other_list <- other_list %>%\n",
    "    map(~ if (\"query_date\" %in% names(.x)) mutate(.x, query_date = to_Date(query_date)) else .x)\n",
    "} else {\n",
    "  other_list <- list()\n",
    "}\n",
    "\n",
    "# Merge all datasets\n",
    "all_tools <- bind_rows(ejscreen_all, !!!other_list)\n",
    "\n",
    "# Map tool codes to full names\n",
    "all_tools <- all_tools %>%\n",
    "  mutate(\n",
    "    source_file = if_else(is.na(source_file) | source_file == \"\",\n",
    "                          coalesce(source_file, tool_name), source_file),\n",
    "    base_tool   = sub(\"_\\\\d+$\", \"\", source_file),   # ejscreen_1 -> ejscreen\n",
    "    tool_name   = dplyr::recode(\n",
    "      base_tool,\n",
    "      ejscreen = \"EJScreen\",\n",
    "      cejst    = \"Climate and Economic Justice Screening Tool (CEJST)\",\n",
    "      crv      = \"Climate Risk Viewer\",\n",
    "      fri      = \"Future Risk Index (FRI)\",\n",
    "      eji      = \"Environmental Justice Index (EJI)\",\n",
    "      .default = tool_name  # keep whatever was there if not matched\n",
    "    )\n",
    "  ) %>%\n",
    "  select(-base_tool)\n",
    "\n",
    "# Drop empty placeholder columns\n",
    "all_tools <- all_tools %>%\n",
    "  select(-any_of(c(\"issn\", \"citation_url\", \"volume\", \"issue\", \"start_page\", \"end_page\")))\n",
    "\n",
    "# Save combined dataset\n",
    "saveRDS(all_tools, here(\"05_cleaned_datasets\", \"all_tools.rds\"))\n",
    "write_csv(all_tools, here(\"05_cleaned_datasets\", \"all_tools.csv\"))"
   ],
   "id": "26d8ab9c-163a-4f05-b7ed-3bf7c0256f98"
  },
  {
   "cell_type": "markdown",
   "metadata": {},
   "source": [
    "## Analysis\n",
    "\n",
    "### Stratified random sampling\n",
    "\n",
    "A collaborator to double-code a subset of research studies. Together, we will manually assign each study to a **topic category** and a **tool use type**. This step establishes **inter-rater agreement** (agreement between coders beyond chance).\n",
    "\n",
    "For sampling, I am taking **10% of the full dataset (2,170 studies) = 217 studies**. Sampling will be stratified by tool `tool_name`. The entire 222-study subset will be double-coded.\n",
    "\n",
    "A helpful guide is *Stratified Sampling in R: A Practical Guide with Base R and dplyr* \\[@sanderson2024\\].\n",
    "\n",
    "I considered two allocation approaches:\n",
    "\n",
    "1.  **Proportional-only allocation** (222 total).\n",
    "\n",
    "    -   Each tool receives samples proportional to its share of the corpus.\n",
    "\n",
    "    -   This preserves representativeness but leaves small tools (e.g., CRV, FRI) with too few cases to analyze.\n",
    "\n",
    "2.  **Proportional with a minimum floor** (222 total, MIN = 10).\n",
    "\n",
    "    -   Every tool gets at least 10 studies (or all available, if fewer).\n",
    "\n",
    "    -   Larger tools (EJScreen, CEJST) give up a small number of cases to make room.\n",
    "\n",
    "I chose the **minimum floor approach**, since it ensures smaller tools are represented enough for meaningful analysis and coder agreement checks.\n",
    "\n",
    "**Tradeoff:**\n",
    "\n",
    "-   *Proportional-only*: best if the goal is a population-level snapshot but leaves tiny strata nearly invisible.\n",
    "\n",
    "-   *Floor allocation*: best if we need to compare across tools.\n",
    "\n",
    "The final distribution for the double-coded sample is:"
   ],
   "id": "f8fa547e-4d46-499c-b7fa-c39fa2b1a830"
  },
  {
   "cell_type": "code",
   "execution_count": null,
   "metadata": {},
   "outputs": [
    {
     "output_type": "stream",
     "name": "stdout",
     "text": [
      "# A tibble: 5 × 2\n",
      "  tool_name                                               n\n",
      "  <chr>                                               <int>\n",
      "1 EJScreen                                              111\n",
      "2 Climate and Economic Justice Screening Tool (CEJST)    75\n",
      "3 Environmental Justice Index (EJI)                      19\n",
      "4 Climate Risk Viewer                                    11\n",
      "5 Future Risk Index (FRI)                                 6"
     ]
    }
   ],
   "source": [
    "set.seed(2025)\n",
    "\n",
    "# Load the dataset\n",
    "all_tools <- readRDS(here(\"05_cleaned_datasets\", \"all_tools.rds\")) %>%\n",
    "  janitor::clean_names() %>%\n",
    "  mutate(\n",
    "    year = as.integer(year),\n",
    "    study_id = dplyr::row_number()\n",
    "  )\n",
    "\n",
    "# Parameters\n",
    "TOTAL <- nrow(all_tools)               # should be 2212\n",
    "SAMPLE_TOTAL <- ceiling(TOTAL * 0.10)  # 10% => 217\n",
    "MIN_PER_TOOL <- 10                     # floor per tool\n",
    "EXPAND_TOTAL <- TRUE                   # expand total if needed\n",
    "\n",
    "# --------------------------------------------------------------------\n",
    "# Allocation with per-tool minimums, then proportional distribution\n",
    "# --------------------------------------------------------------------\n",
    "tool_counts <- all_tools %>%\n",
    "  count(tool_name, name = \"n_tool\") %>%\n",
    "  arrange(desc(n_tool))\n",
    "\n",
    "# Floors (min 10, capped at availability)\n",
    "floor_alloc <- tool_counts %>%\n",
    "  mutate(floor = pmin(n_tool, MIN_PER_TOOL))\n",
    "\n",
    "reserved <- sum(floor_alloc$floor)\n",
    "\n",
    "if (reserved > SAMPLE_TOTAL) {\n",
    "  if (EXPAND_TOTAL) {\n",
    "    SAMPLE_TOTAL <- reserved\n",
    "  } else {\n",
    "    stop(\"Minimum per-tool exceeds total sample. Lower MIN_PER_TOOL or allow expand.\")\n",
    "  }\n",
    "}\n",
    "\n",
    "remaining <- SAMPLE_TOTAL - reserved\n",
    "\n",
    "# Proportional extras after floors\n",
    "alloc <- floor_alloc %>%\n",
    "  mutate(capacity = pmax(0, n_tool - floor))\n",
    "\n",
    "if (remaining > 0 && sum(alloc$capacity) > 0) {\n",
    "  alloc <- alloc %>%\n",
    "    mutate(\n",
    "      weight     = capacity / sum(capacity),\n",
    "      extra_raw  = remaining * weight,\n",
    "      extra_base = floor(extra_raw),\n",
    "      remainder  = extra_raw - extra_base\n",
    "    )\n",
    "  leftover <- remaining - sum(alloc$extra_base)\n",
    "  alloc <- alloc %>%\n",
    "    arrange(desc(remainder)) %>%\n",
    "    mutate(extra = extra_base + if_else(row_number() <= leftover, 1L, 0L)) %>%\n",
    "    arrange(desc(n_tool))\n",
    "} else {\n",
    "  alloc <- alloc %>% mutate(extra = 0L)\n",
    "}\n",
    "\n",
    "# Final allocation\n",
    "alloc <- alloc %>%\n",
    "  mutate(alloc = pmin(n_tool, floor + extra))\n",
    "\n",
    "tool_alloc <- alloc %>%\n",
    "  select(tool_name, n_tool, alloc)\n",
    "\n",
    "stopifnot(sum(tool_alloc$alloc) == SAMPLE_TOTAL)\n",
    "\n",
    "# --------------------------------------------------------------------\n",
    "# Stratified random sample\n",
    "# --------------------------------------------------------------------\n",
    "orig_cols <- names(all_tools)\n",
    "\n",
    "sample_primary <- all_tools %>%\n",
    "  inner_join(tool_alloc, by = \"tool_name\") %>%\n",
    "  group_by(tool_name) %>%\n",
    "  group_modify(~ dplyr::slice_sample(.x, n = unique(.x$alloc))) %>%\n",
    "  ungroup() %>%\n",
    "  mutate(\n",
    "    double_code   = TRUE,\n",
    "    topic_cat     = NA_character_,\n",
    "    tool_use_type = NA_character_\n",
    "  ) %>%\n",
    "  select(all_of(orig_cols), double_code, topic_cat, tool_use_type)\n",
    "\n",
    "stopifnot(nrow(sample_primary) == SAMPLE_TOTAL)\n",
    "\n",
    "# --------------------------------------------------------------------\n",
    "# Save 05_cleaned_datasetss (to 05_cleaned_datasets/ folder)\n",
    "# --------------------------------------------------------------------\n",
    "sample_primary %>% count(tool_name) %>% arrange(desc(n)) %>% print()"
   ],
   "id": "cbd4bc37-9607-4ad1-a739-51974d4f2f36"
  },
  {
   "cell_type": "markdown",
   "metadata": {},
   "source": [
    "To support manual coding, I drafted an early codebook with candidate topic and tool use categories. Definitions, inclusion/exclusion criteria, and examples will be added as the coding scheme is refined."
   ],
   "id": "aa21a060-04e9-4036-8ac6-0ddb2dbd18eb"
  },
  {
   "cell_type": "code",
   "execution_count": null,
   "metadata": {},
   "outputs": [],
   "source": [
    "# Starter codebook for manual coding\n",
    "topic_levels <- c(\n",
    "  \"Air quality / pollution\",\n",
    "  \"Health impacts\",\n",
    "  \"Extreme heat / climate risk\",\n",
    "  \"Transportation\",\n",
    "  \"Land use / housing\",\n",
    "  \"Energy / utilities\",\n",
    "  \"Water / flooding\",\n",
    "  \"Equity / policy & governance\"\n",
    ")\n",
    "\n",
    "tool_use_levels <- c(\n",
    "  \"Applied (used for analysis/targeting)\",\n",
    "  \"Evaluated (validated/benchmarked the tool)\",\n",
    "  \"Critiqued (limitations/methodological critique)\",\n",
    "  \"Mentioned/Context (used for background)\"\n",
    ")\n",
    "\n",
    "codebook <- tibble::tibble(\n",
    "  variable   = c(rep(\"topic_cat\", length(topic_levels)),\n",
    "                 rep(\"tool_use_type\", length(tool_use_levels))),\n",
    "  code       = c(topic_levels, tool_use_levels),\n",
    "  definition = NA_character_,   # fill in\n",
    "  include_if = NA_character_,   # fill in\n",
    "  exclude_if = NA_character_,   # fill in\n",
    "  examples   = NA_character_    # fill in small examples/keywords\n",
    ")\n",
    "\n",
    "readr::write_csv(codebook, here(\"05_cleaned_datasets\", \"codebook_topic_tool_use.csv\"))"
   ],
   "id": "59db55dd-a5c4-4955-adf0-69ca11fe2aba"
  },
  {
   "cell_type": "markdown",
   "metadata": {},
   "source": [
    "### Inter-rater agreement\n",
    "\n",
    "Before running the analysis, I’ll import two datasets that my colleagues and I collaborated on. These datasets include our manual categorizations of studies and their publishers.\n",
    "\n",
    "**1. Study-level data**\n",
    "\n",
    "-   `all_studies_ira.csv`: A collaborator and I manually categorized publishers for about **10% of the sample**. This dataset is used to calculate **inter-rater agreement (IRA)** and identify where our categorizations differed or aligned.\n",
    "-   `all_studies_finalized.csv`: This is the **final dataset** after we reviewed disagreements and reached consensus. We updated the **codebook** accordingly, and applied the final categories to the full dataset. I will use this version for analyzing relevant research questions.\n",
    "    -   The corresponding codebook, **`codebook_studies.csv`**, is located in the `codebooks/` folder.\n",
    "    -   It defines **four categories** of study classification like applied, mentioned/context, etc. for a total of **10 subcategories.**\n",
    "\n",
    "**2. Publisher-level data**\n",
    "\n",
    "-   `all_publishers_ira.csv`: Similar to the studies dataset, a collaborator and I manually categorized about **11% of publishers**. This subset is used to assess IRA.\n",
    "-   `all_publishers_finalized.csv`: The **finalized version** after resolving disagreements and updating the codebook. I will use this version for analyzing relevant research questions.\n",
    "    -   The corresponding codebook, `codebook_publishers.csv`, is in the `codebooks/` folder.\n",
    "    -   It defines **10 publisher types**, ranging from *commercial academic publishers* to *grey literature platforms*.\n",
    "\n",
    "The first step in this analysis is to calculate **inter-rater agreement (IRA)** at both the study and publisher levels using **Cohen’s kappa**, a statistical measure of rater agreement.\n",
    "\n",
    "I chose this approach because relying on a single person to categorize studies or publishers can introduce bias. With two collaborators independently code each dataset, I can identify where our classifications **converge** and **diverge**, and quantify that level of agreement.\n",
    "\n",
    "Cohen’s kappa adjusts for agreement that occurs **by chance** and produces a value between **–1 and +1**, where –1 indicates no agreement and +1 indicates almost perfect agreement. In practice, it functions like a **correlation coefficient** based on a cross-tabulation of each rater’s classifications.\n",
    "\n",
    "As McHugh (2012) explains, *“the squaring of kappa translates conceptually to the amount of accuracy (i.e., the reverse of error) in the data due to congruence among the data collectors.”*\n",
    "\n",
    "**Interpretation of Cohen’s kappa** \\[@mchugh2012\\]\n",
    "\n",
    "| Value of Kappa | Level of Agreement | % of Data that are Reliable |\n",
    "|:--------------:|:------------------:|:---------------------------:|\n",
    "|     0–.20      |        None        |            0–4%             |\n",
    "|    .21–.39     |      Minimal       |            4–15%            |\n",
    "|    .40–.59     |        Weak        |           15–35%            |\n",
    "|    .60–.79     |      Moderate      |           35–63%            |\n",
    "|    .80–.90     |       Strong       |           64–81%            |\n",
    "|    Above.90    |   Almost Perfect   |           82–100%           |\n",
    "\n",
    "A good resource that I’m following for IRA is *Cohen’s Kappa in R: For Two Categorical Variables* \\[@datanovia2025\\]. Another is the *agreement package:* <https://github.com/jmgirard/agreement>.\n",
    "\n",
    "#### **1. Publisher-level data**\n",
    "\n",
    "Cohen’s κ = 0.89 (95 % CI \\[0.79, 0.99\\], p \\< 0.001) indicates **almost perfect agreement** between the two raters according to McHugh (2012). The raw percent agreement was 91 %, which higlights strong consistency between raters in categorizing publisher types.\n",
    "\n",
    "Here’s how to read the results table:\n",
    "\n",
    "| Metric | Value | Interpretation |\n",
    "|---------------------|-------------------|--------------------------------|\n",
    "| **Percent agreement** | `0.909` (≈ 91%) | Raw proportion of identical ratings — shows high agreement overall |\n",
    "| **Unweighted Cohen’s κ** | `0.8935` | Agreement beyond chance |\n",
    "| **Weighted Cohen’s κ** | `0.8602` | Takes into account partial agreement (useful for *ordinal* data — not critical here) |\n",
    "| **ASE** (Asymptotic Std. Error) | `0.0505` | Measures uncertainty of κ estimate |\n",
    "| **z** | `17.69` | Test statistic for H₀ : κ = 0 (no agreement beyond chance) |\n",
    "| **p-value** | `4.78 × 10⁻⁷⁰` | Extremely small → reject H₀; the raters’ agreement is highly significant |\n",
    "| **95% CI (Unweighted)** | 0.79 – 0.99 | Even the lower bound (0.79) indicates strong agreement |\n",
    "\n",
    "**Note on sample size for inter-rater agreement** Although the full dataset (`all_publishers_ira.csv`) contains 387 records, only the first 44 rows were double-coded by both raters (11% of the sample).\n",
    "\n",
    "The remaining rows include missing or unassigned categories for at least one rater. Because `table()` in R automatically excludes `NA` values when computing cross-tabulations, the Cohen’s Kappa and percent agreement calculations below are effectively based on those 44 complete cases.\n",
    "\n",
    "So, this code can be reused with any dataset of similar structure without needing to hardcode a row range. The computation will always use only non-missing, valid pairs of rater classifications."
   ],
   "id": "7ad7792c-8cfc-4d4c-87dd-73c0927da52b"
  },
  {
   "cell_type": "code",
   "execution_count": null,
   "metadata": {},
   "outputs": [
    {
     "output_type": "stream",
     "name": "stdout",
     "text": [
      "            value     ASE     z  Pr(>|z|)\n",
      "Unweighted 0.8935 0.05050 17.69 4.780e-70\n",
      "Weighted   0.8602 0.07517 11.44 2.536e-30"
     ]
    },
    {
     "output_type": "stream",
     "name": "stdout",
     "text": [
      "            \n",
      "Kappa              lwr      upr\n",
      "  Unweighted 0.7944860 0.992439\n",
      "  Weighted   0.7129097 1.000000"
     ]
    },
    {
     "output_type": "stream",
     "name": "stdout",
     "text": [
      "[1] 0.9090909"
     ]
    }
   ],
   "source": [
    "# Import publisher file\n",
    "all_publishers_ira <- readr::read_csv(\n",
    "  here::here(\"02_processed_data\", \"all_publishers_ira.csv\"),\n",
    "  show_col_types = FALSE,\n",
    "  na = c(\"\", \"NA\", \"N/A\", \"NULL\")\n",
    ")\n",
    "\n",
    "# Enforce types\n",
    "all_publishers_ira <- all_publishers_ira |>\n",
    "  mutate(\n",
    "    publisher        = as.character(publisher),\n",
    "    n                = as.integer(n),\n",
    "    pub_type_rater_1 = as.character(pub_type_rater_1),\n",
    "    pub_type_rater_2 = as.character(pub_type_rater_2),\n",
    "    description      = as.character(description)\n",
    "  )\n",
    "\n",
    "# Define category levels\n",
    "kappa_levels <- c(\n",
    "  \"Commercial academic publishers\",\n",
    "  \"University presses\",\n",
    "  \"Open access publishers\",\n",
    "  \"Preprint / working paper servers\",\n",
    "  \"Government repositories\",\n",
    "  \"Legal / policy databases\",\n",
    "  \"University / institutional repositories\",\n",
    "  \"Grey literature platforms\",\n",
    "  \"Scholarly society / association publishers\",\n",
    "  \"None/Unknown\"\n",
    ")\n",
    "\n",
    "# Apply factor levels\n",
    "all_publishers_ira <- all_publishers_ira |>\n",
    "  mutate(\n",
    "    pub_type_rater_1 = factor(pub_type_rater_1, levels = kappa_levels),\n",
    "    pub_type_rater_2 = factor(pub_type_rater_2, levels = kappa_levels)\n",
    "  )\n",
    "\n",
    "# Use to check for the recoding results\n",
    "# table(all_publishers_ira$pub_type_rater_1, useNA = \"ifany\")\n",
    "# table(all_publishers_ira$pub_type_rater_2, useNA = \"ifany\")\n",
    "\n",
    "# Build contingency table and compute Cohen's Kappa\n",
    "# (Unweighted Kappa corresponds to Cohen’s kappa for two raters)\n",
    "tab_10x10 <- table(\n",
    "  Rater1 = all_publishers_ira$pub_type_rater_1,\n",
    "  Rater2 = all_publishers_ira$pub_type_rater_2\n",
    ")\n",
    "\n",
    "kappa_res <- vcd::Kappa(tab_10x10)\n",
    "\n",
    "kappa_res"
   ],
   "id": "4888cbd4-448c-4a04-83e8-e87df04aa181"
  },
  {
   "cell_type": "markdown",
   "metadata": {},
   "source": [
    "#### **2. Study-level data**"
   ],
   "id": "fe484098-f47f-4fa1-8673-4072596ab8ce"
  },
  {
   "cell_type": "code",
   "execution_count": null,
   "metadata": {},
   "outputs": [
    {
     "output_type": "stream",
     "name": "stdout",
     "text": [
      "[1] 0.3921569"
     ]
    },
    {
     "output_type": "stream",
     "name": "stdout",
     "text": [
      "[1] 0.3221154"
     ]
    },
    {
     "output_type": "stream",
     "name": "stdout",
     "text": [
      "            value     ASE     z  Pr(>|z|)\n",
      "Unweighted 0.3179 0.03726 8.534 1.415e-17\n",
      "Weighted   0.3338 0.05020 6.649 2.956e-11"
     ]
    },
    {
     "output_type": "stream",
     "name": "stdout",
     "text": [
      "            \n",
      "Kappa              lwr       upr\n",
      "  Unweighted 0.2449245 0.3909685\n",
      "  Weighted   0.2353783 0.4321608"
     ]
    },
    {
     "output_type": "stream",
     "name": "stdout",
     "text": [
      "[1] 0.3921569"
     ]
    },
    {
     "output_type": "stream",
     "name": "stdout",
     "text": [
      "            value     ASE     z  Pr(>|z|)\n",
      "Unweighted 0.1561 0.03340 4.673 2.966e-06\n",
      "Weighted   0.2037 0.04214 4.834 1.336e-06"
     ]
    },
    {
     "output_type": "stream",
     "name": "stdout",
     "text": [
      "            \n",
      "Kappa               lwr       upr\n",
      "  Unweighted 0.09063148 0.2215718\n",
      "  Weighted   0.12112305 0.2863082"
     ]
    },
    {
     "output_type": "stream",
     "name": "stdout",
     "text": [
      "[1] 0.3221154"
     ]
    },
    {
     "output_type": "stream",
     "name": "stdout",
     "text": [
      "# A tibble: 2 × 4\n",
      "  variable      kappa_unweighted kappa_weighted percent_agreement\n",
      "  <chr>                    <dbl>          <dbl>             <dbl>\n",
      "1 topic_cat                0.318          0.334             0.392\n",
      "2 tool_use_type            0.156          0.204             0.322"
     ]
    }
   ],
   "source": [
    "# Import publisher file\n",
    "sample_studies_ira <- readr::read_csv(\n",
    "  here::here(\"02_processed_data\", \"double_code_sample_ira.csv\"),\n",
    "  show_col_types = FALSE,\n",
    "  na = c(\"\", \"NA\", \"N/A\", \"NULL\")\n",
    ")\n",
    "\n",
    "# Enforce types ONLY for IRA-relavent variables\n",
    "sample_studies_ira <- sample_studies_ira %>%\n",
    "  mutate(\n",
    "    topic_cat_rater_1      = as.character(topic_cat_rater_1),\n",
    "    topic_cat_rater_2      = as.character(topic_cat_rater_2),\n",
    "    tool_use_type_rater_1  = as.character(tool_use_type_rater_1),\n",
    "    tool_use_type_rater_2  = as.character(tool_use_type_rater_2)\n",
    "  )\n",
    "\n",
    "# Define factor levels\n",
    "topic_levels <- c(\n",
    "  \"Air quality & pollution\",\n",
    "  \"Health & well-being\",\n",
    "  \"Climate hazards & risks\",\n",
    "  \"Transit, mobility & transportation\",\n",
    "  \"Land use, housing & built environment infrastructure\",\n",
    "  \"Energy & decarbonization\",\n",
    "  \"Water resources & flooding\",\n",
    "  \"Natural environment, resources & ecosystems\",\n",
    "  \"Governance, policy & institutional frameworks\",\n",
    "  \"Equity and justice\",\n",
    "  \"Economy, labor & development\",\n",
    "  \"Community engagement & knowledge\",\n",
    "  \"Other\"\n",
    ")\n",
    "\n",
    "tool_use_levels <- c(\n",
    "  \"Applied\",\n",
    "  \"Evaluated\",\n",
    "  \"Critiqued\",\n",
    "  \"Mentioned/Context\",\n",
    "  \"None\"\n",
    ")\n",
    "\n",
    "# Apply factor levels\n",
    "sample_studies_ira <- sample_studies_ira %>%\n",
    "  mutate(\n",
    "    topic_cat_rater_1     = factor(topic_cat_rater_1,     levels = topic_levels),\n",
    "    topic_cat_rater_2     = factor(topic_cat_rater_2,     levels = topic_levels),\n",
    "    tool_use_type_rater_1 = factor(tool_use_type_rater_1, levels = tool_use_levels),\n",
    "    tool_use_type_rater_2 = factor(tool_use_type_rater_2, levels = tool_use_levels)\n",
    "  )\n",
    "\n",
    "# Compute Cohen's kappa for TOPIC\n",
    "tab_topic <- table(\n",
    "  Rater1 = sample_studies_ira$topic_cat_rater_1,\n",
    "  Rater2 = sample_studies_ira$topic_cat_rater_2\n",
    ")\n",
    "kappa_topic <- vcd::Kappa(tab_topic)\n",
    "pa_topic <- mean(\n",
    "  sample_studies_ira$topic_cat_rater_1 == sample_studies_ira$topic_cat_rater_2,\n",
    "  na.rm = TRUE\n",
    ")\n",
    "\n",
    "# Compute Cohen's kappa for TOOL USE TYP\n",
    "tab_tool <- table(\n",
    "  Rater1 = sample_studies_ira$tool_use_type_rater_1,\n",
    "  Rater2 = sample_studies_ira$tool_use_type_rater_2\n",
    ")\n",
    "kappa_tool <- vcd::Kappa(tab_tool)\n",
    "pa_tool <- mean(\n",
    "  sample_studies_ira$tool_use_type_rater_1 == sample_studies_ira$tool_use_type_rater_2,\n",
    "  na.rm = TRUE\n",
    ")\n",
    "\n",
    "# Simple percent agreement for TOPIC\n",
    "percent_agreement_topic <- mean(\n",
    "  sample_studies_ira$topic_cat_rater_1 == sample_studies_ira$topic_cat_rater_2,\n",
    "  na.rm = TRUE\n",
    ")\n",
    "percent_agreement_topic"
   ],
   "id": "cdea046e-d0d7-4c55-a5b2-6f3fc9179d81"
  },
  {
   "cell_type": "markdown",
   "metadata": {},
   "source": [
    "### Research questions\n",
    "\n",
    "#### Research question 1\n",
    "\n",
    "I will look at each question one by one and clean the data as I go. I will organize the data during the analysis before exploring the results. I’ll also export intermediate results into tidy CSV files so they are ready for further visualization and exploration.\n",
    "\n",
    "How many research papers or studies have cited or relied on five U.S. federal climate and environmental tools that are threatened, not being maintained, or no longer available?\n",
    "\n",
    "##### Total number of studies"
   ],
   "id": "0b1378f1-b074-4438-8ff3-0ec095b09765"
  },
  {
   "cell_type": "code",
   "execution_count": null,
   "metadata": {},
   "outputs": [
    {
     "output_type": "stream",
     "name": "stdout",
     "text": [
      "[1] 2212"
     ]
    }
   ],
   "source": [
    "nrow (all_tools)"
   ],
   "id": "788fdaf0-2372-4e72-9355-c4d737027afb"
  },
  {
   "cell_type": "markdown",
   "metadata": {},
   "source": [
    "##### Count of studies per tool"
   ],
   "id": "00b06125-3138-4fae-b159-8159d889aa8a"
  },
  {
   "cell_type": "code",
   "execution_count": null,
   "metadata": {},
   "outputs": [
    {
     "output_type": "display_data",
     "metadata": {},
     "data": {
      "text/html": [
       "<div class=\"highchart html-widget html-fill-item\" id=\"htmlwidget-d2c77845a38e9adec13c\" style=\"width:100%;height:464px;\"></div>\n",
       "<script type=\"application/json\" data-for=\"htmlwidget-d2c77845a38e9adec13c\">{\"x\":{\"hc_opts\":{\"chart\":{\"reflow\":true},\"title\":{\"text\":\"Number of studies by tool\"},\"yAxis\":{\"title\":{\"text\":\"Number of studies\"},\"type\":\"linear\",\"allowDecimals\":false},\"credits\":{\"enabled\":false},\"exporting\":{\"enabled\":true},\"boost\":{\"enabled\":false},\"plotOptions\":{\"series\":{\"label\":{\"enabled\":false},\"turboThreshold\":0,\"showInLegend\":false},\"treemap\":{\"layoutAlgorithm\":\"squarified\"},\"scatter\":{\"marker\":{\"symbol\":\"circle\"}}},\"series\":[{\"group\":\"group\",\"data\":[{\"tool_name\":\"EJScreen\",\"n_studies\":1258,\"y\":1258,\"name\":\"EJScreen\"},{\"tool_name\":\"Climate and Economic Justice Screening Tool (CEJST)\",\"n_studies\":808,\"y\":808,\"name\":\"Climate and Economic Justice Screening Tool (CEJST)\"},{\"tool_name\":\"Environmental Justice Index (EJI)\",\"n_studies\":116,\"y\":116,\"name\":\"Environmental Justice Index (EJI)\"},{\"tool_name\":\"Climate Risk Viewer\",\"n_studies\":24,\"y\":24,\"name\":\"Climate Risk Viewer\"},{\"tool_name\":\"Future Risk Index (FRI)\",\"n_studies\":6,\"y\":6,\"name\":\"Future Risk Index (FRI)\"}],\"type\":\"column\"}],\"xAxis\":{\"type\":\"category\",\"title\":{\"text\":\"Tool\"}},\"subtitle\":{\"text\":\"Total count of research papers citing or relying on each tool\"},\"tooltip\":{\"pointFormat\":\"<b>{point.y}<\\/b> studies\"},\"legend\":{\"enabled\":false}},\"theme\":{\"chart\":{\"backgroundColor\":\"transparent\"},\"colors\":[\"#7cb5ec\",\"#434348\",\"#90ed7d\",\"#f7a35c\",\"#8085e9\",\"#f15c80\",\"#e4d354\",\"#2b908f\",\"#f45b5b\",\"#91e8e1\"]},\"conf_opts\":{\"global\":{\"Date\":null,\"VMLRadialGradientURL\":\"http =//code.highcharts.com/list(version)/gfx/vml-radial-gradient.png\",\"canvasToolsURL\":\"http =//code.highcharts.com/list(version)/modules/canvas-tools.js\",\"getTimezoneOffset\":null,\"timezoneOffset\":0,\"useUTC\":true},\"lang\":{\"contextButtonTitle\":\"Chart context menu\",\"decimalPoint\":\".\",\"downloadCSV\":\"Download CSV\",\"downloadJPEG\":\"Download JPEG image\",\"downloadPDF\":\"Download PDF document\",\"downloadPNG\":\"Download PNG image\",\"downloadSVG\":\"Download SVG vector image\",\"downloadXLS\":\"Download XLS\",\"drillUpText\":\"◁ Back to {series.name}\",\"exitFullscreen\":\"Exit from full screen\",\"exportData\":{\"annotationHeader\":\"Annotations\",\"categoryDatetimeHeader\":\"DateTime\",\"categoryHeader\":\"Category\"},\"hideData\":\"Hide data table\",\"invalidDate\":null,\"loading\":\"Loading...\",\"months\":[\"January\",\"February\",\"March\",\"April\",\"May\",\"June\",\"July\",\"August\",\"September\",\"October\",\"November\",\"December\"],\"noData\":\"No data to display\",\"numericSymbolMagnitude\":1000,\"numericSymbols\":[\"k\",\"M\",\"G\",\"T\",\"P\",\"E\"],\"printChart\":\"Print chart\",\"resetZoom\":\"Reset zoom\",\"resetZoomTitle\":\"Reset zoom level 1:1\",\"shortMonths\":[\"Jan\",\"Feb\",\"Mar\",\"Apr\",\"May\",\"Jun\",\"Jul\",\"Aug\",\"Sep\",\"Oct\",\"Nov\",\"Dec\"],\"shortWeekdays\":[\"Sat\",\"Sun\",\"Mon\",\"Tue\",\"Wed\",\"Thu\",\"Fri\"],\"thousandsSep\":\" \",\"viewData\":\"View data table\",\"viewFullscreen\":\"View in full screen\",\"weekdays\":[\"Sunday\",\"Monday\",\"Tuesday\",\"Wednesday\",\"Thursday\",\"Friday\",\"Saturday\"]}},\"type\":\"chart\",\"fonts\":[],\"debug\":false},\"evals\":[],\"jsHooks\":[]}</script>"
      ]
     }
    }
   ],
   "source": [
    "df_tool <- all_tools %>%\n",
    "  count(tool_name, name = \"n_studies\") %>%\n",
    "  arrange(desc(n_studies))\n",
    "\n",
    "hchart(df_tool, \"column\", hcaes(x = tool_name, y = n_studies)) %>%\n",
    "  hc_title(text = \"Number of studies by tool\") %>%\n",
    "  hc_subtitle(text = \"Total count of research papers citing or relying on each tool\") %>%\n",
    "  hc_xAxis(title = list(text = \"Tool\")) %>%\n",
    "  hc_yAxis(title = list(text = \"Number of studies\"), allowDecimals = FALSE) %>%\n",
    "  hc_tooltip(pointFormat = \"<b>{point.y}</b> studies\") %>%\n",
    "  hc_legend(enabled = FALSE) %>%\n",
    "  hc_exporting(enabled = TRUE)"
   ],
   "id": "277bb5c9-5e1c-46cb-9c47-7d821436c9f5"
  },
  {
   "cell_type": "markdown",
   "metadata": {},
   "source": [
    "##### Count of studies per year per tool"
   ],
   "id": "eb9499d3-fb0d-4933-914f-9e4dad3e4219"
  },
  {
   "cell_type": "code",
   "execution_count": null,
   "metadata": {},
   "outputs": [
    {
     "output_type": "display_data",
     "metadata": {},
     "data": {
      "text/html": [
       "<div class=\"highchart html-widget html-fill-item\" id=\"htmlwidget-7304299373118d594d9b\" style=\"width:100%;height:464px;\"></div>\n",
       "<script type=\"application/json\" data-for=\"htmlwidget-7304299373118d594d9b\">{\"x\":{\"hc_opts\":{\"chart\":{\"reflow\":true},\"title\":{\"text\":\"Studies over time by tool\"},\"yAxis\":{\"title\":{\"text\":\"Number of studies\"},\"type\":\"linear\",\"allowDecimals\":false},\"credits\":{\"enabled\":false},\"exporting\":{\"enabled\":true},\"boost\":{\"enabled\":false},\"plotOptions\":{\"series\":{\"label\":{\"enabled\":false},\"turboThreshold\":0,\"showInLegend\":true},\"treemap\":{\"layoutAlgorithm\":\"squarified\"},\"scatter\":{\"marker\":{\"symbol\":\"circle\"}}},\"series\":[{\"name\":\"Climate Risk Viewer\",\"data\":[{\"tool_name\":\"Climate Risk Viewer\",\"year\":2023,\"n_studies\":3,\"x\":2023,\"y\":3},{\"tool_name\":\"Climate Risk Viewer\",\"year\":2024,\"n_studies\":14,\"x\":2024,\"y\":14},{\"tool_name\":\"Climate Risk Viewer\",\"year\":2025,\"n_studies\":4,\"x\":2025,\"y\":4}],\"type\":\"line\"},{\"name\":\"Climate and Economic Justice Screening Tool (CEJST)\",\"data\":[{\"tool_name\":\"Climate and Economic Justice Screening Tool (CEJST)\",\"year\":2022,\"n_studies\":100,\"x\":2022,\"y\":100},{\"tool_name\":\"Climate and Economic Justice Screening Tool (CEJST)\",\"year\":2023,\"n_studies\":197,\"x\":2023,\"y\":197},{\"tool_name\":\"Climate and Economic Justice Screening Tool (CEJST)\",\"year\":2024,\"n_studies\":303,\"x\":2024,\"y\":303},{\"tool_name\":\"Climate and Economic Justice Screening Tool (CEJST)\",\"year\":2025,\"n_studies\":161,\"x\":2025,\"y\":161}],\"type\":\"line\"},{\"name\":\"EJScreen\",\"data\":[{\"tool_name\":\"EJScreen\",\"year\":2016,\"n_studies\":7,\"x\":2016,\"y\":7},{\"tool_name\":\"EJScreen\",\"year\":2017,\"n_studies\":1,\"x\":2017,\"y\":1},{\"tool_name\":\"EJScreen\",\"year\":2018,\"n_studies\":7,\"x\":2018,\"y\":7},{\"tool_name\":\"EJScreen\",\"year\":2019,\"n_studies\":6,\"x\":2019,\"y\":6},{\"tool_name\":\"EJScreen\",\"year\":2020,\"n_studies\":10,\"x\":2020,\"y\":10},{\"tool_name\":\"EJScreen\",\"year\":2021,\"n_studies\":58,\"x\":2021,\"y\":58},{\"tool_name\":\"EJScreen\",\"year\":2022,\"n_studies\":275,\"x\":2022,\"y\":275},{\"tool_name\":\"EJScreen\",\"year\":2023,\"n_studies\":295,\"x\":2023,\"y\":295},{\"tool_name\":\"EJScreen\",\"year\":2024,\"n_studies\":342,\"x\":2024,\"y\":342},{\"tool_name\":\"EJScreen\",\"year\":2025,\"n_studies\":196,\"x\":2025,\"y\":196}],\"type\":\"line\"},{\"name\":\"Environmental Justice Index (EJI)\",\"data\":[{\"tool_name\":\"Environmental Justice Index (EJI)\",\"year\":2022,\"n_studies\":1,\"x\":2022,\"y\":1},{\"tool_name\":\"Environmental Justice Index (EJI)\",\"year\":2023,\"n_studies\":14,\"x\":2023,\"y\":14},{\"tool_name\":\"Environmental Justice Index (EJI)\",\"year\":2024,\"n_studies\":51,\"x\":2024,\"y\":51},{\"tool_name\":\"Environmental Justice Index (EJI)\",\"year\":2025,\"n_studies\":47,\"x\":2025,\"y\":47}],\"type\":\"line\"},{\"name\":\"Future Risk Index (FRI)\",\"data\":[{\"tool_name\":\"Future Risk Index (FRI)\",\"year\":2024,\"n_studies\":3,\"x\":2024,\"y\":3},{\"tool_name\":\"Future Risk Index (FRI)\",\"year\":2025,\"n_studies\":2,\"x\":2025,\"y\":2}],\"type\":\"line\"}],\"xAxis\":{\"type\":\"linear\",\"title\":{\"text\":\"Year\"},\"allowDecimals\":false},\"subtitle\":{\"text\":\"Annual counts of studies citing or relying on each tool\"},\"tooltip\":{\"shared\":true,\"crosshairs\":true,\"headerFormat\":\"<b>Year: {point.key}<\\/b><br/>\",\"pointFormat\":\"{series.name}: <b>{point.y}<\\/b><br/>\"},\"legend\":{\"title\":{\"text\":\"Tool\"}}},\"theme\":{\"chart\":{\"backgroundColor\":\"transparent\"},\"colors\":[\"#7cb5ec\",\"#434348\",\"#90ed7d\",\"#f7a35c\",\"#8085e9\",\"#f15c80\",\"#e4d354\",\"#2b908f\",\"#f45b5b\",\"#91e8e1\"]},\"conf_opts\":{\"global\":{\"Date\":null,\"VMLRadialGradientURL\":\"http =//code.highcharts.com/list(version)/gfx/vml-radial-gradient.png\",\"canvasToolsURL\":\"http =//code.highcharts.com/list(version)/modules/canvas-tools.js\",\"getTimezoneOffset\":null,\"timezoneOffset\":0,\"useUTC\":true},\"lang\":{\"contextButtonTitle\":\"Chart context menu\",\"decimalPoint\":\".\",\"downloadCSV\":\"Download CSV\",\"downloadJPEG\":\"Download JPEG image\",\"downloadPDF\":\"Download PDF document\",\"downloadPNG\":\"Download PNG image\",\"downloadSVG\":\"Download SVG vector image\",\"downloadXLS\":\"Download XLS\",\"drillUpText\":\"◁ Back to {series.name}\",\"exitFullscreen\":\"Exit from full screen\",\"exportData\":{\"annotationHeader\":\"Annotations\",\"categoryDatetimeHeader\":\"DateTime\",\"categoryHeader\":\"Category\"},\"hideData\":\"Hide data table\",\"invalidDate\":null,\"loading\":\"Loading...\",\"months\":[\"January\",\"February\",\"March\",\"April\",\"May\",\"June\",\"July\",\"August\",\"September\",\"October\",\"November\",\"December\"],\"noData\":\"No data to display\",\"numericSymbolMagnitude\":1000,\"numericSymbols\":[\"k\",\"M\",\"G\",\"T\",\"P\",\"E\"],\"printChart\":\"Print chart\",\"resetZoom\":\"Reset zoom\",\"resetZoomTitle\":\"Reset zoom level 1:1\",\"shortMonths\":[\"Jan\",\"Feb\",\"Mar\",\"Apr\",\"May\",\"Jun\",\"Jul\",\"Aug\",\"Sep\",\"Oct\",\"Nov\",\"Dec\"],\"shortWeekdays\":[\"Sat\",\"Sun\",\"Mon\",\"Tue\",\"Wed\",\"Thu\",\"Fri\"],\"thousandsSep\":\" \",\"viewData\":\"View data table\",\"viewFullscreen\":\"View in full screen\",\"weekdays\":[\"Sunday\",\"Monday\",\"Tuesday\",\"Wednesday\",\"Thursday\",\"Friday\",\"Saturday\"]}},\"type\":\"chart\",\"fonts\":[],\"debug\":false},\"evals\":[],\"jsHooks\":[]}</script>"
      ]
     }
    }
   ],
   "source": [
    "df_year_tool <- all_tools %>%\n",
    "  filter(!is.na(year)) %>%\n",
    "  count(tool_name, year, name = \"n_studies\") %>%\n",
    "  arrange(tool_name, year)\n",
    "\n",
    "hchart(\n",
    "  df_year_tool,\n",
    "  \"line\",\n",
    "  hcaes(x = year, y = n_studies, group = tool_name)\n",
    ") %>%\n",
    "  hc_title(text = \"Studies over time by tool\") %>%\n",
    "  hc_subtitle(text = \"Annual counts of studies citing or relying on each tool\") %>%\n",
    "  hc_xAxis(title = list(text = \"Year\"), allowDecimals = FALSE) %>%\n",
    "  hc_yAxis(title = list(text = \"Number of studies\"), allowDecimals = FALSE) %>%\n",
    "  hc_tooltip(shared = TRUE, crosshairs = TRUE,\n",
    "             headerFormat = \"<b>Year: {point.key}</b><br/>\",\n",
    "             pointFormat = \"{series.name}: <b>{point.y}</b><br/>\") %>%\n",
    "  hc_legend(title = list(text = \"Tool\")) %>%\n",
    "  hc_exporting(enabled = TRUE)"
   ],
   "id": "cfc9c138-e826-4b06-9709-cb243b361692"
  },
  {
   "cell_type": "markdown",
   "metadata": {},
   "source": [
    "##### Top 10 most cited studies overall per tool"
   ],
   "id": "87bb69a3-19e5-4fa8-93d5-98913a7e61d8"
  },
  {
   "cell_type": "code",
   "execution_count": null,
   "metadata": {},
   "outputs": [
    {
     "output_type": "stream",
     "name": "stdout",
     "text": [
      "# A tibble: 46 × 5\n",
      "   tool_name            year title                                 cites authors\n",
      "   <chr>               <int> <chr>                                 <int> <chr>  \n",
      " 1 Climate Risk Viewer  2024 Transition versus physical climate r…   234 G Bua,…\n",
      " 2 Climate Risk Viewer    NA USDA Forest Service                      28 I Fore…\n",
      " 3 Climate Risk Viewer  2024 Physical and transition risk premium…    15 JV Bat…\n",
      " 4 Climate Risk Viewer  2024 Perceived climate risk and stock pri…    13 H Ben …\n",
      " 5 Climate Risk Viewer  2023 Measuring the climate risk exposure …    13 H Jung…\n",
      " 6 Climate Risk Viewer  2024 A practical framework for applied fo…     7 AD Bow…\n",
      " 7 Climate Risk Viewer  2024 Physical climate risk factors and an…     6 H Jung…\n",
      " 8 Climate Risk Viewer  2025 Land of opportunity: potential for r…     6 T Mai,…\n",
      " 9 Climate Risk Viewer  2024 Climate risks, corporate bonds, and …     5 V Lalw…\n",
      "10 Climate Risk Viewer  2023 Firm-specific climate risk estimated…     3 T Dang…\n",
      "# ℹ 36 more rows"
     ]
    }
   ],
   "source": [
    "df_top_cites <- all_tools %>%\n",
    "  filter(!is.na(cites)) %>%\n",
    "  group_by(tool_name) %>%\n",
    "  slice_max(order_by = cites, n = 10, with_ties = FALSE) %>%\n",
    "  ungroup() %>%\n",
    "  select(tool_name, year, title, cites, authors) %>%\n",
    "  arrange(tool_name, desc(cites))\n",
    "\n",
    "# Show table (optional)\n",
    "df_top_cites"
   ],
   "id": "254752e9-8d51-4779-bdfe-a318637bc507"
  },
  {
   "cell_type": "markdown",
   "metadata": {},
   "source": [
    "##### Top 10 highest `cites_per_year` per tool\n",
    "\n",
    "This shows which studies are “most cited relative to their age.”"
   ],
   "id": "9d0fbd2d-5f4e-49d2-9e2b-1de898b16b40"
  },
  {
   "cell_type": "code",
   "execution_count": null,
   "metadata": {},
   "outputs": [
    {
     "output_type": "stream",
     "name": "stdout",
     "text": [
      "# A tibble: 46 × 6\n",
      "   tool_name            year title                  cites_per_year cites authors\n",
      "   <chr>               <int> <chr>                           <dbl> <int> <chr>  \n",
      " 1 Climate Risk Viewer  2024 Transition versus phy…          234     234 G Bua,…\n",
      " 2 Climate Risk Viewer  2024 Physical and transiti…           15      15 JV Bat…\n",
      " 3 Climate Risk Viewer  2024 Perceived climate ris…           13      13 H Ben …\n",
      " 4 Climate Risk Viewer  2024 A practical framework…            7       7 AD Bow…\n",
      " 5 Climate Risk Viewer  2023 Measuring the climate…            6.5    13 H Jung…\n",
      " 6 Climate Risk Viewer  2024 Physical climate risk…            6       6 H Jung…\n",
      " 7 Climate Risk Viewer  2025 Land of opportunity: …            6       6 T Mai,…\n",
      " 8 Climate Risk Viewer  2024 Climate risks, corpor…            5       5 V Lalw…\n",
      " 9 Climate Risk Viewer  2023 Firm-specific climate…            1.5     3 T Dang…\n",
      "10 Climate Risk Viewer  2025 Climate Extrapolation…            1       1 G Verd…\n",
      "# ℹ 36 more rows"
     ]
    },
    {
     "output_type": "display_data",
     "metadata": {},
     "data": {
      "text/html": [
       "<div class=\"highchart html-widget html-fill-item\" id=\"htmlwidget-31e1d2e86d5a1886ba67\" style=\"width:100%;height:464px;\"></div>\n",
       "<script type=\"application/json\" data-for=\"htmlwidget-31e1d2e86d5a1886ba67\">{\"x\":{\"hc_opts\":{\"chart\":{\"reflow\":true},\"title\":{\"text\":\"Top 10 studies by cites per year, per tool\"},\"yAxis\":{\"title\":{\"text\":\"Cites per year\"},\"type\":\"linear\"},\"credits\":{\"enabled\":false},\"exporting\":{\"enabled\":true},\"boost\":{\"enabled\":false},\"plotOptions\":{\"series\":{\"label\":{\"enabled\":false},\"turboThreshold\":0,\"showInLegend\":true},\"treemap\":{\"layoutAlgorithm\":\"squarified\"},\"scatter\":{\"marker\":{\"symbol\":\"circle\"}}},\"series\":[{\"name\":\"Climate Risk Viewer\",\"data\":[{\"cites\":234,\"authors\":\"G Bua, D Kapp, F Ramella, ...\",\"title\":\"Transition versus physical climate risk pricing in European financial markets: A text-based approach\",\"year\":2024,\"source\":\"The European Journal of …\",\"publisher\":\"Taylor &Francis\",\"article_url\":\"https://www.tandfonline.com/doi/abs/10.1080/1351847X.2024.2355103\",\"cites_url\":\"https://scholar.google.com/scholar?cites=4932062984936490780&as_sdt=2005&sciodt=2007&hl=en\",\"gs_rank\":7,\"query_date\":\"2025-09-15\",\"type\":null,\"doi\":\"10.1080/1351847X.2024.2355103\",\"ecc\":234,\"cites_per_year\":234,\"cites_per_author\":59,\"author_count\":4,\"age\":1,\"abstract\":\"Under its climate regulation, the EU is expected to become the first continent with a net-zero emissions balance. We study the pricing of climate risks, physical and transition, within …\",\"full_text_url\":\"https://www.tandfonline.com/doi/pdf/10.1080/1351847X.2024.2355103\",\"related_url\":\"https://scholar.google.com/scholar?q=related:HAf-Uic1ckQJ:scholar.google.com/&scioq=%22climate+risk+viewer%22%7C%22usda+climate+risk+viewer%22%7C%22forest+service+climate+risk+viewer%22%7C%22usfs+climate+risk+viewer%22%7C%22climate+risk+mapping+tool+usda%22%7C%22usda+risk+viewer+climate%22%7C%22usda+climate+risk+tool%22%7C%22climate+risk+beta+viewer%22&hl=en&as_sdt=2007&as_ylo=2023&as_yhi=2025\",\"source_file\":\"crv\",\"tool_name\":\"Climate Risk Viewer\",\"study_id\":2073,\"y\":234,\"name\":\"Transition versus physical climate risk pricing in European financial markets: A text-based approach\"},{\"cites\":15,\"authors\":\"JV Bats, G Bua, D Kapp\",\"title\":\"Physical and transition risk premiums in euro area corporate bond markets\",\"year\":2024,\"source\":null,\"publisher\":\"econstor.eu\",\"article_url\":\"https://www.econstor.eu/handle/10419/297339\",\"cites_url\":\"https://scholar.google.com/scholar?cites=8749056927212373501&as_sdt=2005&sciodt=2007&hl=en\",\"gs_rank\":20,\"query_date\":\"2025-09-15\",\"type\":\"BOOK\",\"doi\":null,\"ecc\":15,\"cites_per_year\":15,\"cites_per_author\":5,\"author_count\":3,\"age\":1,\"abstract\":\"… Our study, as a whole, offers valuable insights into the pricing dynamics of climate risk beta and its impact on the euro area corporate bond market. These findings carry significant …\",\"full_text_url\":\"https://www.econstor.eu/bitstream/10419/297339/1/ecb.wp2899.pdf\",\"related_url\":\"https://scholar.google.com/scholar?q=related:_QUquuvkankJ:scholar.google.com/&scioq=%22climate+risk+viewer%22%7C%22usda+climate+risk+viewer%22%7C%22forest+service+climate+risk+viewer%22%7C%22usfs+climate+risk+viewer%22%7C%22climate+risk+mapping+tool+usda%22%7C%22usda+risk+viewer+climate%22%7C%22usda+climate+risk+tool%22%7C%22climate+risk+beta+viewer%22&hl=en&as_sdt=2007&as_ylo=2023&as_yhi=2025\",\"source_file\":\"crv\",\"tool_name\":\"Climate Risk Viewer\",\"study_id\":2081,\"y\":15,\"name\":\"Physical and transition risk premiums in euro area corporate bond markets\"},{\"cites\":13,\"authors\":\"H Ben Ameur, D Dao, Z Ftiti, W Louhichi\",\"title\":\"Perceived climate risk and stock prices: An empirical analysis of pricing effects\",\"year\":2024,\"source\":\"Risk Analysis\",\"publisher\":\"Wiley Online Library\",\"article_url\":\"https://onlinelibrary.wiley.com/doi/abs/10.1111/risa.17683\",\"cites_url\":\"https://scholar.google.com/scholar?cites=15578767031400282564&as_sdt=2005&sciodt=2007&hl=en\",\"gs_rank\":4,\"query_date\":\"2025-09-15\",\"type\":null,\"doi\":\"10.1111/risa.17683\",\"ecc\":13,\"cites_per_year\":13,\"cites_per_author\":3,\"author_count\":4,\"age\":1,\"abstract\":\"… climate risk beta for each stock and sorted the stocks weekly based on their perceived climate risk beta, … of stocks with the highest perceived climate risk beta and short positions in the …\",\"full_text_url\":\"https://strathprints.strath.ac.uk/91675/7/Ameur-etal-RA-2024-Perceived-climate-risk-and-stock-prices.pdf\",\"related_url\":\"https://scholar.google.com/scholar?q=related:xDkuQRPmMtgJ:scholar.google.com/&scioq=%22climate+risk+viewer%22%7C%22usda+climate+risk+viewer%22%7C%22forest+service+climate+risk+viewer%22%7C%22usfs+climate+risk+viewer%22%7C%22climate+risk+mapping+tool+usda%22%7C%22usda+risk+viewer+climate%22%7C%22usda+climate+risk+tool%22%7C%22climate+risk+beta+viewer%22&hl=en&as_sdt=2007&as_ylo=2023&as_yhi=2025\",\"source_file\":\"crv\",\"tool_name\":\"Climate Risk Viewer\",\"study_id\":2075,\"y\":13,\"name\":\"Perceived climate risk and stock prices: An empirical analysis of pricing effects\"},{\"cites\":7,\"authors\":\"AD Bower, KL Frerker, CC Pike, NR Labonte, ...\",\"title\":\"A practical framework for applied forestry assisted migration\",\"year\":2024,\"source\":\"Frontiers in Forests …\",\"publisher\":\"frontiersin.org\",\"article_url\":\"https://www.frontiersin.org/journals/forests-and-global-change/articles/10.3389/ffgc.2024.1454329/full\",\"cites_url\":\"https://scholar.google.com/scholar?cites=16409287794271019262&as_sdt=2005&sciodt=2007&hl=en\",\"gs_rank\":11,\"query_date\":\"2025-09-15\",\"type\":null,\"doi\":\"10.3389/ffgc.2024.1454329\",\"ecc\":7,\"cites_per_year\":7,\"cites_per_author\":1,\"author_count\":5,\"age\":1,\"abstract\":\"Recent and projected changes in climate over this century pose an unprecedented threat to the health, diversity, and productivity of forest ecosystems. Forests have migrated and …\",\"full_text_url\":\"https://www.frontiersin.org/journals/forests-and-global-change/articles/10.3389/ffgc.2024.1454329/pdf\",\"related_url\":\"https://scholar.google.com/scholar?q=related:_mCtCk-AueMJ:scholar.google.com/&scioq=%22climate+risk+viewer%22%7C%22usda+climate+risk+viewer%22%7C%22forest+service+climate+risk+viewer%22%7C%22usfs+climate+risk+viewer%22%7C%22climate+risk+mapping+tool+usda%22%7C%22usda+risk+viewer+climate%22%7C%22usda+climate+risk+tool%22%7C%22climate+risk+beta+viewer%22&hl=en&as_sdt=2007&as_ylo=2023&as_yhi=2025\",\"source_file\":\"crv\",\"tool_name\":\"Climate Risk Viewer\",\"study_id\":2069,\"y\":7,\"name\":\"A practical framework for applied forestry assisted migration\"},{\"cites\":13,\"authors\":\"H Jung, RF Engle, S Ge, X Zeng\",\"title\":\"Measuring the climate risk exposure of insurers\",\"year\":2023,\"source\":null,\"publisher\":\"econstor.eu\",\"article_url\":\"https://www.econstor.eu/handle/10419/284026\",\"cites_url\":\"https://scholar.google.com/scholar?cites=18037007135818056514&as_sdt=2005&sciodt=2007&hl=en\",\"gs_rank\":6,\"query_date\":\"2025-09-15\",\"type\":null,\"doi\":null,\"ecc\":13,\"cites_per_year\":6.5,\"cites_per_author\":3,\"author_count\":4,\"age\":2,\"abstract\":\"Insurance companies can be exposed to climate-related physical risk through their operations and to transition risk through their $12 trillion of financial asset holdings. We assess the …\",\"full_text_url\":\"https://www.econstor.eu/bitstream/10419/284026/1/sr1066.pdf\",\"related_url\":\"https://scholar.google.com/scholar?q=related:QgOfBW1SUPoJ:scholar.google.com/&scioq=%22climate+risk+viewer%22%7C%22usda+climate+risk+viewer%22%7C%22forest+service+climate+risk+viewer%22%7C%22usfs+climate+risk+viewer%22%7C%22climate+risk+mapping+tool+usda%22%7C%22usda+risk+viewer+climate%22%7C%22usda+climate+risk+tool%22%7C%22climate+risk+beta+viewer%22&hl=en&as_sdt=2007&as_ylo=2023&as_yhi=2025\",\"source_file\":\"crv\",\"tool_name\":\"Climate Risk Viewer\",\"study_id\":2077,\"y\":6.5,\"name\":\"Measuring the climate risk exposure of insurers\"},{\"cites\":6,\"authors\":\"H Jung, R Engle, S Ge, X Zeng\",\"title\":\"Physical climate risk factors and an application to measuring insurers' climate risk exposure\",\"year\":2024,\"source\":\"FRB of New York Staff …\",\"publisher\":\"cebra.s3.amazonaws.com\",\"article_url\":\"http://cebra.s3.amazonaws.com/s3fs-private/papers/Measuring_Insurers__Climate_Risk_JEGZ_Mar2025-compressed.pdf\",\"cites_url\":\"https://scholar.google.com/scholar?cites=14399380152096382116&as_sdt=2005&sciodt=2007&hl=en\",\"gs_rank\":3,\"query_date\":\"2025-09-15\",\"type\":\"PDF\",\"doi\":null,\"ecc\":6,\"cites_per_year\":6,\"cites_per_author\":2,\"author_count\":4,\"age\":1,\"abstract\":\"We construct a novel physical risk factor using a portfolio of REITs, long on those with properties highly exposed to climate risk and short on those with less exposure. Combined with a …\",\"full_text_url\":\"http://cebra.s3.amazonaws.com/s3fs-private/papers/Measuring_Insurers__Climate_Risk_JEGZ_Mar2025-compressed.pdf\",\"related_url\":\"https://scholar.google.com/scholar?q=related:pNyDB_Xf1McJ:scholar.google.com/&scioq=%22climate+risk+viewer%22%7C%22usda+climate+risk+viewer%22%7C%22forest+service+climate+risk+viewer%22%7C%22usfs+climate+risk+viewer%22%7C%22climate+risk+mapping+tool+usda%22%7C%22usda+risk+viewer+climate%22%7C%22usda+climate+risk+tool%22%7C%22climate+risk+beta+viewer%22&hl=en&as_sdt=2007&as_ylo=2023&as_yhi=2025\",\"source_file\":\"crv\",\"tool_name\":\"Climate Risk Viewer\",\"study_id\":2076,\"y\":6,\"name\":\"Physical climate risk factors and an application to measuring insurers' climate risk exposure\"},{\"cites\":6,\"authors\":\"T Mai, A Lopez, M Marquis, M Gleason, A Hamilton, ...\",\"title\":\"Land of opportunity: potential for renewable energy on federal lands\",\"year\":2025,\"source\":null,\"publisher\":\"osti.gov\",\"article_url\":\"https://www.osti.gov/biblio/2522746\",\"cites_url\":\"https://scholar.google.com/scholar?cites=13036492291166781105&as_sdt=2005&sciodt=2007&hl=en\",\"gs_rank\":22,\"query_date\":\"2025-09-15\",\"type\":null,\"doi\":null,\"ecc\":6,\"cites_per_year\":6,\"cites_per_author\":1,\"author_count\":6,\"age\":1,\"abstract\":\"Renewable energy (RE) in the United States has historically been deployed primarily on private lands, but the growing interest in RE development, generally across the country and …\",\"full_text_url\":\"https://www.osti.gov/servlets/purl/2522746\",\"related_url\":\"https://scholar.google.com/scholar?q=related:sT4dJKvs6rQJ:scholar.google.com/&scioq=%22climate+risk+viewer%22%7C%22usda+climate+risk+viewer%22%7C%22forest+service+climate+risk+viewer%22%7C%22usfs+climate+risk+viewer%22%7C%22climate+risk+mapping+tool+usda%22%7C%22usda+risk+viewer+climate%22%7C%22usda+climate+risk+tool%22%7C%22climate+risk+beta+viewer%22&hl=en&as_sdt=2007&as_ylo=2023&as_yhi=2025\",\"source_file\":\"crv\",\"tool_name\":\"Climate Risk Viewer\",\"study_id\":2087,\"y\":6,\"name\":\"Land of opportunity: potential for renewable energy on federal lands\"},{\"cites\":5,\"authors\":\"V Lalwani\",\"title\":\"Climate risks, corporate bonds, and economic uncertainty\",\"year\":2024,\"source\":\"Economics Letters\",\"publisher\":\"Elsevier\",\"article_url\":\"https://www.sciencedirect.com/science/article/pii/S0165176524004683\",\"cites_url\":\"https://scholar.google.com/scholar?cites=6118956359153565897&as_sdt=2005&sciodt=2007&hl=en\",\"gs_rank\":13,\"query_date\":\"2025-09-15\",\"type\":null,\"doi\":null,\"ecc\":5,\"cites_per_year\":5,\"cites_per_author\":5,\"author_count\":1,\"age\":1,\"abstract\":\"We test for the existence of climate change risks in corporate bond returns. Using risk factors based on textual analysis of news articles, we estimate the sensitivity of bonds to climate …\",\"full_text_url\":\"https://papers.ssrn.com/sol3/Delivery.cfm?abstractid=4978479\",\"related_url\":\"https://scholar.google.com/scholar?q=related:yUB3l2Pm6lQJ:scholar.google.com/&scioq=%22climate+risk+viewer%22%7C%22usda+climate+risk+viewer%22%7C%22forest+service+climate+risk+viewer%22%7C%22usfs+climate+risk+viewer%22%7C%22climate+risk+mapping+tool+usda%22%7C%22usda+risk+viewer+climate%22%7C%22usda+climate+risk+tool%22%7C%22climate+risk+beta+viewer%22&hl=en&as_sdt=2007&as_ylo=2023&as_yhi=2025\",\"source_file\":\"crv\",\"tool_name\":\"Climate Risk Viewer\",\"study_id\":2088,\"y\":5,\"name\":\"Climate risks, corporate bonds, and economic uncertainty\"},{\"cites\":3,\"authors\":\"T Dangl, M Halling, S Salbrechter\",\"title\":\"Firm-specific climate risk estimated from public news\",\"year\":2023,\"source\":\"Available at SSRN 4575999\",\"publisher\":\"papers.ssrn.com\",\"article_url\":\"https://papers.ssrn.com/sol3/papers.cfm?abstract_id=4575999\",\"cites_url\":\"https://scholar.google.com/scholar?cites=4669218314493648873&as_sdt=2005&sciodt=2007&hl=en\",\"gs_rank\":9,\"query_date\":\"2025-09-15\",\"type\":null,\"doi\":null,\"ecc\":3,\"cites_per_year\":1.5,\"cites_per_author\":1,\"author_count\":3,\"age\":2,\"abstract\":\"… cross-sectional regressions and in Section 4.4 we calculate climate risk beta coefficients which we use to form betasorted … Every month we rank firms by their regulatory climate-risk beta …\",\"full_text_url\":\"https://papers.ssrn.com/sol3/Delivery.cfm?abstractid=4575999\",\"related_url\":\"https://scholar.google.com/scholar?q=related:6V8khlFlzEAJ:scholar.google.com/&scioq=%22climate+risk+viewer%22%7C%22usda+climate+risk+viewer%22%7C%22forest+service+climate+risk+viewer%22%7C%22usfs+climate+risk+viewer%22%7C%22climate+risk+mapping+tool+usda%22%7C%22usda+risk+viewer+climate%22%7C%22usda+climate+risk+tool%22%7C%22climate+risk+beta+viewer%22&hl=en&as_sdt=2007&as_ylo=2023&as_yhi=2025\",\"source_file\":\"crv\",\"tool_name\":\"Climate Risk Viewer\",\"study_id\":2086,\"y\":1.5,\"name\":\"Firm-specific climate risk estimated from public news\"},{\"cites\":1,\"authors\":\"G Verdickt\",\"title\":\"Climate Extrapolation and Relative Asset Pricing: Evidence from Bordeaux Premier Cru Wine Auctions\",\"year\":2025,\"source\":\"Available at SSRN 5386662\",\"publisher\":\"papers.ssrn.com\",\"article_url\":\"https://papers.ssrn.com/sol3/papers.cfm?abstract_id=5386662\",\"cites_url\":\"https://scholar.google.com/scholar?cites=4863583491843818428&as_sdt=2005&sciodt=2007&hl=en\",\"gs_rank\":17,\"query_date\":\"2025-09-15\",\"type\":null,\"doi\":null,\"ecc\":1,\"cites_per_year\":1,\"cites_per_author\":1,\"author_count\":1,\"age\":1,\"abstract\":\"This paper offers evidence for climate extrapolation, a behavioral tendency where economic agents project salient local climate risks onto an asset's valuation. Using a new dataset of …\",\"full_text_url\":\"https://papers.ssrn.com/sol3/Delivery.cfm?abstractid=5386662\",\"related_url\":\"https://scholar.google.com/scholar?q=related:vAPO3mrrfkMJ:scholar.google.com/&scioq=%22climate+risk+viewer%22%7C%22usda+climate+risk+viewer%22%7C%22forest+service+climate+risk+viewer%22%7C%22usfs+climate+risk+viewer%22%7C%22climate+risk+mapping+tool+usda%22%7C%22usda+risk+viewer+climate%22%7C%22usda+climate+risk+tool%22%7C%22climate+risk+beta+viewer%22&hl=en&as_sdt=2007&as_ylo=2023&as_yhi=2025\",\"source_file\":\"crv\",\"tool_name\":\"Climate Risk Viewer\",\"study_id\":2074,\"y\":1,\"name\":\"Climate Extrapolation and Relative Asset Pricing: Evidence from Bordeaux Premier Cru Wine Auctions\"}],\"type\":\"bar\"},{\"name\":\"Climate and Economic Justice Screening Tool (CEJST)\",\"data\":[{\"cites\":88,\"authors\":\"A Brown, J Cappellucci, A Heinrich, M Gaus, E Cost\",\"title\":\"Electric vehicle charging infrastructure trends from the alternative fueling station locator: first quarter 2024\",\"year\":2024,\"source\":null,\"publisher\":\"osti.gov\",\"article_url\":\"https://www.osti.gov/biblio/2447837\",\"cites_url\":\"https://scholar.google.com/scholar?cites=8792986086801492886&as_sdt=2005&sciodt=2007&hl=en\",\"gs_rank\":718,\"query_date\":\"2025-09-15\",\"type\":null,\"doi\":null,\"ecc\":88,\"cites_per_year\":88,\"cites_per_author\":18,\"author_count\":5,\"age\":1,\"abstract\":\"Electric vehicle (EV) charging infrastructure continues to rapidly change and grow. Using data from the US Department of Energy's (DOE's) Alternative Fueling Station Locator, this …\",\"full_text_url\":\"https://www.osti.gov/servlets/purl/2447837\",\"related_url\":\"https://scholar.google.com/scholar?q=related:lkvBOkL2BnoJ:scholar.google.com/&scioq=%22climate+and+economic+justice+screening+tool%22%7C%22cejst%22%7C%22justice40+screening+tool%22%7C%22climate+economic+justice+tool%22%7C%22justice40+cejst%22%7C%22ceq+cejst%22%7C%22environmental+justice+screening+cejst%22&hl=en&as_sdt=2007&as_ylo=2022&as_yhi=2025\",\"source_file\":\"cejst\",\"tool_name\":\"Climate and Economic Justice Screening Tool (CEJST)\",\"study_id\":1262,\"y\":88,\"name\":\"Electric vehicle charging infrastructure trends from the alternative fueling station locator: first quarter 2024\"},{\"cites\":44,\"authors\":\"JA Casey, MA Kioumourtzoglou, A Padula, ...\",\"title\":\"Measuring long-term exposure to wildfire PM2.5 in California: Time-varying inequities in environmental burden\",\"year\":2024,\"source\":\"Proceedings of the …\",\"publisher\":\"pnas.org\",\"article_url\":\"https://www.pnas.org/doi/abs/10.1073/pnas.2306729121\",\"cites_url\":\"https://scholar.google.com/scholar?cites=17168599373999128838&as_sdt=2005&sciodt=2007&hl=en\",\"gs_rank\":676,\"query_date\":\"2025-09-15\",\"type\":null,\"doi\":\"10.1073/pnas.2306729121\",\"ecc\":44,\"cites_per_year\":44,\"cites_per_author\":11,\"author_count\":4,\"age\":1,\"abstract\":\"Wildfires have become more frequent and intense due to climate change and outdoor wildfire fine particulate matter (PM 2.5 ) concentrations differ from relatively smoothly varying total …\",\"full_text_url\":\"https://www.pnas.org/doi/full/10.1073/pnas.2306729121\",\"related_url\":\"https://scholar.google.com/scholar?q=related:BkE24ioeQ-4J:scholar.google.com/&scioq=%22climate+and+economic+justice+screening+tool%22%7C%22cejst%22%7C%22justice40+screening+tool%22%7C%22climate+economic+justice+tool%22%7C%22justice40+cejst%22%7C%22ceq+cejst%22%7C%22environmental+justice+screening+cejst%22&hl=en&as_sdt=2007&as_ylo=2022&as_yhi=2025\",\"source_file\":\"cejst\",\"tool_name\":\"Climate and Economic Justice Screening Tool (CEJST)\",\"study_id\":1596,\"y\":44,\"name\":\"Measuring long-term exposure to wildfire PM2.5 in California: Time-varying inequities in environmental burden\"},{\"cites\":42,\"authors\":\"L Cain, D Hernandez-Cortes, ...\",\"title\":\"Recent findings and methodologies in economics research in environmental justice\",\"year\":2024,\"source\":\"Review of …\",\"publisher\":\"journals.uchicago.edu\",\"article_url\":\"https://www.journals.uchicago.edu/doi/abs/10.1086/728100\",\"cites_url\":\"https://scholar.google.com/scholar?cites=9379717219591971090&as_sdt=2005&sciodt=2007&hl=en\",\"gs_rank\":558,\"query_date\":\"2025-09-15\",\"type\":null,\"doi\":\"10.1086/728100\",\"ecc\":42,\"cites_per_year\":42,\"cites_per_author\":14,\"author_count\":3,\"age\":1,\"abstract\":\"This review synthesizes economics-oriented research in environmental justice with a focus on the last decade. We first categorize this literature into broad areas of inquiry and review …\",\"full_text_url\":\"https://www.econstor.eu/bitstream/10419/271927/1/cesifo1_wp10283.pdf\",\"related_url\":\"https://scholar.google.com/scholar?q=related:EuFkhx1zK4IJ:scholar.google.com/&scioq=%22climate+and+economic+justice+screening+tool%22%7C%22cejst%22%7C%22justice40+screening+tool%22%7C%22climate+economic+justice+tool%22%7C%22justice40+cejst%22%7C%22ceq+cejst%22%7C%22environmental+justice+screening+cejst%22&hl=en&as_sdt=2007&as_ylo=2022&as_yhi=2025\",\"source_file\":\"cejst\",\"tool_name\":\"Climate and Economic Justice Screening Tool (CEJST)\",\"study_id\":1670,\"y\":42,\"name\":\"Recent findings and methodologies in economics research in environmental justice\"},{\"cites\":73,\"authors\":\"E Baker, S Carley, S Castellanos, D Nock, ...\",\"title\":\"Metrics for decision-making in energy justice\",\"year\":2023,\"source\":\"Annual Review of …\",\"publisher\":\"annualreviews.org\",\"article_url\":\"https://www.annualreviews.org/content/journals/10.1146/annurev-environ-112621-063400\",\"cites_url\":\"https://scholar.google.com/scholar?cites=7130851940603066122&as_sdt=2005&sciodt=2007&hl=en\",\"gs_rank\":187,\"query_date\":\"2025-09-15\",\"type\":\"HTML\",\"doi\":\"10.1146/annurev-environ-112621-063400\",\"ecc\":73,\"cites_per_year\":36.5,\"cites_per_author\":15,\"author_count\":5,\"age\":2,\"abstract\":\"… mapping index, the Climate and Economic Justice Screening Tool (CEJST) (60), to support the implementation of the Biden Administration's Justice40 Initiative. The CEJST, still in beta …\",\"full_text_url\":\"https://www.annualreviews.org/content/journals/10.1146/annurev-environ-112621-063400\",\"related_url\":\"https://scholar.google.com/scholar?q=related:CveMIQ_g9WIJ:scholar.google.com/&scioq=%22climate+and+economic+justice+screening+tool%22%7C%22cejst%22%7C%22justice40+screening+tool%22%7C%22climate+economic+justice+tool%22%7C%22justice40+cejst%22%7C%22ceq+cejst%22%7C%22environmental+justice+screening+cejst%22&hl=en&as_sdt=2007&as_ylo=2022&as_yhi=2025\",\"source_file\":\"cejst\",\"tool_name\":\"Climate and Economic Justice Screening Tool (CEJST)\",\"study_id\":1457,\"y\":36.5,\"name\":\"Metrics for decision-making in energy justice\"},{\"cites\":36,\"authors\":\"GJ Carlton, S Sultana\",\"title\":\"Electric vehicle charging equity and accessibility: A comprehensive United States policy analysis\",\"year\":2024,\"source\":\"Transportation Research Part D: Transport and …\",\"publisher\":\"Elsevier\",\"article_url\":\"https://www.sciencedirect.com/science/article/pii/S1361920924000804\",\"cites_url\":\"https://scholar.google.com/scholar?cites=880195045012995719&as_sdt=2005&sciodt=2007&hl=en\",\"gs_rank\":120,\"query_date\":\"2025-09-15\",\"type\":null,\"doi\":null,\"ecc\":36,\"cites_per_year\":36,\"cites_per_author\":18,\"author_count\":2,\"age\":1,\"abstract\":\"The ongoing placement of EV charging in the US is the result of a complicated interplay between market actors and the public sector. The federal government has recently established a …\",\"full_text_url\":null,\"related_url\":\"https://scholar.google.com/scholar?q=related:h_4O37oUNwwJ:scholar.google.com/&scioq=%22climate+and+economic+justice+screening+tool%22%7C%22cejst%22%7C%22justice40+screening+tool%22%7C%22climate+economic+justice+tool%22%7C%22justice40+cejst%22%7C%22ceq+cejst%22%7C%22environmental+justice+screening+cejst%22&hl=en&as_sdt=2007&as_ylo=2022&as_yhi=2025\",\"source_file\":\"cejst\",\"tool_name\":\"Climate and Economic Justice Screening Tool (CEJST)\",\"study_id\":1516,\"y\":36,\"name\":\"Electric vehicle charging equity and accessibility: A comprehensive United States policy analysis\"},{\"cites\":68,\"authors\":\"PGT Lewis, WA Chiu, E Nasser, J Proville, ...\",\"title\":\"Characterizing vulnerabilities to climate change across the United States\",\"year\":2023,\"source\":\"Environment …\",\"publisher\":\"Elsevier\",\"article_url\":\"https://www.sciencedirect.com/science/article/pii/S0160412023000454\",\"cites_url\":\"https://scholar.google.com/scholar?cites=9081202494777090036&as_sdt=2005&sciodt=2007&hl=en\",\"gs_rank\":76,\"query_date\":\"2025-09-15\",\"type\":\"HTML\",\"doi\":null,\"ecc\":68,\"cites_per_year\":34,\"cites_per_author\":14,\"author_count\":5,\"age\":2,\"abstract\":\"Climate change will cause a range of related risks, including increases in infectious and chronic disease, intensified social and economic stresses, and more frequent extreme weather …\",\"full_text_url\":\"https://www.sciencedirect.com/science/article/pii/S0160412023000454\",\"related_url\":\"https://scholar.google.com/scholar?q=related:9F-UAo7pBn4J:scholar.google.com/&scioq=%22climate+and+economic+justice+screening+tool%22%7C%22cejst%22%7C%22justice40+screening+tool%22%7C%22climate+economic+justice+tool%22%7C%22justice40+cejst%22%7C%22ceq+cejst%22%7C%22environmental+justice+screening+cejst%22&hl=en&as_sdt=2007&as_ylo=2022&as_yhi=2025\",\"source_file\":\"cejst\",\"tool_name\":\"Climate and Economic Justice Screening Tool (CEJST)\",\"study_id\":1824,\"y\":34,\"name\":\"Characterizing vulnerabilities to climate change across the United States\"},{\"cites\":31,\"authors\":\"T Xue, R Wang, M Wang, Y Wang, D Tong, ...\",\"title\":\"Health benefits from the rapid reduction in ambient exposure to air pollutants after China's clean air actions: progress in efficacy and geographic equality\",\"year\":2024,\"source\":\"National Science …\",\"publisher\":\"academic.oup.com\",\"article_url\":\"https://academic.oup.com/nsr/article-abstract/11/2/nwad263/7303310\",\"cites_url\":\"https://scholar.google.com/scholar?cites=10123527139064500028&as_sdt=2005&sciodt=2007&hl=en\",\"gs_rank\":256,\"query_date\":\"2025-09-15\",\"type\":null,\"doi\":null,\"ecc\":31,\"cites_per_year\":31,\"cites_per_author\":5,\"author_count\":6,\"age\":1,\"abstract\":\"… The Justice40 Initiative developed the Climate and Economic Justice Screening Tool (CEJST… Although studies have found CEJST could not effectively reduce inequalities embedded in …\",\"full_text_url\":\"https://academic.oup.com/nsr/article/11/2/nwad263/7303310\",\"related_url\":\"https://scholar.google.com/scholar?q=related:PE_31Uv-fYwJ:scholar.google.com/&scioq=%22climate+and+economic+justice+screening+tool%22%7C%22cejst%22%7C%22justice40+screening+tool%22%7C%22climate+economic+justice+tool%22%7C%22justice40+cejst%22%7C%22ceq+cejst%22%7C%22environmental+justice+screening+cejst%22&hl=en&as_sdt=2007&as_ylo=2022&as_yhi=2025\",\"source_file\":\"cejst\",\"tool_name\":\"Climate and Economic Justice Screening Tool (CEJST)\",\"study_id\":1988,\"y\":31,\"name\":\"Health benefits from the rapid reduction in ambient exposure to air pollutants after China's clean air actions: progress in efficacy and geographic equality\"},{\"cites\":62,\"authors\":\"Y Wang, JS Apte, JD Hill, CE Ivey, D Johnson, E Min, ...\",\"title\":\"Air quality policy should quantify effects on disparities\",\"year\":2023,\"source\":\"Science\",\"publisher\":\"science.org\",\"article_url\":\"https://www.science.org/doi/abs/10.1126/science.adg9931\",\"cites_url\":\"https://scholar.google.com/scholar?cites=13181465971392899802&as_sdt=2005&sciodt=2007&hl=en\",\"gs_rank\":27,\"query_date\":\"2025-09-15\",\"type\":null,\"doi\":\"10.1126/science.adg9931\",\"ecc\":62,\"cites_per_year\":31,\"cites_per_author\":9,\"author_count\":7,\"age\":2,\"abstract\":\"… We investigated how using CEJST to target … CEJST may not ameliorate (and in some cases may increase) exposure disparities by race-ethnicity. This outcome likely reflects that CEJST …\",\"full_text_url\":\"https://www.yuzhouwang.net/files/Wang%20et%20al%20Science%202023.pdf\",\"related_url\":\"https://scholar.google.com/scholar?q=related:2urFa3b57bYJ:scholar.google.com/&scioq=%22climate+and+economic+justice+screening+tool%22%7C%22cejst%22%7C%22justice40+screening+tool%22%7C%22climate+economic+justice+tool%22%7C%22justice40+cejst%22%7C%22ceq+cejst%22%7C%22environmental+justice+screening+cejst%22&hl=en&as_sdt=2007&as_ylo=2022&as_yhi=2025\",\"source_file\":\"cejst\",\"tool_name\":\"Climate and Economic Justice Screening Tool (CEJST)\",\"study_id\":2044,\"y\":31,\"name\":\"Air quality policy should quantify effects on disparities\"},{\"cites\":27,\"authors\":\"A Ermagun, J Tian\",\"title\":\"Charging into inequality: A national study of social, economic, and environment correlates of electric vehicle charging stations\",\"year\":2024,\"source\":\"Energy Research &Social Science\",\"publisher\":\"Elsevier\",\"article_url\":\"https://www.sciencedirect.com/science/article/pii/S2214629624002135\",\"cites_url\":\"https://scholar.google.com/scholar?cites=18246447889398149248&as_sdt=2005&sciodt=2007&hl=en\",\"gs_rank\":127,\"query_date\":\"2025-09-15\",\"type\":null,\"doi\":null,\"ecc\":27,\"cites_per_year\":27,\"cites_per_author\":14,\"author_count\":2,\"age\":1,\"abstract\":\"This study assesses the spatial disparity of public electric vehicle (EV) charging infrastructure in the United States. The analysis identifies areas characterized by deficient EV charging …\",\"full_text_url\":null,\"related_url\":\"https://scholar.google.com/scholar?q=related:gLBAfK5nOP0J:scholar.google.com/&scioq=%22climate+and+economic+justice+screening+tool%22%7C%22cejst%22%7C%22justice40+screening+tool%22%7C%22climate+economic+justice+tool%22%7C%22justice40+cejst%22%7C%22ceq+cejst%22%7C%22environmental+justice+screening+cejst%22&hl=en&as_sdt=2007&as_ylo=2022&as_yhi=2025\",\"source_file\":\"cejst\",\"tool_name\":\"Climate and Economic Justice Screening Tool (CEJST)\",\"study_id\":1269,\"y\":27,\"name\":\"Charging into inequality: A national study of social, economic, and environment correlates of electric vehicle charging stations\"},{\"cites\":45,\"authors\":\"S Kime, V Jacome, D Pellow, ...\",\"title\":\"Evaluating equity and justice in low-carbon energy transitions\",\"year\":2023,\"source\":\"Environmental Research …\",\"publisher\":\"iopscience.iop.org\",\"article_url\":\"https://iopscience.iop.org/article/10.1088/1748-9326/ad08f8/meta\",\"cites_url\":\"https://scholar.google.com/scholar?cites=1147487503700979368&as_sdt=2005&sciodt=2007&hl=en\",\"gs_rank\":73,\"query_date\":\"2025-09-15\",\"type\":\"HTML\",\"doi\":\"10.1088/1748-9326/ad08f8\",\"ecc\":45,\"cites_per_year\":22.5,\"cites_per_author\":11,\"author_count\":4,\"age\":2,\"abstract\":\"A low-carbon energy transition is essential for mitigating climate change, but can also cause energy justice and equity impacts on Black, Indigenous, and People of Color (BIPOC), low-…\",\"full_text_url\":\"https://iopscience.iop.org/article/10.1088/1748-9326/ad08f8/meta\",\"related_url\":\"https://scholar.google.com/scholar?q=related:qO5LEs6x7A8J:scholar.google.com/&scioq=%22climate+and+economic+justice+screening+tool%22%7C%22cejst%22%7C%22justice40+screening+tool%22%7C%22climate+economic+justice+tool%22%7C%22justice40+cejst%22%7C%22ceq+cejst%22%7C%22environmental+justice+screening+cejst%22&hl=en&as_sdt=2007&as_ylo=2022&as_yhi=2025\",\"source_file\":\"cejst\",\"tool_name\":\"Climate and Economic Justice Screening Tool (CEJST)\",\"study_id\":1920,\"y\":22.5,\"name\":\"Evaluating equity and justice in low-carbon energy transitions\"}],\"type\":\"bar\"},{\"name\":\"EJScreen\",\"data\":[{\"cites\":54,\"authors\":\"A Shkembi, LM Smith, RL Neitzel\",\"title\":\"Linking environmental injustices in Detroit, MI to institutional racial segregation through historical federal redlining\",\"year\":2024,\"source\":\"Journal of exposure science & …\",\"publisher\":\"nature.com\",\"article_url\":\"https://www.nature.com/articles/s41370-022-00512-y\",\"cites_url\":\"https://scholar.google.com/scholar?cites=9193022137532077454&as_sdt=2005&sciodt=2007&hl=en\",\"gs_rank\":96,\"query_date\":\"2025-09-15\",\"type\":\"HTML\",\"doi\":\"\",\"ecc\":54,\"cites_per_year\":54,\"cites_per_author\":18,\"author_count\":3,\"age\":1,\"abstract\":\"… in EJScreen tool within any boundary. In this case, our estimates inside the EJScreen tool … Albeit not included in the EPA EJScreen, noise pollution is included in this study due to the …\",\"full_text_url\":\"https://www.nature.com/articles/s41370-022-00512-y\",\"related_url\":\"https://scholar.google.com/scholar?q=related:jtXmZ-0slH8J:scholar.google.com/&scioq=%22ejscreen%22%7C%22epa+ejscreen%22%7C%22environmental+justice+screening+and+mapping+tool%22%7C%22epa+ej+screen%22%7C%22ej+screen%22%7C%22epa+environmental+justice+mapping+tool%22%7C%22environmental+justice+screening+tool+epa%22%7C%22ejscreen+v2.0%22%7C%22ejscreen+2020%22%7C%22ejscreen+2022%22&hl=en&as_sdt=2007&as_ylo=2023&as_yhi=2024\",\"source_file\":\"ejscreen_3\",\"tool_name\":\"EJScreen\",\"study_id\":414,\"y\":54,\"name\":\"Linking environmental injustices in Detroit, MI to institutional racial segregation through historical federal redlining\"},{\"cites\":42,\"authors\":\"MA Painter, SH Shah, GC Damestoit, F Khalid, ...\",\"title\":\"A systematic scoping review of the Social Vulnerability Index as applied to natural hazards\",\"year\":2024,\"source\":\"Natural Hazards\",\"publisher\":\"Springer\",\"article_url\":\"https://link.springer.com/article/10.1007/s11069-023-06378-z\",\"cites_url\":\"https://scholar.google.com/scholar?cites=1199760881560158845&as_sdt=2005&sciodt=2007&hl=en\",\"gs_rank\":228,\"query_date\":\"2025-09-15\",\"type\":\"\",\"doi\":\"10.1007/s11069-023-06378-z\",\"ecc\":42,\"cites_per_year\":42,\"cites_per_author\":8,\"author_count\":5,\"age\":1,\"abstract\":\"Social vulnerability approaches seek to identify social, economic, and political drivers that exacerbate environmental risks, and inform adaptation strategies that redress uneven …\",\"full_text_url\":\"https://repository.library.noaa.gov/view/noaa/61098/noaa_61098_DS1.pdf\",\"related_url\":\"https://scholar.google.com/scholar?q=related:fYLNSCpophAJ:scholar.google.com/&scioq=%22ejscreen%22%7C%22epa+ejscreen%22%7C%22environmental+justice+screening+and+mapping+tool%22%7C%22epa+ej+screen%22%7C%22ej+screen%22%7C%22epa+environmental+justice+mapping+tool%22%7C%22environmental+justice+screening+tool+epa%22%7C%22ejscreen+v2.0%22%7C%22ejscreen+2020%22%7C%22ejscreen+2022%22&hl=en&as_sdt=2007&as_ylo=2023&as_yhi=2024\",\"source_file\":\"ejscreen_3\",\"tool_name\":\"EJScreen\",\"study_id\":805,\"y\":42,\"name\":\"A systematic scoping review of the Social Vulnerability Index as applied to natural hazards\"},{\"cites\":116,\"authors\":\"SR Nicholson, JE Rorrer, A Singh, ...\",\"title\":\"The critical role of process analysis in chemical recycling and upcycling of waste plastics\",\"year\":2022,\"source\":\"Annual review of …\",\"publisher\":\"annualreviews.org\",\"article_url\":\"https://www.annualreviews.org/content/journals/10.1146/annurev-chembioeng-100521-085846\",\"cites_url\":\"https://scholar.google.com/scholar?cites=16561911266140556031&as_sdt=2005&sciodt=2007&hl=en\",\"gs_rank\":98,\"query_date\":\"2025-09-15\",\"type\":\"\",\"doi\":\"10.1146/annurev-chembioeng-100521-085846\",\"ecc\":116,\"cites_per_year\":38.67,\"cites_per_author\":29,\"author_count\":4,\"age\":3,\"abstract\":\"There is an urgent need for new technologies to enable circularity for synthetic polymers, spurred by the accumulation of waste plastics in landfills and the environment and the …\",\"full_text_url\":\"https://www.osti.gov/pages/servlets/purl/1861788\",\"related_url\":\"https://scholar.google.com/scholar?q=related:_wrZO4y61-UJ:scholar.google.com/&scioq=%22ejscreen%22%7C%22epa+ejscreen%22%7C%22environmental+justice+screening+and+mapping+tool%22%7C%22epa+ej+screen%22%7C%22ej+screen%22%7C%22epa+environmental+justice+mapping+tool%22%7C%22environmental+justice+screening+tool+epa%22%7C%22ejscreen+v2.0%22%7C%22ejscreen+2020%22%7C%22ejscreen+2022%22&hl=en&as_sdt=2007&as_ylo=2021&as_yhi=2022\",\"source_file\":\"ejscreen_2\",\"tool_name\":\"EJScreen\",\"study_id\":348,\"y\":38.67,\"name\":\"The critical role of process analysis in chemical recycling and upcycling of waste plastics\"},{\"cites\":73,\"authors\":\"E Baker, S Carley, S Castellanos, D Nock, ...\",\"title\":\"Metrics for decision-making in energy justice\",\"year\":2023,\"source\":\"Annual Review of …\",\"publisher\":\"annualreviews.org\",\"article_url\":\"https://www.annualreviews.org/content/journals/10.1146/annurev-environ-112621-063400\",\"cites_url\":\"https://scholar.google.com/scholar?cites=7130851940603066122&as_sdt=2005&sciodt=2007&hl=en\",\"gs_rank\":328,\"query_date\":\"2025-09-15\",\"type\":\"HTML\",\"doi\":\"10.1146/annurev-environ-112621-063400\",\"ecc\":73,\"cites_per_year\":36.5,\"cites_per_author\":15,\"author_count\":5,\"age\":2,\"abstract\":\"… EJScreen presents the information in an interactive map form at the census tract level with comparisons to state or national percentiles. Recent updates to EJScreen have expanded its …\",\"full_text_url\":\"https://www.annualreviews.org/content/journals/10.1146/annurev-environ-112621-063400\",\"related_url\":\"https://scholar.google.com/scholar?q=related:CveMIQ_g9WIJ:scholar.google.com/&scioq=%22ejscreen%22%7C%22epa+ejscreen%22%7C%22environmental+justice+screening+and+mapping+tool%22%7C%22epa+ej+screen%22%7C%22ej+screen%22%7C%22epa+environmental+justice+mapping+tool%22%7C%22environmental+justice+screening+tool+epa%22%7C%22ejscreen+v2.0%22%7C%22ejscreen+2020%22%7C%22ejscreen+2022%22&hl=en&as_sdt=2007&as_ylo=2023&as_yhi=2024\",\"source_file\":\"ejscreen_3\",\"tool_name\":\"EJScreen\",\"study_id\":540,\"y\":36.5,\"name\":\"Metrics for decision-making in energy justice\"},{\"cites\":34,\"authors\":\"M Yu, S Zhang, H Ning, Z Li, K Zhang\",\"title\":\"Assessing the 2023 Canadian wildfire smoke impact in Northeastern US: Air quality, exposure and environmental justice\",\"year\":2024,\"source\":\"Science of the Total Environment\",\"publisher\":\"Elsevier\",\"article_url\":\"https://www.sciencedirect.com/science/article/pii/S004896972401996X\",\"cites_url\":\"https://scholar.google.com/scholar?cites=12562011232868067408&as_sdt=2005&sciodt=2007&hl=en\",\"gs_rank\":15,\"query_date\":\"2025-09-15\",\"type\":\"\",\"doi\":\"\",\"ecc\":34,\"cites_per_year\":34,\"cites_per_author\":7,\"author_count\":5,\"age\":1,\"abstract\":\"… Agency (EPA) Environmental Justice Screening and Mapping Tool (EJScreen). Results … correlations in rural areas with EJScreen factors highlight the unique vulnerabilities of these …\",\"full_text_url\":\"https://papers.ssrn.com/sol3/Delivery.cfm?abstractid=4717779\",\"related_url\":\"https://scholar.google.com/scholar?q=related:UGiR76g6Va4J:scholar.google.com/&scioq=%22ejscreen%22%7C%22epa+ejscreen%22%7C%22environmental+justice+screening+and+mapping+tool%22%7C%22epa+ej+screen%22%7C%22ej+screen%22%7C%22epa+environmental+justice+mapping+tool%22%7C%22environmental+justice+screening+tool+epa%22%7C%22ejscreen+v2.0%22%7C%22ejscreen+2020%22%7C%22ejscreen+2022%22&hl=en&as_sdt=2007&as_ylo=2023&as_yhi=2024\",\"source_file\":\"ejscreen_3\",\"tool_name\":\"EJScreen\",\"study_id\":800,\"y\":34,\"name\":\"Assessing the 2023 Canadian wildfire smoke impact in Northeastern US: Air quality, exposure and environmental justice\"},{\"cites\":68,\"authors\":\"PGT Lewis, WA Chiu, E Nasser, J Proville, ...\",\"title\":\"Characterizing vulnerabilities to climate change across the United States\",\"year\":2023,\"source\":\"Environment …\",\"publisher\":\"Elsevier\",\"article_url\":\"https://www.sciencedirect.com/science/article/pii/S0160412023000454\",\"cites_url\":\"https://scholar.google.com/scholar?cites=9081202494777090036&as_sdt=2005&sciodt=2007&hl=en\",\"gs_rank\":445,\"query_date\":\"2025-09-15\",\"type\":\"HTML\",\"doi\":\"\",\"ecc\":68,\"cites_per_year\":34,\"cites_per_author\":14,\"author_count\":5,\"age\":2,\"abstract\":\"Climate change will cause a range of related risks, including increases in infectious and chronic disease, intensified social and economic stresses, and more frequent extreme weather …\",\"full_text_url\":\"https://www.sciencedirect.com/science/article/pii/S0160412023000454\",\"related_url\":\"https://scholar.google.com/scholar?q=related:9F-UAo7pBn4J:scholar.google.com/&scioq=%22ejscreen%22%7C%22epa+ejscreen%22%7C%22environmental+justice+screening+and+mapping+tool%22%7C%22epa+ej+screen%22%7C%22ej+screen%22%7C%22epa+environmental+justice+mapping+tool%22%7C%22environmental+justice+screening+tool+epa%22%7C%22ejscreen+v2.0%22%7C%22ejscreen+2020%22%7C%22ejscreen+2022%22&hl=en&as_sdt=2007&as_ylo=2023&as_yhi=2024\",\"source_file\":\"ejscreen_3\",\"tool_name\":\"EJScreen\",\"study_id\":872,\"y\":34,\"name\":\"Characterizing vulnerabilities to climate change across the United States\"},{\"cites\":65,\"authors\":\"J Kato-Huerta, D Geneletti\",\"title\":\"A distributive environmental justice index to support green space planning in cities\",\"year\":2023,\"source\":\"Landscape and Urban Planning\",\"publisher\":\"Elsevier\",\"article_url\":\"https://www.sciencedirect.com/science/article/pii/S0169204622002419\",\"cites_url\":\"https://scholar.google.com/scholar?cites=2740337779581576471&as_sdt=2005&sciodt=2007&hl=en\",\"gs_rank\":142,\"query_date\":\"2025-09-15\",\"type\":\"HTML\",\"doi\":\"\",\"ecc\":65,\"cites_per_year\":32.5,\"cites_per_author\":33,\"author_count\":2,\"age\":2,\"abstract\":\"Environmental justice (EJ) raises concerns about just allocating environmental harms and goods. It has been mainly analysed from a distributive lens through indicators and screening …\",\"full_text_url\":\"https://www.sciencedirect.com/science/article/pii/S0169204622002419\",\"related_url\":\"https://scholar.google.com/scholar?q=related:F-WKDLGiByYJ:scholar.google.com/&scioq=%22ejscreen%22%7C%22epa+ejscreen%22%7C%22environmental+justice+screening+and+mapping+tool%22%7C%22epa+ej+screen%22%7C%22ej+screen%22%7C%22epa+environmental+justice+mapping+tool%22%7C%22environmental+justice+screening+tool+epa%22%7C%22ejscreen+v2.0%22%7C%22ejscreen+2020%22%7C%22ejscreen+2022%22&hl=en&as_sdt=2007&as_ylo=2023&as_yhi=2024\",\"source_file\":\"ejscreen_3\",\"tool_name\":\"EJScreen\",\"study_id\":654,\"y\":32.5,\"name\":\"A distributive environmental justice index to support green space planning in cities\"},{\"cites\":78,\"authors\":\"Y Wang, JS Apte, JD Hill, CE Ivey, RF Patterson, ...\",\"title\":\"Location-specific strategies for eliminating US national racial-ethnic exposure inequality\",\"year\":2022,\"source\":\"Proceedings of the …\",\"publisher\":\"pnas.org\",\"article_url\":\"https://www.pnas.org/doi/abs/10.1073/pnas.2205548119\",\"cites_url\":\"https://scholar.google.com/scholar?cites=16152888832388619158&as_sdt=2005&sciodt=2007&hl=en\",\"gs_rank\":79,\"query_date\":\"2025-09-15\",\"type\":\"\",\"doi\":\"10.1073/pnas.2205548119\",\"ecc\":78,\"cites_per_year\":26,\"cites_per_author\":13,\"author_count\":6,\"age\":3,\"abstract\":\"Air pollution levels in the United States have decreased dramatically over the past decades, yet national racial-ethnic exposure disparities persist. For ambient fine particulate matter ( …\",\"full_text_url\":\"https://www.pnas.org/doi/full/10.1073/pnas.2205548119\",\"related_url\":\"https://scholar.google.com/scholar?q=related:ltvlts-WKuAJ:scholar.google.com/&scioq=%22ejscreen%22%7C%22epa+ejscreen%22%7C%22environmental+justice+screening+and+mapping+tool%22%7C%22epa+ej+screen%22%7C%22ej+screen%22%7C%22epa+environmental+justice+mapping+tool%22%7C%22environmental+justice+screening+tool+epa%22%7C%22ejscreen+v2.0%22%7C%22ejscreen+2020%22%7C%22ejscreen+2022%22&hl=en&as_sdt=2007&as_ylo=2021&as_yhi=2022\",\"source_file\":\"ejscreen_2\",\"tool_name\":\"EJScreen\",\"study_id\":369,\"y\":26,\"name\":\"Location-specific strategies for eliminating US national racial-ethnic exposure inequality\"},{\"cites\":25,\"authors\":\"K Skiendzielewski, CM Forke, DB Sarwer, ...\",\"title\":\"The intersection of adverse childhood experiences and neighborhood determinants of health: An exploratory spatial analysis.\",\"year\":2024,\"source\":\"… , practice, and policy\",\"publisher\":\"psycnet.apa.org\",\"article_url\":\"https://psycnet.apa.org/fulltext/2022-80212-001.html\",\"cites_url\":\"https://scholar.google.com/scholar?cites=14766211665291270434&as_sdt=2005&sciodt=2007&hl=en\",\"gs_rank\":431,\"query_date\":\"2025-09-15\",\"type\":\"\",\"doi\":\"\",\"ecc\":25,\"cites_per_year\":25,\"cites_per_author\":6,\"author_count\":4,\"age\":1,\"abstract\":\"Objective: Adverse childhood experiences (ACEs) are associated with elevated risk for poor physical and psychological health outcomes. Nearly all of the literature on the association …\",\"full_text_url\":\"https://psycnet.apa.org/manuscript/2022-80212-001.pdf\",\"related_url\":\"https://scholar.google.com/scholar?q=related:IlnqW0Yf7MwJ:scholar.google.com/&scioq=%22ejscreen%22%7C%22epa+ejscreen%22%7C%22environmental+justice+screening+and+mapping+tool%22%7C%22epa+ej+screen%22%7C%22ej+screen%22%7C%22epa+environmental+justice+mapping+tool%22%7C%22environmental+justice+screening+tool+epa%22%7C%22ejscreen+v2.0%22%7C%22ejscreen+2020%22%7C%22ejscreen+2022%22&hl=en&as_sdt=2007&as_ylo=2023&as_yhi=2024\",\"source_file\":\"ejscreen_3\",\"tool_name\":\"EJScreen\",\"study_id\":726,\"y\":25,\"name\":\"The intersection of adverse childhood experiences and neighborhood determinants of health: An exploratory spatial analysis.\"},{\"cites\":72,\"authors\":\"I Motairek, EK Lee, S Janus, M Farkouh, ...\",\"title\":\"Historical neighborhood redlining and contemporary cardiometabolic risk\",\"year\":2022,\"source\":\"Journal of the American …\",\"publisher\":\"jacc.org\",\"article_url\":\"https://www.jacc.org/doi/abs/10.1016/j.jacc.2022.05.010\",\"cites_url\":\"https://scholar.google.com/scholar?cites=9607344488229134700&as_sdt=2005&sciodt=2007&hl=en\",\"gs_rank\":111,\"query_date\":\"2025-09-15\",\"type\":\"\",\"doi\":\"10.1016/j.jacc.2022.05.010\",\"ecc\":72,\"cites_per_year\":24,\"cites_per_author\":14,\"author_count\":5,\"age\":3,\"abstract\":\"Methods This is a cross-sectional study of the mean prevalence of the 2019 cardiometabolic outcomes and risk factors at the census tract level according to HOLC grading. …\",\"full_text_url\":\"https://www.jacc.org/doi/full/10.1016/j.jacc.2022.05.010\",\"related_url\":\"https://scholar.google.com/scholar?q=related:bGG0_-gkVIUJ:scholar.google.com/&scioq=%22ejscreen%22%7C%22epa+ejscreen%22%7C%22environmental+justice+screening+and+mapping+tool%22%7C%22epa+ej+screen%22%7C%22ej+screen%22%7C%22epa+environmental+justice+mapping+tool%22%7C%22environmental+justice+screening+tool+epa%22%7C%22ejscreen+v2.0%22%7C%22ejscreen+2020%22%7C%22ejscreen+2022%22&hl=en&as_sdt=2007&as_ylo=2021&as_yhi=2022\",\"source_file\":\"ejscreen_2\",\"tool_name\":\"EJScreen\",\"study_id\":156,\"y\":24,\"name\":\"Historical neighborhood redlining and contemporary cardiometabolic risk\"}],\"type\":\"bar\"},{\"name\":\"Environmental Justice Index (EJI)\",\"data\":[{\"cites\":22,\"authors\":\"CA Pate, HS Zahran\",\"title\":\"The status of asthma in the United States\",\"year\":2024,\"source\":\"Preventing Chronic Disease\",\"publisher\":\"pmc.ncbi.nlm.nih.gov\",\"article_url\":\"https://pmc.ncbi.nlm.nih.gov/articles/PMC11262137/\",\"cites_url\":\"https://scholar.google.com/scholar?cites=6218190486465970346&as_sdt=2005&sciodt=2007&hl=en\",\"gs_rank\":95,\"query_date\":\"2025-09-15\",\"type\":\"HTML\",\"doi\":null,\"ecc\":22,\"cites_per_year\":22,\"cites_per_author\":11,\"author_count\":2,\"age\":1,\"abstract\":\"Introduction Asthma imposes a substantial health and economic burden on patients and their families and on the health care system. An assessment of the status of asthma in the US …\",\"full_text_url\":\"https://pmc.ncbi.nlm.nih.gov/articles/PMC11262137/\",\"related_url\":\"https://scholar.google.com/scholar?q=related:qoCEU01zS1YJ:scholar.google.com/&scioq=%22environmental+justice+index%22%7C%22cdc+environmental+justice+index%22%7C%22atsdr+environmental+justice+index%22%7C%22cdc+eji%22%7C%22environmental+justice+composite+index+cdc%22%7C%22eji+2022%22%7C%22eji+2024+update%22%7C%22environmental+justice+health+index%22&hl=en&as_sdt=2007&as_ylo=2022&as_yhi=2025\",\"source_file\":\"eji\",\"tool_name\":\"Environmental Justice Index (EJI)\",\"study_id\":2109,\"y\":22,\"name\":\"The status of asthma in the United States\"},{\"cites\":21,\"authors\":\"C Scott-Buechler, B Cain, K Osman, ...\",\"title\":\"Communities conditionally support deployment of direct air capture for carbon dioxide removal in the United States\",\"year\":2024,\"source\":\"… Earth &Environment\",\"publisher\":\"nature.com\",\"article_url\":\"https://www.nature.com/articles/s43247-024-01334-6\",\"cites_url\":\"https://scholar.google.com/scholar?cites=13672146983376215905&as_sdt=2005&sciodt=2007&hl=en\",\"gs_rank\":58,\"query_date\":\"2025-09-15\",\"type\":\"HTML\",\"doi\":null,\"ecc\":21,\"cites_per_year\":21,\"cites_per_author\":5,\"author_count\":4,\"age\":1,\"abstract\":\"… To test whether environmental injustice burden (CDC EJI) or … , suggesting that environmental justice and transitioning … percentile of the CDC’s environmental [in]justice index (EJI). …\",\"full_text_url\":\"https://www.nature.com/articles/s43247-024-01334-6\",\"related_url\":\"https://scholar.google.com/scholar?q=related:YV8RRT45vb0J:scholar.google.com/&scioq=%22environmental+justice+index%22%7C%22cdc+environmental+justice+index%22%7C%22atsdr+environmental+justice+index%22%7C%22cdc+eji%22%7C%22environmental+justice+composite+index+cdc%22%7C%22eji+2022%22%7C%22eji+2024+update%22%7C%22environmental+justice+health+index%22&hl=en&as_sdt=2007&as_ylo=2022&as_yhi=2025\",\"source_file\":\"eji\",\"tool_name\":\"Environmental Justice Index (EJI)\",\"study_id\":2108,\"y\":21,\"name\":\"Communities conditionally support deployment of direct air capture for carbon dioxide removal in the United States\"},{\"cites\":15,\"authors\":\"S Khadke, A Kumar, S Al‐Kindi, ...\",\"title\":\"Association of environmental injustice and cardiovascular diseases and risk factors in the United States\",\"year\":2024,\"source\":\"Journal of the …\",\"publisher\":\"ahajournals.org\",\"article_url\":\"https://www.ahajournals.org/doi/abs/10.1161/JAHA.123.033428\",\"cites_url\":\"https://scholar.google.com/scholar?cites=845499601898734291&as_sdt=2005&sciodt=2007&hl=en\",\"gs_rank\":9,\"query_date\":\"2025-09-15\",\"type\":null,\"doi\":\"10.1161/JAHA.123.033428\",\"ecc\":15,\"cites_per_year\":15,\"cites_per_author\":4,\"author_count\":4,\"age\":1,\"abstract\":\"… The quartile 4 Environmental Justice Index was associated with a … index of environmental injustice, the CDC's EJI, to capture cumulative exposure across multiple domains. The EJI …\",\"full_text_url\":\"https://www.ahajournals.org/doi/pdf/10.1161/JAHA.123.033428\",\"related_url\":\"https://scholar.google.com/scholar?q=related:04LohGjRuwsJ:scholar.google.com/&scioq=%22environmental+justice+index%22%7C%22cdc+environmental+justice+index%22%7C%22atsdr+environmental+justice+index%22%7C%22cdc+eji%22%7C%22environmental+justice+composite+index+cdc%22%7C%22eji+2022%22%7C%22eji+2024+update%22%7C%22environmental+justice+health+index%22&hl=en&as_sdt=2007&as_ylo=2022&as_yhi=2025\",\"source_file\":\"eji\",\"tool_name\":\"Environmental Justice Index (EJI)\",\"study_id\":2185,\"y\":15,\"name\":\"Association of environmental injustice and cardiovascular diseases and risk factors in the United States\"},{\"cites\":9,\"authors\":\"N Popovich, AJ Figueroa, DA Sunter, M Shah\",\"title\":\"Identifying disadvantaged communities in the United States: An energy-oriented mapping tool that aggregates environmental and socioeconomic burdens\",\"year\":2024,\"source\":\"Energy Research &Social …\",\"publisher\":\"Elsevier\",\"article_url\":\"https://www.sciencedirect.com/science/article/pii/S2214629623004516\",\"cites_url\":\"https://scholar.google.com/scholar?cites=15019131389588296473&as_sdt=2005&sciodt=2007&hl=en\",\"gs_rank\":19,\"query_date\":\"2025-09-15\",\"type\":\"HTML\",\"doi\":null,\"ecc\":9,\"cites_per_year\":9,\"cites_per_author\":2,\"author_count\":4,\"age\":1,\"abstract\":\"… index to identify communities disproportionately impacted by environmental, energy, and climate … We review existing vulnerability indicators and indices to assess the tradeoffs of …\",\"full_text_url\":\"https://www.sciencedirect.com/science/article/pii/S2214629623004516\",\"related_url\":\"https://scholar.google.com/scholar?q=related:GVNUj2ysbtAJ:scholar.google.com/&scioq=%22environmental+justice+index%22%7C%22cdc+environmental+justice+index%22%7C%22atsdr+environmental+justice+index%22%7C%22cdc+eji%22%7C%22environmental+justice+composite+index+cdc%22%7C%22eji+2022%22%7C%22eji+2024+update%22%7C%22environmental+justice+health+index%22&hl=en&as_sdt=2007&as_ylo=2022&as_yhi=2025\",\"source_file\":\"eji\",\"tool_name\":\"Environmental Justice Index (EJI)\",\"study_id\":2161,\"y\":9,\"name\":\"Identifying disadvantaged communities in the United States: An energy-oriented mapping tool that aggregates environmental and socioeconomic burdens\"},{\"cites\":16,\"authors\":\"CA Pate, X Qin, C Johnson, HS Zahran\",\"title\":\"Asthma disparities among US children and adults\",\"year\":2023,\"source\":\"Journal of Asthma\",\"publisher\":\"Taylor &Francis\",\"article_url\":\"https://www.tandfonline.com/doi/abs/10.1080/02770903.2023.2228915\",\"cites_url\":\"https://scholar.google.com/scholar?cites=15292848815749387795&as_sdt=2005&sciodt=2007&hl=en\",\"gs_rank\":108,\"query_date\":\"2025-09-15\",\"type\":null,\"doi\":\"10.1080/02770903.2023.2228915\",\"ecc\":16,\"cites_per_year\":8,\"cites_per_author\":4,\"author_count\":4,\"age\":2,\"abstract\":\"… Promoting adequate housing can help further environmental justice and reduce burden of … asthma hospitalization and emergency department visits by 2024 (Citation37). Identifying and …\",\"full_text_url\":\"https://pmc.ncbi.nlm.nih.gov/articles/PMC10760409/\",\"related_url\":\"https://scholar.google.com/scholar?q=related:E9Z-EvkcO9QJ:scholar.google.com/&scioq=%22environmental+justice+index%22%7C%22cdc+environmental+justice+index%22%7C%22atsdr+environmental+justice+index%22%7C%22cdc+eji%22%7C%22environmental+justice+composite+index+cdc%22%7C%22eji+2022%22%7C%22eji+2024+update%22%7C%22environmental+justice+health+index%22&hl=en&as_sdt=2007&as_ylo=2022&as_yhi=2025\",\"source_file\":\"eji\",\"tool_name\":\"Environmental Justice Index (EJI)\",\"study_id\":2110,\"y\":8,\"name\":\"Asthma disparities among US children and adults\"},{\"cites\":7,\"authors\":\"P Matus, C Urquidi, M Cárcamo, V Vidal\",\"title\":\"Integrating the exposome and one health approach to national health surveillance: an opportunity for Latin American countries in health preventive …\",\"year\":2024,\"source\":\"Frontiers in Public Health\",\"publisher\":\"frontiersin.org\",\"article_url\":\"https://www.frontiersin.org/journals/public-health/articles/10.3389/fpubh.2024.1376609/full\",\"cites_url\":\"https://scholar.google.com/scholar?cites=9699733996703157615&as_sdt=2005&sciodt=2007&hl=en\",\"gs_rank\":86,\"query_date\":\"2025-09-15\",\"type\":\"HTML\",\"doi\":\"10.3389/fpubh.2024.1376609\",\"ecc\":7,\"cites_per_year\":7,\"cites_per_author\":2,\"author_count\":4,\"age\":1,\"abstract\":\"… Additionally, it facilitates the computation of indices, such as the Environmental Justice Index (EJ), enabling targeted health promotion and prevention interventions in the most …\",\"full_text_url\":\"https://www.frontiersin.org/journals/public-health/articles/10.3389/fpubh.2024.1376609/full\",\"related_url\":\"https://scholar.google.com/scholar?q=related:b41Fua1gnIYJ:scholar.google.com/&scioq=%22environmental+justice+index%22%7C%22cdc+environmental+justice+index%22%7C%22atsdr+environmental+justice+index%22%7C%22cdc+eji%22%7C%22environmental+justice+composite+index+cdc%22%7C%22eji+2022%22%7C%22eji+2024+update%22%7C%22environmental+justice+health+index%22&hl=en&as_sdt=2007&as_ylo=2022&as_yhi=2025\",\"source_file\":\"eji\",\"tool_name\":\"Environmental Justice Index (EJI)\",\"study_id\":2168,\"y\":7,\"name\":\"Integrating the exposome and one health approach to national health surveillance: an opportunity for Latin American countries in health preventive …\"},{\"cites\":7,\"authors\":\"S Doshi, S Vuppula, P Jaggi\",\"title\":\"Healthcare sustainability to address climate change: call for action to the infectious diseases community\",\"year\":2024,\"source\":\"Journal of the Pediatric Infectious …\",\"publisher\":\"academic.oup.com\",\"article_url\":\"https://academic.oup.com/jpids/article-abstract/13/6/306/7675997\",\"cites_url\":\"https://scholar.google.com/scholar?cites=1178007852079371498&as_sdt=2005&sciodt=2007&hl=en\",\"gs_rank\":89,\"query_date\":\"2025-09-15\",\"type\":null,\"doi\":null,\"ecc\":7,\"cites_per_year\":7,\"cites_per_author\":2,\"author_count\":3,\"age\":1,\"abstract\":\"… The risk of climate change is especially important to children, who are uniquely vulnerable to the health impacts of a changing climate and will live more years in a changed climate. …\",\"full_text_url\":null,\"related_url\":\"https://scholar.google.com/scholar?q=related:6tTPbeYfWRAJ:scholar.google.com/&scioq=%22environmental+justice+index%22%7C%22cdc+environmental+justice+index%22%7C%22atsdr+environmental+justice+index%22%7C%22cdc+eji%22%7C%22environmental+justice+composite+index+cdc%22%7C%22eji+2022%22%7C%22eji+2024+update%22%7C%22environmental+justice+health+index%22&hl=en&as_sdt=2007&as_ylo=2022&as_yhi=2025\",\"source_file\":\"eji\",\"tool_name\":\"Environmental Justice Index (EJI)\",\"study_id\":2183,\"y\":7,\"name\":\"Healthcare sustainability to address climate change: call for action to the infectious diseases community\"},{\"cites\":6,\"authors\":\"R Ibrahim, HN Pham, S Ganatra, Z Javed, ...\",\"title\":\"Social phenotyping for cardiovascular risk stratification in electronic health registries\",\"year\":2024,\"source\":\"Current atherosclerosis …\",\"publisher\":\"Springer\",\"article_url\":\"https://link.springer.com/article/10.1007/s11883-024-01222-6\",\"cites_url\":\"https://scholar.google.com/scholar?cites=15215021849109332408&as_sdt=2005&sciodt=2007&hl=en\",\"gs_rank\":83,\"query_date\":\"2025-09-15\",\"type\":null,\"doi\":\"10.1007/s11883-024-01222-6\",\"ecc\":6,\"cites_per_year\":6,\"cites_per_author\":1,\"author_count\":5,\"age\":1,\"abstract\":\"… - This cross-sectional analysis revealed that the Environmental Justice Index, a quantitative measure incorporating both environmental influences and social vulnerability, is highly …\",\"full_text_url\":null,\"related_url\":\"https://scholar.google.com/scholar?q=related:uAH4VcKdJtMJ:scholar.google.com/&scioq=%22environmental+justice+index%22%7C%22cdc+environmental+justice+index%22%7C%22atsdr+environmental+justice+index%22%7C%22cdc+eji%22%7C%22environmental+justice+composite+index+cdc%22%7C%22eji+2022%22%7C%22eji+2024+update%22%7C%22environmental+justice+health+index%22&hl=en&as_sdt=2007&as_ylo=2022&as_yhi=2025\",\"source_file\":\"eji\",\"tool_name\":\"Environmental Justice Index (EJI)\",\"study_id\":2176,\"y\":6,\"name\":\"Social phenotyping for cardiovascular risk stratification in electronic health registries\"},{\"cites\":6,\"authors\":\"R Winker, A Payton, E Brown, E McDermott, ...\",\"title\":\"Wildfires and climate justice: future wildfire events predicted to disproportionally impact socioeconomically vulnerable communities in North Carolina\",\"year\":2024,\"source\":\"… in public health\",\"publisher\":\"frontiersin.org\",\"article_url\":\"https://www.frontiersin.org/articles/10.3389/fpubh.2024.1339700/full\",\"cites_url\":\"https://scholar.google.com/scholar?cites=9543474696027875943&as_sdt=2005&sciodt=2007&hl=en\",\"gs_rank\":46,\"query_date\":\"2025-09-15\",\"type\":null,\"doi\":\"10.3389/fpubh.2024.1339700\",\"ecc\":6,\"cites_per_year\":6,\"cites_per_author\":1,\"author_count\":5,\"age\":1,\"abstract\":\"… ’s Forest Service’s WHP Index updated in 2020. The underlying methods surrounding … Environmental Justice Index (EJI) National Scale Air Toxics Assessment Respiratory Hazard Index…\",\"full_text_url\":\"https://www.frontiersin.org/journals/public-health/articles/10.3389/fpubh.2024.1339700/pdf\",\"related_url\":\"https://scholar.google.com/scholar?q=related:Z6qrK6w7cYQJ:scholar.google.com/&scioq=%22environmental+justice+index%22%7C%22cdc+environmental+justice+index%22%7C%22atsdr+environmental+justice+index%22%7C%22cdc+eji%22%7C%22environmental+justice+composite+index+cdc%22%7C%22eji+2022%22%7C%22eji+2024+update%22%7C%22environmental+justice+health+index%22&hl=en&as_sdt=2007&as_ylo=2022&as_yhi=2025\",\"source_file\":\"eji\",\"tool_name\":\"Environmental Justice Index (EJI)\",\"study_id\":2180,\"y\":6,\"name\":\"Wildfires and climate justice: future wildfire events predicted to disproportionally impact socioeconomically vulnerable communities in North Carolina\"},{\"cites\":5,\"authors\":\"D Doiron, EM Setton, J Syer, A Redivo, A McKee, ...\",\"title\":\"Healthyplan. city: a web tool to support urban environmental equity and public health in Canadian communities\",\"year\":2024,\"source\":\"… of Urban Health\",\"publisher\":\"Springer\",\"article_url\":\"https://link.springer.com/article/10.1007/s11524-024-00855-x\",\"cites_url\":\"https://scholar.google.com/scholar?cites=3817642094872671898&as_sdt=2005&sciodt=2007&hl=en\",\"gs_rank\":51,\"query_date\":\"2025-09-15\",\"type\":\"HTML\",\"doi\":\"10.1007/s11524-024-00855-x\",\"ecc\":5,\"cites_per_year\":5,\"cites_per_author\":1,\"author_count\":6,\"age\":1,\"abstract\":\"… create a flexible data system for easy updating of datasets, and (ii) … Along with the overall index, the EJI Explorer provides … ) calculates an Environmental Justice Index as the intersection …\",\"full_text_url\":\"https://link.springer.com/article/10.1007/s11524-024-00855-x\",\"related_url\":\"https://scholar.google.com/scholar?q=related:mrZ2MEL9-jQJ:scholar.google.com/&scioq=%22environmental+justice+index%22%7C%22cdc+environmental+justice+index%22%7C%22atsdr+environmental+justice+index%22%7C%22cdc+eji%22%7C%22environmental+justice+composite+index+cdc%22%7C%22eji+2022%22%7C%22eji+2024+update%22%7C%22environmental+justice+health+index%22&hl=en&as_sdt=2007&as_ylo=2022&as_yhi=2025\",\"source_file\":\"eji\",\"tool_name\":\"Environmental Justice Index (EJI)\",\"study_id\":2113,\"y\":5,\"name\":\"Healthyplan. city: a web tool to support urban environmental equity and public health in Canadian communities\"}],\"type\":\"bar\"},{\"name\":\"Future Risk Index (FRI)\",\"data\":[{\"cites\":4,\"authors\":\"JA Velasco, C Luna-Aranguré, ...\",\"title\":\"Drivers of urban biodiversity in Mexico and joint risks from future urban expansion, climate change, and urban heat island effect\",\"year\":2024,\"source\":\"PLoS …\",\"publisher\":\"journals.plos.org\",\"article_url\":\"https://journals.plos.org/plosone/article?id=10.1371/journal.pone.0308522\",\"cites_url\":\"https://scholar.google.com/scholar?cites=9098731931348706879&as_sdt=2005&sciodt=2007&hl=en\",\"gs_rank\":4,\"query_date\":\"2025-09-15\",\"type\":\"HTML\",\"doi\":null,\"ecc\":4,\"cites_per_year\":4,\"cites_per_author\":1,\"author_count\":3,\"age\":1,\"abstract\":\"Urbanization is a phenomenon where humans concentrate in high densities and consume more per capita energy than in rural areas, imposing high pressures on biodiversity and …\",\"full_text_url\":\"https://journals.plos.org/plosone/article?id=10.1371/journal.pone.0308522\",\"related_url\":\"https://scholar.google.com/scholar?q=related:PyaLAnwwRX4J:scholar.google.com/&scioq=%22future+risk+index%22%7C%22fema+future+risk+index%22%7C%22fri+future+risk+index%22%7C%22fema+fri%22%7C%22fema+climate+risk+index%22%7C%22fema+disaster+risk+index%22%7C%22future+disaster+risk+tool+fema%22%7C%22future+risk+index+fema+prototype%22&hl=en&as_sdt=2007&as_ylo=2024&as_yhi=2025\",\"source_file\":\"fri\",\"tool_name\":\"Future Risk Index (FRI)\",\"study_id\":2210,\"y\":4,\"name\":\"Drivers of urban biodiversity in Mexico and joint risks from future urban expansion, climate change, and urban heat island effect\"},{\"cites\":2,\"authors\":\"C Huang, A Zhang, M Zhang, ...\",\"title\":\"Venture capital and vulnerability: Navigating natural disasters and investment resilience\",\"year\":2025,\"source\":\"European Financial …\",\"publisher\":\"Wiley Online Library\",\"article_url\":\"https://onlinelibrary.wiley.com/doi/abs/10.1111/eufm.12528\",\"cites_url\":\"https://scholar.google.com/scholar?cites=14289324567282373282&as_sdt=2005&sciodt=2007&hl=en\",\"gs_rank\":5,\"query_date\":\"2025-09-15\",\"type\":null,\"doi\":\"10.1111/eufm.12528\",\"ecc\":2,\"cites_per_year\":2,\"cites_per_author\":1,\"author_count\":4,\"age\":1,\"abstract\":\"This study examines the impact of natural disasters on venture capital (VC) investment decisions. Using 47 catastrophic natural disasters occurred in the United States from 1990 to 2019…\",\"full_text_url\":\"https://onlinelibrary.wiley.com/doi/pdfdirect/10.1111/eufm.12528\",\"related_url\":\"https://scholar.google.com/scholar?q=related:otIgYfzgTcYJ:scholar.google.com/&scioq=%22future+risk+index%22%7C%22fema+future+risk+index%22%7C%22fri+future+risk+index%22%7C%22fema+fri%22%7C%22fema+climate+risk+index%22%7C%22fema+disaster+risk+index%22%7C%22future+disaster+risk+tool+fema%22%7C%22future+risk+index+fema+prototype%22&hl=en&as_sdt=2007&as_ylo=2024&as_yhi=2025\",\"source_file\":\"fri\",\"tool_name\":\"Future Risk Index (FRI)\",\"study_id\":2207,\"y\":2,\"name\":\"Venture capital and vulnerability: Navigating natural disasters and investment resilience\"},{\"cites\":1,\"authors\":\"L Mahowald, A Shaw\",\"title\":\"Climate Change Risk for LGBT People in the United States\",\"year\":2024,\"source\":null,\"publisher\":\"escholarship.org\",\"article_url\":\"https://escholarship.org/content/qt7xw635f3/qt7xw635f3.pdf\",\"cites_url\":\"https://scholar.google.com/scholar?cites=1121889444523494756&as_sdt=2005&sciodt=2007&hl=en\",\"gs_rank\":2,\"query_date\":\"2025-09-15\",\"type\":\"PDF\",\"doi\":null,\"ecc\":1,\"cites_per_year\":1,\"cites_per_author\":1,\"author_count\":2,\"age\":1,\"abstract\":\"Climate change represents a global challenge, but it also exacerbates existing disparities among individuals and communities. LGBT people face discrimination and exclusion, creating …\",\"full_text_url\":\"https://escholarship.org/content/qt7xw635f3/qt7xw635f3.pdf\",\"related_url\":\"https://scholar.google.com/scholar?q=related:ZE0VeoHAkQ8J:scholar.google.com/&scioq=%22future+risk+index%22%7C%22fema+future+risk+index%22%7C%22fri+future+risk+index%22%7C%22fema+fri%22%7C%22fema+climate+risk+index%22%7C%22fema+disaster+risk+index%22%7C%22future+disaster+risk+tool+fema%22%7C%22future+risk+index+fema+prototype%22&hl=en&as_sdt=2007&as_ylo=2024&as_yhi=2025\",\"source_file\":\"fri\",\"tool_name\":\"Future Risk Index (FRI)\",\"study_id\":2212,\"y\":1,\"name\":\"Climate Change Risk for LGBT People in the United States\"},{\"cites\":0,\"authors\":\"D Liu, M Li, L Zhang, M Li, M Faiz, T Li, S Cui, ...\",\"title\":\"Risk Measurement Analysis of a Regional Water‒Land-Energy-Food Coupling System Under Complex and Uncertain Climate Influences\",\"year\":null,\"source\":\"Available at SSRN …\",\"publisher\":\"papers.ssrn.com\",\"article_url\":\"https://papers.ssrn.com/sol3/papers.cfm?abstract_id=4891409\",\"cites_url\":null,\"gs_rank\":3,\"query_date\":\"2025-09-15\",\"type\":null,\"doi\":null,\"ecc\":0,\"cites_per_year\":0,\"cites_per_author\":0,\"author_count\":8,\"age\":null,\"abstract\":\"… Therefore, when the scenario conditions are worse, the future risk index of the Heilongjiang coupled system is greater. In addition, from a time perspective, the risk indices of the four …\",\"full_text_url\":\"https://papers.ssrn.com/sol3/Delivery.cfm?abstractid=4891409\",\"related_url\":\"https://scholar.google.com/scholar?q=related:dTJcE2MPKdoJ:scholar.google.com/&scioq=%22future+risk+index%22%7C%22fema+future+risk+index%22%7C%22fri+future+risk+index%22%7C%22fema+fri%22%7C%22fema+climate+risk+index%22%7C%22fema+disaster+risk+index%22%7C%22future+disaster+risk+tool+fema%22%7C%22future+risk+index+fema+prototype%22&hl=en&as_sdt=2007&as_ylo=2024&as_yhi=2025\",\"source_file\":\"fri\",\"tool_name\":\"Future Risk Index (FRI)\",\"study_id\":2208,\"y\":0,\"name\":\"Risk Measurement Analysis of a Regional Water‒Land-Energy-Food Coupling System Under Complex and Uncertain Climate Influences\"},{\"cites\":0,\"authors\":\"F Yang, C Yang, T Qie, W Wang, ...\",\"title\":\"Risk Avoidance Decision-Making for Intelligent Vehicles Based on Spatio-Temporal Risk Prediction\",\"year\":2024,\"source\":\"2024 8th CAA …\",\"publisher\":\"ieeexplore.ieee.org\",\"article_url\":\"https://ieeexplore.ieee.org/abstract/document/10830017/\",\"cites_url\":null,\"gs_rank\":1,\"query_date\":\"2025-09-15\",\"type\":null,\"doi\":null,\"ecc\":0,\"cites_per_year\":0,\"cites_per_author\":0,\"author_count\":5,\"age\":1,\"abstract\":\"In order to improve the collision risk assessment method of intelligent vehicles in complex traffic scenarios and avoid collision risk in real time, this paper proposes a risk avoidance …\",\"full_text_url\":null,\"related_url\":\"https://scholar.google.com/scholar?q=related:vDp_rXItLSMJ:scholar.google.com/&scioq=%22future+risk+index%22%7C%22fema+future+risk+index%22%7C%22fri+future+risk+index%22%7C%22fema+fri%22%7C%22fema+climate+risk+index%22%7C%22fema+disaster+risk+index%22%7C%22future+disaster+risk+tool+fema%22%7C%22future+risk+index+fema+prototype%22&hl=en&as_sdt=2007&as_ylo=2024&as_yhi=2025\",\"source_file\":\"fri\",\"tool_name\":\"Future Risk Index (FRI)\",\"study_id\":2209,\"y\":0,\"name\":\"Risk Avoidance Decision-Making for Intelligent Vehicles Based on Spatio-Temporal Risk Prediction\"},{\"cites\":0,\"authors\":\"L Bonifati\",\"title\":\"L'altra faccia degli executive orders di Trump: la “guerra ai dati” ei rischi per le future emergenze\",\"year\":2025,\"source\":\"FEDERALISMI. IT\",\"publisher\":\"cris.unibo.it\",\"article_url\":\"https://cris.unibo.it/handle/11585/1017979\",\"cites_url\":null,\"gs_rank\":6,\"query_date\":\"2025-09-15\",\"type\":null,\"doi\":null,\"ecc\":0,\"cites_per_year\":0,\"cites_per_author\":0,\"author_count\":1,\"age\":1,\"abstract\":\"L’articolo prende spunto dai recenti executive orders firmati all’inaugurazione della seconda presidenza di Donald Trump e pone l’attenzione sull’attacco ai dati governativi e alla …\",\"full_text_url\":\"https://cris.unibo.it/bitstream/11585/1017979/1/2025-Bonifati-Trump-guerra-dati_Fed.pdf\",\"related_url\":\"https://scholar.google.com/scholar?q=related:c-PmRCUY9isJ:scholar.google.com/&scioq=%22future+risk+index%22%7C%22fema+future+risk+index%22%7C%22fri+future+risk+index%22%7C%22fema+fri%22%7C%22fema+climate+risk+index%22%7C%22fema+disaster+risk+index%22%7C%22future+disaster+risk+tool+fema%22%7C%22future+risk+index+fema+prototype%22&hl=en&as_sdt=2007&as_ylo=2024&as_yhi=2025\",\"source_file\":\"fri\",\"tool_name\":\"Future Risk Index (FRI)\",\"study_id\":2211,\"y\":0,\"name\":\"L'altra faccia degli executive orders di Trump: la “guerra ai dati” ei rischi per le future emergenze\"}],\"type\":\"bar\"}],\"xAxis\":{\"type\":\"category\",\"title\":{\"text\":\"Study title\"},\"labels\":{\"enabled\":false}},\"subtitle\":{\"text\":\"Highlights studies with the highest relative citation rates\"},\"tooltip\":{\"pointFormat\":\"<b>{point.y}<\\/b> cites/year<br>{point.tool_name}<br>\"}},\"theme\":{\"chart\":{\"backgroundColor\":\"transparent\"},\"colors\":[\"#7cb5ec\",\"#434348\",\"#90ed7d\",\"#f7a35c\",\"#8085e9\",\"#f15c80\",\"#e4d354\",\"#2b908f\",\"#f45b5b\",\"#91e8e1\"]},\"conf_opts\":{\"global\":{\"Date\":null,\"VMLRadialGradientURL\":\"http =//code.highcharts.com/list(version)/gfx/vml-radial-gradient.png\",\"canvasToolsURL\":\"http =//code.highcharts.com/list(version)/modules/canvas-tools.js\",\"getTimezoneOffset\":null,\"timezoneOffset\":0,\"useUTC\":true},\"lang\":{\"contextButtonTitle\":\"Chart context menu\",\"decimalPoint\":\".\",\"downloadCSV\":\"Download CSV\",\"downloadJPEG\":\"Download JPEG image\",\"downloadPDF\":\"Download PDF document\",\"downloadPNG\":\"Download PNG image\",\"downloadSVG\":\"Download SVG vector image\",\"downloadXLS\":\"Download XLS\",\"drillUpText\":\"◁ Back to {series.name}\",\"exitFullscreen\":\"Exit from full screen\",\"exportData\":{\"annotationHeader\":\"Annotations\",\"categoryDatetimeHeader\":\"DateTime\",\"categoryHeader\":\"Category\"},\"hideData\":\"Hide data table\",\"invalidDate\":null,\"loading\":\"Loading...\",\"months\":[\"January\",\"February\",\"March\",\"April\",\"May\",\"June\",\"July\",\"August\",\"September\",\"October\",\"November\",\"December\"],\"noData\":\"No data to display\",\"numericSymbolMagnitude\":1000,\"numericSymbols\":[\"k\",\"M\",\"G\",\"T\",\"P\",\"E\"],\"printChart\":\"Print chart\",\"resetZoom\":\"Reset zoom\",\"resetZoomTitle\":\"Reset zoom level 1:1\",\"shortMonths\":[\"Jan\",\"Feb\",\"Mar\",\"Apr\",\"May\",\"Jun\",\"Jul\",\"Aug\",\"Sep\",\"Oct\",\"Nov\",\"Dec\"],\"shortWeekdays\":[\"Sat\",\"Sun\",\"Mon\",\"Tue\",\"Wed\",\"Thu\",\"Fri\"],\"thousandsSep\":\" \",\"viewData\":\"View data table\",\"viewFullscreen\":\"View in full screen\",\"weekdays\":[\"Sunday\",\"Monday\",\"Tuesday\",\"Wednesday\",\"Thursday\",\"Friday\",\"Saturday\"]}},\"type\":\"chart\",\"fonts\":[],\"debug\":false},\"evals\":[],\"jsHooks\":[]}</script>"
      ]
     }
    }
   ],
   "source": [
    "df_top_cpy <- all_tools %>%\n",
    "  filter(!is.na(cites_per_year)) %>%\n",
    "  group_by(tool_name) %>%\n",
    "  slice_max(order_by = cites_per_year, n = 10, with_ties = FALSE) %>%\n",
    "  ungroup()\n",
    "\n",
    "df_top_cpy %>% \n",
    "  select(tool_name, year, title, cites_per_year, cites, authors) %>%\n",
    "  arrange(tool_name, desc(cites_per_year))"
   ],
   "id": "378644ca-a0d0-4630-b6f7-1efd51560856"
  },
  {
   "cell_type": "markdown",
   "metadata": {},
   "source": [
    "##### Average `cites_per_year` over time per tool\n",
    "\n",
    "This shows whether more recent papers citing a tool are getting traction."
   ],
   "id": "096e031e-303c-4c5b-87a7-ba29b51dde33"
  },
  {
   "cell_type": "code",
   "execution_count": null,
   "metadata": {},
   "outputs": [
    {
     "output_type": "display_data",
     "metadata": {},
     "data": {
      "text/html": [
       "<div class=\"highchart html-widget html-fill-item\" id=\"htmlwidget-c6ca67850be0b79d09b0\" style=\"width:100%;height:464px;\"></div>\n",
       "<script type=\"application/json\" data-for=\"htmlwidget-c6ca67850be0b79d09b0\">{\"x\":{\"hc_opts\":{\"chart\":{\"reflow\":true},\"title\":{\"text\":\"Average cites per year over time, by tool\"},\"yAxis\":{\"title\":{\"text\":\"Average cites per year\"},\"type\":\"linear\"},\"credits\":{\"enabled\":false},\"exporting\":{\"enabled\":true},\"boost\":{\"enabled\":false},\"plotOptions\":{\"series\":{\"label\":{\"enabled\":false},\"turboThreshold\":0,\"showInLegend\":true},\"treemap\":{\"layoutAlgorithm\":\"squarified\"},\"scatter\":{\"marker\":{\"symbol\":\"circle\"}}},\"series\":[{\"name\":\"Climate Risk Viewer\",\"data\":[{\"tool_name\":\"Climate Risk Viewer\",\"year\":2023,\"avg_cpy\":2.666666666666667,\"x\":2023,\"y\":2.666666666666667},{\"tool_name\":\"Climate Risk Viewer\",\"year\":2024,\"avg_cpy\":20,\"x\":2024,\"y\":20},{\"tool_name\":\"Climate Risk Viewer\",\"year\":2025,\"avg_cpy\":1.75,\"x\":2025,\"y\":1.75}],\"type\":\"line\"},{\"name\":\"Climate and Economic Justice Screening Tool (CEJST)\",\"data\":[{\"tool_name\":\"Climate and Economic Justice Screening Tool (CEJST)\",\"year\":2022,\"avg_cpy\":1.8464,\"x\":2022,\"y\":1.8464},{\"tool_name\":\"Climate and Economic Justice Screening Tool (CEJST)\",\"year\":2023,\"avg_cpy\":2.139593908629441,\"x\":2023,\"y\":2.139593908629441},{\"tool_name\":\"Climate and Economic Justice Screening Tool (CEJST)\",\"year\":2024,\"avg_cpy\":2.528052805280529,\"x\":2024,\"y\":2.528052805280529},{\"tool_name\":\"Climate and Economic Justice Screening Tool (CEJST)\",\"year\":2025,\"avg_cpy\":0.7826086956521734,\"x\":2025,\"y\":0.7826086956521734}],\"type\":\"line\"},{\"name\":\"EJScreen\",\"data\":[{\"tool_name\":\"EJScreen\",\"year\":2016,\"avg_cpy\":0.4614285714285715,\"x\":2016,\"y\":0.4614285714285715},{\"tool_name\":\"EJScreen\",\"year\":2017,\"avg_cpy\":0.38,\"x\":2017,\"y\":0.38},{\"tool_name\":\"EJScreen\",\"year\":2018,\"avg_cpy\":2.101428571428571,\"x\":2018,\"y\":2.101428571428571},{\"tool_name\":\"EJScreen\",\"year\":2019,\"avg_cpy\":5.806666666666667,\"x\":2019,\"y\":5.806666666666667},{\"tool_name\":\"EJScreen\",\"year\":2020,\"avg_cpy\":1.92,\"x\":2020,\"y\":1.92},{\"tool_name\":\"EJScreen\",\"year\":2021,\"avg_cpy\":1.181034482758621,\"x\":2021,\"y\":1.181034482758621},{\"tool_name\":\"EJScreen\",\"year\":2022,\"avg_cpy\":2.38410909090909,\"x\":2022,\"y\":2.38410909090909},{\"tool_name\":\"EJScreen\",\"year\":2023,\"avg_cpy\":2.42542372881356,\"x\":2023,\"y\":2.42542372881356},{\"tool_name\":\"EJScreen\",\"year\":2024,\"avg_cpy\":1.947368421052632,\"x\":2024,\"y\":1.947368421052632},{\"tool_name\":\"EJScreen\",\"year\":2025,\"avg_cpy\":0.5918367346938772,\"x\":2025,\"y\":0.5918367346938772}],\"type\":\"line\"},{\"name\":\"Environmental Justice Index (EJI)\",\"data\":[{\"tool_name\":\"Environmental Justice Index (EJI)\",\"year\":2022,\"avg_cpy\":1.67,\"x\":2022,\"y\":1.67},{\"tool_name\":\"Environmental Justice Index (EJI)\",\"year\":2023,\"avg_cpy\":1.785714285714286,\"x\":2023,\"y\":1.785714285714286},{\"tool_name\":\"Environmental Justice Index (EJI)\",\"year\":2024,\"avg_cpy\":2.745098039215686,\"x\":2024,\"y\":2.745098039215686},{\"tool_name\":\"Environmental Justice Index (EJI)\",\"year\":2025,\"avg_cpy\":0.2978723404255319,\"x\":2025,\"y\":0.2978723404255319}],\"type\":\"line\"},{\"name\":\"Future Risk Index (FRI)\",\"data\":[{\"tool_name\":\"Future Risk Index (FRI)\",\"year\":2024,\"avg_cpy\":1.666666666666667,\"x\":2024,\"y\":1.666666666666667},{\"tool_name\":\"Future Risk Index (FRI)\",\"year\":2025,\"avg_cpy\":1,\"x\":2025,\"y\":1}],\"type\":\"line\"}],\"xAxis\":{\"type\":\"linear\",\"title\":{\"text\":\"year\"},\"categories\":null}},\"theme\":{\"chart\":{\"backgroundColor\":\"transparent\"},\"colors\":[\"#7cb5ec\",\"#434348\",\"#90ed7d\",\"#f7a35c\",\"#8085e9\",\"#f15c80\",\"#e4d354\",\"#2b908f\",\"#f45b5b\",\"#91e8e1\"]},\"conf_opts\":{\"global\":{\"Date\":null,\"VMLRadialGradientURL\":\"http =//code.highcharts.com/list(version)/gfx/vml-radial-gradient.png\",\"canvasToolsURL\":\"http =//code.highcharts.com/list(version)/modules/canvas-tools.js\",\"getTimezoneOffset\":null,\"timezoneOffset\":0,\"useUTC\":true},\"lang\":{\"contextButtonTitle\":\"Chart context menu\",\"decimalPoint\":\".\",\"downloadCSV\":\"Download CSV\",\"downloadJPEG\":\"Download JPEG image\",\"downloadPDF\":\"Download PDF document\",\"downloadPNG\":\"Download PNG image\",\"downloadSVG\":\"Download SVG vector image\",\"downloadXLS\":\"Download XLS\",\"drillUpText\":\"◁ Back to {series.name}\",\"exitFullscreen\":\"Exit from full screen\",\"exportData\":{\"annotationHeader\":\"Annotations\",\"categoryDatetimeHeader\":\"DateTime\",\"categoryHeader\":\"Category\"},\"hideData\":\"Hide data table\",\"invalidDate\":null,\"loading\":\"Loading...\",\"months\":[\"January\",\"February\",\"March\",\"April\",\"May\",\"June\",\"July\",\"August\",\"September\",\"October\",\"November\",\"December\"],\"noData\":\"No data to display\",\"numericSymbolMagnitude\":1000,\"numericSymbols\":[\"k\",\"M\",\"G\",\"T\",\"P\",\"E\"],\"printChart\":\"Print chart\",\"resetZoom\":\"Reset zoom\",\"resetZoomTitle\":\"Reset zoom level 1:1\",\"shortMonths\":[\"Jan\",\"Feb\",\"Mar\",\"Apr\",\"May\",\"Jun\",\"Jul\",\"Aug\",\"Sep\",\"Oct\",\"Nov\",\"Dec\"],\"shortWeekdays\":[\"Sat\",\"Sun\",\"Mon\",\"Tue\",\"Wed\",\"Thu\",\"Fri\"],\"thousandsSep\":\" \",\"viewData\":\"View data table\",\"viewFullscreen\":\"View in full screen\",\"weekdays\":[\"Sunday\",\"Monday\",\"Tuesday\",\"Wednesday\",\"Thursday\",\"Friday\",\"Saturday\"]}},\"type\":\"chart\",\"fonts\":[],\"debug\":false},\"evals\":[],\"jsHooks\":[]}</script>"
      ]
     }
    }
   ],
   "source": [
    "df_avg_cpy <- all_tools %>%\n",
    "  filter(!is.na(year), !is.na(cites_per_year)) %>%\n",
    "  group_by(tool_name, year) %>%\n",
    "  summarise(avg_cpy = mean(cites_per_year, na.rm = TRUE), .groups = \"drop\")\n",
    "\n",
    "hchart(df_avg_cpy, \"line\", hcaes(x = year, y = avg_cpy, group = tool_name)) %>%\n",
    "  hc_title(text = \"Average cites per year over time, by tool\") %>%\n",
    "  hc_yAxis(title = list(text = \"Average cites per year\")) %>%\n",
    "  hc_exporting(enabled = TRUE)"
   ],
   "id": "b4d69d39-1cd5-4a0a-a5ae-fef7484c10a8"
  },
  {
   "cell_type": "markdown",
   "metadata": {},
   "source": [
    "##### Publishers\n",
    "\n",
    "Which top 10 publishers/platforms appear most frequently?"
   ],
   "id": "85a48aeb-41e4-48e7-8d12-87fd93658e08"
  },
  {
   "cell_type": "code",
   "execution_count": null,
   "metadata": {},
   "outputs": [
    {
     "output_type": "stream",
     "name": "stdout",
     "text": [
      "              publisher   n\n",
      "1   search.proquest.com 212\n",
      "2              osti.gov 138\n",
      "3            HeinOnline 127\n",
      "4              Elsevier 118\n",
      "5              Springer  88\n",
      "6       papers.ssrn.com  61\n",
      "7       Taylor &Francis  58\n",
      "8        liebertpub.com  53\n",
      "9  Wiley Online Library  46\n",
      "10             mdpi.com  42"
     ]
    }
   ],
   "source": [
    "df_10_publishers <- all_tools %>%\n",
    "  filter(publisher != \"\") %>%\n",
    "  count(publisher, sort = TRUE) %>%\n",
    "  slice_head(n = 10)\n",
    "\n",
    "df_10_publishers"
   ],
   "id": "3c94d650-37d0-4eff-8abd-2e8d5d555bce"
  },
  {
   "cell_type": "markdown",
   "metadata": {},
   "source": [
    "List all publishers from the sample."
   ],
   "id": "16558376-abd7-44d8-80e6-c68e48d0d08b"
  },
  {
   "cell_type": "code",
   "execution_count": null,
   "metadata": {},
   "outputs": [],
   "source": [
    "df_all_publishers <- all_tools %>%\n",
    "  filter(publisher != \"\") %>%\n",
    "  count(publisher, sort = TRUE)\n",
    "\n",
    "write_csv(df_all_publishers, here(\"06_viz_ready\", \"all_publishers.csv\"))"
   ],
   "id": "18333549-932c-4279-bb3f-4f45557655b8"
  },
  {
   "cell_type": "markdown",
   "metadata": {},
   "source": [
    "#### Research question 2\n",
    "\n",
    "What research topics are associated with each tool, and how do these topics vary by citation frequency?\n",
    "\n",
    "Coming soon!\n",
    "\n",
    "#### Research question 3\n",
    "\n",
    "In what ways are these tools applied in research?\n",
    "\n",
    "Coming soon!"
   ],
   "id": "eaeb7c6c-c3c5-4d7a-bceb-d3b1fd181276"
  }
 ],
 "nbformat": 4,
 "nbformat_minor": 5,
 "metadata": {}
}
