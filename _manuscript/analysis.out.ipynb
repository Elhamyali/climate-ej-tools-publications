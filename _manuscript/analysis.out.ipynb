{
 "cells": [
  {
   "cell_type": "markdown",
   "metadata": {},
   "source": [
    "# How climate and envrionmental justice tools are used in research\n",
    "\n",
    "studies\n",
    "\n",
    "Elham Ali (Public Environmental Data Project)  \n",
    "September 2, 2025\n",
    "\n",
    "TBD\n",
    "\n",
    "## Background\n",
    "\n",
    "When public climate & EJ evidence disappears (removed, restricted, or altered), a decade of downstream knowledge becomes harder to verify, reproduce, teach, or apply—especially for communities and decisions that most need it.  \n",
    "This analysis looks at how many studies have used these tools, their topics, and their use cases.\n",
    "\n",
    "## Questions\n",
    "\n",
    "Here are the key questions explored in this analysis:\n",
    "\n",
    "-   How many research papers or studies have cited or relied on five U.S. federal climate and environmental tools that are threatened, not being maintained, or no longer available?  \n",
    "-   What research topics are associated with each tool, and how do these topics vary by citation frequency?  \n",
    "-   In what ways are these tools applied in research?\n",
    "\n",
    "## Data Sources\n",
    "\n",
    "The climate tools assessed are:\n",
    "\n",
    "-   CEQ’s **Climate and Economic Justice Screening Tool (CEJST)**  \n",
    "-   EPA’s **EJScreen**  \n",
    "-   USDA Forest Service’s **Climate Risk Viewer (CRV)**  \n",
    "-   FEMA’s **Future Risk Index (FRI)**  \n",
    "-   CDC’s **Environmental Justice Index (EJI)**\n",
    "\n",
    "The data for this project comes from Google scholar and last refreshed on August 29, 2025.\n",
    "\n",
    "Original raw datasets are saved in the `data/` folder. This script reduces and cleans those datasets to prepare them for analysis.\n",
    "\n",
    "------------------------------------------------------------------------\n",
    "\n",
    "## Cleaning\n",
    "\n",
    "I start by loading the packages needed for file handling, data wrangling, and visualization."
   ],
   "id": "7d88b77f-4a49-4bd6-8124-6e54826dc72b"
  },
  {
   "cell_type": "code",
   "execution_count": null,
   "metadata": {},
   "outputs": [
    {
     "output_type": "stream",
     "name": "stderr",
     "text": [
      "here() starts at /Users/elhamali/Documents/Data Projects/climate-ej-tools-data-story"
     ]
    },
    {
     "output_type": "stream",
     "name": "stderr",
     "text": [
      "── Attaching core tidyverse packages ──────────────────────── tidyverse 2.0.0 ──\n",
      "✔ dplyr     1.1.4     ✔ readr     2.1.5\n",
      "✔ forcats   1.0.0     ✔ stringr   1.5.1\n",
      "✔ ggplot2   3.5.2     ✔ tibble    3.3.0\n",
      "✔ lubridate 1.9.4     ✔ tidyr     1.3.1\n",
      "✔ purrr     1.1.0     "
     ]
    },
    {
     "output_type": "stream",
     "name": "stderr",
     "text": [
      "── Conflicts ────────────────────────────────────────── tidyverse_conflicts() ──\n",
      "✖ dplyr::filter() masks stats::filter()\n",
      "✖ dplyr::lag()    masks stats::lag()\n",
      "ℹ Use the conflicted package (<http://conflicted.r-lib.org/>) to force all conflicts to become errors"
     ]
    },
    {
     "output_type": "stream",
     "name": "stderr",
     "text": [
      "\n",
      "Attaching package: 'janitor'\n",
      "\n",
      "The following objects are masked from 'package:stats':\n",
      "\n",
      "    chisq.test, fisher.test"
     ]
    },
    {
     "output_type": "stream",
     "name": "stderr",
     "text": [
      "Registered S3 method overwritten by 'quantmod':\n",
      "  method            from\n",
      "  as.zoo.data.frame zoo \n",
      "Highcharts (www.highcharts.com) is a Highsoft software product which is\n",
      "not free for commercial and Governmental use"
     ]
    },
    {
     "output_type": "stream",
     "name": "stderr",
     "text": [
      "\n",
      "Attaching package: 'igraph'\n",
      "\n",
      "The following objects are masked from 'package:lubridate':\n",
      "\n",
      "    %--%, union\n",
      "\n",
      "The following objects are masked from 'package:dplyr':\n",
      "\n",
      "    as_data_frame, groups, union\n",
      "\n",
      "The following objects are masked from 'package:purrr':\n",
      "\n",
      "    compose, simplify\n",
      "\n",
      "The following object is masked from 'package:tidyr':\n",
      "\n",
      "    crossing\n",
      "\n",
      "The following object is masked from 'package:tibble':\n",
      "\n",
      "    as_data_frame\n",
      "\n",
      "The following objects are masked from 'package:stats':\n",
      "\n",
      "    decompose, spectrum\n",
      "\n",
      "The following object is masked from 'package:base':\n",
      "\n",
      "    union"
     ]
    }
   ],
   "source": [
    "## Folder structure helpers\n",
    "library(here)"
   ],
   "id": "8742d4d0-d061-4b3b-8b1b-0318a05a8f3d"
  },
  {
   "cell_type": "markdown",
   "metadata": {},
   "source": [
    "### Import raw data\n",
    "\n",
    "I import all .csv files from the `data/` folder, then save them as .rds files into `output/`. This preserves their structure and speeds up future reads."
   ],
   "id": "4321fb2a-e07b-4a37-a16a-b6df9ab0163b"
  },
  {
   "cell_type": "code",
   "execution_count": null,
   "metadata": {},
   "outputs": [],
   "source": [
    "# List all CSV files\n",
    "csv_files <- list.files(here(\"data\"), pattern = \"\\\\.csv$\", full.names = TRUE)\n",
    "\n",
    "# Read into a list of dataframes\n",
    "datasets <- map(csv_files, read.csv)\n",
    "names(datasets) <- tools::file_path_sans_ext(basename(csv_files))\n",
    "\n",
    "# Save each dataset as .rds in output/\n",
    "walk2(\n",
    "  datasets,\n",
    "  names(datasets),\n",
    "  ~ saveRDS(.x, here(\"output\", paste0(.y, \".rds\")))\n",
    ")"
   ],
   "id": "247ae8a4-929d-4b52-ac66-e6927501ef55"
  },
  {
   "cell_type": "markdown",
   "metadata": {},
   "source": [
    "### Merge EJScreen datasets\n",
    "\n",
    "Google Scholar caps search results at 1,000 records ([Harzing 2025](#ref-harzing2025)).\n",
    "\n",
    "Because EJScreen returned more than this, I split the results into four files (ejscreen_1–ejscreen_4). Here I combine them into one dataframe."
   ],
   "id": "3ed96f6a-c6c1-4e17-85ef-05ef2d50c12d"
  },
  {
   "cell_type": "code",
   "execution_count": null,
   "metadata": {},
   "outputs": [
    {
     "output_type": "stream",
     "name": "stdout",
     "text": [
      "[1] 1242   27"
     ]
    }
   ],
   "source": [
    "# List EJScreen RDS files\n",
    "ejscreen_files <- here(\"output\") |>\n",
    "  list.files(pattern = \"^ejscreen_\\\\d+\\\\.rds$\", full.names = TRUE)\n",
    "\n",
    "# Read, tag, clean variable names\n",
    "ejscreen_list <- map(ejscreen_files, ~ {\n",
    "  readRDS(.x) |>\n",
    "    mutate(source_file = tools::file_path_sans_ext(basename(.x))) |>\n",
    "    janitor::clean_names()\n",
    "})\n",
    "\n",
    "# Merge into one dataframe\n",
    "ejscreen_all <- bind_rows(ejscreen_list)\n",
    "\n",
    "# Quick check on dimensions\n",
    "dim(ejscreen_all)  "
   ],
   "id": "2a30f3cd-3d46-454b-ab56-c281ba47cbe0"
  },
  {
   "cell_type": "markdown",
   "metadata": {},
   "source": [
    "### Clean and tag all other tools\n",
    "\n",
    "I apply the same cleaning process to the other tools (CEJST, CRV, EJI, FRI):\n",
    "\n",
    "-   Standardize variable names to snake_case\n",
    "-   Add a source_file column for provenance\n",
    "-   Guess variable types (integers, doubles, dates, etc.)"
   ],
   "id": "da0dffea-67ce-4f90-8b9c-3c5b26eec31f"
  },
  {
   "cell_type": "code",
   "execution_count": null,
   "metadata": {},
   "outputs": [],
   "source": [
    "# Helper function: read, clean names, add provenance, type-convert\n",
    "read_clean_tag <- function(path) {\n",
    "  df <- readRDS(path) |>\n",
    "    janitor::clean_names()\n",
    "\n",
    "  source_stem <- tools::file_path_sans_ext(basename(path))  # e.g., \"ejscreen_1\" or \"cejst\"\n",
    "\n",
    "  df |>\n",
    "    mutate(\n",
    "      source_file = source_stem,\n",
    "      tool_name   = sub(\"_\\\\d+$\", \"\", source_stem)  # \"ejscreen_1\" -> \"ejscreen\"; \"cejst\" -> \"cejst\"\n",
    "    ) |>\n",
    "    readr::type_convert(col_types = readr::cols(.default = readr::col_guess())) |>\n",
    "    mutate(across(where(is.character), trimws))\n",
    "}\n",
    "# \n",
    "# # Rebuild ejscreen_all if needed\n",
    "# if (!exists(\"ejscreen_all\")) {\n",
    "#   ejs_files <- list.files(here(\"output\"), pattern = \"^ejscreen_\\\\d+\\\\.rds$\", full.names = TRUE)\n",
    "#   ejscreen_all <- ejs_files |> map(read_clean_tag) |> list_rbind()\n",
    "# }\n",
    "\n",
    "# Process other tools\n",
    "other_tools <- c(\"cejst\", \"crv\", \"eji\", \"fri\")\n",
    "other_paths <- here(\"output\", paste0(other_tools, \".rds\"))\n",
    "\n",
    "other_list <- other_paths |>\n",
    "  set_names(~ tools::file_path_sans_ext(basename(.x))) |>\n",
    "  map(read_clean_tag)"
   ],
   "id": "c8276eeb-ecea-4db9-a63f-9fcdba1efa57"
  },
  {
   "cell_type": "markdown",
   "metadata": {},
   "source": [
    "### Final merge and labeling\n",
    "\n",
    "I now merge all tools into a single dataset. Additional steps:\n",
    "\n",
    "-   Ensure consistent date formats\n",
    "-   Map tool codes (ejscreen, cejst, etc.) to their full names\n",
    "-   Drop empty placeholder columns"
   ],
   "id": "fce7bf5d-866a-4f14-82aa-7eb8b97e3311"
  },
  {
   "cell_type": "code",
   "execution_count": null,
   "metadata": {},
   "outputs": [
    {
     "output_type": "stream",
     "name": "stdout",
     "text": [
      "Rows: 2,170\n",
      "Columns: 22\n",
      "$ cites            <int> 1, 0, 0, 61, 0, 2, 0, 14, 0, 4, 14, 126, 71, 0, 3, 0,…\n",
      "$ authors          <chr> \"A Katner, E LeCompte, C Stallard, I Walsh, K Brisola…\n",
      "$ title            <chr> \"Traffic Related Pollutants and Human Health within t…\n",
      "$ year             <int> 2019, 2020, 2019, 2018, 2020, 2018, 2018, 2016, 2018,…\n",
      "$ source           <chr> \"\", \"\", \"\", \"Critical Criminology\", \"\", \"University o…\n",
      "$ publisher        <chr> \"cnu.org\", \"digital.lib.washington.edu\", \"epa.gov\", \"…\n",
      "$ article_url      <chr> \"https://www.cnu.org/sites/default/files/Claiborne%20…\n",
      "$ cites_url        <chr> \"https://scholar.google.com/scholar?cites=16608281987…\n",
      "$ gs_rank          <int> 17, 20, 22, 15, 14, 10, 28, 25, 26, 13, 6, 4, 2, 11, …\n",
      "$ query_date       <date> 2025-08-29, 2025-08-29, 2025-08-29, 2025-08-29, 2025…\n",
      "$ type             <chr> \"PDF\", \"\", \"PDF\", \"\", \"PDF\", \"PDF\", \"CITATION\", \"PDF\"…\n",
      "$ doi              <chr> \"\", \"\", \"\", \"10.1007/s10612-018-9399-6\", \"\", \"\", \"\", …\n",
      "$ ecc              <int> 1, 0, 0, 61, 0, 2, 0, 14, 0, 4, 14, 126, 71, 0, 3, 0,…\n",
      "$ cites_per_year   <dbl> 0.17, 0.00, 0.00, 8.71, 0.00, 0.29, 0.00, 1.56, 0.00,…\n",
      "$ cites_per_author <int> 0, 0, 0, 61, 0, 1, 0, 7, 0, 1, 4, 63, 24, 0, 3, 0, 7,…\n",
      "$ author_count     <int> 5, 5, 1, 1, 1, 2, 1, 2, 1, 3, 4, 2, 3, 2, 1, 3, 1, 3,…\n",
      "$ age              <int> 6, 5, 6, 7, 5, 7, 7, 9, 7, 5, 5, 6, 5, NA, 8, 5, 9, 9…\n",
      "$ abstract         <chr> \"… In addition, EJ Screen provides environmental just…\n",
      "$ full_text_url    <chr> \"https://www.cnu.org/sites/default/files/Claiborne%20…\n",
      "$ related_url      <chr> \"https://scholar.google.com/scholar?q=related:-zEYM3l…\n",
      "$ source_file      <chr> \"ejscreen_1\", \"ejscreen_1\", \"ejscreen_1\", \"ejscreen_1…\n",
      "$ tool_name        <chr> \"EJScreen\", \"EJScreen\", \"EJScreen\", \"EJScreen\", \"EJSc…"
     ]
    }
   ],
   "source": [
    "# Helper: coerce anything date-like into Date\n",
    "to_Date <- function(x) {\n",
    "  if (inherits(x, \"Date\"))    return(x)\n",
    "  if (inherits(x, \"POSIXt\"))  return(as_date(x))\n",
    "  if (is.numeric(x))          return(as_date(as.POSIXct(x, origin = \"1970-01-01\", tz = \"UTC\")))\n",
    "  if (is.character(x)) {\n",
    "    suppressWarnings({\n",
    "      dt <- ymd_hms(x, quiet = TRUE, tz = \"UTC\")\n",
    "      idx <- is.na(dt); if (any(idx)) dt[idx] <- ymd(x[idx], quiet = TRUE)\n",
    "      idx <- is.na(dt); if (any(idx)) dt[idx] <- mdy(x[idx], quiet = TRUE)\n",
    "      idx <- is.na(dt); if (any(idx)) dt[idx] <- dmy(x[idx], quiet = TRUE)\n",
    "    })\n",
    "    return(as_date(dt))\n",
    "  }\n",
    "  as_date(as.character(x))\n",
    "}\n",
    "\n",
    "# Apply date coercion\n",
    "if (\"query_date\" %in% names(ejscreen_all)) {\n",
    "  ejscreen_all <- ejscreen_all %>% mutate(query_date = to_Date(query_date))\n",
    "}\n",
    "\n",
    "if (exists(\"ejscreen_all\") && \"query_date\" %in% names(ejscreen_all)) {\n",
    "  ejscreen_all <- ejscreen_all %>% mutate(query_date = to_Date(query_date))\n",
    "}\n",
    "\n",
    "if (exists(\"other_list\")) {\n",
    "  other_list <- other_list %>%\n",
    "    map(~ if (\"query_date\" %in% names(.x)) mutate(.x, query_date = to_Date(query_date)) else .x)\n",
    "} else {\n",
    "  other_list <- list()\n",
    "}\n",
    "\n",
    "# Merge all datasets\n",
    "all_tools <- bind_rows(ejscreen_all, !!!other_list)\n",
    "\n",
    "# Map tool codes to full names\n",
    "all_tools <- all_tools %>%\n",
    "  mutate(\n",
    "    source_file = if_else(is.na(source_file) | source_file == \"\",\n",
    "                          coalesce(source_file, tool_name), source_file),\n",
    "    base_tool   = sub(\"_\\\\d+$\", \"\", source_file),   # ejscreen_1 -> ejscreen\n",
    "    tool_name   = dplyr::recode(\n",
    "      base_tool,\n",
    "      ejscreen = \"EJScreen\",\n",
    "      cejst    = \"Climate and Economic Justice Screening Tool (CEJST)\",\n",
    "      crv      = \"Climate Risk Viewer\",\n",
    "      fri      = \"Future Risk Index (FRI)\",\n",
    "      eji      = \"Environmental Justice Index (EJI)\",\n",
    "      .default = tool_name  # keep whatever was there if not matched\n",
    "    )\n",
    "  ) %>%\n",
    "  select(-base_tool)\n",
    "\n",
    "# Drop empty placeholder columns\n",
    "all_tools <- all_tools %>%\n",
    "  select(-any_of(c(\"issn\", \"citation_url\", \"volume\", \"issue\", \"start_page\", \"end_page\")))\n",
    "\n",
    "# Save combined dataset\n",
    "glimpse(all_tools)"
   ],
   "id": "4b674a68-2ef6-4a67-a98e-c182a9380e98"
  },
  {
   "cell_type": "markdown",
   "metadata": {},
   "source": [
    "## Analysis\n",
    "\n",
    "I will look at each question one by one and clean the data as I go. I will organize the data during the analysis before exploring the results. I’ll also export intermediate results into tidy CSV files so they are ready for further visualization and exploration.\n",
    "\n",
    "### Research question 1\n",
    "\n",
    "How many research papers or studies have cited or relied on five U.S. federal climate and environmental tools that are threatened, not being maintained, or no longer available?\n",
    "\n",
    "#### Total number of studies"
   ],
   "id": "8408327b-ad4b-40dd-babd-f9f2a532297c"
  },
  {
   "cell_type": "code",
   "execution_count": null,
   "metadata": {},
   "outputs": [
    {
     "output_type": "stream",
     "name": "stdout",
     "text": [
      "[1] 2170"
     ]
    }
   ],
   "source": [
    "nrow (all_tools)"
   ],
   "id": "b6771ec7-343d-46a1-82e9-142069bbf293"
  },
  {
   "cell_type": "markdown",
   "metadata": {},
   "source": [
    "#### Count of studies per tool"
   ],
   "id": "083357ec-7ef5-4ddb-ac20-f90f2695cb5e"
  },
  {
   "cell_type": "code",
   "execution_count": null,
   "metadata": {},
   "outputs": [
    {
     "output_type": "display_data",
     "metadata": {},
     "data": {
      "text/html": [
       "<div class=\"highchart html-widget html-fill-item\" id=\"htmlwidget-51243235f5b89e1da6bd\" style=\"width:100%;height:464px;\"></div>\n",
       "<script type=\"application/json\" data-for=\"htmlwidget-51243235f5b89e1da6bd\">{\"x\":{\"hc_opts\":{\"chart\":{\"reflow\":true},\"title\":{\"text\":\"Number of studies by tool\"},\"yAxis\":{\"title\":{\"text\":\"Number of studies\"},\"type\":\"linear\",\"allowDecimals\":false},\"credits\":{\"enabled\":false},\"exporting\":{\"enabled\":true},\"boost\":{\"enabled\":false},\"plotOptions\":{\"series\":{\"label\":{\"enabled\":false},\"turboThreshold\":0,\"showInLegend\":false},\"treemap\":{\"layoutAlgorithm\":\"squarified\"},\"scatter\":{\"marker\":{\"symbol\":\"circle\"}}},\"series\":[{\"group\":\"group\",\"data\":[{\"tool_name\":\"EJScreen\",\"n_studies\":1242,\"y\":1242,\"name\":\"EJScreen\"},{\"tool_name\":\"Climate and Economic Justice Screening Tool (CEJST)\",\"n_studies\":785,\"y\":785,\"name\":\"Climate and Economic Justice Screening Tool (CEJST)\"},{\"tool_name\":\"Environmental Justice Index (EJI)\",\"n_studies\":113,\"y\":113,\"name\":\"Environmental Justice Index (EJI)\"},{\"tool_name\":\"Climate Risk Viewer\",\"n_studies\":24,\"y\":24,\"name\":\"Climate Risk Viewer\"},{\"tool_name\":\"Future Risk Index (FRI)\",\"n_studies\":6,\"y\":6,\"name\":\"Future Risk Index (FRI)\"}],\"type\":\"column\"}],\"xAxis\":{\"type\":\"category\",\"title\":{\"text\":\"Tool\"}},\"subtitle\":{\"text\":\"Total count of research papers citing or relying on each tool\"},\"tooltip\":{\"pointFormat\":\"<b>{point.y}<\\/b> studies\"},\"legend\":{\"enabled\":false}},\"theme\":{\"chart\":{\"backgroundColor\":\"transparent\"},\"colors\":[\"#7cb5ec\",\"#434348\",\"#90ed7d\",\"#f7a35c\",\"#8085e9\",\"#f15c80\",\"#e4d354\",\"#2b908f\",\"#f45b5b\",\"#91e8e1\"]},\"conf_opts\":{\"global\":{\"Date\":null,\"VMLRadialGradientURL\":\"http =//code.highcharts.com/list(version)/gfx/vml-radial-gradient.png\",\"canvasToolsURL\":\"http =//code.highcharts.com/list(version)/modules/canvas-tools.js\",\"getTimezoneOffset\":null,\"timezoneOffset\":0,\"useUTC\":true},\"lang\":{\"contextButtonTitle\":\"Chart context menu\",\"decimalPoint\":\".\",\"downloadCSV\":\"Download CSV\",\"downloadJPEG\":\"Download JPEG image\",\"downloadPDF\":\"Download PDF document\",\"downloadPNG\":\"Download PNG image\",\"downloadSVG\":\"Download SVG vector image\",\"downloadXLS\":\"Download XLS\",\"drillUpText\":\"◁ Back to {series.name}\",\"exitFullscreen\":\"Exit from full screen\",\"exportData\":{\"annotationHeader\":\"Annotations\",\"categoryDatetimeHeader\":\"DateTime\",\"categoryHeader\":\"Category\"},\"hideData\":\"Hide data table\",\"invalidDate\":null,\"loading\":\"Loading...\",\"months\":[\"January\",\"February\",\"March\",\"April\",\"May\",\"June\",\"July\",\"August\",\"September\",\"October\",\"November\",\"December\"],\"noData\":\"No data to display\",\"numericSymbolMagnitude\":1000,\"numericSymbols\":[\"k\",\"M\",\"G\",\"T\",\"P\",\"E\"],\"printChart\":\"Print chart\",\"resetZoom\":\"Reset zoom\",\"resetZoomTitle\":\"Reset zoom level 1:1\",\"shortMonths\":[\"Jan\",\"Feb\",\"Mar\",\"Apr\",\"May\",\"Jun\",\"Jul\",\"Aug\",\"Sep\",\"Oct\",\"Nov\",\"Dec\"],\"shortWeekdays\":[\"Sat\",\"Sun\",\"Mon\",\"Tue\",\"Wed\",\"Thu\",\"Fri\"],\"thousandsSep\":\" \",\"viewData\":\"View data table\",\"viewFullscreen\":\"View in full screen\",\"weekdays\":[\"Sunday\",\"Monday\",\"Tuesday\",\"Wednesday\",\"Thursday\",\"Friday\",\"Saturday\"]}},\"type\":\"chart\",\"fonts\":[],\"debug\":false},\"evals\":[],\"jsHooks\":[]}</script>"
      ]
     }
    }
   ],
   "source": [
    "df_tool <- all_tools %>%\n",
    "  count(tool_name, name = \"n_studies\") %>%\n",
    "  arrange(desc(n_studies))\n",
    "\n",
    "hchart(df_tool, \"column\", hcaes(x = tool_name, y = n_studies)) %>%\n",
    "  hc_title(text = \"Number of studies by tool\") %>%\n",
    "  hc_subtitle(text = \"Total count of research papers citing or relying on each tool\") %>%\n",
    "  hc_xAxis(title = list(text = \"Tool\")) %>%\n",
    "  hc_yAxis(title = list(text = \"Number of studies\"), allowDecimals = FALSE) %>%\n",
    "  hc_tooltip(pointFormat = \"<b>{point.y}</b> studies\") %>%\n",
    "  hc_legend(enabled = FALSE) %>%\n",
    "  hc_exporting(enabled = TRUE)"
   ],
   "id": "bce21c4f-d9e0-4bf6-8b3b-10b92508f7e7"
  },
  {
   "cell_type": "markdown",
   "metadata": {},
   "source": [
    "#### Count of studies per year per tool"
   ],
   "id": "997dcdfc-956e-4665-a90e-4a3543a2a924"
  },
  {
   "cell_type": "code",
   "execution_count": null,
   "metadata": {},
   "outputs": [
    {
     "output_type": "display_data",
     "metadata": {},
     "data": {
      "text/html": [
       "<div class=\"highchart html-widget html-fill-item\" id=\"htmlwidget-9e46486417091f823d5d\" style=\"width:100%;height:464px;\"></div>\n",
       "<script type=\"application/json\" data-for=\"htmlwidget-9e46486417091f823d5d\">{\"x\":{\"hc_opts\":{\"chart\":{\"reflow\":true},\"title\":{\"text\":\"Studies over time by tool\"},\"yAxis\":{\"title\":{\"text\":\"Number of studies\"},\"type\":\"linear\",\"allowDecimals\":false},\"credits\":{\"enabled\":false},\"exporting\":{\"enabled\":true},\"boost\":{\"enabled\":false},\"plotOptions\":{\"series\":{\"label\":{\"enabled\":false},\"turboThreshold\":0,\"showInLegend\":true},\"treemap\":{\"layoutAlgorithm\":\"squarified\"},\"scatter\":{\"marker\":{\"symbol\":\"circle\"}}},\"series\":[{\"name\":\"Climate Risk Viewer\",\"data\":[{\"tool_name\":\"Climate Risk Viewer\",\"year\":2023,\"n_studies\":3,\"x\":2023,\"y\":3},{\"tool_name\":\"Climate Risk Viewer\",\"year\":2024,\"n_studies\":14,\"x\":2024,\"y\":14},{\"tool_name\":\"Climate Risk Viewer\",\"year\":2025,\"n_studies\":4,\"x\":2025,\"y\":4}],\"type\":\"line\"},{\"name\":\"Climate and Economic Justice Screening Tool (CEJST)\",\"data\":[{\"tool_name\":\"Climate and Economic Justice Screening Tool (CEJST)\",\"year\":2022,\"n_studies\":100,\"x\":2022,\"y\":100},{\"tool_name\":\"Climate and Economic Justice Screening Tool (CEJST)\",\"year\":2023,\"n_studies\":196,\"x\":2023,\"y\":196},{\"tool_name\":\"Climate and Economic Justice Screening Tool (CEJST)\",\"year\":2024,\"n_studies\":300,\"x\":2024,\"y\":300},{\"tool_name\":\"Climate and Economic Justice Screening Tool (CEJST)\",\"year\":2025,\"n_studies\":145,\"x\":2025,\"y\":145}],\"type\":\"line\"},{\"name\":\"EJScreen\",\"data\":[{\"tool_name\":\"EJScreen\",\"year\":2016,\"n_studies\":7,\"x\":2016,\"y\":7},{\"tool_name\":\"EJScreen\",\"year\":2017,\"n_studies\":1,\"x\":2017,\"y\":1},{\"tool_name\":\"EJScreen\",\"year\":2018,\"n_studies\":7,\"x\":2018,\"y\":7},{\"tool_name\":\"EJScreen\",\"year\":2019,\"n_studies\":6,\"x\":2019,\"y\":6},{\"tool_name\":\"EJScreen\",\"year\":2020,\"n_studies\":10,\"x\":2020,\"y\":10},{\"tool_name\":\"EJScreen\",\"year\":2021,\"n_studies\":58,\"x\":2021,\"y\":58},{\"tool_name\":\"EJScreen\",\"year\":2022,\"n_studies\":274,\"x\":2022,\"y\":274},{\"tool_name\":\"EJScreen\",\"year\":2023,\"n_studies\":293,\"x\":2023,\"y\":293},{\"tool_name\":\"EJScreen\",\"year\":2024,\"n_studies\":345,\"x\":2024,\"y\":345},{\"tool_name\":\"EJScreen\",\"year\":2025,\"n_studies\":185,\"x\":2025,\"y\":185}],\"type\":\"line\"},{\"name\":\"Environmental Justice Index (EJI)\",\"data\":[{\"tool_name\":\"Environmental Justice Index (EJI)\",\"year\":2022,\"n_studies\":1,\"x\":2022,\"y\":1},{\"tool_name\":\"Environmental Justice Index (EJI)\",\"year\":2023,\"n_studies\":14,\"x\":2023,\"y\":14},{\"tool_name\":\"Environmental Justice Index (EJI)\",\"year\":2024,\"n_studies\":51,\"x\":2024,\"y\":51},{\"tool_name\":\"Environmental Justice Index (EJI)\",\"year\":2025,\"n_studies\":44,\"x\":2025,\"y\":44}],\"type\":\"line\"},{\"name\":\"Future Risk Index (FRI)\",\"data\":[{\"tool_name\":\"Future Risk Index (FRI)\",\"year\":2024,\"n_studies\":3,\"x\":2024,\"y\":3},{\"tool_name\":\"Future Risk Index (FRI)\",\"year\":2025,\"n_studies\":2,\"x\":2025,\"y\":2}],\"type\":\"line\"}],\"xAxis\":{\"type\":\"linear\",\"title\":{\"text\":\"Year\"},\"allowDecimals\":false},\"subtitle\":{\"text\":\"Annual counts of studies citing or relying on each tool\"},\"tooltip\":{\"shared\":true,\"crosshairs\":true,\"headerFormat\":\"<b>Year: {point.key}<\\/b><br/>\",\"pointFormat\":\"{series.name}: <b>{point.y}<\\/b><br/>\"},\"legend\":{\"title\":{\"text\":\"Tool\"}}},\"theme\":{\"chart\":{\"backgroundColor\":\"transparent\"},\"colors\":[\"#7cb5ec\",\"#434348\",\"#90ed7d\",\"#f7a35c\",\"#8085e9\",\"#f15c80\",\"#e4d354\",\"#2b908f\",\"#f45b5b\",\"#91e8e1\"]},\"conf_opts\":{\"global\":{\"Date\":null,\"VMLRadialGradientURL\":\"http =//code.highcharts.com/list(version)/gfx/vml-radial-gradient.png\",\"canvasToolsURL\":\"http =//code.highcharts.com/list(version)/modules/canvas-tools.js\",\"getTimezoneOffset\":null,\"timezoneOffset\":0,\"useUTC\":true},\"lang\":{\"contextButtonTitle\":\"Chart context menu\",\"decimalPoint\":\".\",\"downloadCSV\":\"Download CSV\",\"downloadJPEG\":\"Download JPEG image\",\"downloadPDF\":\"Download PDF document\",\"downloadPNG\":\"Download PNG image\",\"downloadSVG\":\"Download SVG vector image\",\"downloadXLS\":\"Download XLS\",\"drillUpText\":\"◁ Back to {series.name}\",\"exitFullscreen\":\"Exit from full screen\",\"exportData\":{\"annotationHeader\":\"Annotations\",\"categoryDatetimeHeader\":\"DateTime\",\"categoryHeader\":\"Category\"},\"hideData\":\"Hide data table\",\"invalidDate\":null,\"loading\":\"Loading...\",\"months\":[\"January\",\"February\",\"March\",\"April\",\"May\",\"June\",\"July\",\"August\",\"September\",\"October\",\"November\",\"December\"],\"noData\":\"No data to display\",\"numericSymbolMagnitude\":1000,\"numericSymbols\":[\"k\",\"M\",\"G\",\"T\",\"P\",\"E\"],\"printChart\":\"Print chart\",\"resetZoom\":\"Reset zoom\",\"resetZoomTitle\":\"Reset zoom level 1:1\",\"shortMonths\":[\"Jan\",\"Feb\",\"Mar\",\"Apr\",\"May\",\"Jun\",\"Jul\",\"Aug\",\"Sep\",\"Oct\",\"Nov\",\"Dec\"],\"shortWeekdays\":[\"Sat\",\"Sun\",\"Mon\",\"Tue\",\"Wed\",\"Thu\",\"Fri\"],\"thousandsSep\":\" \",\"viewData\":\"View data table\",\"viewFullscreen\":\"View in full screen\",\"weekdays\":[\"Sunday\",\"Monday\",\"Tuesday\",\"Wednesday\",\"Thursday\",\"Friday\",\"Saturday\"]}},\"type\":\"chart\",\"fonts\":[],\"debug\":false},\"evals\":[],\"jsHooks\":[]}</script>"
      ]
     }
    }
   ],
   "source": [
    "df_year_tool <- all_tools %>%\n",
    "  filter(!is.na(year)) %>%\n",
    "  count(tool_name, year, name = \"n_studies\") %>%\n",
    "  arrange(tool_name, year)\n",
    "\n",
    "hchart(\n",
    "  df_year_tool,\n",
    "  \"line\",\n",
    "  hcaes(x = year, y = n_studies, group = tool_name)\n",
    ") %>%\n",
    "  hc_title(text = \"Studies over time by tool\") %>%\n",
    "  hc_subtitle(text = \"Annual counts of studies citing or relying on each tool\") %>%\n",
    "  hc_xAxis(title = list(text = \"Year\"), allowDecimals = FALSE) %>%\n",
    "  hc_yAxis(title = list(text = \"Number of studies\"), allowDecimals = FALSE) %>%\n",
    "  hc_tooltip(shared = TRUE, crosshairs = TRUE,\n",
    "             headerFormat = \"<b>Year: {point.key}</b><br/>\",\n",
    "             pointFormat = \"{series.name}: <b>{point.y}</b><br/>\") %>%\n",
    "  hc_legend(title = list(text = \"Tool\")) %>%\n",
    "  hc_exporting(enabled = TRUE)"
   ],
   "id": "131ee753-eb30-4d49-bf1c-875a185b2141"
  },
  {
   "cell_type": "markdown",
   "metadata": {},
   "source": [
    "#### Top 10 most cited studies overall per tool"
   ],
   "id": "0a7e57af-a338-4b02-82a3-d5c1f0571585"
  },
  {
   "cell_type": "code",
   "execution_count": null,
   "metadata": {},
   "outputs": [
    {
     "output_type": "stream",
     "name": "stdout",
     "text": [
      "# A tibble: 46 × 5\n",
      "   tool_name            year title                                 cites authors\n",
      "   <chr>               <int> <chr>                                 <int> <chr>  \n",
      " 1 Climate Risk Viewer  2024 Transition versus physical climate r…   227 G Bua,…\n",
      " 2 Climate Risk Viewer    NA USDA Forest Service                      27 I Fore…\n",
      " 3 Climate Risk Viewer  2024 Physical and transition risk premium…    14 JV Bat…\n",
      " 4 Climate Risk Viewer  2023 Measuring the climate risk exposure …    13 H Jung…\n",
      " 5 Climate Risk Viewer  2024 Perceived climate risk and stock pri…    12 H Ben …\n",
      " 6 Climate Risk Viewer  2024 Physical climate risk factors and an…     6 H Jung…\n",
      " 7 Climate Risk Viewer  2024 A practical framework for applied fo…     5 AD Bow…\n",
      " 8 Climate Risk Viewer  2024 Climate risks, corporate bonds, and …     5 V Lalw…\n",
      " 9 Climate Risk Viewer  2025 Land of opportunity: potential for r…     4 T Mai,…\n",
      "10 Climate Risk Viewer  2023 Firm-specific climate risk estimated…     3 T Dang…\n",
      "# ℹ 36 more rows"
     ]
    }
   ],
   "source": [
    "df_top_cites <- all_tools %>%\n",
    "  filter(!is.na(cites)) %>%\n",
    "  group_by(tool_name) %>%\n",
    "  slice_max(order_by = cites, n = 10, with_ties = FALSE) %>%\n",
    "  ungroup() %>%\n",
    "  select(tool_name, year, title, cites, authors) %>%\n",
    "  arrange(tool_name, desc(cites))\n",
    "\n",
    "# Show table (optional)\n",
    "df_top_cites"
   ],
   "id": "b96f0b6e-6f7a-4033-8ae3-f6de8d034a48"
  },
  {
   "cell_type": "markdown",
   "metadata": {},
   "source": [
    "#### Top 10 highest `cites_per_year` per tool\n",
    "\n",
    "This shows which studies are “most cited relative to their age.”"
   ],
   "id": "28839561-5751-4181-a14f-38c3d7c308c8"
  },
  {
   "cell_type": "code",
   "execution_count": null,
   "metadata": {},
   "outputs": [
    {
     "output_type": "stream",
     "name": "stdout",
     "text": [
      "# A tibble: 46 × 6\n",
      "   tool_name            year title                  cites_per_year cites authors\n",
      "   <chr>               <int> <chr>                           <dbl> <int> <chr>  \n",
      " 1 Climate Risk Viewer  2024 Transition versus phy…          227     227 G Bua,…\n",
      " 2 Climate Risk Viewer  2024 Physical and transiti…           14      14 JV Bat…\n",
      " 3 Climate Risk Viewer  2024 Perceived climate ris…           12      12 H Ben …\n",
      " 4 Climate Risk Viewer  2023 Measuring the climate…            6.5    13 H Jung…\n",
      " 5 Climate Risk Viewer  2024 Physical climate risk…            6       6 H Jung…\n",
      " 6 Climate Risk Viewer  2024 A practical framework…            5       5 AD Bow…\n",
      " 7 Climate Risk Viewer  2024 Climate risks, corpor…            5       5 V Lalw…\n",
      " 8 Climate Risk Viewer  2025 Land of opportunity: …            4       4 T Mai,…\n",
      " 9 Climate Risk Viewer  2023 Firm-specific climate…            1.5     3 T Dang…\n",
      "10 Climate Risk Viewer    NA Forest Carbon Assessm…            0       0 A Duga…\n",
      "# ℹ 36 more rows"
     ]
    },
    {
     "output_type": "display_data",
     "metadata": {},
     "data": {
      "text/html": [
       "<div class=\"highchart html-widget html-fill-item\" id=\"htmlwidget-82fb5f83353bd73dd975\" style=\"width:100%;height:464px;\"></div>\n",
       "<script type=\"application/json\" data-for=\"htmlwidget-82fb5f83353bd73dd975\">{\"x\":{\"hc_opts\":{\"chart\":{\"reflow\":true},\"title\":{\"text\":\"Top 10 studies by cites per year, per tool\"},\"yAxis\":{\"title\":{\"text\":\"Cites per year\"},\"type\":\"linear\"},\"credits\":{\"enabled\":false},\"exporting\":{\"enabled\":true},\"boost\":{\"enabled\":false},\"plotOptions\":{\"series\":{\"label\":{\"enabled\":false},\"turboThreshold\":0,\"showInLegend\":true},\"treemap\":{\"layoutAlgorithm\":\"squarified\"},\"scatter\":{\"marker\":{\"symbol\":\"circle\"}}},\"series\":[{\"name\":\"Climate Risk Viewer\",\"data\":[{\"cites\":227,\"authors\":\"G Bua, D Kapp, F Ramella, ...\",\"title\":\"Transition versus physical climate risk pricing in European financial markets: A text-based approach\",\"year\":2024,\"source\":\"The European Journal of …\",\"publisher\":\"Taylor &Francis\",\"article_url\":\"https://www.tandfonline.com/doi/abs/10.1080/1351847X.2024.2355103\",\"cites_url\":\"https://scholar.google.com/scholar?cites=4932062984936490780&as_sdt=2005&sciodt=2007&hl=en\",\"gs_rank\":7,\"query_date\":\"2025-08-29\",\"type\":null,\"doi\":\"10.1080/1351847X.2024.2355103\",\"ecc\":227,\"cites_per_year\":227,\"cites_per_author\":57,\"author_count\":4,\"age\":1,\"abstract\":\"Under its climate regulation, the EU is expected to become the first continent with a net-zero emissions balance. We study the pricing of climate risks, physical and transition, within …\",\"full_text_url\":\"https://www.tandfonline.com/doi/pdf/10.1080/1351847X.2024.2355103\",\"related_url\":\"https://scholar.google.com/scholar?q=related:HAf-Uic1ckQJ:scholar.google.com/&scioq=%22climate+risk+viewer%22%7C%22usda+climate+risk+viewer%22%7C%22forest+service+climate+risk+viewer%22%7C%22usfs+climate+risk+viewer%22%7C%22climate+risk+mapping+tool+usda%22%7C%22usda+risk+viewer+climate%22%7C%22usda+climate+risk+tool%22%7C%22climate+risk+beta+viewer%22&hl=en&as_sdt=2007&as_ylo=2023&as_yhi=2025\",\"source_file\":\"crv\",\"tool_name\":\"Climate Risk Viewer\",\"y\":227,\"name\":\"Transition versus physical climate risk pricing in European financial markets: A text-based approach\"},{\"cites\":14,\"authors\":\"JV Bats, G Bua, D Kapp\",\"title\":\"Physical and transition risk premiums in euro area corporate bond markets\",\"year\":2024,\"source\":null,\"publisher\":\"econstor.eu\",\"article_url\":\"https://www.econstor.eu/handle/10419/297339\",\"cites_url\":\"https://scholar.google.com/scholar?cites=8749056927212373501&as_sdt=2005&sciodt=2007&hl=en\",\"gs_rank\":20,\"query_date\":\"2025-08-29\",\"type\":\"BOOK\",\"doi\":null,\"ecc\":14,\"cites_per_year\":14,\"cites_per_author\":5,\"author_count\":3,\"age\":1,\"abstract\":\"… Our study, as a whole, offers valuable insights into the pricing dynamics of climate risk beta and its impact on the euro area corporate bond market. These findings carry significant …\",\"full_text_url\":\"https://www.econstor.eu/bitstream/10419/297339/1/ecb.wp2899.pdf\",\"related_url\":\"https://scholar.google.com/scholar?q=related:_QUquuvkankJ:scholar.google.com/&scioq=%22climate+risk+viewer%22%7C%22usda+climate+risk+viewer%22%7C%22forest+service+climate+risk+viewer%22%7C%22usfs+climate+risk+viewer%22%7C%22climate+risk+mapping+tool+usda%22%7C%22usda+risk+viewer+climate%22%7C%22usda+climate+risk+tool%22%7C%22climate+risk+beta+viewer%22&hl=en&as_sdt=2007&as_ylo=2023&as_yhi=2025\",\"source_file\":\"crv\",\"tool_name\":\"Climate Risk Viewer\",\"y\":14,\"name\":\"Physical and transition risk premiums in euro area corporate bond markets\"},{\"cites\":12,\"authors\":\"H Ben Ameur, D Dao, Z Ftiti, W Louhichi\",\"title\":\"Perceived climate risk and stock prices: An empirical analysis of pricing effects\",\"year\":2024,\"source\":\"Risk Analysis\",\"publisher\":\"Wiley Online Library\",\"article_url\":\"https://onlinelibrary.wiley.com/doi/abs/10.1111/risa.17683\",\"cites_url\":\"https://scholar.google.com/scholar?cites=15578767031400282564&as_sdt=2005&sciodt=2007&hl=en\",\"gs_rank\":4,\"query_date\":\"2025-08-29\",\"type\":null,\"doi\":\"10.1111/risa.17683\",\"ecc\":12,\"cites_per_year\":12,\"cites_per_author\":3,\"author_count\":4,\"age\":1,\"abstract\":\"… climate risk beta for each stock and sorted the stocks weekly based on their perceived climate risk beta, … of stocks with the highest perceived climate risk beta and short positions in the …\",\"full_text_url\":\"https://strathprints.strath.ac.uk/91675/7/Ameur-etal-RA-2024-Perceived-climate-risk-and-stock-prices.pdf\",\"related_url\":\"https://scholar.google.com/scholar?q=related:xDkuQRPmMtgJ:scholar.google.com/&scioq=%22climate+risk+viewer%22%7C%22usda+climate+risk+viewer%22%7C%22forest+service+climate+risk+viewer%22%7C%22usfs+climate+risk+viewer%22%7C%22climate+risk+mapping+tool+usda%22%7C%22usda+risk+viewer+climate%22%7C%22usda+climate+risk+tool%22%7C%22climate+risk+beta+viewer%22&hl=en&as_sdt=2007&as_ylo=2023&as_yhi=2025\",\"source_file\":\"crv\",\"tool_name\":\"Climate Risk Viewer\",\"y\":12,\"name\":\"Perceived climate risk and stock prices: An empirical analysis of pricing effects\"},{\"cites\":13,\"authors\":\"H Jung, RF Engle, S Ge, X Zeng\",\"title\":\"Measuring the climate risk exposure of insurers\",\"year\":2023,\"source\":null,\"publisher\":\"econstor.eu\",\"article_url\":\"https://www.econstor.eu/handle/10419/284026\",\"cites_url\":\"https://scholar.google.com/scholar?cites=18037007135818056514&as_sdt=2005&sciodt=2007&hl=en\",\"gs_rank\":6,\"query_date\":\"2025-08-29\",\"type\":null,\"doi\":null,\"ecc\":13,\"cites_per_year\":6.5,\"cites_per_author\":3,\"author_count\":4,\"age\":2,\"abstract\":\"Insurance companies can be exposed to climate-related physical risk through their operations and to transition risk through their $12 trillion of financial asset holdings. We assess the …\",\"full_text_url\":\"https://www.econstor.eu/bitstream/10419/284026/1/sr1066.pdf\",\"related_url\":\"https://scholar.google.com/scholar?q=related:QgOfBW1SUPoJ:scholar.google.com/&scioq=%22climate+risk+viewer%22%7C%22usda+climate+risk+viewer%22%7C%22forest+service+climate+risk+viewer%22%7C%22usfs+climate+risk+viewer%22%7C%22climate+risk+mapping+tool+usda%22%7C%22usda+risk+viewer+climate%22%7C%22usda+climate+risk+tool%22%7C%22climate+risk+beta+viewer%22&hl=en&as_sdt=2007&as_ylo=2023&as_yhi=2025\",\"source_file\":\"crv\",\"tool_name\":\"Climate Risk Viewer\",\"y\":6.5,\"name\":\"Measuring the climate risk exposure of insurers\"},{\"cites\":6,\"authors\":\"H Jung, R Engle, S Ge, X Zeng\",\"title\":\"Physical climate risk factors and an application to measuring insurers' climate risk exposure\",\"year\":2024,\"source\":\"FRB of New York Staff …\",\"publisher\":\"cebra.s3.amazonaws.com\",\"article_url\":\"http://cebra.s3.amazonaws.com/s3fs-private/papers/Measuring_Insurers__Climate_Risk_JEGZ_Mar2025-compressed.pdf\",\"cites_url\":\"https://scholar.google.com/scholar?cites=14399380152096382116&as_sdt=2005&sciodt=2007&hl=en\",\"gs_rank\":3,\"query_date\":\"2025-08-29\",\"type\":\"PDF\",\"doi\":null,\"ecc\":6,\"cites_per_year\":6,\"cites_per_author\":2,\"author_count\":4,\"age\":1,\"abstract\":\"We construct a novel physical risk factor using a portfolio of REITs, long on those with properties highly exposed to climate risk and short on those with less exposure. Combined with a …\",\"full_text_url\":\"http://cebra.s3.amazonaws.com/s3fs-private/papers/Measuring_Insurers__Climate_Risk_JEGZ_Mar2025-compressed.pdf\",\"related_url\":\"https://scholar.google.com/scholar?q=related:pNyDB_Xf1McJ:scholar.google.com/&scioq=%22climate+risk+viewer%22%7C%22usda+climate+risk+viewer%22%7C%22forest+service+climate+risk+viewer%22%7C%22usfs+climate+risk+viewer%22%7C%22climate+risk+mapping+tool+usda%22%7C%22usda+risk+viewer+climate%22%7C%22usda+climate+risk+tool%22%7C%22climate+risk+beta+viewer%22&hl=en&as_sdt=2007&as_ylo=2023&as_yhi=2025\",\"source_file\":\"crv\",\"tool_name\":\"Climate Risk Viewer\",\"y\":6,\"name\":\"Physical climate risk factors and an application to measuring insurers' climate risk exposure\"},{\"cites\":5,\"authors\":\"AD Bower, KL Frerker, CC Pike, NR Labonte, ...\",\"title\":\"A practical framework for applied forestry assisted migration\",\"year\":2024,\"source\":\"Frontiers in Forests …\",\"publisher\":\"frontiersin.org\",\"article_url\":\"https://www.frontiersin.org/journals/forests-and-global-change/articles/10.3389/ffgc.2024.1454329/full\",\"cites_url\":\"https://scholar.google.com/scholar?cites=16409287794271019262&as_sdt=2005&sciodt=2007&hl=en\",\"gs_rank\":11,\"query_date\":\"2025-08-29\",\"type\":null,\"doi\":\"10.3389/ffgc.2024.1454329\",\"ecc\":5,\"cites_per_year\":5,\"cites_per_author\":1,\"author_count\":5,\"age\":1,\"abstract\":\"Recent and projected changes in climate over this century pose an unprecedented threat to the health, diversity, and productivity of forest ecosystems. Forests have migrated and …\",\"full_text_url\":\"https://www.frontiersin.org/journals/forests-and-global-change/articles/10.3389/ffgc.2024.1454329/pdf\",\"related_url\":\"https://scholar.google.com/scholar?q=related:_mCtCk-AueMJ:scholar.google.com/&scioq=%22climate+risk+viewer%22%7C%22usda+climate+risk+viewer%22%7C%22forest+service+climate+risk+viewer%22%7C%22usfs+climate+risk+viewer%22%7C%22climate+risk+mapping+tool+usda%22%7C%22usda+risk+viewer+climate%22%7C%22usda+climate+risk+tool%22%7C%22climate+risk+beta+viewer%22&hl=en&as_sdt=2007&as_ylo=2023&as_yhi=2025\",\"source_file\":\"crv\",\"tool_name\":\"Climate Risk Viewer\",\"y\":5,\"name\":\"A practical framework for applied forestry assisted migration\"},{\"cites\":5,\"authors\":\"V Lalwani\",\"title\":\"Climate risks, corporate bonds, and economic uncertainty\",\"year\":2024,\"source\":\"Economics Letters\",\"publisher\":\"Elsevier\",\"article_url\":\"https://www.sciencedirect.com/science/article/pii/S0165176524004683\",\"cites_url\":\"https://scholar.google.com/scholar?cites=6118956359153565897&as_sdt=2005&sciodt=2007&hl=en\",\"gs_rank\":13,\"query_date\":\"2025-08-29\",\"type\":null,\"doi\":null,\"ecc\":5,\"cites_per_year\":5,\"cites_per_author\":5,\"author_count\":1,\"age\":1,\"abstract\":\"We test for the existence of climate change risks in corporate bond returns. Using risk factors based on textual analysis of news articles, we estimate the sensitivity of bonds to climate …\",\"full_text_url\":\"https://papers.ssrn.com/sol3/Delivery.cfm?abstractid=4978479\",\"related_url\":\"https://scholar.google.com/scholar?q=related:yUB3l2Pm6lQJ:scholar.google.com/&scioq=%22climate+risk+viewer%22%7C%22usda+climate+risk+viewer%22%7C%22forest+service+climate+risk+viewer%22%7C%22usfs+climate+risk+viewer%22%7C%22climate+risk+mapping+tool+usda%22%7C%22usda+risk+viewer+climate%22%7C%22usda+climate+risk+tool%22%7C%22climate+risk+beta+viewer%22&hl=en&as_sdt=2007&as_ylo=2023&as_yhi=2025\",\"source_file\":\"crv\",\"tool_name\":\"Climate Risk Viewer\",\"y\":5,\"name\":\"Climate risks, corporate bonds, and economic uncertainty\"},{\"cites\":4,\"authors\":\"T Mai, A Lopez, M Marquis, M Gleason, A Hamilton, ...\",\"title\":\"Land of opportunity: potential for renewable energy on federal lands\",\"year\":2025,\"source\":null,\"publisher\":\"osti.gov\",\"article_url\":\"https://www.osti.gov/biblio/2522746\",\"cites_url\":\"https://scholar.google.com/scholar?cites=13036492291166781105&as_sdt=2005&sciodt=2007&hl=en\",\"gs_rank\":22,\"query_date\":\"2025-08-29\",\"type\":null,\"doi\":null,\"ecc\":4,\"cites_per_year\":4,\"cites_per_author\":1,\"author_count\":6,\"age\":1,\"abstract\":\"Renewable energy (RE) in the United States has historically been deployed primarily on private lands, but the growing interest in RE development, generally across the country and …\",\"full_text_url\":\"https://www.osti.gov/servlets/purl/2522746\",\"related_url\":\"https://scholar.google.com/scholar?q=related:sT4dJKvs6rQJ:scholar.google.com/&scioq=%22climate+risk+viewer%22%7C%22usda+climate+risk+viewer%22%7C%22forest+service+climate+risk+viewer%22%7C%22usfs+climate+risk+viewer%22%7C%22climate+risk+mapping+tool+usda%22%7C%22usda+risk+viewer+climate%22%7C%22usda+climate+risk+tool%22%7C%22climate+risk+beta+viewer%22&hl=en&as_sdt=2007&as_ylo=2023&as_yhi=2025\",\"source_file\":\"crv\",\"tool_name\":\"Climate Risk Viewer\",\"y\":4,\"name\":\"Land of opportunity: potential for renewable energy on federal lands\"},{\"cites\":3,\"authors\":\"T Dangl, M Halling, S Salbrechter\",\"title\":\"Firm-specific climate risk estimated from public news\",\"year\":2023,\"source\":\"Available at SSRN 4575999\",\"publisher\":\"papers.ssrn.com\",\"article_url\":\"https://papers.ssrn.com/sol3/papers.cfm?abstract_id=4575999\",\"cites_url\":\"https://scholar.google.com/scholar?cites=4669218314493648873&as_sdt=2005&sciodt=2007&hl=en\",\"gs_rank\":9,\"query_date\":\"2025-08-29\",\"type\":null,\"doi\":null,\"ecc\":3,\"cites_per_year\":1.5,\"cites_per_author\":1,\"author_count\":3,\"age\":2,\"abstract\":\"… cross-sectional regressions and in Section 4.4 we calculate climate risk beta coefficients which we use to form betasorted … Every month we rank firms by their regulatory climate-risk beta …\",\"full_text_url\":\"https://papers.ssrn.com/sol3/Delivery.cfm?abstractid=4575999\",\"related_url\":\"https://scholar.google.com/scholar?q=related:6V8khlFlzEAJ:scholar.google.com/&scioq=%22climate+risk+viewer%22%7C%22usda+climate+risk+viewer%22%7C%22forest+service+climate+risk+viewer%22%7C%22usfs+climate+risk+viewer%22%7C%22climate+risk+mapping+tool+usda%22%7C%22usda+risk+viewer+climate%22%7C%22usda+climate+risk+tool%22%7C%22climate+risk+beta+viewer%22&hl=en&as_sdt=2007&as_ylo=2023&as_yhi=2025\",\"source_file\":\"crv\",\"tool_name\":\"Climate Risk Viewer\",\"y\":1.5,\"name\":\"Firm-specific climate risk estimated from public news\"},{\"cites\":0,\"authors\":\"A Dugan, D McKinley, S Amiot, L Onofrio, J Maziasz, ...\",\"title\":\"Forest Carbon Assessment for the Chequamegon-Nicolet National Forest in the Forest Service's Eastern Region\",\"year\":null,\"source\":\"elpc.org\",\"publisher\":null,\"article_url\":\"https://elpc.org/wp-content/uploads/2024/08/5.303_CNNF_CarbonAssessment-Paper.pdf\",\"cites_url\":null,\"gs_rank\":17,\"query_date\":\"2025-08-29\",\"type\":\"PDF\",\"doi\":null,\"ecc\":0,\"cites_per_year\":0,\"cites_per_author\":0,\"author_count\":6,\"age\":null,\"abstract\":\"… A low amount of mature and old-growth stands indicated on the Chequamegon-Nicolet NF by data on the Climate Risk Viewer indicates the acreage of these forest conditions within the …\",\"full_text_url\":\"https://elpc.org/wp-content/uploads/2024/08/5.303_CNNF_CarbonAssessment-Paper.pdf\",\"related_url\":\"https://scholar.google.com/scholar?q=related:9f-IcJ3trOEJ:scholar.google.com/&scioq=%22climate+risk+viewer%22%7C%22usda+climate+risk+viewer%22%7C%22forest+service+climate+risk+viewer%22%7C%22usfs+climate+risk+viewer%22%7C%22climate+risk+mapping+tool+usda%22%7C%22usda+risk+viewer+climate%22%7C%22usda+climate+risk+tool%22%7C%22climate+risk+beta+viewer%22&hl=en&as_sdt=2007&as_ylo=2023&as_yhi=2025\",\"source_file\":\"crv\",\"tool_name\":\"Climate Risk Viewer\",\"y\":0,\"name\":\"Forest Carbon Assessment for the Chequamegon-Nicolet National Forest in the Forest Service's Eastern Region\"}],\"type\":\"bar\"},{\"name\":\"Climate and Economic Justice Screening Tool (CEJST)\",\"data\":[{\"cites\":86,\"authors\":\"A Brown, J Cappellucci, A Heinrich, M Gaus, E Cost\",\"title\":\"Electric vehicle charging infrastructure trends from the alternative fueling station locator: first quarter 2024\",\"year\":2024,\"source\":null,\"publisher\":\"osti.gov\",\"article_url\":\"https://www.osti.gov/biblio/2447837\",\"cites_url\":\"https://scholar.google.com/scholar?cites=8792986086801492886&as_sdt=2005&sciodt=2007&hl=en\",\"gs_rank\":696,\"query_date\":\"2025-08-29\",\"type\":null,\"doi\":null,\"ecc\":86,\"cites_per_year\":86,\"cites_per_author\":17,\"author_count\":5,\"age\":1,\"abstract\":\"Electric vehicle (EV) charging infrastructure continues to rapidly change and grow. Using data from the US Department of Energy's (DOE's) Alternative Fueling Station Locator, this …\",\"full_text_url\":\"https://www.osti.gov/servlets/purl/2447837\",\"related_url\":\"https://scholar.google.com/scholar?q=related:lkvBOkL2BnoJ:scholar.google.com/&scioq=%22climate+and+economic+justice+screening+tool%22%7C%22cejst%22%7C%22justice40+screening+tool%22%7C%22climate+economic+justice+tool%22%7C%22justice40+cejst%22%7C%22ceq+cejst%22%7C%22environmental+justice+screening+cejst%22&hl=en&as_sdt=2007&as_ylo=2022&as_yhi=2025\",\"source_file\":\"cejst\",\"tool_name\":\"Climate and Economic Justice Screening Tool (CEJST)\",\"y\":86,\"name\":\"Electric vehicle charging infrastructure trends from the alternative fueling station locator: first quarter 2024\"},{\"cites\":43,\"authors\":\"JA Casey, MA Kioumourtzoglou, A Padula…\",\"title\":\"Measuring long-term exposure to wildfire PM2.5 in California: Time-varying inequities in environmental burden\",\"year\":2024,\"source\":\"Proceedings of the …\",\"publisher\":\"pnas.org\",\"article_url\":\"https://www.pnas.org/doi/abs/10.1073/pnas.2306729121\",\"cites_url\":\"https://scholar.google.com/scholar?cites=17168599373999128838&as_sdt=2005&sciodt=2007&hl=en\",\"gs_rank\":654,\"query_date\":\"2025-08-29\",\"type\":null,\"doi\":\"10.1073/pnas.2306729121\",\"ecc\":43,\"cites_per_year\":43,\"cites_per_author\":11,\"author_count\":4,\"age\":1,\"abstract\":\"Wildfires have become more frequent and intense due to climate change and outdoor wildfire fine particulate matter (PM 2.5 ) concentrations differ from relatively smoothly varying total …\",\"full_text_url\":\"https://www.pnas.org/doi/full/10.1073/pnas.2306729121\",\"related_url\":\"https://scholar.google.com/scholar?q=related:BkE24ioeQ-4J:scholar.google.com/&scioq=%22climate+and+economic+justice+screening+tool%22%7C%22cejst%22%7C%22justice40+screening+tool%22%7C%22climate+economic+justice+tool%22%7C%22justice40+cejst%22%7C%22ceq+cejst%22%7C%22environmental+justice+screening+cejst%22&hl=en&as_sdt=2007&as_ylo=2022&as_yhi=2025\",\"source_file\":\"cejst\",\"tool_name\":\"Climate and Economic Justice Screening Tool (CEJST)\",\"y\":43,\"name\":\"Measuring long-term exposure to wildfire PM2.5 in California: Time-varying inequities in environmental burden\"},{\"cites\":41,\"authors\":\"L Cain, D Hernandez-Cortes…\",\"title\":\"Recent findings and methodologies in economics research in environmental justice\",\"year\":2024,\"source\":\"Review of …\",\"publisher\":\"journals.uchicago.edu\",\"article_url\":\"https://www.journals.uchicago.edu/doi/abs/10.1086/728100\",\"cites_url\":\"https://scholar.google.com/scholar?cites=9379717219591971090&as_sdt=2005&sciodt=2007&hl=en\",\"gs_rank\":539,\"query_date\":\"2025-08-29\",\"type\":null,\"doi\":\"10.1086/728100\",\"ecc\":41,\"cites_per_year\":41,\"cites_per_author\":14,\"author_count\":3,\"age\":1,\"abstract\":\"This review synthesizes economics-oriented research in environmental justice with a focus on the last decade. We first categorize this literature into broad areas of inquiry and review …\",\"full_text_url\":\"https://www.econstor.eu/bitstream/10419/271927/1/cesifo1_wp10283.pdf\",\"related_url\":\"https://scholar.google.com/scholar?q=related:EuFkhx1zK4IJ:scholar.google.com/&scioq=%22climate+and+economic+justice+screening+tool%22%7C%22cejst%22%7C%22justice40+screening+tool%22%7C%22climate+economic+justice+tool%22%7C%22justice40+cejst%22%7C%22ceq+cejst%22%7C%22environmental+justice+screening+cejst%22&hl=en&as_sdt=2007&as_ylo=2022&as_yhi=2025\",\"source_file\":\"cejst\",\"tool_name\":\"Climate and Economic Justice Screening Tool (CEJST)\",\"y\":41,\"name\":\"Recent findings and methodologies in economics research in environmental justice\"},{\"cites\":35,\"authors\":\"GJ Carlton, S Sultana\",\"title\":\"Electric vehicle charging equity and accessibility: A comprehensive United States policy analysis\",\"year\":2024,\"source\":\"Transportation Research Part D: Transport and …\",\"publisher\":\"Elsevier\",\"article_url\":\"https://www.sciencedirect.com/science/article/pii/S1361920924000804\",\"cites_url\":\"https://scholar.google.com/scholar?cites=880195045012995719&as_sdt=2005&sciodt=2007&hl=en\",\"gs_rank\":122,\"query_date\":\"2025-08-29\",\"type\":null,\"doi\":null,\"ecc\":35,\"cites_per_year\":35,\"cites_per_author\":18,\"author_count\":2,\"age\":1,\"abstract\":\"The ongoing placement of EV charging in the US is the result of a complicated interplay between market actors and the public sector. The federal government has recently established a …\",\"full_text_url\":null,\"related_url\":\"https://scholar.google.com/scholar?q=related:h_4O37oUNwwJ:scholar.google.com/&scioq=%22climate+and+economic+justice+screening+tool%22%7C%22cejst%22%7C%22justice40+screening+tool%22%7C%22climate+economic+justice+tool%22%7C%22justice40+cejst%22%7C%22ceq+cejst%22%7C%22environmental+justice+screening+cejst%22&hl=en&as_sdt=2007&as_ylo=2022&as_yhi=2025\",\"source_file\":\"cejst\",\"tool_name\":\"Climate and Economic Justice Screening Tool (CEJST)\",\"y\":35,\"name\":\"Electric vehicle charging equity and accessibility: A comprehensive United States policy analysis\"},{\"cites\":70,\"authors\":\"E Baker, S Carley, S Castellanos, D Nock…\",\"title\":\"Metrics for decision-making in energy justice\",\"year\":2023,\"source\":\"Annual Review of …\",\"publisher\":\"annualreviews.org\",\"article_url\":\"https://www.annualreviews.org/content/journals/10.1146/annurev-environ-112621-063400\",\"cites_url\":\"https://scholar.google.com/scholar?cites=7130851940603066122&as_sdt=2005&sciodt=2007&hl=en\",\"gs_rank\":188,\"query_date\":\"2025-08-29\",\"type\":\"HTML\",\"doi\":\"10.1146/annurev-environ-112621-063400\",\"ecc\":70,\"cites_per_year\":35,\"cites_per_author\":14,\"author_count\":5,\"age\":2,\"abstract\":\"… mapping index, the Climate and Economic Justice Screening Tool (CEJST) (60), to support the implementation of the Biden Administration's Justice40 Initiative. The CEJST, still in beta …\",\"full_text_url\":\"https://www.annualreviews.org/content/journals/10.1146/annurev-environ-112621-063400\",\"related_url\":\"https://scholar.google.com/scholar?q=related:CveMIQ_g9WIJ:scholar.google.com/&scioq=%22climate+and+economic+justice+screening+tool%22%7C%22cejst%22%7C%22justice40+screening+tool%22%7C%22climate+economic+justice+tool%22%7C%22justice40+cejst%22%7C%22ceq+cejst%22%7C%22environmental+justice+screening+cejst%22&hl=en&as_sdt=2007&as_ylo=2022&as_yhi=2025\",\"source_file\":\"cejst\",\"tool_name\":\"Climate and Economic Justice Screening Tool (CEJST)\",\"y\":35,\"name\":\"Metrics for decision-making in energy justice\"},{\"cites\":64,\"authors\":\"PGT Lewis, WA Chiu, E Nasser, J Proville…\",\"title\":\"Characterizing vulnerabilities to climate change across the United States\",\"year\":2023,\"source\":\"Environment …\",\"publisher\":\"Elsevier\",\"article_url\":\"https://www.sciencedirect.com/science/article/pii/S0160412023000454\",\"cites_url\":\"https://scholar.google.com/scholar?cites=9081202494777090036&as_sdt=2005&sciodt=2007&hl=en\",\"gs_rank\":76,\"query_date\":\"2025-08-29\",\"type\":\"HTML\",\"doi\":null,\"ecc\":64,\"cites_per_year\":32,\"cites_per_author\":13,\"author_count\":5,\"age\":2,\"abstract\":\"Climate change will cause a range of related risks, including increases in infectious and chronic disease, intensified social and economic stresses, and more frequent extreme weather …\",\"full_text_url\":\"https://www.sciencedirect.com/science/article/pii/S0160412023000454\",\"related_url\":\"https://scholar.google.com/scholar?q=related:9F-UAo7pBn4J:scholar.google.com/&scioq=%22climate+and+economic+justice+screening+tool%22%7C%22cejst%22%7C%22justice40+screening+tool%22%7C%22climate+economic+justice+tool%22%7C%22justice40+cejst%22%7C%22ceq+cejst%22%7C%22environmental+justice+screening+cejst%22&hl=en&as_sdt=2007&as_ylo=2022&as_yhi=2025\",\"source_file\":\"cejst\",\"tool_name\":\"Climate and Economic Justice Screening Tool (CEJST)\",\"y\":32,\"name\":\"Characterizing vulnerabilities to climate change across the United States\"},{\"cites\":60,\"authors\":\"Y Wang, JS Apte, JD Hill, CE Ivey, D Johnson, E Min…\",\"title\":\"Air quality policy should quantify effects on disparities\",\"year\":2023,\"source\":\"Science\",\"publisher\":\"science.org\",\"article_url\":\"https://www.science.org/doi/abs/10.1126/science.adg9931\",\"cites_url\":\"https://scholar.google.com/scholar?cites=13181465971392899802&as_sdt=2005&sciodt=2007&hl=en\",\"gs_rank\":27,\"query_date\":\"2025-08-29\",\"type\":null,\"doi\":\"10.1126/science.adg9931\",\"ecc\":60,\"cites_per_year\":30,\"cites_per_author\":9,\"author_count\":7,\"age\":2,\"abstract\":\"… We investigated how using CEJST to target … CEJST may not ameliorate (and in some cases may increase) exposure disparities by race-ethnicity. This outcome likely reflects that CEJST …\",\"full_text_url\":\"https://www.yuzhouwang.net/files/Wang%20et%20al%20Science%202023.pdf\",\"related_url\":\"https://scholar.google.com/scholar?q=related:2urFa3b57bYJ:scholar.google.com/&scioq=%22climate+and+economic+justice+screening+tool%22%7C%22cejst%22%7C%22justice40+screening+tool%22%7C%22climate+economic+justice+tool%22%7C%22justice40+cejst%22%7C%22ceq+cejst%22%7C%22environmental+justice+screening+cejst%22&hl=en&as_sdt=2007&as_ylo=2022&as_yhi=2025\",\"source_file\":\"cejst\",\"tool_name\":\"Climate and Economic Justice Screening Tool (CEJST)\",\"y\":30,\"name\":\"Air quality policy should quantify effects on disparities\"},{\"cites\":29,\"authors\":\"T Xue, R Wang, M Wang, Y Wang, D Tong…\",\"title\":\"Health benefits from the rapid reduction in ambient exposure to air pollutants after China's clean air actions: progress in efficacy and geographic equality\",\"year\":2024,\"source\":\"National Science …\",\"publisher\":\"academic.oup.com\",\"article_url\":\"https://academic.oup.com/nsr/article-abstract/11/2/nwad263/7303310\",\"cites_url\":\"https://scholar.google.com/scholar?cites=10123527139064500028&as_sdt=2005&sciodt=2007&hl=en\",\"gs_rank\":250,\"query_date\":\"2025-08-29\",\"type\":null,\"doi\":null,\"ecc\":29,\"cites_per_year\":29,\"cites_per_author\":5,\"author_count\":6,\"age\":1,\"abstract\":\"… The Justice40 Initiative developed the Climate and Economic Justice Screening Tool (CEJST… Although studies have found CEJST could not effectively reduce inequalities embedded in …\",\"full_text_url\":\"https://academic.oup.com/nsr/article/11/2/nwad263/7303310\",\"related_url\":\"https://scholar.google.com/scholar?q=related:PE_31Uv-fYwJ:scholar.google.com/&scioq=%22climate+and+economic+justice+screening+tool%22%7C%22cejst%22%7C%22justice40+screening+tool%22%7C%22climate+economic+justice+tool%22%7C%22justice40+cejst%22%7C%22ceq+cejst%22%7C%22environmental+justice+screening+cejst%22&hl=en&as_sdt=2007&as_ylo=2022&as_yhi=2025\",\"source_file\":\"cejst\",\"tool_name\":\"Climate and Economic Justice Screening Tool (CEJST)\",\"y\":29,\"name\":\"Health benefits from the rapid reduction in ambient exposure to air pollutants after China's clean air actions: progress in efficacy and geographic equality\"},{\"cites\":24,\"authors\":\"A Ermagun, J Tian\",\"title\":\"Charging into inequality: A national study of social, economic, and environment correlates of electric vehicle charging stations\",\"year\":2024,\"source\":\"Energy Research &Social Science\",\"publisher\":\"Elsevier\",\"article_url\":\"https://www.sciencedirect.com/science/article/pii/S2214629624002135\",\"cites_url\":\"https://scholar.google.com/scholar?cites=18246447889398149248&as_sdt=2005&sciodt=2007&hl=en\",\"gs_rank\":128,\"query_date\":\"2025-08-29\",\"type\":null,\"doi\":null,\"ecc\":24,\"cites_per_year\":24,\"cites_per_author\":12,\"author_count\":2,\"age\":1,\"abstract\":\"This study assesses the spatial disparity of public electric vehicle (EV) charging infrastructure in the United States. The analysis identifies areas characterized by deficient EV charging …\",\"full_text_url\":null,\"related_url\":\"https://scholar.google.com/scholar?q=related:gLBAfK5nOP0J:scholar.google.com/&scioq=%22climate+and+economic+justice+screening+tool%22%7C%22cejst%22%7C%22justice40+screening+tool%22%7C%22climate+economic+justice+tool%22%7C%22justice40+cejst%22%7C%22ceq+cejst%22%7C%22environmental+justice+screening+cejst%22&hl=en&as_sdt=2007&as_ylo=2022&as_yhi=2025\",\"source_file\":\"cejst\",\"tool_name\":\"Climate and Economic Justice Screening Tool (CEJST)\",\"y\":24,\"name\":\"Charging into inequality: A national study of social, economic, and environment correlates of electric vehicle charging stations\"},{\"cites\":42,\"authors\":\"S Kime, V Jacome, D Pellow…\",\"title\":\"Evaluating equity and justice in low-carbon energy transitions\",\"year\":2023,\"source\":\"Environmental Research …\",\"publisher\":\"iopscience.iop.org\",\"article_url\":\"https://iopscience.iop.org/article/10.1088/1748-9326/ad08f8/meta\",\"cites_url\":\"https://scholar.google.com/scholar?cites=1147487503700979368&as_sdt=2005&sciodt=2007&hl=en\",\"gs_rank\":73,\"query_date\":\"2025-08-29\",\"type\":\"HTML\",\"doi\":\"10.1088/1748-9326/ad08f8\",\"ecc\":42,\"cites_per_year\":21,\"cites_per_author\":11,\"author_count\":4,\"age\":2,\"abstract\":\"A low-carbon energy transition is essential for mitigating climate change, but can also cause energy justice and equity impacts on Black, Indigenous, and People of Color (BIPOC), low-…\",\"full_text_url\":\"https://iopscience.iop.org/article/10.1088/1748-9326/ad08f8/meta\",\"related_url\":\"https://scholar.google.com/scholar?q=related:qO5LEs6x7A8J:scholar.google.com/&scioq=%22climate+and+economic+justice+screening+tool%22%7C%22cejst%22%7C%22justice40+screening+tool%22%7C%22climate+economic+justice+tool%22%7C%22justice40+cejst%22%7C%22ceq+cejst%22%7C%22environmental+justice+screening+cejst%22&hl=en&as_sdt=2007&as_ylo=2022&as_yhi=2025\",\"source_file\":\"cejst\",\"tool_name\":\"Climate and Economic Justice Screening Tool (CEJST)\",\"y\":21,\"name\":\"Evaluating equity and justice in low-carbon energy transitions\"}],\"type\":\"bar\"},{\"name\":\"EJScreen\",\"data\":[{\"cites\":52,\"authors\":\"A Shkembi, LM Smith, RL Neitzel\",\"title\":\"Linking environmental injustices in Detroit, MI to institutional racial segregation through historical federal redlining\",\"year\":2024,\"source\":\"Journal of exposure science & …\",\"publisher\":\"nature.com\",\"article_url\":\"https://www.nature.com/articles/s41370-022-00512-y\",\"cites_url\":\"https://scholar.google.com/scholar?cites=9193022137532077454&as_sdt=2005&sciodt=2007&hl=en\",\"gs_rank\":95,\"query_date\":\"2025-08-29\",\"type\":\"HTML\",\"doi\":\"\",\"ecc\":52,\"cites_per_year\":52,\"cites_per_author\":17,\"author_count\":3,\"age\":1,\"abstract\":\"… in EJScreen tool within any boundary. In this case, our estimates inside the EJScreen tool … Albeit not included in the EPA EJScreen, noise pollution is included in this study due to the …\",\"full_text_url\":\"https://www.nature.com/articles/s41370-022-00512-y\",\"related_url\":\"https://scholar.google.com/scholar?q=related:jtXmZ-0slH8J:scholar.google.com/&scioq=%22ejscreen%22%7C%22epa+ejscreen%22%7C%22environmental+justice+screening+and+mapping+tool%22%7C%22epa+ej+screen%22%7C%22ej+screen%22%7C%22epa+environmental+justice+mapping+tool%22%7C%22environmental+justice+screening+tool+epa%22%7C%22ejscreen+v2.0%22%7C%22ejscreen+2020%22%7C%22ejscreen+2022%22&hl=en&as_sdt=2007&as_ylo=2023&as_yhi=2024\",\"source_file\":\"ejscreen_3\",\"tool_name\":\"EJScreen\",\"y\":52,\"name\":\"Linking environmental injustices in Detroit, MI to institutional racial segregation through historical federal redlining\"},{\"cites\":38,\"authors\":\"MA Painter, SH Shah, GC Damestoit, F Khalid, ...\",\"title\":\"A systematic scoping review of the Social Vulnerability Index as applied to natural hazards\",\"year\":2024,\"source\":\"Natural Hazards\",\"publisher\":\"Springer\",\"article_url\":\"https://link.springer.com/article/10.1007/s11069-023-06378-z\",\"cites_url\":\"https://scholar.google.com/scholar?cites=1199760881560158845&as_sdt=2005&sciodt=2007&hl=en\",\"gs_rank\":227,\"query_date\":\"2025-08-29\",\"type\":\"\",\"doi\":\"10.1007/s11069-023-06378-z\",\"ecc\":38,\"cites_per_year\":38,\"cites_per_author\":8,\"author_count\":5,\"age\":1,\"abstract\":\"Social vulnerability approaches seek to identify social, economic, and political drivers that exacerbate environmental risks, and inform adaptation strategies that redress uneven …\",\"full_text_url\":\"https://repository.library.noaa.gov/view/noaa/61098/noaa_61098_DS1.pdf\",\"related_url\":\"https://scholar.google.com/scholar?q=related:fYLNSCpophAJ:scholar.google.com/&scioq=%22ejscreen%22%7C%22epa+ejscreen%22%7C%22environmental+justice+screening+and+mapping+tool%22%7C%22epa+ej+screen%22%7C%22ej+screen%22%7C%22epa+environmental+justice+mapping+tool%22%7C%22environmental+justice+screening+tool+epa%22%7C%22ejscreen+v2.0%22%7C%22ejscreen+2020%22%7C%22ejscreen+2022%22&hl=en&as_sdt=2007&as_ylo=2023&as_yhi=2024\",\"source_file\":\"ejscreen_3\",\"tool_name\":\"EJScreen\",\"y\":38,\"name\":\"A systematic scoping review of the Social Vulnerability Index as applied to natural hazards\"},{\"cites\":113,\"authors\":\"SR Nicholson, JE Rorrer, A Singh, ...\",\"title\":\"The critical role of process analysis in chemical recycling and upcycling of waste plastics\",\"year\":2022,\"source\":\"Annual review of …\",\"publisher\":\"annualreviews.org\",\"article_url\":\"https://www.annualreviews.org/content/journals/10.1146/annurev-chembioeng-100521-085846\",\"cites_url\":\"https://scholar.google.com/scholar?cites=16561911266140556031&as_sdt=2005&sciodt=2007&hl=en\",\"gs_rank\":98,\"query_date\":\"2025-08-29\",\"type\":\"\",\"doi\":\"10.1146/annurev-chembioeng-100521-085846\",\"ecc\":113,\"cites_per_year\":37.67,\"cites_per_author\":28,\"author_count\":4,\"age\":3,\"abstract\":\"There is an urgent need for new technologies to enable circularity for synthetic polymers, spurred by the accumulation of waste plastics in landfills and the environment and the …\",\"full_text_url\":\"https://www.osti.gov/pages/servlets/purl/1861788\",\"related_url\":\"https://scholar.google.com/scholar?q=related:_wrZO4y61-UJ:scholar.google.com/&scioq=%22ejscreen%22%7C%22epa+ejscreen%22%7C%22environmental+justice+screening+and+mapping+tool%22%7C%22epa+ej+screen%22%7C%22ej+screen%22%7C%22epa+environmental+justice+mapping+tool%22%7C%22environmental+justice+screening+tool+epa%22%7C%22ejscreen+v2.0%22%7C%22ejscreen+2020%22%7C%22ejscreen+2022%22&hl=en&as_sdt=2007&as_ylo=2021&as_yhi=2022\",\"source_file\":\"ejscreen_2\",\"tool_name\":\"EJScreen\",\"y\":37.67,\"name\":\"The critical role of process analysis in chemical recycling and upcycling of waste plastics\"},{\"cites\":70,\"authors\":\"E Baker, S Carley, S Castellanos, D Nock, ...\",\"title\":\"Metrics for decision-making in energy justice\",\"year\":2023,\"source\":\"Annual Review of …\",\"publisher\":\"annualreviews.org\",\"article_url\":\"https://www.annualreviews.org/content/journals/10.1146/annurev-environ-112621-063400\",\"cites_url\":\"https://scholar.google.com/scholar?cites=7130851940603066122&as_sdt=2005&sciodt=2007&hl=en\",\"gs_rank\":327,\"query_date\":\"2025-08-29\",\"type\":\"HTML\",\"doi\":\"10.1146/annurev-environ-112621-063400\",\"ecc\":70,\"cites_per_year\":35,\"cites_per_author\":14,\"author_count\":5,\"age\":2,\"abstract\":\"… EJScreen presents the information in an interactive map form at the census tract level with comparisons to state or national percentiles. Recent updates to EJScreen have expanded its …\",\"full_text_url\":\"https://www.annualreviews.org/content/journals/10.1146/annurev-environ-112621-063400\",\"related_url\":\"https://scholar.google.com/scholar?q=related:CveMIQ_g9WIJ:scholar.google.com/&scioq=%22ejscreen%22%7C%22epa+ejscreen%22%7C%22environmental+justice+screening+and+mapping+tool%22%7C%22epa+ej+screen%22%7C%22ej+screen%22%7C%22epa+environmental+justice+mapping+tool%22%7C%22environmental+justice+screening+tool+epa%22%7C%22ejscreen+v2.0%22%7C%22ejscreen+2020%22%7C%22ejscreen+2022%22&hl=en&as_sdt=2007&as_ylo=2023&as_yhi=2024\",\"source_file\":\"ejscreen_3\",\"tool_name\":\"EJScreen\",\"y\":35,\"name\":\"Metrics for decision-making in energy justice\"},{\"cites\":64,\"authors\":\"PGT Lewis, WA Chiu, E Nasser, J Proville, ...\",\"title\":\"Characterizing vulnerabilities to climate change across the United States\",\"year\":2023,\"source\":\"Environment …\",\"publisher\":\"Elsevier\",\"article_url\":\"https://www.sciencedirect.com/science/article/pii/S0160412023000454\",\"cites_url\":\"https://scholar.google.com/scholar?cites=9081202494777090036&as_sdt=2005&sciodt=2007&hl=en\",\"gs_rank\":443,\"query_date\":\"2025-08-29\",\"type\":\"HTML\",\"doi\":\"\",\"ecc\":64,\"cites_per_year\":32,\"cites_per_author\":13,\"author_count\":5,\"age\":2,\"abstract\":\"Climate change will cause a range of related risks, including increases in infectious and chronic disease, intensified social and economic stresses, and more frequent extreme weather …\",\"full_text_url\":\"https://www.sciencedirect.com/science/article/pii/S0160412023000454\",\"related_url\":\"https://scholar.google.com/scholar?q=related:9F-UAo7pBn4J:scholar.google.com/&scioq=%22ejscreen%22%7C%22epa+ejscreen%22%7C%22environmental+justice+screening+and+mapping+tool%22%7C%22epa+ej+screen%22%7C%22ej+screen%22%7C%22epa+environmental+justice+mapping+tool%22%7C%22environmental+justice+screening+tool+epa%22%7C%22ejscreen+v2.0%22%7C%22ejscreen+2020%22%7C%22ejscreen+2022%22&hl=en&as_sdt=2007&as_ylo=2023&as_yhi=2024\",\"source_file\":\"ejscreen_3\",\"tool_name\":\"EJScreen\",\"y\":32,\"name\":\"Characterizing vulnerabilities to climate change across the United States\"},{\"cites\":62,\"authors\":\"J Kato-Huerta, D Geneletti\",\"title\":\"A distributive environmental justice index to support green space planning in cities\",\"year\":2023,\"source\":\"Landscape and Urban Planning\",\"publisher\":\"Elsevier\",\"article_url\":\"https://www.sciencedirect.com/science/article/pii/S0169204622002419\",\"cites_url\":\"https://scholar.google.com/scholar?cites=2740337779581576471&as_sdt=2005&sciodt=2007&hl=en\",\"gs_rank\":141,\"query_date\":\"2025-08-29\",\"type\":\"HTML\",\"doi\":\"\",\"ecc\":62,\"cites_per_year\":31,\"cites_per_author\":31,\"author_count\":2,\"age\":2,\"abstract\":\"Environmental justice (EJ) raises concerns about just allocating environmental harms and goods. It has been mainly analysed from a distributive lens through indicators and screening …\",\"full_text_url\":\"https://www.sciencedirect.com/science/article/pii/S0169204622002419\",\"related_url\":\"https://scholar.google.com/scholar?q=related:F-WKDLGiByYJ:scholar.google.com/&scioq=%22ejscreen%22%7C%22epa+ejscreen%22%7C%22environmental+justice+screening+and+mapping+tool%22%7C%22epa+ej+screen%22%7C%22ej+screen%22%7C%22epa+environmental+justice+mapping+tool%22%7C%22environmental+justice+screening+tool+epa%22%7C%22ejscreen+v2.0%22%7C%22ejscreen+2020%22%7C%22ejscreen+2022%22&hl=en&as_sdt=2007&as_ylo=2023&as_yhi=2024\",\"source_file\":\"ejscreen_3\",\"tool_name\":\"EJScreen\",\"y\":31,\"name\":\"A distributive environmental justice index to support green space planning in cities\"},{\"cites\":31,\"authors\":\"M Yu, S Zhang, H Ning, Z Li, K Zhang\",\"title\":\"Assessing the 2023 Canadian wildfire smoke impact in Northeastern US: Air quality, exposure and environmental justice\",\"year\":2024,\"source\":\"Science of the Total Environment\",\"publisher\":\"Elsevier\",\"article_url\":\"https://www.sciencedirect.com/science/article/pii/S004896972401996X\",\"cites_url\":\"https://scholar.google.com/scholar?cites=12562011232868067408&as_sdt=2005&sciodt=2007&hl=en\",\"gs_rank\":15,\"query_date\":\"2025-08-29\",\"type\":\"\",\"doi\":\"\",\"ecc\":31,\"cites_per_year\":31,\"cites_per_author\":6,\"author_count\":5,\"age\":1,\"abstract\":\"… Agency (EPA) Environmental Justice Screening and Mapping Tool (EJScreen). Results … correlations in rural areas with EJScreen factors highlight the unique vulnerabilities of these …\",\"full_text_url\":\"https://papers.ssrn.com/sol3/Delivery.cfm?abstractid=4717779\",\"related_url\":\"https://scholar.google.com/scholar?q=related:UGiR76g6Va4J:scholar.google.com/&scioq=%22ejscreen%22%7C%22epa+ejscreen%22%7C%22environmental+justice+screening+and+mapping+tool%22%7C%22epa+ej+screen%22%7C%22ej+screen%22%7C%22epa+environmental+justice+mapping+tool%22%7C%22environmental+justice+screening+tool+epa%22%7C%22ejscreen+v2.0%22%7C%22ejscreen+2020%22%7C%22ejscreen+2022%22&hl=en&as_sdt=2007&as_ylo=2023&as_yhi=2024\",\"source_file\":\"ejscreen_3\",\"tool_name\":\"EJScreen\",\"y\":31,\"name\":\"Assessing the 2023 Canadian wildfire smoke impact in Northeastern US: Air quality, exposure and environmental justice\"},{\"cites\":77,\"authors\":\"Y Wang, JS Apte, JD Hill, CE Ivey, RF Patterson, ...\",\"title\":\"Location-specific strategies for eliminating US national racial-ethnic exposure inequality\",\"year\":2022,\"source\":\"Proceedings of the …\",\"publisher\":\"pnas.org\",\"article_url\":\"https://www.pnas.org/doi/abs/10.1073/pnas.2205548119\",\"cites_url\":\"https://scholar.google.com/scholar?cites=16152888832388619158&as_sdt=2005&sciodt=2007&hl=en\",\"gs_rank\":79,\"query_date\":\"2025-08-29\",\"type\":\"\",\"doi\":\"10.1073/pnas.2205548119\",\"ecc\":77,\"cites_per_year\":25.67,\"cites_per_author\":13,\"author_count\":6,\"age\":3,\"abstract\":\"Air pollution levels in the United States have decreased dramatically over the past decades, yet national racial-ethnic exposure disparities persist. For ambient fine particulate matter ( …\",\"full_text_url\":\"https://www.pnas.org/doi/full/10.1073/pnas.2205548119\",\"related_url\":\"https://scholar.google.com/scholar?q=related:ltvlts-WKuAJ:scholar.google.com/&scioq=%22ejscreen%22%7C%22epa+ejscreen%22%7C%22environmental+justice+screening+and+mapping+tool%22%7C%22epa+ej+screen%22%7C%22ej+screen%22%7C%22epa+environmental+justice+mapping+tool%22%7C%22environmental+justice+screening+tool+epa%22%7C%22ejscreen+v2.0%22%7C%22ejscreen+2020%22%7C%22ejscreen+2022%22&hl=en&as_sdt=2007&as_ylo=2021&as_yhi=2022\",\"source_file\":\"ejscreen_2\",\"tool_name\":\"EJScreen\",\"y\":25.67,\"name\":\"Location-specific strategies for eliminating US national racial-ethnic exposure inequality\"},{\"cites\":25,\"authors\":\"K Skiendzielewski, CM Forke, DB Sarwer, ...\",\"title\":\"The intersection of adverse childhood experiences and neighborhood determinants of health: An exploratory spatial analysis.\",\"year\":2024,\"source\":\"… , practice, and policy\",\"publisher\":\"psycnet.apa.org\",\"article_url\":\"https://psycnet.apa.org/fulltext/2022-80212-001.html\",\"cites_url\":\"https://scholar.google.com/scholar?cites=14766211665291270434&as_sdt=2005&sciodt=2007&hl=en\",\"gs_rank\":418,\"query_date\":\"2025-08-29\",\"type\":\"\",\"doi\":\"\",\"ecc\":25,\"cites_per_year\":25,\"cites_per_author\":6,\"author_count\":4,\"age\":1,\"abstract\":\"Objective: Adverse childhood experiences (ACEs) are associated with elevated risk for poor physical and psychological health outcomes. Nearly all of the literature on the association …\",\"full_text_url\":\"https://psycnet.apa.org/manuscript/2022-80212-001.pdf\",\"related_url\":\"https://scholar.google.com/scholar?q=related:IlnqW0Yf7MwJ:scholar.google.com/&scioq=%22ejscreen%22%7C%22epa+ejscreen%22%7C%22environmental+justice+screening+and+mapping+tool%22%7C%22epa+ej+screen%22%7C%22ej+screen%22%7C%22epa+environmental+justice+mapping+tool%22%7C%22environmental+justice+screening+tool+epa%22%7C%22ejscreen+v2.0%22%7C%22ejscreen+2020%22%7C%22ejscreen+2022%22&hl=en&as_sdt=2007&as_ylo=2023&as_yhi=2024\",\"source_file\":\"ejscreen_3\",\"tool_name\":\"EJScreen\",\"y\":25,\"name\":\"The intersection of adverse childhood experiences and neighborhood determinants of health: An exploratory spatial analysis.\"},{\"cites\":25,\"authors\":\"K Skiendzielewski, CM Forke, DB Sarwer, ...\",\"title\":\"The intersection of adverse childhood experiences and neighborhood determinants of health: An exploratory spatial analysis.\",\"year\":2024,\"source\":\"… , practice, and policy\",\"publisher\":\"psycnet.apa.org\",\"article_url\":\"https://psycnet.apa.org/fulltext/2022-80212-001.html\",\"cites_url\":\"https://scholar.google.com/scholar?cites=14766211665291270434&as_sdt=2005&sciodt=2007&hl=en\",\"gs_rank\":429,\"query_date\":\"2025-08-29\",\"type\":\"\",\"doi\":\"\",\"ecc\":25,\"cites_per_year\":25,\"cites_per_author\":6,\"author_count\":4,\"age\":1,\"abstract\":\"Objective: Adverse childhood experiences (ACEs) are associated with elevated risk for poor physical and psychological health outcomes. Nearly all of the literature on the association …\",\"full_text_url\":\"https://psycnet.apa.org/manuscript/2022-80212-001.pdf\",\"related_url\":\"https://scholar.google.com/scholar?q=related:IlnqW0Yf7MwJ:scholar.google.com/&scioq=%22ejscreen%22%7C%22epa+ejscreen%22%7C%22environmental+justice+screening+and+mapping+tool%22%7C%22epa+ej+screen%22%7C%22ej+screen%22%7C%22epa+environmental+justice+mapping+tool%22%7C%22environmental+justice+screening+tool+epa%22%7C%22ejscreen+v2.0%22%7C%22ejscreen+2020%22%7C%22ejscreen+2022%22&hl=en&as_sdt=2007&as_ylo=2023&as_yhi=2024\",\"source_file\":\"ejscreen_3\",\"tool_name\":\"EJScreen\",\"y\":25,\"name\":\"The intersection of adverse childhood experiences and neighborhood determinants of health: An exploratory spatial analysis.\"}],\"type\":\"bar\"},{\"name\":\"Environmental Justice Index (EJI)\",\"data\":[{\"cites\":19,\"authors\":\"C Scott-Buechler, B Cain, K Osman, ...\",\"title\":\"Communities conditionally support deployment of direct air capture for carbon dioxide removal in the United States\",\"year\":2024,\"source\":\"… Earth &Environment\",\"publisher\":\"nature.com\",\"article_url\":\"https://www.nature.com/articles/s43247-024-01334-6\",\"cites_url\":\"https://scholar.google.com/scholar?cites=13672146983376215905&as_sdt=2005&sciodt=2007&hl=en\",\"gs_rank\":59,\"query_date\":\"2025-08-29\",\"type\":\"HTML\",\"doi\":null,\"ecc\":19,\"cites_per_year\":19,\"cites_per_author\":5,\"author_count\":4,\"age\":1,\"abstract\":\"… To test whether environmental injustice burden (CDC EJI) or … , suggesting that environmental justice and transitioning … percentile of the CDC’s environmental [in]justice index (EJI). …\",\"full_text_url\":\"https://www.nature.com/articles/s43247-024-01334-6\",\"related_url\":\"https://scholar.google.com/scholar?q=related:YV8RRT45vb0J:scholar.google.com/&scioq=%22environmental+justice+index%22%7C%22cdc+environmental+justice+index%22%7C%22atsdr+environmental+justice+index%22%7C%22cdc+eji%22%7C%22environmental+justice+composite+index+cdc%22%7C%22eji+2022%22%7C%22eji+2024+update%22%7C%22environmental+justice+health+index%22&hl=en&as_sdt=2007&as_ylo=2022&as_yhi=2025\",\"source_file\":\"eji\",\"tool_name\":\"Environmental Justice Index (EJI)\",\"y\":19,\"name\":\"Communities conditionally support deployment of direct air capture for carbon dioxide removal in the United States\"},{\"cites\":19,\"authors\":\"CA Pate, HS Zahran\",\"title\":\"The status of asthma in the United States\",\"year\":2024,\"source\":\"Preventing Chronic Disease\",\"publisher\":\"pmc.ncbi.nlm.nih.gov\",\"article_url\":\"https://pmc.ncbi.nlm.nih.gov/articles/PMC11262137/\",\"cites_url\":\"https://scholar.google.com/scholar?cites=6218190486465970346&as_sdt=2005&sciodt=2007&hl=en\",\"gs_rank\":93,\"query_date\":\"2025-08-29\",\"type\":\"HTML\",\"doi\":null,\"ecc\":19,\"cites_per_year\":19,\"cites_per_author\":10,\"author_count\":2,\"age\":1,\"abstract\":\"Introduction Asthma imposes a substantial health and economic burden on patients and their families and on the health care system. An assessment of the status of asthma in the US …\",\"full_text_url\":\"https://pmc.ncbi.nlm.nih.gov/articles/PMC11262137/\",\"related_url\":\"https://scholar.google.com/scholar?q=related:qoCEU01zS1YJ:scholar.google.com/&scioq=%22environmental+justice+index%22%7C%22cdc+environmental+justice+index%22%7C%22atsdr+environmental+justice+index%22%7C%22cdc+eji%22%7C%22environmental+justice+composite+index+cdc%22%7C%22eji+2022%22%7C%22eji+2024+update%22%7C%22environmental+justice+health+index%22&hl=en&as_sdt=2007&as_ylo=2022&as_yhi=2025\",\"source_file\":\"eji\",\"tool_name\":\"Environmental Justice Index (EJI)\",\"y\":19,\"name\":\"The status of asthma in the United States\"},{\"cites\":15,\"authors\":\"S Khadke, A Kumar, S Al‐Kindi, ...\",\"title\":\"Association of environmental injustice and cardiovascular diseases and risk factors in the United States\",\"year\":2024,\"source\":\"Journal of the …\",\"publisher\":\"ahajournals.org\",\"article_url\":\"https://www.ahajournals.org/doi/abs/10.1161/JAHA.123.033428\",\"cites_url\":\"https://scholar.google.com/scholar?cites=845499601898734291&as_sdt=2005&sciodt=2007&hl=en\",\"gs_rank\":9,\"query_date\":\"2025-08-29\",\"type\":null,\"doi\":\"10.1161/JAHA.123.033428\",\"ecc\":15,\"cites_per_year\":15,\"cites_per_author\":4,\"author_count\":4,\"age\":1,\"abstract\":\"… The quartile 4 Environmental Justice Index was associated with a … index of environmental injustice, the CDC's EJI, to capture cumulative exposure across multiple domains. The EJI …\",\"full_text_url\":\"https://www.ahajournals.org/doi/pdf/10.1161/JAHA.123.033428\",\"related_url\":\"https://scholar.google.com/scholar?q=related:04LohGjRuwsJ:scholar.google.com/&scioq=%22environmental+justice+index%22%7C%22cdc+environmental+justice+index%22%7C%22atsdr+environmental+justice+index%22%7C%22cdc+eji%22%7C%22environmental+justice+composite+index+cdc%22%7C%22eji+2022%22%7C%22eji+2024+update%22%7C%22environmental+justice+health+index%22&hl=en&as_sdt=2007&as_ylo=2022&as_yhi=2025\",\"source_file\":\"eji\",\"tool_name\":\"Environmental Justice Index (EJI)\",\"y\":15,\"name\":\"Association of environmental injustice and cardiovascular diseases and risk factors in the United States\"},{\"cites\":9,\"authors\":\"N Popovich, AJ Figueroa, DA Sunter, M Shah\",\"title\":\"Identifying disadvantaged communities in the United States: An energy-oriented mapping tool that aggregates environmental and socioeconomic burdens\",\"year\":2024,\"source\":\"Energy Research &Social …\",\"publisher\":\"Elsevier\",\"article_url\":\"https://www.sciencedirect.com/science/article/pii/S2214629623004516\",\"cites_url\":\"https://scholar.google.com/scholar?cites=15019131389588296473&as_sdt=2005&sciodt=2007&hl=en\",\"gs_rank\":19,\"query_date\":\"2025-08-29\",\"type\":\"HTML\",\"doi\":null,\"ecc\":9,\"cites_per_year\":9,\"cites_per_author\":2,\"author_count\":4,\"age\":1,\"abstract\":\"… index to identify communities disproportionately impacted by environmental, energy, and climate … We review existing vulnerability indicators and indices to assess the tradeoffs of …\",\"full_text_url\":\"https://www.sciencedirect.com/science/article/pii/S2214629623004516\",\"related_url\":\"https://scholar.google.com/scholar?q=related:GVNUj2ysbtAJ:scholar.google.com/&scioq=%22environmental+justice+index%22%7C%22cdc+environmental+justice+index%22%7C%22atsdr+environmental+justice+index%22%7C%22cdc+eji%22%7C%22environmental+justice+composite+index+cdc%22%7C%22eji+2022%22%7C%22eji+2024+update%22%7C%22environmental+justice+health+index%22&hl=en&as_sdt=2007&as_ylo=2022&as_yhi=2025\",\"source_file\":\"eji\",\"tool_name\":\"Environmental Justice Index (EJI)\",\"y\":9,\"name\":\"Identifying disadvantaged communities in the United States: An energy-oriented mapping tool that aggregates environmental and socioeconomic burdens\"},{\"cites\":16,\"authors\":\"CA Pate, X Qin, C Johnson, HS Zahran\",\"title\":\"Asthma disparities among US children and adults\",\"year\":2023,\"source\":\"Journal of Asthma\",\"publisher\":\"Taylor &Francis\",\"article_url\":\"https://www.tandfonline.com/doi/abs/10.1080/02770903.2023.2228915\",\"cites_url\":\"https://scholar.google.com/scholar?cites=15292848815749387795&as_sdt=2005&sciodt=2007&hl=en\",\"gs_rank\":105,\"query_date\":\"2025-08-29\",\"type\":null,\"doi\":\"10.1080/02770903.2023.2228915\",\"ecc\":16,\"cites_per_year\":8,\"cites_per_author\":4,\"author_count\":4,\"age\":2,\"abstract\":\"… Promoting adequate housing can help further environmental justice and reduce burden of … asthma hospitalization and emergency department visits by 2024 (Citation37). Identifying and …\",\"full_text_url\":\"https://pmc.ncbi.nlm.nih.gov/articles/PMC10760409/\",\"related_url\":\"https://scholar.google.com/scholar?q=related:E9Z-EvkcO9QJ:scholar.google.com/&scioq=%22environmental+justice+index%22%7C%22cdc+environmental+justice+index%22%7C%22atsdr+environmental+justice+index%22%7C%22cdc+eji%22%7C%22environmental+justice+composite+index+cdc%22%7C%22eji+2022%22%7C%22eji+2024+update%22%7C%22environmental+justice+health+index%22&hl=en&as_sdt=2007&as_ylo=2022&as_yhi=2025\",\"source_file\":\"eji\",\"tool_name\":\"Environmental Justice Index (EJI)\",\"y\":8,\"name\":\"Asthma disparities among US children and adults\"},{\"cites\":7,\"authors\":\"S Doshi, S Vuppula, P Jaggi\",\"title\":\"Healthcare sustainability to address climate change: call for action to the infectious diseases community\",\"year\":2024,\"source\":\"Journal of the Pediatric Infectious …\",\"publisher\":\"academic.oup.com\",\"article_url\":\"https://academic.oup.com/jpids/article-abstract/13/6/306/7675997\",\"cites_url\":\"https://scholar.google.com/scholar?cites=1178007852079371498&as_sdt=2005&sciodt=2007&hl=en\",\"gs_rank\":87,\"query_date\":\"2025-08-29\",\"type\":null,\"doi\":null,\"ecc\":7,\"cites_per_year\":7,\"cites_per_author\":2,\"author_count\":3,\"age\":1,\"abstract\":\"… The risk of climate change is especially important to children, who are uniquely vulnerable to the health impacts of a changing climate and will live more years in a changed climate. …\",\"full_text_url\":null,\"related_url\":\"https://scholar.google.com/scholar?q=related:6tTPbeYfWRAJ:scholar.google.com/&scioq=%22environmental+justice+index%22%7C%22cdc+environmental+justice+index%22%7C%22atsdr+environmental+justice+index%22%7C%22cdc+eji%22%7C%22environmental+justice+composite+index+cdc%22%7C%22eji+2022%22%7C%22eji+2024+update%22%7C%22environmental+justice+health+index%22&hl=en&as_sdt=2007&as_ylo=2022&as_yhi=2025\",\"source_file\":\"eji\",\"tool_name\":\"Environmental Justice Index (EJI)\",\"y\":7,\"name\":\"Healthcare sustainability to address climate change: call for action to the infectious diseases community\"},{\"cites\":6,\"authors\":\"P Matus, C Urquidi, M Cárcamo, V Vidal\",\"title\":\"Integrating the exposome and one health approach to national health surveillance: an opportunity for Latin American countries in health preventive …\",\"year\":2024,\"source\":\"Frontiers in Public Health\",\"publisher\":\"frontiersin.org\",\"article_url\":\"https://www.frontiersin.org/journals/public-health/articles/10.3389/fpubh.2024.1376609/full\",\"cites_url\":\"https://scholar.google.com/scholar?cites=9699733996703157615&as_sdt=2005&sciodt=2007&hl=en\",\"gs_rank\":84,\"query_date\":\"2025-08-29\",\"type\":\"HTML\",\"doi\":\"10.3389/fpubh.2024.1376609\",\"ecc\":6,\"cites_per_year\":6,\"cites_per_author\":2,\"author_count\":4,\"age\":1,\"abstract\":\"… Additionally, it facilitates the computation of indices, such as the Environmental Justice Index (EJ), enabling targeted health promotion and prevention interventions in the most …\",\"full_text_url\":\"https://www.frontiersin.org/journals/public-health/articles/10.3389/fpubh.2024.1376609/full\",\"related_url\":\"https://scholar.google.com/scholar?q=related:b41Fua1gnIYJ:scholar.google.com/&scioq=%22environmental+justice+index%22%7C%22cdc+environmental+justice+index%22%7C%22atsdr+environmental+justice+index%22%7C%22cdc+eji%22%7C%22environmental+justice+composite+index+cdc%22%7C%22eji+2022%22%7C%22eji+2024+update%22%7C%22environmental+justice+health+index%22&hl=en&as_sdt=2007&as_ylo=2022&as_yhi=2025\",\"source_file\":\"eji\",\"tool_name\":\"Environmental Justice Index (EJI)\",\"y\":6,\"name\":\"Integrating the exposome and one health approach to national health surveillance: an opportunity for Latin American countries in health preventive …\"},{\"cites\":6,\"authors\":\"R Ibrahim, HN Pham, S Ganatra, Z Javed, ...\",\"title\":\"Social phenotyping for cardiovascular risk stratification in electronic health registries\",\"year\":2024,\"source\":\"Current atherosclerosis …\",\"publisher\":\"Springer\",\"article_url\":\"https://link.springer.com/article/10.1007/s11883-024-01222-6\",\"cites_url\":\"https://scholar.google.com/scholar?cites=15215021849109332408&as_sdt=2005&sciodt=2007&hl=en\",\"gs_rank\":81,\"query_date\":\"2025-08-29\",\"type\":null,\"doi\":\"10.1007/s11883-024-01222-6\",\"ecc\":6,\"cites_per_year\":6,\"cites_per_author\":1,\"author_count\":5,\"age\":1,\"abstract\":\"… - This cross-sectional analysis revealed that the Environmental Justice Index, a quantitative measure incorporating both environmental influences and social vulnerability, is highly …\",\"full_text_url\":null,\"related_url\":\"https://scholar.google.com/scholar?q=related:uAH4VcKdJtMJ:scholar.google.com/&scioq=%22environmental+justice+index%22%7C%22cdc+environmental+justice+index%22%7C%22atsdr+environmental+justice+index%22%7C%22cdc+eji%22%7C%22environmental+justice+composite+index+cdc%22%7C%22eji+2022%22%7C%22eji+2024+update%22%7C%22environmental+justice+health+index%22&hl=en&as_sdt=2007&as_ylo=2022&as_yhi=2025\",\"source_file\":\"eji\",\"tool_name\":\"Environmental Justice Index (EJI)\",\"y\":6,\"name\":\"Social phenotyping for cardiovascular risk stratification in electronic health registries\"},{\"cites\":6,\"authors\":\"R Winker, A Payton, E Brown, E McDermott, ...\",\"title\":\"Wildfires and climate justice: future wildfire events predicted to disproportionally impact socioeconomically vulnerable communities in North Carolina\",\"year\":2024,\"source\":\"… in public health\",\"publisher\":\"frontiersin.org\",\"article_url\":\"https://www.frontiersin.org/articles/10.3389/fpubh.2024.1339700/full\",\"cites_url\":\"https://scholar.google.com/scholar?cites=9543474696027875943&as_sdt=2005&sciodt=2007&hl=en\",\"gs_rank\":47,\"query_date\":\"2025-08-29\",\"type\":null,\"doi\":\"10.3389/fpubh.2024.1339700\",\"ecc\":6,\"cites_per_year\":6,\"cites_per_author\":1,\"author_count\":5,\"age\":1,\"abstract\":\"… ’s Forest Service’s WHP Index updated in 2020. The underlying methods surrounding … Environmental Justice Index (EJI) National Scale Air Toxics Assessment Respiratory Hazard Index…\",\"full_text_url\":\"https://www.frontiersin.org/journals/public-health/articles/10.3389/fpubh.2024.1339700/pdf\",\"related_url\":\"https://scholar.google.com/scholar?q=related:Z6qrK6w7cYQJ:scholar.google.com/&scioq=%22environmental+justice+index%22%7C%22cdc+environmental+justice+index%22%7C%22atsdr+environmental+justice+index%22%7C%22cdc+eji%22%7C%22environmental+justice+composite+index+cdc%22%7C%22eji+2022%22%7C%22eji+2024+update%22%7C%22environmental+justice+health+index%22&hl=en&as_sdt=2007&as_ylo=2022&as_yhi=2025\",\"source_file\":\"eji\",\"tool_name\":\"Environmental Justice Index (EJI)\",\"y\":6,\"name\":\"Wildfires and climate justice: future wildfire events predicted to disproportionally impact socioeconomically vulnerable communities in North Carolina\"},{\"cites\":5,\"authors\":\"D Doiron, EM Setton, J Syer, A Redivo, A McKee, ...\",\"title\":\"Healthyplan. city: a web tool to support urban environmental equity and public health in Canadian communities\",\"year\":2024,\"source\":\"… of Urban Health\",\"publisher\":\"Springer\",\"article_url\":\"https://link.springer.com/article/10.1007/s11524-024-00855-x\",\"cites_url\":\"https://scholar.google.com/scholar?cites=3817642094872671898&as_sdt=2005&sciodt=2007&hl=en\",\"gs_rank\":52,\"query_date\":\"2025-08-29\",\"type\":\"HTML\",\"doi\":\"10.1007/s11524-024-00855-x\",\"ecc\":5,\"cites_per_year\":5,\"cites_per_author\":1,\"author_count\":6,\"age\":1,\"abstract\":\"… create a flexible data system for easy updating of datasets, and (ii) … Along with the overall index, the EJI Explorer provides … ) calculates an Environmental Justice Index as the intersection …\",\"full_text_url\":\"https://link.springer.com/article/10.1007/s11524-024-00855-x\",\"related_url\":\"https://scholar.google.com/scholar?q=related:mrZ2MEL9-jQJ:scholar.google.com/&scioq=%22environmental+justice+index%22%7C%22cdc+environmental+justice+index%22%7C%22atsdr+environmental+justice+index%22%7C%22cdc+eji%22%7C%22environmental+justice+composite+index+cdc%22%7C%22eji+2022%22%7C%22eji+2024+update%22%7C%22environmental+justice+health+index%22&hl=en&as_sdt=2007&as_ylo=2022&as_yhi=2025\",\"source_file\":\"eji\",\"tool_name\":\"Environmental Justice Index (EJI)\",\"y\":5,\"name\":\"Healthyplan. city: a web tool to support urban environmental equity and public health in Canadian communities\"}],\"type\":\"bar\"},{\"name\":\"Future Risk Index (FRI)\",\"data\":[{\"cites\":4,\"authors\":\"JA Velasco, C Luna-Aranguré, ...\",\"title\":\"Drivers of urban biodiversity in Mexico and joint risks from future urban expansion, climate change, and urban heat island effect\",\"year\":2024,\"source\":\"PLoS …\",\"publisher\":\"journals.plos.org\",\"article_url\":\"https://journals.plos.org/plosone/article?id=10.1371/journal.pone.0308522\",\"cites_url\":\"https://scholar.google.com/scholar?cites=9098731931348706879&as_sdt=2005&sciodt=2007&hl=en\",\"gs_rank\":4,\"query_date\":\"2025-08-29\",\"type\":\"HTML\",\"doi\":null,\"ecc\":4,\"cites_per_year\":4,\"cites_per_author\":1,\"author_count\":3,\"age\":1,\"abstract\":\"Urbanization is a phenomenon where humans concentrate in high densities and consume more per capita energy than in rural areas, imposing high pressures on biodiversity and …\",\"full_text_url\":\"https://journals.plos.org/plosone/article?id=10.1371/journal.pone.0308522\",\"related_url\":\"https://scholar.google.com/scholar?q=related:PyaLAnwwRX4J:scholar.google.com/&scioq=%22future+risk+index%22%7C%22fema+future+risk+index%22%7C%22fri+future+risk+index%22%7C%22fema+fri%22%7C%22fema+climate+risk+index%22%7C%22fema+disaster+risk+index%22%7C%22future+disaster+risk+tool+fema%22%7C%22future+risk+index+fema+prototype%22&hl=en&as_sdt=2007&as_ylo=2024&as_yhi=2025\",\"source_file\":\"fri\",\"tool_name\":\"Future Risk Index (FRI)\",\"y\":4,\"name\":\"Drivers of urban biodiversity in Mexico and joint risks from future urban expansion, climate change, and urban heat island effect\"},{\"cites\":2,\"authors\":\"C Huang, A Zhang, M Zhang, ...\",\"title\":\"Venture capital and vulnerability: Navigating natural disasters and investment resilience\",\"year\":2025,\"source\":\"European Financial …\",\"publisher\":\"Wiley Online Library\",\"article_url\":\"https://onlinelibrary.wiley.com/doi/abs/10.1111/eufm.12528\",\"cites_url\":\"https://scholar.google.com/scholar?cites=14289324567282373282&as_sdt=2005&sciodt=2007&hl=en\",\"gs_rank\":5,\"query_date\":\"2025-08-29\",\"type\":null,\"doi\":\"10.1111/eufm.12528\",\"ecc\":2,\"cites_per_year\":2,\"cites_per_author\":1,\"author_count\":4,\"age\":1,\"abstract\":\"This study examines the impact of natural disasters on venture capital (VC) investment decisions. Using 47 catastrophic natural disasters occurred in the United States from 1990 to 2019…\",\"full_text_url\":\"https://onlinelibrary.wiley.com/doi/pdfdirect/10.1111/eufm.12528\",\"related_url\":\"https://scholar.google.com/scholar?q=related:otIgYfzgTcYJ:scholar.google.com/&scioq=%22future+risk+index%22%7C%22fema+future+risk+index%22%7C%22fri+future+risk+index%22%7C%22fema+fri%22%7C%22fema+climate+risk+index%22%7C%22fema+disaster+risk+index%22%7C%22future+disaster+risk+tool+fema%22%7C%22future+risk+index+fema+prototype%22&hl=en&as_sdt=2007&as_ylo=2024&as_yhi=2025\",\"source_file\":\"fri\",\"tool_name\":\"Future Risk Index (FRI)\",\"y\":2,\"name\":\"Venture capital and vulnerability: Navigating natural disasters and investment resilience\"},{\"cites\":1,\"authors\":\"L Mahowald, A Shaw\",\"title\":\"Climate Change Risk for LGBT People in the United States\",\"year\":2024,\"source\":null,\"publisher\":\"escholarship.org\",\"article_url\":\"https://escholarship.org/content/qt7xw635f3/qt7xw635f3.pdf\",\"cites_url\":\"https://scholar.google.com/scholar?cites=1121889444523494756&as_sdt=2005&sciodt=2007&hl=en\",\"gs_rank\":2,\"query_date\":\"2025-08-29\",\"type\":\"PDF\",\"doi\":null,\"ecc\":1,\"cites_per_year\":1,\"cites_per_author\":1,\"author_count\":2,\"age\":1,\"abstract\":\"Climate change represents a global challenge, but it also exacerbates existing disparities among individuals and communities. LGBT people face discrimination and exclusion, creating …\",\"full_text_url\":\"https://escholarship.org/content/qt7xw635f3/qt7xw635f3.pdf\",\"related_url\":\"https://scholar.google.com/scholar?q=related:ZE0VeoHAkQ8J:scholar.google.com/&scioq=%22future+risk+index%22%7C%22fema+future+risk+index%22%7C%22fri+future+risk+index%22%7C%22fema+fri%22%7C%22fema+climate+risk+index%22%7C%22fema+disaster+risk+index%22%7C%22future+disaster+risk+tool+fema%22%7C%22future+risk+index+fema+prototype%22&hl=en&as_sdt=2007&as_ylo=2024&as_yhi=2025\",\"source_file\":\"fri\",\"tool_name\":\"Future Risk Index (FRI)\",\"y\":1,\"name\":\"Climate Change Risk for LGBT People in the United States\"},{\"cites\":0,\"authors\":\"D Liu, M Li, L Zhang, M Li, M Faiz, T Li, S Cui, ...\",\"title\":\"Risk Measurement Analysis of a Regional Water‒Land-Energy-Food Coupling System Under Complex and Uncertain Climate Influences\",\"year\":null,\"source\":\"Available at SSRN …\",\"publisher\":\"papers.ssrn.com\",\"article_url\":\"https://papers.ssrn.com/sol3/papers.cfm?abstract_id=4891409\",\"cites_url\":null,\"gs_rank\":3,\"query_date\":\"2025-08-29\",\"type\":null,\"doi\":null,\"ecc\":0,\"cites_per_year\":0,\"cites_per_author\":0,\"author_count\":8,\"age\":null,\"abstract\":\"… Therefore, when the scenario conditions are worse, the future risk index of the Heilongjiang coupled system is greater. In addition, from a time perspective, the risk indices of the four …\",\"full_text_url\":\"https://papers.ssrn.com/sol3/Delivery.cfm?abstractid=4891409\",\"related_url\":\"https://scholar.google.com/scholar?q=related:dTJcE2MPKdoJ:scholar.google.com/&scioq=%22future+risk+index%22%7C%22fema+future+risk+index%22%7C%22fri+future+risk+index%22%7C%22fema+fri%22%7C%22fema+climate+risk+index%22%7C%22fema+disaster+risk+index%22%7C%22future+disaster+risk+tool+fema%22%7C%22future+risk+index+fema+prototype%22&hl=en&as_sdt=2007&as_ylo=2024&as_yhi=2025\",\"source_file\":\"fri\",\"tool_name\":\"Future Risk Index (FRI)\",\"y\":0,\"name\":\"Risk Measurement Analysis of a Regional Water‒Land-Energy-Food Coupling System Under Complex and Uncertain Climate Influences\"},{\"cites\":0,\"authors\":\"F Yang, C Yang, T Qie, W Wang, ...\",\"title\":\"Risk Avoidance Decision-Making for Intelligent Vehicles Based on Spatio-Temporal Risk Prediction\",\"year\":2024,\"source\":\"2024 8th CAA …\",\"publisher\":\"ieeexplore.ieee.org\",\"article_url\":\"https://ieeexplore.ieee.org/abstract/document/10830017/\",\"cites_url\":null,\"gs_rank\":1,\"query_date\":\"2025-08-29\",\"type\":null,\"doi\":null,\"ecc\":0,\"cites_per_year\":0,\"cites_per_author\":0,\"author_count\":5,\"age\":1,\"abstract\":\"In order to improve the collision risk assessment method of intelligent vehicles in complex traffic scenarios and avoid collision risk in real time, this paper proposes a risk avoidance …\",\"full_text_url\":null,\"related_url\":\"https://scholar.google.com/scholar?q=related:vDp_rXItLSMJ:scholar.google.com/&scioq=%22future+risk+index%22%7C%22fema+future+risk+index%22%7C%22fri+future+risk+index%22%7C%22fema+fri%22%7C%22fema+climate+risk+index%22%7C%22fema+disaster+risk+index%22%7C%22future+disaster+risk+tool+fema%22%7C%22future+risk+index+fema+prototype%22&hl=en&as_sdt=2007&as_ylo=2024&as_yhi=2025\",\"source_file\":\"fri\",\"tool_name\":\"Future Risk Index (FRI)\",\"y\":0,\"name\":\"Risk Avoidance Decision-Making for Intelligent Vehicles Based on Spatio-Temporal Risk Prediction\"},{\"cites\":0,\"authors\":\"L Bonifati\",\"title\":\"L'altra faccia degli executive orders di Trump: la “guerra ai dati” ei rischi per le future emergenze\",\"year\":2025,\"source\":\"FEDERALISMI. IT\",\"publisher\":\"cris.unibo.it\",\"article_url\":\"https://cris.unibo.it/handle/11585/1017979\",\"cites_url\":null,\"gs_rank\":6,\"query_date\":\"2025-08-29\",\"type\":null,\"doi\":null,\"ecc\":0,\"cites_per_year\":0,\"cites_per_author\":0,\"author_count\":1,\"age\":1,\"abstract\":\"L’articolo prende spunto dai recenti executive orders firmati all’inaugurazione della seconda presidenza di Donald Trump e pone l’attenzione sull’attacco ai dati governativi e alla …\",\"full_text_url\":\"https://cris.unibo.it/bitstream/11585/1017979/1/2025-Bonifati-Trump-guerra-dati_Fed.pdf\",\"related_url\":\"https://scholar.google.com/scholar?q=related:c-PmRCUY9isJ:scholar.google.com/&scioq=%22future+risk+index%22%7C%22fema+future+risk+index%22%7C%22fri+future+risk+index%22%7C%22fema+fri%22%7C%22fema+climate+risk+index%22%7C%22fema+disaster+risk+index%22%7C%22future+disaster+risk+tool+fema%22%7C%22future+risk+index+fema+prototype%22&hl=en&as_sdt=2007&as_ylo=2024&as_yhi=2025\",\"source_file\":\"fri\",\"tool_name\":\"Future Risk Index (FRI)\",\"y\":0,\"name\":\"L'altra faccia degli executive orders di Trump: la “guerra ai dati” ei rischi per le future emergenze\"}],\"type\":\"bar\"}],\"xAxis\":{\"type\":\"category\",\"title\":{\"text\":\"Study title\"},\"labels\":{\"enabled\":false}},\"subtitle\":{\"text\":\"Highlights studies with the highest relative citation rates\"},\"tooltip\":{\"pointFormat\":\"<b>{point.y}<\\/b> cites/year<br>{point.tool_name}<br>\"}},\"theme\":{\"chart\":{\"backgroundColor\":\"transparent\"},\"colors\":[\"#7cb5ec\",\"#434348\",\"#90ed7d\",\"#f7a35c\",\"#8085e9\",\"#f15c80\",\"#e4d354\",\"#2b908f\",\"#f45b5b\",\"#91e8e1\"]},\"conf_opts\":{\"global\":{\"Date\":null,\"VMLRadialGradientURL\":\"http =//code.highcharts.com/list(version)/gfx/vml-radial-gradient.png\",\"canvasToolsURL\":\"http =//code.highcharts.com/list(version)/modules/canvas-tools.js\",\"getTimezoneOffset\":null,\"timezoneOffset\":0,\"useUTC\":true},\"lang\":{\"contextButtonTitle\":\"Chart context menu\",\"decimalPoint\":\".\",\"downloadCSV\":\"Download CSV\",\"downloadJPEG\":\"Download JPEG image\",\"downloadPDF\":\"Download PDF document\",\"downloadPNG\":\"Download PNG image\",\"downloadSVG\":\"Download SVG vector image\",\"downloadXLS\":\"Download XLS\",\"drillUpText\":\"◁ Back to {series.name}\",\"exitFullscreen\":\"Exit from full screen\",\"exportData\":{\"annotationHeader\":\"Annotations\",\"categoryDatetimeHeader\":\"DateTime\",\"categoryHeader\":\"Category\"},\"hideData\":\"Hide data table\",\"invalidDate\":null,\"loading\":\"Loading...\",\"months\":[\"January\",\"February\",\"March\",\"April\",\"May\",\"June\",\"July\",\"August\",\"September\",\"October\",\"November\",\"December\"],\"noData\":\"No data to display\",\"numericSymbolMagnitude\":1000,\"numericSymbols\":[\"k\",\"M\",\"G\",\"T\",\"P\",\"E\"],\"printChart\":\"Print chart\",\"resetZoom\":\"Reset zoom\",\"resetZoomTitle\":\"Reset zoom level 1:1\",\"shortMonths\":[\"Jan\",\"Feb\",\"Mar\",\"Apr\",\"May\",\"Jun\",\"Jul\",\"Aug\",\"Sep\",\"Oct\",\"Nov\",\"Dec\"],\"shortWeekdays\":[\"Sat\",\"Sun\",\"Mon\",\"Tue\",\"Wed\",\"Thu\",\"Fri\"],\"thousandsSep\":\" \",\"viewData\":\"View data table\",\"viewFullscreen\":\"View in full screen\",\"weekdays\":[\"Sunday\",\"Monday\",\"Tuesday\",\"Wednesday\",\"Thursday\",\"Friday\",\"Saturday\"]}},\"type\":\"chart\",\"fonts\":[],\"debug\":false},\"evals\":[],\"jsHooks\":[]}</script>"
      ]
     }
    }
   ],
   "source": [
    "df_top_cpy <- all_tools %>%\n",
    "  filter(!is.na(cites_per_year)) %>%\n",
    "  group_by(tool_name) %>%\n",
    "  slice_max(order_by = cites_per_year, n = 10, with_ties = FALSE) %>%\n",
    "  ungroup()\n",
    "\n",
    "df_top_cpy %>% \n",
    "  select(tool_name, year, title, cites_per_year, cites, authors) %>%\n",
    "  arrange(tool_name, desc(cites_per_year))"
   ],
   "id": "746b1075-26ad-4bae-8c08-05d86ccc9d68"
  },
  {
   "cell_type": "markdown",
   "metadata": {},
   "source": [
    "#### Average `cites_per_year` over time per tool\n",
    "\n",
    "This shows whether more recent papers citing a tool are getting traction."
   ],
   "id": "de20fe11-8dae-4437-a096-1996721c3627"
  },
  {
   "cell_type": "code",
   "execution_count": null,
   "metadata": {},
   "outputs": [
    {
     "output_type": "display_data",
     "metadata": {},
     "data": {
      "text/html": [
       "<div class=\"highchart html-widget html-fill-item\" id=\"htmlwidget-478970f42607fcb97e0d\" style=\"width:100%;height:464px;\"></div>\n",
       "<script type=\"application/json\" data-for=\"htmlwidget-478970f42607fcb97e0d\">{\"x\":{\"hc_opts\":{\"chart\":{\"reflow\":true},\"title\":{\"text\":\"Average cites per year over time, by tool\"},\"yAxis\":{\"title\":{\"text\":\"Average cites per year\"},\"type\":\"linear\"},\"credits\":{\"enabled\":false},\"exporting\":{\"enabled\":true},\"boost\":{\"enabled\":false},\"plotOptions\":{\"series\":{\"label\":{\"enabled\":false},\"turboThreshold\":0,\"showInLegend\":true},\"treemap\":{\"layoutAlgorithm\":\"squarified\"},\"scatter\":{\"marker\":{\"symbol\":\"circle\"}}},\"series\":[{\"name\":\"Climate Risk Viewer\",\"data\":[{\"tool_name\":\"Climate Risk Viewer\",\"year\":2023,\"avg_cpy\":2.666666666666667,\"x\":2023,\"y\":2.666666666666667},{\"tool_name\":\"Climate Risk Viewer\",\"year\":2024,\"avg_cpy\":19.21428571428571,\"x\":2024,\"y\":19.21428571428571},{\"tool_name\":\"Climate Risk Viewer\",\"year\":2025,\"avg_cpy\":1,\"x\":2025,\"y\":1}],\"type\":\"line\"},{\"name\":\"Climate and Economic Justice Screening Tool (CEJST)\",\"data\":[{\"tool_name\":\"Climate and Economic Justice Screening Tool (CEJST)\",\"year\":2022,\"avg_cpy\":1.8064,\"x\":2022,\"y\":1.8064},{\"tool_name\":\"Climate and Economic Justice Screening Tool (CEJST)\",\"year\":2023,\"avg_cpy\":2.051020408163263,\"x\":2023,\"y\":2.051020408163263},{\"tool_name\":\"Climate and Economic Justice Screening Tool (CEJST)\",\"year\":2024,\"avg_cpy\":2.386666666666665,\"x\":2024,\"y\":2.386666666666665},{\"tool_name\":\"Climate and Economic Justice Screening Tool (CEJST)\",\"year\":2025,\"avg_cpy\":0.7862068965517242,\"x\":2025,\"y\":0.7862068965517242}],\"type\":\"line\"},{\"name\":\"EJScreen\",\"data\":[{\"tool_name\":\"EJScreen\",\"year\":2016,\"avg_cpy\":0.4614285714285715,\"x\":2016,\"y\":0.4614285714285715},{\"tool_name\":\"EJScreen\",\"year\":2017,\"avg_cpy\":0.38,\"x\":2017,\"y\":0.38},{\"tool_name\":\"EJScreen\",\"year\":2018,\"avg_cpy\":2.101428571428571,\"x\":2018,\"y\":2.101428571428571},{\"tool_name\":\"EJScreen\",\"year\":2019,\"avg_cpy\":5.723333333333334,\"x\":2019,\"y\":5.723333333333334},{\"tool_name\":\"EJScreen\",\"year\":2020,\"avg_cpy\":1.88,\"x\":2020,\"y\":1.88},{\"tool_name\":\"EJScreen\",\"year\":2021,\"avg_cpy\":1.163793103448276,\"x\":2021,\"y\":1.163793103448276},{\"tool_name\":\"EJScreen\",\"year\":2022,\"avg_cpy\":2.335656934306569,\"x\":2022,\"y\":2.335656934306569},{\"tool_name\":\"EJScreen\",\"year\":2023,\"avg_cpy\":2.344709897610922,\"x\":2023,\"y\":2.344709897610922},{\"tool_name\":\"EJScreen\",\"year\":2024,\"avg_cpy\":1.927536231884058,\"x\":2024,\"y\":1.927536231884058},{\"tool_name\":\"EJScreen\",\"year\":2025,\"avg_cpy\":0.5189189189189189,\"x\":2025,\"y\":0.5189189189189189}],\"type\":\"line\"},{\"name\":\"Environmental Justice Index (EJI)\",\"data\":[{\"tool_name\":\"Environmental Justice Index (EJI)\",\"year\":2022,\"avg_cpy\":1.67,\"x\":2022,\"y\":1.67},{\"tool_name\":\"Environmental Justice Index (EJI)\",\"year\":2023,\"avg_cpy\":1.785714285714286,\"x\":2023,\"y\":1.785714285714286},{\"tool_name\":\"Environmental Justice Index (EJI)\",\"year\":2024,\"avg_cpy\":2.568627450980392,\"x\":2024,\"y\":2.568627450980392},{\"tool_name\":\"Environmental Justice Index (EJI)\",\"year\":2025,\"avg_cpy\":0.2954545454545455,\"x\":2025,\"y\":0.2954545454545455}],\"type\":\"line\"},{\"name\":\"Future Risk Index (FRI)\",\"data\":[{\"tool_name\":\"Future Risk Index (FRI)\",\"year\":2024,\"avg_cpy\":1.666666666666667,\"x\":2024,\"y\":1.666666666666667},{\"tool_name\":\"Future Risk Index (FRI)\",\"year\":2025,\"avg_cpy\":1,\"x\":2025,\"y\":1}],\"type\":\"line\"}],\"xAxis\":{\"type\":\"linear\",\"title\":{\"text\":\"year\"},\"categories\":null}},\"theme\":{\"chart\":{\"backgroundColor\":\"transparent\"},\"colors\":[\"#7cb5ec\",\"#434348\",\"#90ed7d\",\"#f7a35c\",\"#8085e9\",\"#f15c80\",\"#e4d354\",\"#2b908f\",\"#f45b5b\",\"#91e8e1\"]},\"conf_opts\":{\"global\":{\"Date\":null,\"VMLRadialGradientURL\":\"http =//code.highcharts.com/list(version)/gfx/vml-radial-gradient.png\",\"canvasToolsURL\":\"http =//code.highcharts.com/list(version)/modules/canvas-tools.js\",\"getTimezoneOffset\":null,\"timezoneOffset\":0,\"useUTC\":true},\"lang\":{\"contextButtonTitle\":\"Chart context menu\",\"decimalPoint\":\".\",\"downloadCSV\":\"Download CSV\",\"downloadJPEG\":\"Download JPEG image\",\"downloadPDF\":\"Download PDF document\",\"downloadPNG\":\"Download PNG image\",\"downloadSVG\":\"Download SVG vector image\",\"downloadXLS\":\"Download XLS\",\"drillUpText\":\"◁ Back to {series.name}\",\"exitFullscreen\":\"Exit from full screen\",\"exportData\":{\"annotationHeader\":\"Annotations\",\"categoryDatetimeHeader\":\"DateTime\",\"categoryHeader\":\"Category\"},\"hideData\":\"Hide data table\",\"invalidDate\":null,\"loading\":\"Loading...\",\"months\":[\"January\",\"February\",\"March\",\"April\",\"May\",\"June\",\"July\",\"August\",\"September\",\"October\",\"November\",\"December\"],\"noData\":\"No data to display\",\"numericSymbolMagnitude\":1000,\"numericSymbols\":[\"k\",\"M\",\"G\",\"T\",\"P\",\"E\"],\"printChart\":\"Print chart\",\"resetZoom\":\"Reset zoom\",\"resetZoomTitle\":\"Reset zoom level 1:1\",\"shortMonths\":[\"Jan\",\"Feb\",\"Mar\",\"Apr\",\"May\",\"Jun\",\"Jul\",\"Aug\",\"Sep\",\"Oct\",\"Nov\",\"Dec\"],\"shortWeekdays\":[\"Sat\",\"Sun\",\"Mon\",\"Tue\",\"Wed\",\"Thu\",\"Fri\"],\"thousandsSep\":\" \",\"viewData\":\"View data table\",\"viewFullscreen\":\"View in full screen\",\"weekdays\":[\"Sunday\",\"Monday\",\"Tuesday\",\"Wednesday\",\"Thursday\",\"Friday\",\"Saturday\"]}},\"type\":\"chart\",\"fonts\":[],\"debug\":false},\"evals\":[],\"jsHooks\":[]}</script>"
      ]
     }
    }
   ],
   "source": [
    "df_avg_cpy <- all_tools %>%\n",
    "  filter(!is.na(year), !is.na(cites_per_year)) %>%\n",
    "  group_by(tool_name, year) %>%\n",
    "  summarise(avg_cpy = mean(cites_per_year, na.rm = TRUE), .groups = \"drop\")\n",
    "\n",
    "hchart(df_avg_cpy, \"line\", hcaes(x = year, y = avg_cpy, group = tool_name)) %>%\n",
    "  hc_title(text = \"Average cites per year over time, by tool\") %>%\n",
    "  hc_yAxis(title = list(text = \"Average cites per year\")) %>%\n",
    "  hc_exporting(enabled = TRUE)"
   ],
   "id": "26df38a4-6d2d-4a23-bc63-24556a6d24c0"
  },
  {
   "cell_type": "markdown",
   "metadata": {},
   "source": [
    "#### Publishers\n",
    "\n",
    "Which publishers/platforms appear most frequently?"
   ],
   "id": "d37ccb00-5d52-41b3-96b6-3f09ebda8653"
  },
  {
   "cell_type": "code",
   "execution_count": null,
   "metadata": {},
   "outputs": [
    {
     "output_type": "stream",
     "name": "stdout",
     "text": [
      "              publisher   n\n",
      "1   search.proquest.com 205\n",
      "2              osti.gov 140\n",
      "3            HeinOnline 126\n",
      "4              Elsevier 115\n",
      "5              Springer  87\n",
      "6       Taylor &Francis  59\n",
      "7       papers.ssrn.com  57\n",
      "8        liebertpub.com  54\n",
      "9  Wiley Online Library  43\n",
      "10             mdpi.com  42"
     ]
    }
   ],
   "source": [
    "df_publishers <- all_tools %>%\n",
    "  filter(publisher != \"\") %>%\n",
    "  count(publisher, sort = TRUE) %>%\n",
    "  slice_head(n = 10)\n",
    "\n",
    "df_publishers"
   ],
   "id": "5ab3a56c-f4ca-4793-b235-407acd822155"
  },
  {
   "cell_type": "markdown",
   "metadata": {},
   "source": [
    "### Research question 2\n",
    "\n",
    "What research topics are associated with each tool, and how do these topics vary by citation frequency?\n",
    "\n",
    "To answer this question, I will work with a collaborator to “code” all of the research studies manually and to categorize them into topics. Before we do that, I’\n",
    "\n",
    "### Research question 3\n",
    "\n",
    "In what ways are these tools applied in research?\n",
    "\n",
    "Harzing, Anne-Wil. 2025. “13.2.4 Google Scholar Results Are Limited to the 1000 Most Cited Papers.” <https://harzing.com/popbook/ch13_2_4.htm>."
   ],
   "id": "98896203-1b1e-4dc5-98d8-b617d8b9c5a9"
  }
 ],
 "nbformat": 4,
 "nbformat_minor": 5,
 "metadata": {}
}
